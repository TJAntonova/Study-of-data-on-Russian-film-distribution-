{
 "cells": [
  {
   "cell_type": "markdown",
   "metadata": {
    "id": "sIfNaMOxgFyK"
   },
   "source": [
    "# Исследование данных о российском кинопрокате\n",
    "\n"
   ]
  },
  {
   "cell_type": "markdown",
   "metadata": {},
   "source": [
    "**Цель исследования** - изучить рынок российского кинопроката и выявить текущие тренды.\n",
    "\n",
    "Заказчик исследования — Министерство культуры Российской Федерации.\n",
    "\n",
    "**Задачи**:\n",
    "\n",
    "- изучить, как менялась динамика проката фильмов по годам;\n",
    "- определить, влияет ли возрастное ограничение аудитории («6+», «12+», «16+», «18+» и т. д.) на сборы фильма в прокате;\n",
    "- исследовать фильмы, которые получили государственную поддержку.\n",
    " \n",
    "Набор входных данных содержит информацию о прокатных удостоверениях, сборах и государственной поддержке фильмов, а также информацию с сайта КиноПоиск.\n",
    "\n",
    "**Ход исследования**\n",
    "\n",
    "Исследование пройдёт в три этапа:\n",
    "\n",
    "1. [Обзор данных](#1)\n",
    "2. [Предобработка данных](#2)\n",
    "    * [Изменение типов данных и обработка пропущенных значений](#21)\n",
    "    * [Обработка дубликатов](#22)\n",
    "    * [Обработка аномальных значений](#23)\n",
    "    * [Декомпозиция исходного датафрейма](#24)  \n",
    "3. [Исследовательский анализ](#3)\n",
    "4. [Вывод](#4)"
   ]
  },
  {
   "cell_type": "markdown",
   "metadata": {
    "id": "3bSlkCsbgFyL"
   },
   "source": [
    "## Обзор данных <a id=\"1\"></a>\n"
   ]
  },
  {
   "cell_type": "code",
   "execution_count": 1,
   "metadata": {
    "id": "dw87FlzMgFyM"
   },
   "outputs": [],
   "source": [
    "import pandas as pd\n",
    "import matplotlib.pyplot as plt\n",
    "import numpy as np"
   ]
  },
  {
   "cell_type": "code",
   "execution_count": 2,
   "metadata": {},
   "outputs": [],
   "source": [
    "server_path = '/datasets/'   \n",
    "local_path= '/Users/js/Desktop/яндекс/datasets/'      \n",
    "mov = 'mkrf_movies.csv'\n",
    "sh = 'mkrf_shows.csv'\n",
    "try:\n",
    "    d = pd.read_csv(server_path + mov)  \n",
    "    dd = pd.read_csv(server_path + sh)\n",
    "except: \n",
    "    d = pd.read_csv(local_path + mov)\n",
    "    dd = pd.read_csv(local_path + sh)"
   ]
  },
  {
   "cell_type": "code",
   "execution_count": 3,
   "metadata": {},
   "outputs": [
    {
     "name": "stdout",
     "output_type": "stream",
     "text": [
      "<class 'pandas.core.frame.DataFrame'>\n",
      "RangeIndex: 7486 entries, 0 to 7485\n",
      "Data columns (total 15 columns):\n",
      " #   Column                 Non-Null Count  Dtype  \n",
      "---  ------                 --------------  -----  \n",
      " 0   title                  7486 non-null   object \n",
      " 1   puNumber               7486 non-null   object \n",
      " 2   show_start_date        7486 non-null   object \n",
      " 3   type                   7486 non-null   object \n",
      " 4   film_studio            7468 non-null   object \n",
      " 5   production_country     7484 non-null   object \n",
      " 6   director               7477 non-null   object \n",
      " 7   producer               6918 non-null   object \n",
      " 8   age_restriction        7486 non-null   object \n",
      " 9   refundable_support     332 non-null    float64\n",
      " 10  nonrefundable_support  332 non-null    float64\n",
      " 11  budget                 332 non-null    float64\n",
      " 12  financing_source       332 non-null    object \n",
      " 13  ratings                6519 non-null   object \n",
      " 14  genres                 6510 non-null   object \n",
      "dtypes: float64(3), object(12)\n",
      "memory usage: 877.4+ KB\n"
     ]
    }
   ],
   "source": [
    "d.info()"
   ]
  },
  {
   "cell_type": "code",
   "execution_count": 4,
   "metadata": {},
   "outputs": [
    {
     "name": "stdout",
     "output_type": "stream",
     "text": [
      "<class 'pandas.core.frame.DataFrame'>\n",
      "RangeIndex: 3158 entries, 0 to 3157\n",
      "Data columns (total 2 columns):\n",
      " #   Column      Non-Null Count  Dtype  \n",
      "---  ------      --------------  -----  \n",
      " 0   puNumber    3158 non-null   int64  \n",
      " 1   box_office  3158 non-null   float64\n",
      "dtypes: float64(1), int64(1)\n",
      "memory usage: 49.5 KB\n"
     ]
    }
   ],
   "source": [
    "dd.info()"
   ]
  },
  {
   "cell_type": "markdown",
   "metadata": {},
   "source": [
    "Объединим два датафрейма по столбцу `puNumber` так, чтобы все данные первой таблицы вошли в получившуюся. Для этого необходимо изменить тип данных этого столбца с `object` на `int`."
   ]
  },
  {
   "cell_type": "code",
   "execution_count": 5,
   "metadata": {},
   "outputs": [],
   "source": [
    "d.loc[(d['puNumber'] == \"нет\"), 'puNumber'] = 0 #одна из строк содержала значение, которое мешало преобразовать данные\n",
    "d['puNumber'] = d['puNumber'].astype('int64')"
   ]
  },
  {
   "cell_type": "code",
   "execution_count": 6,
   "metadata": {},
   "outputs": [],
   "source": [
    "data = d.merge(dd, on='puNumber', how='outer')"
   ]
  },
  {
   "cell_type": "code",
   "execution_count": 7,
   "metadata": {},
   "outputs": [
    {
     "data": {
      "text/html": [
       "<div>\n",
       "<style scoped>\n",
       "    .dataframe tbody tr th:only-of-type {\n",
       "        vertical-align: middle;\n",
       "    }\n",
       "\n",
       "    .dataframe tbody tr th {\n",
       "        vertical-align: top;\n",
       "    }\n",
       "\n",
       "    .dataframe thead th {\n",
       "        text-align: right;\n",
       "    }\n",
       "</style>\n",
       "<table border=\"1\" class=\"dataframe\">\n",
       "  <thead>\n",
       "    <tr style=\"text-align: right;\">\n",
       "      <th></th>\n",
       "      <th>title</th>\n",
       "      <th>puNumber</th>\n",
       "      <th>show_start_date</th>\n",
       "      <th>type</th>\n",
       "      <th>film_studio</th>\n",
       "      <th>production_country</th>\n",
       "      <th>director</th>\n",
       "      <th>producer</th>\n",
       "      <th>age_restriction</th>\n",
       "      <th>refundable_support</th>\n",
       "      <th>nonrefundable_support</th>\n",
       "      <th>budget</th>\n",
       "      <th>financing_source</th>\n",
       "      <th>ratings</th>\n",
       "      <th>genres</th>\n",
       "      <th>box_office</th>\n",
       "    </tr>\n",
       "  </thead>\n",
       "  <tbody>\n",
       "    <tr>\n",
       "      <th>0</th>\n",
       "      <td>Открытый простор</td>\n",
       "      <td>221048915</td>\n",
       "      <td>2015-11-27T12:00:00.000Z</td>\n",
       "      <td>Художественный</td>\n",
       "      <td>Тачстоун Пикчерз, Кобальт Пикчерз, Бикон Пикче...</td>\n",
       "      <td>США</td>\n",
       "      <td>Кевин Костнер</td>\n",
       "      <td>Дэвид Валдес, Кевин Костнер, Джейк Эбертс</td>\n",
       "      <td>«18+» - запрещено для детей</td>\n",
       "      <td>NaN</td>\n",
       "      <td>NaN</td>\n",
       "      <td>NaN</td>\n",
       "      <td>NaN</td>\n",
       "      <td>7.2</td>\n",
       "      <td>боевик,драма,мелодрама</td>\n",
       "      <td>NaN</td>\n",
       "    </tr>\n",
       "    <tr>\n",
       "      <th>1</th>\n",
       "      <td>Особо важное задание</td>\n",
       "      <td>111013716</td>\n",
       "      <td>2016-09-13T12:00:00.000Z</td>\n",
       "      <td>Художественный</td>\n",
       "      <td>Киностудия \"Мосфильм\"</td>\n",
       "      <td>СССР</td>\n",
       "      <td>Е.Матвеев</td>\n",
       "      <td>NaN</td>\n",
       "      <td>«6+» - для детей старше 6 лет</td>\n",
       "      <td>NaN</td>\n",
       "      <td>NaN</td>\n",
       "      <td>NaN</td>\n",
       "      <td>NaN</td>\n",
       "      <td>6.6</td>\n",
       "      <td>драма,военный</td>\n",
       "      <td>NaN</td>\n",
       "    </tr>\n",
       "    <tr>\n",
       "      <th>2</th>\n",
       "      <td>Особо опасен</td>\n",
       "      <td>221038416</td>\n",
       "      <td>2016-10-10T12:00:00.000Z</td>\n",
       "      <td>Художественный</td>\n",
       "      <td>Юниверсал Пикчерз, Кикстарт Продакшнз, Марк Пл...</td>\n",
       "      <td>США</td>\n",
       "      <td>Тимур Бекмамбетов</td>\n",
       "      <td>Джим Лемли, Джейсон Нетер, Марк Е.Платт, Яйн Смит</td>\n",
       "      <td>«18+» - запрещено для детей</td>\n",
       "      <td>NaN</td>\n",
       "      <td>NaN</td>\n",
       "      <td>NaN</td>\n",
       "      <td>NaN</td>\n",
       "      <td>6.8</td>\n",
       "      <td>фантастика,боевик,триллер</td>\n",
       "      <td>NaN</td>\n",
       "    </tr>\n",
       "    <tr>\n",
       "      <th>3</th>\n",
       "      <td>Особо опасен</td>\n",
       "      <td>221026916</td>\n",
       "      <td>2016-06-10T12:00:00.000Z</td>\n",
       "      <td>Художественный</td>\n",
       "      <td>Юниверсал Пикчерз, Кикстарт Продакшнз, Марк Пл...</td>\n",
       "      <td>США</td>\n",
       "      <td>Тимур Бекмамбетов</td>\n",
       "      <td>Джим Лемли, Джейсон Нетер, Марк Е.Платт, Яйн Смит</td>\n",
       "      <td>«18+» - запрещено для детей</td>\n",
       "      <td>NaN</td>\n",
       "      <td>NaN</td>\n",
       "      <td>NaN</td>\n",
       "      <td>NaN</td>\n",
       "      <td>6.8</td>\n",
       "      <td>фантастика,боевик,триллер</td>\n",
       "      <td>NaN</td>\n",
       "    </tr>\n",
       "    <tr>\n",
       "      <th>4</th>\n",
       "      <td>Особо опасен</td>\n",
       "      <td>221030815</td>\n",
       "      <td>2015-07-29T12:00:00.000Z</td>\n",
       "      <td>Художественный</td>\n",
       "      <td>Юниверсал Пикчерз, Кикстарт Продакшнз, Марк Пл...</td>\n",
       "      <td>США</td>\n",
       "      <td>Тимур Бекмамбетов</td>\n",
       "      <td>Джим Лемли, Джейсон Нетер, Марк Е.Платт, Яйн Смит</td>\n",
       "      <td>«18+» - запрещено для детей</td>\n",
       "      <td>NaN</td>\n",
       "      <td>NaN</td>\n",
       "      <td>NaN</td>\n",
       "      <td>NaN</td>\n",
       "      <td>6.8</td>\n",
       "      <td>фантастика,боевик,триллер</td>\n",
       "      <td>NaN</td>\n",
       "    </tr>\n",
       "    <tr>\n",
       "      <th>5</th>\n",
       "      <td>Остановился поезд</td>\n",
       "      <td>111013816</td>\n",
       "      <td>2016-09-13T12:00:00.000Z</td>\n",
       "      <td>Художественный</td>\n",
       "      <td>Киностудия \"Мосфильм\"</td>\n",
       "      <td>СССР</td>\n",
       "      <td>В.Абдрашитов</td>\n",
       "      <td>NaN</td>\n",
       "      <td>«6+» - для детей старше 6 лет</td>\n",
       "      <td>NaN</td>\n",
       "      <td>NaN</td>\n",
       "      <td>NaN</td>\n",
       "      <td>NaN</td>\n",
       "      <td>7.7</td>\n",
       "      <td>драма</td>\n",
       "      <td>NaN</td>\n",
       "    </tr>\n",
       "    <tr>\n",
       "      <th>6</th>\n",
       "      <td>Любовь и голуби</td>\n",
       "      <td>111007013</td>\n",
       "      <td>2013-10-18T12:00:00.000Z</td>\n",
       "      <td>Художественный</td>\n",
       "      <td>Киностудия \"Мосфильм\"</td>\n",
       "      <td>СССР</td>\n",
       "      <td>В.Меньшов</td>\n",
       "      <td>NaN</td>\n",
       "      <td>«12+» - для детей старше 12 лет</td>\n",
       "      <td>NaN</td>\n",
       "      <td>NaN</td>\n",
       "      <td>NaN</td>\n",
       "      <td>NaN</td>\n",
       "      <td>8.3</td>\n",
       "      <td>мелодрама,комедия</td>\n",
       "      <td>2700.0</td>\n",
       "    </tr>\n",
       "    <tr>\n",
       "      <th>7</th>\n",
       "      <td>Любовь и сигареты</td>\n",
       "      <td>221074614</td>\n",
       "      <td>2014-12-29T12:00:00.000Z</td>\n",
       "      <td>Художественный</td>\n",
       "      <td>Юнайтед Артистс, Грин Стрит Филмз, Айкон Интер...</td>\n",
       "      <td>США</td>\n",
       "      <td>Джон Туртурро</td>\n",
       "      <td>Джон Пенотти, Джон Туртурро</td>\n",
       "      <td>«18+» - запрещено для детей</td>\n",
       "      <td>NaN</td>\n",
       "      <td>NaN</td>\n",
       "      <td>NaN</td>\n",
       "      <td>NaN</td>\n",
       "      <td>6.6</td>\n",
       "      <td>мюзикл,мелодрама,комедия</td>\n",
       "      <td>NaN</td>\n",
       "    </tr>\n",
       "    <tr>\n",
       "      <th>8</th>\n",
       "      <td>Отпетые мошенники.</td>\n",
       "      <td>121011416</td>\n",
       "      <td>2016-05-05T12:00:00.000Z</td>\n",
       "      <td>Художественный</td>\n",
       "      <td>Пульсар Продюксьон, ТФ1 Фильм</td>\n",
       "      <td>Франция</td>\n",
       "      <td>Эрик Беснард</td>\n",
       "      <td>Патрис Леду</td>\n",
       "      <td>«18+» - запрещено для детей</td>\n",
       "      <td>NaN</td>\n",
       "      <td>NaN</td>\n",
       "      <td>NaN</td>\n",
       "      <td>NaN</td>\n",
       "      <td>8.0</td>\n",
       "      <td>комедия,криминал</td>\n",
       "      <td>NaN</td>\n",
       "    </tr>\n",
       "    <tr>\n",
       "      <th>9</th>\n",
       "      <td>Отпуск за свой счет</td>\n",
       "      <td>111019114</td>\n",
       "      <td>2014-12-01T12:00:00.000Z</td>\n",
       "      <td>Художественный</td>\n",
       "      <td>Киностудия \"Мосфильм\", Телевидение ВНР</td>\n",
       "      <td>СССР, Венгрия</td>\n",
       "      <td>В.Титов</td>\n",
       "      <td>NaN</td>\n",
       "      <td>«12+» - для детей старше 12 лет</td>\n",
       "      <td>NaN</td>\n",
       "      <td>NaN</td>\n",
       "      <td>NaN</td>\n",
       "      <td>NaN</td>\n",
       "      <td>7.8</td>\n",
       "      <td>мелодрама,комедия</td>\n",
       "      <td>NaN</td>\n",
       "    </tr>\n",
       "  </tbody>\n",
       "</table>\n",
       "</div>"
      ],
      "text/plain": [
       "                  title   puNumber           show_start_date            type  \\\n",
       "0      Открытый простор  221048915  2015-11-27T12:00:00.000Z  Художественный   \n",
       "1  Особо важное задание  111013716  2016-09-13T12:00:00.000Z  Художественный   \n",
       "2          Особо опасен  221038416  2016-10-10T12:00:00.000Z  Художественный   \n",
       "3          Особо опасен  221026916  2016-06-10T12:00:00.000Z  Художественный   \n",
       "4          Особо опасен  221030815  2015-07-29T12:00:00.000Z  Художественный   \n",
       "5     Остановился поезд  111013816  2016-09-13T12:00:00.000Z  Художественный   \n",
       "6       Любовь и голуби  111007013  2013-10-18T12:00:00.000Z  Художественный   \n",
       "7     Любовь и сигареты  221074614  2014-12-29T12:00:00.000Z  Художественный   \n",
       "8    Отпетые мошенники.  121011416  2016-05-05T12:00:00.000Z  Художественный   \n",
       "9   Отпуск за свой счет  111019114  2014-12-01T12:00:00.000Z  Художественный   \n",
       "\n",
       "                                         film_studio production_country  \\\n",
       "0  Тачстоун Пикчерз, Кобальт Пикчерз, Бикон Пикче...                США   \n",
       "1                              Киностудия \"Мосфильм\"               СССР   \n",
       "2  Юниверсал Пикчерз, Кикстарт Продакшнз, Марк Пл...                США   \n",
       "3  Юниверсал Пикчерз, Кикстарт Продакшнз, Марк Пл...                США   \n",
       "4  Юниверсал Пикчерз, Кикстарт Продакшнз, Марк Пл...                США   \n",
       "5                              Киностудия \"Мосфильм\"               СССР   \n",
       "6                              Киностудия \"Мосфильм\"               СССР   \n",
       "7  Юнайтед Артистс, Грин Стрит Филмз, Айкон Интер...                США   \n",
       "8                     Пульсар Продюксьон, ТФ1 Фильм             Франция   \n",
       "9             Киностудия \"Мосфильм\", Телевидение ВНР      СССР, Венгрия   \n",
       "\n",
       "            director                                           producer  \\\n",
       "0      Кевин Костнер          Дэвид Валдес, Кевин Костнер, Джейк Эбертс   \n",
       "1          Е.Матвеев                                                NaN   \n",
       "2  Тимур Бекмамбетов  Джим Лемли, Джейсон Нетер, Марк Е.Платт, Яйн Смит   \n",
       "3  Тимур Бекмамбетов  Джим Лемли, Джейсон Нетер, Марк Е.Платт, Яйн Смит   \n",
       "4  Тимур Бекмамбетов  Джим Лемли, Джейсон Нетер, Марк Е.Платт, Яйн Смит   \n",
       "5       В.Абдрашитов                                                NaN   \n",
       "6          В.Меньшов                                                NaN   \n",
       "7      Джон Туртурро                        Джон Пенотти, Джон Туртурро   \n",
       "8       Эрик Беснард                                        Патрис Леду   \n",
       "9            В.Титов                                                NaN   \n",
       "\n",
       "                   age_restriction  refundable_support  nonrefundable_support  \\\n",
       "0      «18+» - запрещено для детей                 NaN                    NaN   \n",
       "1    «6+» - для детей старше 6 лет                 NaN                    NaN   \n",
       "2      «18+» - запрещено для детей                 NaN                    NaN   \n",
       "3      «18+» - запрещено для детей                 NaN                    NaN   \n",
       "4      «18+» - запрещено для детей                 NaN                    NaN   \n",
       "5    «6+» - для детей старше 6 лет                 NaN                    NaN   \n",
       "6  «12+» - для детей старше 12 лет                 NaN                    NaN   \n",
       "7      «18+» - запрещено для детей                 NaN                    NaN   \n",
       "8      «18+» - запрещено для детей                 NaN                    NaN   \n",
       "9  «12+» - для детей старше 12 лет                 NaN                    NaN   \n",
       "\n",
       "   budget financing_source ratings                     genres  box_office  \n",
       "0     NaN              NaN     7.2     боевик,драма,мелодрама         NaN  \n",
       "1     NaN              NaN     6.6              драма,военный         NaN  \n",
       "2     NaN              NaN     6.8  фантастика,боевик,триллер         NaN  \n",
       "3     NaN              NaN     6.8  фантастика,боевик,триллер         NaN  \n",
       "4     NaN              NaN     6.8  фантастика,боевик,триллер         NaN  \n",
       "5     NaN              NaN     7.7                      драма         NaN  \n",
       "6     NaN              NaN     8.3          мелодрама,комедия      2700.0  \n",
       "7     NaN              NaN     6.6   мюзикл,мелодрама,комедия         NaN  \n",
       "8     NaN              NaN     8.0           комедия,криминал         NaN  \n",
       "9     NaN              NaN     7.8          мелодрама,комедия         NaN  "
      ]
     },
     "execution_count": 7,
     "metadata": {},
     "output_type": "execute_result"
    }
   ],
   "source": [
    "data.head(10)"
   ]
  },
  {
   "cell_type": "code",
   "execution_count": 8,
   "metadata": {},
   "outputs": [
    {
     "data": {
      "text/plain": [
       "True"
      ]
     },
     "execution_count": 8,
     "metadata": {},
     "output_type": "execute_result"
    }
   ],
   "source": [
    "len(dd['box_office']) == pd.notna(data['box_office']).sum()"
   ]
  },
  {
   "cell_type": "markdown",
   "metadata": {
    "id": "KLDGpPG0gFyM"
   },
   "source": [
    "## Предобработка данных <a id=\"2\"></a>"
   ]
  },
  {
   "cell_type": "markdown",
   "metadata": {
    "id": "ssWwKXsxgFyO"
   },
   "source": [
    "### Изменение типов данных и обработка пропущенных значений <a id=\"21\"></a>\n"
   ]
  },
  {
   "cell_type": "markdown",
   "metadata": {},
   "source": [
    "Проверим данные получившейся таблицы:"
   ]
  },
  {
   "cell_type": "code",
   "execution_count": 9,
   "metadata": {
    "id": "kVGSplJOgFyO"
   },
   "outputs": [
    {
     "name": "stdout",
     "output_type": "stream",
     "text": [
      "<class 'pandas.core.frame.DataFrame'>\n",
      "Int64Index: 7486 entries, 0 to 7485\n",
      "Data columns (total 16 columns):\n",
      " #   Column                 Non-Null Count  Dtype  \n",
      "---  ------                 --------------  -----  \n",
      " 0   title                  7486 non-null   object \n",
      " 1   puNumber               7486 non-null   int64  \n",
      " 2   show_start_date        7486 non-null   object \n",
      " 3   type                   7486 non-null   object \n",
      " 4   film_studio            7468 non-null   object \n",
      " 5   production_country     7484 non-null   object \n",
      " 6   director               7477 non-null   object \n",
      " 7   producer               6918 non-null   object \n",
      " 8   age_restriction        7486 non-null   object \n",
      " 9   refundable_support     332 non-null    float64\n",
      " 10  nonrefundable_support  332 non-null    float64\n",
      " 11  budget                 332 non-null    float64\n",
      " 12  financing_source       332 non-null    object \n",
      " 13  ratings                6519 non-null   object \n",
      " 14  genres                 6510 non-null   object \n",
      " 15  box_office             3158 non-null   float64\n",
      "dtypes: float64(4), int64(1), object(11)\n",
      "memory usage: 994.2+ KB\n"
     ]
    }
   ],
   "source": [
    "data.info()"
   ]
  },
  {
   "cell_type": "markdown",
   "metadata": {},
   "source": [
    "Заметили следущее: \n",
    "\n",
    "1. `puNumber` - необходимо заменить тип данных на `int32`;\n",
    "2. `show_start_date` - необходимо заменить тип данных на `datetime`;\n",
    "3. `director`, `producer` - пропущенные значения;\n",
    "4. `refundable_support`, `nonrefundable_support` - необходимо заменить тип данных на `int32` + пропущенные значения;\n",
    "5. `budget` - необходимо заменить тип данных на `int`;\n",
    "6. `financing_source` - пропущенные значения;\n",
    "7. `ratings` - необходимо заменить тип данных на `float` + пропущенные значения;\n",
    "8. `genres` - пропущенные значения;\n",
    "9. `box_office` - пропущенные значения."
   ]
  },
  {
   "cell_type": "markdown",
   "metadata": {},
   "source": [
    "Теперь можно идти по списку и исправлять неточности."
   ]
  },
  {
   "cell_type": "markdown",
   "metadata": {},
   "source": [
    "1. Изменим `puNumber` на `int32`. "
   ]
  },
  {
   "cell_type": "code",
   "execution_count": 10,
   "metadata": {},
   "outputs": [],
   "source": [
    "data['puNumber'] = data['puNumber'].astype('int32')"
   ]
  },
  {
   "cell_type": "markdown",
   "metadata": {},
   "source": [
    "2. Исправим тип `show_start_date`."
   ]
  },
  {
   "cell_type": "code",
   "execution_count": 11,
   "metadata": {},
   "outputs": [],
   "source": [
    "data['show_start_date'] = pd.to_datetime(data['show_start_date'], format = '%Y.%m.%d')"
   ]
  },
  {
   "cell_type": "markdown",
   "metadata": {},
   "source": [
    "3. Столбцы `director`, `producer` содержат нулевые значения, пропуски полностью случайные, зависимость не выявлена. Заменим на 'unkn'."
   ]
  },
  {
   "cell_type": "code",
   "execution_count": 12,
   "metadata": {},
   "outputs": [],
   "source": [
    "data['director'] = data['director'].fillna('unkn')\n",
    "data['producer'] = data['producer'].fillna('unkn')"
   ]
  },
  {
   "cell_type": "code",
   "execution_count": 13,
   "metadata": {},
   "outputs": [
    {
     "data": {
      "text/html": [
       "<div>\n",
       "<style scoped>\n",
       "    .dataframe tbody tr th:only-of-type {\n",
       "        vertical-align: middle;\n",
       "    }\n",
       "\n",
       "    .dataframe tbody tr th {\n",
       "        vertical-align: top;\n",
       "    }\n",
       "\n",
       "    .dataframe thead th {\n",
       "        text-align: right;\n",
       "    }\n",
       "</style>\n",
       "<table border=\"1\" class=\"dataframe\">\n",
       "  <thead>\n",
       "    <tr style=\"text-align: right;\">\n",
       "      <th></th>\n",
       "      <th>title</th>\n",
       "      <th>puNumber</th>\n",
       "      <th>show_start_date</th>\n",
       "      <th>type</th>\n",
       "      <th>film_studio</th>\n",
       "      <th>production_country</th>\n",
       "      <th>director</th>\n",
       "      <th>producer</th>\n",
       "      <th>age_restriction</th>\n",
       "      <th>refundable_support</th>\n",
       "      <th>nonrefundable_support</th>\n",
       "      <th>budget</th>\n",
       "      <th>financing_source</th>\n",
       "      <th>ratings</th>\n",
       "      <th>genres</th>\n",
       "      <th>box_office</th>\n",
       "    </tr>\n",
       "  </thead>\n",
       "  <tbody>\n",
       "  </tbody>\n",
       "</table>\n",
       "</div>"
      ],
      "text/plain": [
       "Empty DataFrame\n",
       "Columns: [title, puNumber, show_start_date, type, film_studio, production_country, director, producer, age_restriction, refundable_support, nonrefundable_support, budget, financing_source, ratings, genres, box_office]\n",
       "Index: []"
      ]
     },
     "execution_count": 13,
     "metadata": {},
     "output_type": "execute_result"
    }
   ],
   "source": [
    "data[data['director'].isna()].head(10)"
   ]
  },
  {
   "cell_type": "markdown",
   "metadata": {},
   "source": [
    "6. Пропущенные значения `financing_source` наблюдаются только в случае, когда `refundable_support` и `nonrefundable_support` равны нулю, то есть гос поддержки для фильма не было. Заполним пропуски значением 'missing'."
   ]
  },
  {
   "cell_type": "code",
   "execution_count": 14,
   "metadata": {},
   "outputs": [],
   "source": [
    "data['financing_source'] = data['financing_source'].fillna('missing')"
   ]
  },
  {
   "cell_type": "markdown",
   "metadata": {},
   "source": [
    "7. Заменим тип данных `ratings`. В столбце есть значения, выраженные в процентах, их необходимо преобразовать."
   ]
  },
  {
   "cell_type": "code",
   "execution_count": 15,
   "metadata": {},
   "outputs": [
    {
     "data": {
      "text/plain": [
       "array(['7.2', '6.6', '6.8', '7.7', '8.3', '8.0', '7.8', '8.1', '7.1',\n",
       "       '6.0', '7.4', '5.8', '8.7', '6.3', '6.9', '5.0', '4.3', '7.3',\n",
       "       '7.0', '6.4', nan, '8.2', '7.5', '6.7', '7.9', '5.9', '6.2', '5.6',\n",
       "       '6.5', '2.4', '7.6', '6.1', '8.6', '8.5', '8.8', '5.5', '5.1',\n",
       "       '5.7', '5.4', '99%', '4.4', '4.5', '5.3', '4.1', '8.4', '2.6',\n",
       "       '3.8', '4.6', '4.8', '4.0', '3.0', '1.6', '4.2', '5.2', '4.7',\n",
       "       '4.9', '3.9', '2.7', '3.3', '2.9', '28%', '3.7', '1.4', '3.1',\n",
       "       '97%', '3.5', '3.2', '2.8', '1.5', '2.1', '2.5', '9.2', '3.4',\n",
       "       '1.1', '3.6', '83%', '64%', '91%', '94%', '62%', '79%', '90%',\n",
       "       '19%', '88%', '1.0', '89%', '1.3', '1.9', '1.8', '1.2', '1.7',\n",
       "       '9.0', '98%', '8.9', '9.1'], dtype=object)"
      ]
     },
     "execution_count": 15,
     "metadata": {},
     "output_type": "execute_result"
    }
   ],
   "source": [
    "data['ratings'].unique()"
   ]
  },
  {
   "cell_type": "code",
   "execution_count": 16,
   "metadata": {},
   "outputs": [],
   "source": [
    "def convert_float(val):\n",
    "    \"\"\"\n",
    "    Преобразует процентное значение строки в число с плавающей точкой:\n",
    "     - удаляет %\n",
    "     - преобразует в число с плавающей точкой.\n",
    "     \n",
    "    \"\"\"\n",
    "    \n",
    "    percent_list = ['99%', '28%', '97%', '83%', '64%', '91%', '94%', '62%', '79%', '90%', '19%', '88%', '89%', '98%']\n",
    "    \n",
    "    if val in percent_list:\n",
    "        new_val = int(val.replace('%', '')) / 10\n",
    "    else:\n",
    "        new_val = val\n",
    "    \n",
    "    return float(new_val)\n",
    "\n",
    "data['ratings'] = data['ratings'].apply(convert_float)\n"
   ]
  },
  {
   "cell_type": "code",
   "execution_count": 17,
   "metadata": {},
   "outputs": [],
   "source": [
    "data['ratings'] = data['ratings'].fillna('unkn')"
   ]
  },
  {
   "cell_type": "markdown",
   "metadata": {},
   "source": [
    "8. `genres` заменим пропуски на 'unkn'."
   ]
  },
  {
   "cell_type": "code",
   "execution_count": 18,
   "metadata": {},
   "outputs": [],
   "source": [
    "data['genres'] = data['genres'].fillna('unkn')"
   ]
  },
  {
   "cell_type": "markdown",
   "metadata": {},
   "source": [
    "9. В `box_office` пропуски нельзя заполнить, опираясь на значения других колонок, оставим без изменений."
   ]
  },
  {
   "cell_type": "markdown",
   "metadata": {},
   "source": [
    "Проверим преобразования:"
   ]
  },
  {
   "cell_type": "code",
   "execution_count": 19,
   "metadata": {},
   "outputs": [
    {
     "name": "stdout",
     "output_type": "stream",
     "text": [
      "<class 'pandas.core.frame.DataFrame'>\n",
      "Int64Index: 7486 entries, 0 to 7485\n",
      "Data columns (total 16 columns):\n",
      " #   Column                 Non-Null Count  Dtype              \n",
      "---  ------                 --------------  -----              \n",
      " 0   title                  7486 non-null   object             \n",
      " 1   puNumber               7486 non-null   int32              \n",
      " 2   show_start_date        7486 non-null   datetime64[ns, UTC]\n",
      " 3   type                   7486 non-null   object             \n",
      " 4   film_studio            7468 non-null   object             \n",
      " 5   production_country     7484 non-null   object             \n",
      " 6   director               7486 non-null   object             \n",
      " 7   producer               7486 non-null   object             \n",
      " 8   age_restriction        7486 non-null   object             \n",
      " 9   refundable_support     332 non-null    float64            \n",
      " 10  nonrefundable_support  332 non-null    float64            \n",
      " 11  budget                 332 non-null    float64            \n",
      " 12  financing_source       7486 non-null   object             \n",
      " 13  ratings                7486 non-null   object             \n",
      " 14  genres                 7486 non-null   object             \n",
      " 15  box_office             3158 non-null   float64            \n",
      "dtypes: datetime64[ns, UTC](1), float64(4), int32(1), object(10)\n",
      "memory usage: 965.0+ KB\n"
     ]
    }
   ],
   "source": [
    "data.info()"
   ]
  },
  {
   "cell_type": "markdown",
   "metadata": {},
   "source": [
    "Удалось уменьшить количество пропусков и сэкономить память, изменив типы данных."
   ]
  },
  {
   "cell_type": "code",
   "execution_count": 20,
   "metadata": {},
   "outputs": [],
   "source": [
    "data['film_studio'] = data['film_studio'].fillna('unkn')"
   ]
  },
  {
   "cell_type": "code",
   "execution_count": 21,
   "metadata": {},
   "outputs": [],
   "source": [
    "data['production_country'] = data['production_country'].fillna('Россия')"
   ]
  },
  {
   "cell_type": "code",
   "execution_count": 22,
   "metadata": {},
   "outputs": [
    {
     "name": "stdout",
     "output_type": "stream",
     "text": [
      "<class 'pandas.core.frame.DataFrame'>\n",
      "Int64Index: 7486 entries, 0 to 7485\n",
      "Data columns (total 16 columns):\n",
      " #   Column                 Non-Null Count  Dtype              \n",
      "---  ------                 --------------  -----              \n",
      " 0   title                  7486 non-null   object             \n",
      " 1   puNumber               7486 non-null   int32              \n",
      " 2   show_start_date        7486 non-null   datetime64[ns, UTC]\n",
      " 3   type                   7486 non-null   object             \n",
      " 4   film_studio            7486 non-null   object             \n",
      " 5   production_country     7486 non-null   object             \n",
      " 6   director               7486 non-null   object             \n",
      " 7   producer               7486 non-null   object             \n",
      " 8   age_restriction        7486 non-null   object             \n",
      " 9   refundable_support     332 non-null    float64            \n",
      " 10  nonrefundable_support  332 non-null    float64            \n",
      " 11  budget                 332 non-null    float64            \n",
      " 12  financing_source       7486 non-null   object             \n",
      " 13  ratings                7486 non-null   object             \n",
      " 14  genres                 7486 non-null   object             \n",
      " 15  box_office             3158 non-null   float64            \n",
      "dtypes: datetime64[ns, UTC](1), float64(4), int32(1), object(10)\n",
      "memory usage: 965.0+ KB\n"
     ]
    }
   ],
   "source": [
    "data.info()"
   ]
  },
  {
   "cell_type": "markdown",
   "metadata": {
    "id": "i0MOLbF-gFyP"
   },
   "source": [
    "### Обработка дубликатов <a id=\"22\"></a>\n"
   ]
  },
  {
   "cell_type": "markdown",
   "metadata": {},
   "source": [
    "Просмотрим уникальные значения столбцов на наличие неявных дубликатов и аномалий:"
   ]
  },
  {
   "cell_type": "code",
   "execution_count": 23,
   "metadata": {},
   "outputs": [
    {
     "name": "stdout",
     "output_type": "stream",
     "text": [
      "TITLE \n",
      " ['Открытый простор' 'Особо важное задание' 'Особо опасен' ...\n",
      " 'Щенячий патруль: Скорей спешим на помощь!'\n",
      " 'Машины песенки. Серия \"Испанские мотивы\"'\n",
      " 'Машины песенки. Серия \"Когда цветут кактусы\"'] \n",
      "\n",
      "PUNUMBER \n",
      " [221048915 111013716 221038416 ... 124010819 124010619 124010719] \n",
      "\n",
      "SHOW_START_DATE \n",
      " <DatetimeArray>\n",
      "['2015-11-27 12:00:00+00:00', '2016-09-13 12:00:00+00:00',\n",
      " '2016-10-10 12:00:00+00:00', '2016-06-10 12:00:00+00:00',\n",
      " '2015-07-29 12:00:00+00:00', '2013-10-18 12:00:00+00:00',\n",
      " '2014-12-29 12:00:00+00:00', '2016-05-05 12:00:00+00:00',\n",
      " '2014-12-01 12:00:00+00:00', '2016-06-29 12:00:00+00:00',\n",
      " ...\n",
      " '2019-12-17 12:00:00+00:00', '2019-12-10 12:00:00+00:00',\n",
      " '2019-12-16 12:00:00+00:00', '2019-12-26 12:00:00+00:00',\n",
      " '2019-12-20 12:00:00+00:00', '2019-12-27 12:00:00+00:00',\n",
      " '2019-12-23 12:00:00+00:00', '2019-12-24 12:00:00+00:00',\n",
      " '2019-12-28 12:00:00+00:00', '2019-12-30 12:00:00+00:00']\n",
      "Length: 1965, dtype: datetime64[ns, UTC] \n",
      "\n",
      "TYPE \n",
      " ['Художественный' 'Анимационный' 'Прочие' 'Документальный'\n",
      " 'Научно-популярный' ' Художественный' ' Анимационный'\n",
      " 'Музыкально-развлекательный'] \n",
      "\n",
      "FILM_STUDIO \n",
      " ['Тачстоун Пикчерз, Кобальт Пикчерз, Бикон Пикчерз, Тиг Продакшнз'\n",
      " 'Киностудия \"Мосфильм\"'\n",
      " 'Юниверсал Пикчерз, Кикстарт Продакшнз, Марк Платт Продакшнз, Рилейтивити Медиа, Спайгласс Интертейнмент, Стилкин Филмз, Топ Кау Продакшнз'\n",
      " ...\n",
      " 'Дэниел Гродник Продакшнз, Вандерфилм Медиа Корпорэйшн, Импринт Интертейнмент, Вор Хорс Интертейнмент, Пимиента '\n",
      " 'Никелодеон Анимейшн Студиос, Спин Мастер'\n",
      " 'Анимаккорд Лтд., ООО Студия \"АНИМАККОРД\"'] \n",
      "\n",
      "PRODUCTION_COUNTRY \n",
      " ['США' 'СССР' 'Франция' 'СССР, Венгрия' 'Германия-Великобритания'\n",
      " 'Великобритания - Италия' 'Чехословакия' 'США - Франция - Турция'\n",
      " 'Новая Зеландия' 'Канада - Франция - Испания' 'США-Германия'\n",
      " 'США - Великобритания' 'Великобритания' 'США - Германия'\n",
      " 'Франция - Мексика - США' 'Россия, Казахстан, США' 'СССР, Швеция'\n",
      " 'СССР, Франция, Англия, Куба, ГДР' 'Германия'\n",
      " 'Великобритания-США-Германия-КНР' 'СССР, ЧССР, Западный Берлин, ПНР'\n",
      " 'СССР, Италия' 'Гонконг, КНР' 'США - Франция'\n",
      " 'США - Япония - Франция - Великобритания'\n",
      " 'Гонконг - Сингапур - Таиланд - Великобритания' 'США-Канада'\n",
      " 'Франция - Италия - Великобритания - США' 'Франция - США'\n",
      " 'Ирландия-Великобритания-Германия' 'Чехия' 'США-Австралия'\n",
      " 'СССР, Финляндия' 'США-Франция-Великобритания-Австрия' 'США - Бельгия'\n",
      " 'США - Ирландия - Великобритания' 'Великобритания - США'\n",
      " 'Люксембург - Нидерланды - Испания - Великобритания - США - Италия'\n",
      " 'Великобритания - Франция - США' 'Новая Зеландия - США'\n",
      " 'США - Великобритания - Чехия' 'Канада - Франция - Великобритания'\n",
      " 'Ирландия' 'Великобритания - Германия - США'\n",
      " 'США - Франция - Великобритания' 'Япония' 'СССР, Польша'\n",
      " 'Франция - Испания' 'Канада-Франция' 'Германия - Италия - США'\n",
      " 'Аргентина - Бразилия' 'Дания - Швейцария - Бельгия - Франция'\n",
      " 'США - Испания' 'Германия - США'\n",
      " 'Франция - Австрия - Германия - Италия - США' 'Австрия'\n",
      " 'США - Канада - Германия' 'США - Канада' 'СССР - Швейцария - Франция'\n",
      " 'Россия - Казахстан' 'Гонконг' 'Италия' 'США - ОАЭ' 'Россия'\n",
      " 'США - Франция - Испания - Великобритания' 'Великобритания - Франция'\n",
      " 'США-Италия-Испания-Аргентина' 'Франция-Великобритания' 'КНР - Гонконг'\n",
      " 'Франция - Италия - Швейцария' 'США - Новая Зеландия' 'Франция - Бельгия'\n",
      " 'КНР' 'Германия - Великобритания - Австрия'\n",
      " 'Великобритания - Израиль - Франция - Япония - США' 'Швеция' 'Испания'\n",
      " 'Дания' 'Франция - Бельгия - Люксембург' 'США - Индия - ОАЭ'\n",
      " 'Германия-Канада-Великобритания-Швейцария-Франция' 'Мексика - Чили'\n",
      " 'Аргентина' 'Бразилия' 'Чили' 'Австралия' 'Португалия - Франция'\n",
      " 'США - ЮАР' 'Исландия-Ирландия-Германия' 'США-Индонезия' 'Южная Корея'\n",
      " 'Мексика - Испания - Дания - США' 'Великобритания-США' 'Франция - Италия'\n",
      " 'США-Франция' 'США - Венгрия - Великобритания' 'Бельгия-Франция-Италия'\n",
      " 'Чехия - Германия' 'Германия - Франция' 'США-Нидерланды' 'Украина'\n",
      " 'Великобритания - Германия' 'Франция-Бельгия' 'США-Франция-Испания'\n",
      " 'Италия - Франция' 'Канада' 'Швеция-Франция-Дания'\n",
      " 'Германия-Франция-Польша' 'Франция-Великобритания - Германия'\n",
      " 'США - Бразилия - Франция - Австралия - Великобритания - Германия'\n",
      " 'Германия-Австрия' 'Германия-Италия- Шри-Ланка'\n",
      " 'Великобритания - Испания' 'США - Великобритания - Канада - Швеция'\n",
      " 'Босния и Герцеговина - Франция - Великобритания - Германия - Словения - Бельгия - Сербия'\n",
      " 'Великобритания - Франция - Италия - США' 'США-ОАЭ' 'Испания - Франция'\n",
      " 'США-Великобритания' 'США-ЮАР' 'Великобритания-Австралия - США'\n",
      " 'Норвегия - Швеция - Дания - Германия' 'Норвегия' 'Швейцария'\n",
      " 'Греция - Германия - Франция' 'Норвения' 'Южная Корея - США'\n",
      " 'Чили - Франция - США' 'Австрия - Германия - Франция' 'Швеция - Дания'\n",
      " 'Великобритания - Франция - Бельгия - Италия' 'Франция - Германия'\n",
      " 'Грузия - Франция - Люксембург'\n",
      " 'США - Франция - Великобритания - Бразилия ' 'США - КНР'\n",
      " 'Мексика - Франция' 'США - Германия - Гонконг - Сингапур'\n",
      " 'Финляндия - Австрия - Россия' 'Испания - Куба' 'Великобритания - ЮАР'\n",
      " 'Великобритания - Ирландия' 'Израиль'\n",
      " 'Бразилия - Германия - Порртугалия - Франция '\n",
      " 'Франция - Канада - Бельгия' 'Франция-Испания'\n",
      " 'Испания - Канада - Япония' 'Иран' 'Швеция-Куба'\n",
      " 'США-Великобритания-Ирландия' 'Гонконг - КНР' 'Нидерланды'\n",
      " 'Испания - Канада' 'Япония-Великобритания'\n",
      " 'Великобритания - Норвегия - Дания - Германия'\n",
      " 'Финляндия - Франция - Германия'\n",
      " 'Мексика - Франция - Нидерланды - Германия' 'США - Индия'\n",
      " 'США-Великобритания-Индия' 'США-Канада-Бельгия' 'Республика Узбекистан'\n",
      " 'Италия ' 'Турция'\n",
      " 'Сербия - Словения - Хорватия - Черногория - Македония' 'Киргизия'\n",
      " 'Германия - Нидерланды - Беларусь - Россия - Латвия' 'Индия'\n",
      " 'Нидерланды - Россия - Германия'\n",
      " 'Великобритания - Нидерланды - Франция - Хорватия' 'Канада - Южная Корея'\n",
      " 'Великобритания - Польша - КНР - Индия - Норвегия'\n",
      " 'Япония - Франция - США - Южная Корея - Турция'\n",
      " 'Мексика - Аргентина - Великобритания' 'Израиль - Франция'\n",
      " 'Польша - Португалия - Франция - Великобритания' 'Австралия - США'\n",
      " 'США - Великобритания ' 'Франция - Люксембург - Бельгия' 'Армения'\n",
      " 'Бельгия - Люксембург - Франция - Швейцария'\n",
      " 'США - Великобритания - Канада' 'Норвегия - Швеция' 'Канада - Франция'\n",
      " 'КНР - Гонконг - США' 'США - Сингапур - Малайзия - Индонезия'\n",
      " 'Германия - Россия' 'Япония - Канада'\n",
      " 'Финляндия - Дания - Германия - Ирландия'\n",
      " 'Франция - Люксембург - Германия - Бельгия - Швейцария - Великобритания '\n",
      " 'Канада - США' 'США-Италия-Испания' 'США-Испания'\n",
      " 'США - Швейцария - Франция' 'Испания - США - Колумбия' 'Канада-ЮАР'\n",
      " 'Франция - Россия' 'Германия - Финляндия - Австралия' 'Дания - Швеция'\n",
      " 'Бельгия' 'Германия - Франция - Австрия' 'Франция-Индия' 'ЮАР'\n",
      " 'Франция-Перу' 'Франция - Канада' 'Республика Беларусь'\n",
      " 'Великобритания - Австрия - Франция - США' 'Австрия-Германия-Франция'\n",
      " 'США-Россия' 'Германия-США' 'США - Южная Корея' 'Канада - КНР'\n",
      " 'Дания - Швеция - Италия - Франция - Германия'\n",
      " 'Франция-Италия-Испания-Венгрия' 'Франция - Германия - Бельгия'\n",
      " 'Франция-Великобритания-Чехия' 'Румыния - Франция - Бельгия'\n",
      " 'Болгария - Франция - Изриль'\n",
      " 'Израиль - Германия - Польша - Бельгия - Франция - Люксембург'\n",
      " 'Россия, Германия, Франция, Бельгия' 'Индонезия' 'Франция - Португалия'\n",
      " 'Великобритания - Пуэрто-Рико' 'СССР, ФРГ, Западный Берлин'\n",
      " 'Россия, Республика Беларусь' 'США, Великобритания' 'Франция - Австрия'\n",
      " 'Бельгия-Нидерланды' 'Великобритания - США - Индия'\n",
      " 'США - Великобритания - Австралия'\n",
      " 'Канада - Франция - США - ОАЭ - Великобритания'\n",
      " 'США - Австралия - Франция'\n",
      " 'Дания-Франция-Бельгия-Германия-Великобритания' 'Испания - Аргентина'\n",
      " 'Исландия - Финляндия' 'Россия-Польша-Голландия-Словакия'\n",
      " 'Дания - Германия - Швеция' 'Южная Корея - США - Канада' 'Таиланд'\n",
      " 'США-Мальта' 'США -Германия'\n",
      " 'Великобритания - Германия - Франция - Кипр - США' 'Мексика'\n",
      " 'США - Великобритания - Ирландия' 'США - Украина'\n",
      " 'США - Финляндия - Испания - Великобритания - Франция'\n",
      " 'Австралия-Великобритания'\n",
      " 'США - Канада - Афганистан - Бельгия - Франция'\n",
      " 'США - Великобритания - Германия - Новая Зеландия - Бельгия - Франция'\n",
      " 'Франция-Канада'\n",
      " 'Ирландия - Финляндия - Бельгия - Великобритания - США - Швейцария'\n",
      " 'Малайзия - США' 'Германия - Италия' 'США - Франция - Бельгия - Италия'\n",
      " 'Франция - Ирландия - Швеция' 'Азербайджан-Россия'\n",
      " 'Великобритания - Италия - Швейцария' 'США - Германия - Великобритания'\n",
      " 'Германия - Бельгия - США -Франция' 'США-Китай' 'Чили - Испания'\n",
      " 'Франция - Швейцария' 'Канада - Испания' 'США - Румыния - Великобритания'\n",
      " 'США - Япония' 'США - Россия - Франция' 'Франция-США' 'Парагвай'\n",
      " 'Германия - Канада' 'США - Канада - Великобритания' 'Финляндия - Канада'\n",
      " 'Уругвай-Мексика-Германия ' 'США - Чили'\n",
      " 'Германия - Аргентина - Нидерланды - Чили' 'США - Канада - Индонезия'\n",
      " 'Армения - Казахстан' 'Финляндия' 'Испания - Италия - Франция'\n",
      " 'Бельгия - Испания - Канада - Нидерланды'\n",
      " 'Великобритания - Франция - Швеция - Бельгия'\n",
      " 'Мексика - Эквадор - Канада - США - Франция - Малайзия - Италия - Аргентина - Германия - Индия  '\n",
      " 'Франция - Бенльгия' 'Индия - Великобритания'\n",
      " 'Япония - Великобритания - Франция' 'Испания - Уругвай - Аргентина'\n",
      " 'Франция - Италия - Бельгия - Люксембург'\n",
      " 'Франция - Украина - Грузия - Армения' 'Сербия - Германия - Венгрия'\n",
      " 'Франция-Польша' 'Франция ' 'Румыния-США' 'Россия-Азербайджан'\n",
      " 'США - Нидерланды - Бельгия - Венгрия - Греция - Канада'\n",
      " 'Германия - Франция - Люксембург' 'США - Россия'\n",
      " 'Великобритания - США - Франция' 'США - Австралия - Дания'\n",
      " 'Бельгия-Франция' 'США-Мексика'\n",
      " 'Норвегия - Азербайджан - Россия - Колумбия - Великобритания - Венгрия - Румыния - Франция - Грузия'\n",
      " 'СЩА' 'Бразилия - Испания' 'Россия, Франция, Латвия'\n",
      " 'Нидерланды - США - Германия - Канада - Франция - Ирландия - Великобритания'\n",
      " 'Уругвай - Колумбия' 'США - Испания - Болгария' 'Армения - Германия'\n",
      " 'США - Великобритания- Франция - Швеция' 'США - Мексика'\n",
      " 'Австралия-Турция-США' 'Швеция - Германия' 'Польша - Италия - Россия'\n",
      " 'Франция - Бразилия' 'США - Канада - КНР' 'СССР, Венгрия, ЧССР, ГДР'\n",
      " 'Бельгия - Германия - Люксембург' 'СССР  ' 'СССР ' ' СССР '\n",
      " 'США - Австралия' 'Бразилия - США' 'США - Великобритания - Канада - КНР'\n",
      " 'Франция - Чили'\n",
      " 'Франция - США - Великобритания - Колумбия - Бельгия - Россия'\n",
      " 'Дания - Великобритания - ЮАР' 'СССР   ' 'Россия-США-Канада-Люксембург'\n",
      " 'Россия - Республика Кипр' 'Германия - США - Швеция - Франция'\n",
      " 'Великобритания-Германия-Канада-ЮАР' ' СССР   ' 'СССР     '\n",
      " 'Ирландия, Канада'\n",
      " 'Япония - Великобритания - Швейцария - Ирландия - Дания - Франция - Польша - Австралия - Канада  '\n",
      " 'Великобритания, Канада' 'Бельгия - США' 'Великобритания - США - Россия'\n",
      " 'Россия-Украина' 'Германия - США - Великобритания - Израиль'\n",
      " 'Канада - Германия' 'США- Ю.Корея' 'Индия - Мексика'\n",
      " 'Великобритания - Франция - Республика Кипр - Швейцария - США - Сербия'\n",
      " 'Испания - Аргентина - Индия - США'\n",
      " 'Норвегия - Исландия - США - Великобритания '\n",
      " 'Турция - Германя - Франция' 'Германия - Великобритания'\n",
      " 'Австралия - Германия' 'Мексика - Испания'\n",
      " 'Великобритания - США - Германия - Бельгия' 'США - Чехия - Франция'\n",
      " 'Россия - Италия' 'Франция-Россия' 'Норвегия - Дания - Швеция'\n",
      " 'Франция - Швейцария - Германия' 'Грузия - Украина'\n",
      " 'Россия - Эстония - Финляндия - Беларусь' 'США - Франция - ЮАР'\n",
      " 'Великобритания - США - Швейцария' 'Канада-США'\n",
      " 'Мексика - Нидерланды - Германия - Франция' 'США - Испания - Франция'\n",
      " 'США - Великобритания - КНР' 'США-Франция-Канада'\n",
      " 'Япония, Великобритания, Австрия, Германия, Ю.Корея'\n",
      " 'Великобритания - Ирландия - США' 'Бельгия - Италия - Франция '\n",
      " 'Швейцария-Германия-ЮАР' 'Великобритания - США - Германия'\n",
      " 'Германия - Исландия' 'Испания - США' 'СССР    ' 'Хорватия'\n",
      " 'Финляндия - Исландия - Швеция' 'Канада - США - Германия - Франция'\n",
      " 'США - Великобритания - Испания' 'Ирландия-Великобритания'\n",
      " 'Аргентина - Испания' 'Австрия - Германия' ' СССР'\n",
      " 'Германия - Швейцария - Франция - Южная Корея - США'\n",
      " 'Украина - Нидерланды' 'Венгрия - Германия - Швеция'\n",
      " 'Германия - Франция -  Польша - Турция - Канада - Италия - Россия '\n",
      " 'СССР, Афганистан' 'СССР, Монголия' 'Россия-Кипр'\n",
      " 'Россия, Грузия, Испания'\n",
      " 'Великобритания - Нидерланды - Германия - Франция - Бельгия - Австрия '\n",
      " 'Испания - Великобритания - Франция' 'Дания - Норвегия - Великобритания'\n",
      " 'Бельгия - Франция - Люксембург'\n",
      " 'Италия - Франция - Швейцария - Великобритания'\n",
      " 'Франция - Бельгия - Великобритания - Испания - Германия - США'\n",
      " 'Швейцария - Израиль - Франция - Великобритания'\n",
      " 'Великобритания - США - Канада - Нидерланды - Франция' 'Россия, Италия'\n",
      " 'СССР, Албания' 'Россия, Украина, Республика Беларусь, Литва'\n",
      " 'Финляндия - Великобритания - Германия' 'Россия, Украина, Польша'\n",
      " 'Франция - Италия - Бельгия - КНР'\n",
      " 'Германия - Бельгия - Люксембург - Ирландия' 'КНР - Сингапур'\n",
      " 'Франция - Бельгия - Великобритания - США - Нидерланды - Канада'\n",
      " 'США - Россия - Польша - Германия - Пуэрто Рико'\n",
      " 'Франция - Бельгия - Канада' 'США ' 'Мексика - США'\n",
      " 'США - Гонконг - КНР ' 'Греция - Россия'\n",
      " 'Ирландия - Дания - Бельгия - Люксембург - Франция' 'Эстония - Россия'\n",
      " 'Великобритания - Исландия - Испания - Швейцария - США'\n",
      " 'Австралия - Великобритания - Бельгия - Индия'\n",
      " 'Швеция - Германия - Франция - Норвегия'\n",
      " 'Нидерланды - Бельгия - Германия - Ирландия'\n",
      " 'Нидерланды - Великобритания - Бельгия' 'США - Колумбия - Испания'\n",
      " 'Франция-Испания-Бельгия-Панама' 'США-Великобритания-Чехия-Румыния'\n",
      " 'Аргентина - Уругвай - Россия - Германия - Франция - Нидерланды'\n",
      " 'Швеция - Франция - Норвегия - Дания' 'Италия-Франция-Великобритания'\n",
      " 'Великобритания, Франция' 'Австралия, США' 'Венесуэла'\n",
      " 'Великобритания - США - Австралия - Ирландия - Германия - Куба - Канада'\n",
      " 'Южная Корея - КНР' 'Аргентина - Мексика - Бразилия - Франция - США'\n",
      " 'Швеция - США' 'Франция - Германия - Турция - Катар' 'Франция-Китай'\n",
      " 'Россия, Германия, Великобритания' 'Великобритания - Италия - Испания'\n",
      " 'Италия - Россия' 'Япония - КНР - Южная Корея' 'Россия, Германия'\n",
      " 'Россия-Ирландия' 'Македония - Франция - Великобритания'\n",
      " 'Франция - Бразилия - Италия' 'Россия-США' 'Армения-Россия'\n",
      " 'Россия, Румыния' 'Франция -  Бельгия' 'Грузия-Франция' 'ЮАР - США'\n",
      " 'Великобритания-США-Франция'\n",
      " 'Великобритания - США - Германия - Канада - Австралия' 'США-Ирландия'\n",
      " 'Россия, Республика Кипр' 'Германия - Люксембург - Франция'\n",
      " 'Россия-Франция' 'США - Нидерланды - Финляндия - Великобритания - Италия'\n",
      " 'Республика Кипр' 'Венгрия' 'Франция - США - Норвегия - Дания'\n",
      " 'Германия - Австрия - Ирландия' 'США - Финляндия' 'Италия-Великобритания'\n",
      " 'Россия, Испания' 'США - Великобритания - Болгария'\n",
      " 'Великобритания - Люксембург' 'Индия - США'\n",
      " 'США - Канада - Россия - Франция - Чили - Ирландия' 'Грузия-Россия'\n",
      " 'Дания - Австрия - Ирландия - Финляндия - Норвегия - Швеция - Нидерланды'\n",
      " 'США-КНР' 'Грузия' 'Австралия - Ирландия' 'Великобритания - Канада'\n",
      " 'Италия - Аргентина - Словения '\n",
      " 'Испания - Франция - Нидерланды - Германия - Бельгия - Великобритания - Канада'\n",
      " 'Франция - Чехия - Бельгия' 'Великобритания - Франция - Германия - США'\n",
      " 'Ирландия - Великобритания - Франция - США - Германия - Нидерланды'\n",
      " 'США - Канада - Япония - КНР' 'Италия-Франция'\n",
      " 'США - Великобритания - Исландия' 'Великобритания-Франция'\n",
      " 'Франция - Германия - Нидерланды' 'Иран '\n",
      " 'Франция - Германия - Швеция - США - Чехия - Словакия - Великобритания - Нидерланды'\n",
      " 'Франция - Канада - Н.Зеландия - США - Нидерланды - Германия - Швеция - Россия'\n",
      " 'Турция - США'\n",
      " 'Великобритания - США - Канада - Бельгия - Нидерланды - Австрия - Германия'\n",
      " 'Израиль - Франция - Германия - Палестина - США - Австрия - Великобритания'\n",
      " 'Аргентина - Франция - Испания' 'СССР, Россия'\n",
      " 'Великобритания - Франция - Италия - Индия - Дания - КНР - Бангладеш - Камбоджа - Гаити - Уганда'\n",
      " 'Италия - Франция - Швейцария' 'Ирландия - Великобритания - Канада'\n",
      " 'Перу' 'США - Норвегия' 'Испания-Канада' 'Китай-Гонконг'\n",
      " 'США - Германия - КНР' 'Великобритания - Новая Зеландия'\n",
      " 'Франция - Дания - Швеция - КНР'\n",
      " 'США - Великобритания - Германия - Бельгия - Дания'\n",
      " 'США - Франция - Канада - Германия - Австралия - Индия'\n",
      " 'СССР, Румыния, Франция' 'СССР, ГДР' 'Австралия-Ирландия' 'США - Китай'\n",
      " 'Великобритания - Франция - Австрия - Швеция' 'Россия, Таджикистан'\n",
      " 'Нидерланды - Бельгия - Болгария' 'Великобритания - Канада - США'\n",
      " 'Франция - Бельгия - Испания' 'Китай-Гонконг-США'\n",
      " 'Франция - Великобритания' 'США - Вьетнам' 'США - Германия - Франция'\n",
      " 'Германия - Франция - Бельгия' 'США - Италия'\n",
      " 'Германия - Дания - Испания - Швеция - Канада - Эстония - Франция'\n",
      " 'Княжество Андорра - Украина' 'Германия - Люксембург - Бельгия'\n",
      " 'Великобритания - Россия - Украина - США'\n",
      " 'Германия - Бельгия - Люксембург - Норвегия'\n",
      " 'США - Австралия - Новая Зеландия - Великобритания'\n",
      " 'США - Франция - Канада - Великобритания' 'Испания-Колумбия'\n",
      " 'Великобритания - Чехия - Франция' 'Россия, Украина' 'Исландия'\n",
      " 'Великобритания - Франция - Венгрия' 'Россия, Франция, Германия, Бельгия'\n",
      " 'Франция - Македония'\n",
      " 'Нидерланды - Франция - Германия - Бельгия - Швеция - Великобритания'\n",
      " 'Испания - США - Великобритания - Канада' 'Германия - Австрия'\n",
      " 'Республика Казахстан' 'Франция - Испания - Дания - Венгрия - Швейцария'\n",
      " 'Франция-КНР' 'США - Пуэрто-Рико - Франция ' 'Мексика - Тайвань - США'\n",
      " 'Великобритания - Испания - Непал - Индия - Венгрия - Гонконг - Германия - Дания - Бахрейн'\n",
      " 'Великобритания - Аргентина - США - Франция - Россия - Испания'\n",
      " 'КНР - США' 'Италия - США' 'Финляндия - Швеция - Германия'\n",
      " 'Канада- Испания' 'Франция - Бельгия - Чехия' 'Франция-Бельгия-Канада'\n",
      " 'Франция - Германия - США' 'США - Дания' 'Индия - КНР'\n",
      " 'Чехия-Великобритания-США' 'США-ФРГ-Россия'\n",
      " 'Ирландия-Нидерланды-Франция-США-Великобритания'\n",
      " 'Россия, Грузия, Хорватия, Испания' 'Финляндия - Швеция - Норвегия'\n",
      " 'Сербия - Великобритания - США'\n",
      " 'США - Великобритания - Франция - Гонконг' 'Швейцария - Франция'\n",
      " 'Швейцария - Великобритания' 'ОАЭ - США'\n",
      " 'США - Франция - Германия - Канада - Австралия ' 'Германия - Австралия'\n",
      " 'Иран, Франция' 'США - Великобритания - Новая Зеландия' 'США-Колумбия'\n",
      " 'США-Франция-Ирландия' 'Великобритания - Франция - Бельгия'\n",
      " 'США - Великобритания - Япония' 'США - Франция - Германия'\n",
      " 'Польша - Ирландия' 'Ирландия - Великобритания - Франция - США'\n",
      " 'США - Бельгия - Великобритания' 'СССР, ВНР'\n",
      " 'Испания - Франция - США - Великобритания - Бельгия'\n",
      " 'Франция - Дания - США' 'США - Гонконг' 'Бразилия - К;анада'\n",
      " 'Франция-Германия' 'США - Колумбия'\n",
      " 'США - Ирландия - Великобритания - Франция'\n",
      " 'Великобритания - США - Канада' 'Польша - Франция'\n",
      " 'Канада - США - Нидерланды - Великобритания - Аргентина'\n",
      " 'Великобритания - Дания' 'Франция - Бельгия - Япония' 'Россия,  Испания'\n",
      " 'Франция -Бельгия' 'США - Канада - Германия - Франция'\n",
      " 'США-Канада-Франция' 'Россия - Германия' 'Россия-Италия'\n",
      " 'Китай - Гонконг' 'Германия-Австрия-Франция-Италия' 'США-Япония'\n",
      " 'США - Германия - Канада' 'Испания-Мексика'\n",
      " 'США - Япония - Канада - Великобритания - Германия - Франция'\n",
      " 'США -Великобритания - Австралия' 'Россия-Украина-Германия'\n",
      " 'Израиль - Франция - Великобритания - Германия' 'Корея'\n",
      " 'Россия - Болгария' 'США-Индия' 'Германия-Канада-Франция-Бельгия'\n",
      " 'Германия-Кения' 'Франция - Монако' 'Франция-Испания-Швейцария'\n",
      " 'Австрия-Франция-Германия' 'Румыния' 'США-Великобритания-Франция'\n",
      " 'Канада-Великобритания' 'Канада-Бразилия-Япония'\n",
      " 'Германия - Дания - Норвегия' 'Дания - Германия' 'СССР - Италия'\n",
      " 'СССР - ГДР - Польша - Италия' 'США - Испания - Франция - Великобритания'\n",
      " 'Китай' 'Мексика-Аргентина'\n",
      " 'Германия - Великобритания - Италия - Испания'\n",
      " 'Франция-Германия-Великобритания' 'Россия - Германия - Швейцария'\n",
      " 'Франция-Австралия' 'Голландия' 'Швейцария-Франция' 'Россия-Белоруссия'\n",
      " 'Франция - Испания - Тайвань' 'США-Южная Корея-Новая Зеландия'\n",
      " 'Великобритания-Венгрия' 'Россия-Германия'\n",
      " 'Великобритания-Франция-Германия' 'Франция-Германия-Италия'\n",
      " 'Швеция-Финляндия-Франция-Норвегия' 'Франция-Италия' 'Германия-Израиль'\n",
      " 'Швеция - Германия - Дания - Норвегия' 'США-Бельгия'\n",
      " 'Франция-Гонконг-Ирландия' 'Эстония' 'Литва-Россия-Украина'\n",
      " 'Германия - Италия - Франция' 'Великобритания - Австрия - Германия'\n",
      " 'Бельгия - Франция' 'Россия-Казахстан' 'Испания - Мальта'\n",
      " 'Франция-Россия-Румыния-Италия-Бельгия' 'Россия - Польша'\n",
      " 'Испания - Мексика' 'США-Аргентина' 'Великобритания '\n",
      " 'Израиль-США-Франция' 'США - Новая Зеландия - Япония'\n",
      " 'Франция - Чехия - Великобритания' 'Россия-Польша'\n",
      " 'Германия-Франция-Великобритания' 'США-Германия-Канада'\n",
      " 'США-Гонконг-Китай' 'США - Великобритания - Германия'\n",
      " 'США-Канада-Австралия' 'Япония-США-Франция' 'Франция-Испания-Германия'\n",
      " 'США - Хорватия - Босния-Герцеговина'\n",
      " 'Великобритания - Чехия - Франция - Италия' 'США - Германия - Нидерланды'\n",
      " 'Германия - Франция - Канада'\n",
      " 'Франция-Грузия-Германия-Россия-Украина-Бельгия'\n",
      " 'Великобритания - Франция - Италия' 'Россия - США'\n",
      " 'Франция - Италия - Иран' 'Россия - Азербайджан' 'Греция' 'Дания - США'\n",
      " 'США-Великобритания-Новая Зеландия' 'США-Германия-Австралия'\n",
      " 'США-Канада-Италия' 'США - Япония - Германия' 'Австралия-США'\n",
      " 'Франция - Великобритания - Багамские острова - США'\n",
      " 'Швейцария - Люксембург' 'Швейцария - Австрия' 'Германия - Швейцария'\n",
      " 'Дания-Швеция-Франция-Германия' 'Польша' 'Швейцария-Австрия'\n",
      " 'Бразилия - Канада - США' 'Нидерланды - Россия' 'Португалия'\n",
      " 'Франция-Аргентина' 'Швеция-Франция' 'Франция-Украина'\n",
      " 'Германия-Украина-Нидерланды' 'Италия-Швейцария'\n",
      " 'США-Германия-Великобритания' 'Латвия - Россия'\n",
      " 'Германия-Франция-Великобритания-США' 'Канада - Италия'\n",
      " 'США - Объединенные Арабские Эмираты' 'США-Венгрия' 'Малайзия'\n",
      " 'Россия - Германия - Украина' 'США - Австралия - Мексика'\n",
      " 'Литва - Венгрия' 'Германия - Китай' 'Казахстан' 'Республика Корея'\n",
      " 'США - Германия - Франция - Великобритания - Канада '\n",
      " 'Бельгия - Германия - Люксембург - Франция' 'Франция - Греция'\n",
      " 'Италия - Канада' 'США - Великобритания - Франция' 'США-Италия-Греция'\n",
      " 'Германия - США - Великобритания - Ирландия'\n",
      " 'Великобритания - Франция - Германия' 'Германия - Нидерланды - ЮАР'\n",
      " 'США-Япония-Германия-Великобритания-Нидерланды'\n",
      " 'США-Япония-Германия-Великобритания' 'Германия - Франция - Польша'\n",
      " 'Таиланд-Великобритания-Франция-Германия-Испания-Нидерланды'\n",
      " 'Германия-Италия-Швейцария'\n",
      " 'Дания - Швеция - Великобритания - Франция - Германия - Нидерланды - Норвегия - Финляндия'\n",
      " 'Франция - Великобритания - Нидерланды - Люксембург'\n",
      " 'Нидерланды-Великобритания-Франция-Италия-Япония'\n",
      " 'Финляндия-Дания-Германия-Ирландия' 'Испания-Аргентина'\n",
      " 'Великобритания - Нидерланды - Франция - США' 'Канада - Мексика'\n",
      " 'США, Франция' 'Канада-Южная Корея-США'\n",
      " 'Великобритания - Франция - Бельгия - США' 'КНР - Канада - США'\n",
      " 'Италия - Франция - Германия' 'Швеция - Германия - Франция - Дания'\n",
      " 'Франция - США - Бельгия' 'Украина - Германия - Латвия - Эстония'\n",
      " 'Австрия - Люксембург' 'Великобритания - КНР' 'Монголия'\n",
      " 'Франция - Дания' 'Швеция - Дания - Финляндия'\n",
      " 'Сингапур - Великобритания - Индонезия - Канада - США'\n",
      " 'США - Германия - Япония' 'Таиланд - США' 'Франция - Нидерланды'\n",
      " 'Великобритания - Румыния' 'США - Мальта'\n",
      " 'Великобритания - Германия - Нидерланды - Дания'\n",
      " 'Франция - Германия - Литва - Нидерланды - Россия' 'США - ЮАР - Гонконг'\n",
      " 'Австралия - Колумбия' 'Великобритания - Польша'\n",
      " 'США - Великобритания - Швеция' 'Франция - Швеция - Дания - Норвегия'\n",
      " 'Болгария - США' 'СССР, ФРГ' 'Бельгия - Нидерланды - Франция'\n",
      " 'Финляндия - Германия' 'Болгария'\n",
      " 'Грузия - Россия - Украина - Хорватия - Германия' 'Франция - Люксембург'\n",
      " 'Франция - Германия - Австрия' 'Норвегия - США' 'Германия-Швеция'\n",
      " 'Франция - Германия - Италия' 'Франция-Германия-Австрия' 'КНР-США'\n",
      " 'Великобритания - Ирландия - США ' 'Дания - Латвия - Россия - США'\n",
      " 'Финляндия - Польша' 'Германия - Бельгия'\n",
      " 'Германия - США - Франция - Испания'\n",
      " 'Бельгия-Германия-Канада-Франция-США-Великобритания'\n",
      " 'Нидерланды - Бельгия - Люксембург' 'Канада-Германия'\n",
      " 'Люксембург - Бельгия - Франция' 'США-Великобритания-Австралия'\n",
      " 'Великобритания, Новая Зеландия' 'Бельгия, Великобритания, США'\n",
      " 'Великобритания, Австралия' 'Исландия, Бельгия'\n",
      " 'Испания - Швейцария - Великобритания - Германия - Новая Зеландия - Нидерланды - Канада'\n",
      " 'Франция, Бельгия' 'Великобритания, США' 'Киргизия-Россия'\n",
      " 'Германия, США' 'Великобритания, США, Испания'\n",
      " 'Италия - Швейцария - Германия' 'Россия, Армения' 'Франция, Германия'\n",
      " 'Китай, Канада, США' 'Германия, Австралия' 'КНР, США'\n",
      " 'США, Великобритания, Люксембург' 'Испания, Ирландия, Бельгия, Франция'\n",
      " 'Великобритания - Гонконг - Венгрия - США - Ирландия' 'США - Пуэрто Рико'\n",
      " 'Аргентина - Испания - Уругвай'\n",
      " 'Израиль - Германия - Франция - Швейцария'\n",
      " 'Великобритания - Мексика - США' 'Испания - Болгария - США'\n",
      " 'Россия-Словакия-Чехия'\n",
      " 'Швейцария - КНР - США - Россия - Республика Корея - Великобритания'\n",
      " 'Россия, Нидерланды, Финляндия'\n",
      " 'Испания - Бельгия - Франция - Португалия - Великобритания'\n",
      " 'Бразилия - Португалия - Франция' 'Швеция - Норвегия'\n",
      " 'Франция - Польша - Бельгия' 'CША' 'Китай, США'\n",
      " 'Италия, Франция, Германия' 'Германия - Австрия - Франция'\n",
      " 'Чехия - Словакия - Хорватия' 'Россия, Польша, Финляндия'\n",
      " 'Россия, Латвия, Чешская Республика'\n",
      " 'Франция - Великобритания - Камбоджа - США - КНР' 'Чехия - Испания - США'\n",
      " 'Германия - Люксембург - Дания' 'Великобритания - Испания - Германия'\n",
      " 'Дания - Исландия' 'Германия, Франция, Великобритания'\n",
      " 'Великобритания - Испания - Италия - Латвия - Франция - Эстония'\n",
      " 'Дания, Швеция, Великобритания, Франция, Германия, Норвегия, Финляндия, Нидерланды, Италия'\n",
      " 'Польша - Франция - Великобритания' 'Дания, Норвегия, Венгрия, Чехия'\n",
      " 'Дания - Франция - Германия - Швеция' 'Великобритания, Швеция, США'\n",
      " 'Канада, Франция, Италия, Швейцария, США' 'США, Индия'\n",
      " 'США - Великобритания - Германия - - Швеция - Канада' 'Италия, Франция'\n",
      " 'Республика Беларусь, Германия, США, Россия'\n",
      " 'Италия-Швейцария-Франция-Германия '\n",
      " 'Россия - Франция - Великобритания - Латвия' 'Россия-Беларусь'\n",
      " 'Франция - Испания - Румыния - США - Бельгия' 'Италия-США'\n",
      " 'Россия, Австрия' 'Ирландия - Великобритания - США'\n",
      " 'Швейцария, Великобритания, Франция, США, Ирландия'\n",
      " 'Мексика, Франция, Германия, Дания, Швеция' 'Нидерланды, Бельгия'\n",
      " 'Швеция, Норвегия, Финляндия, Франция' 'Испания, Франция, Италия'\n",
      " 'Испания-Франция-Греция-Индия-США-Россия-Великобритания'\n",
      " 'Великобритания - Япония - США' 'Дания, Канада, Норвегия, Австралия, США'\n",
      " 'Аргентина, Испания' 'Россия, Германия, Казахстан, Польша, Китай'\n",
      " 'Португалия, Франция, Польша, США' 'США - Канада - Аргентина' 'Ливан-США'\n",
      " 'Япония - США' 'США, Гонконг '\n",
      " 'Франция - Россия - Швейцария - Румыния - Венгрия' 'Аргентина-Испания'\n",
      " 'Россия, Сербия' 'США - Болгария - Мексика'\n",
      " 'США - Великобритания - Швейцария - Франция' 'Таиланд - КНР - США'\n",
      " 'Великобритания, Нидерланды, Польша, Швейцария, Франция' 'Ирландия - США'\n",
      " 'Германия - Франция - Великобритания - Польша - США'\n",
      " 'Великобритания-Франция-Италия' 'США - Австралия - Индия' 'Франция - КНР'\n",
      " 'Великобритания - Израиль' 'Великобритания - Норвегия - Кения - Хорватия'\n",
      " 'США - Бразилия - Великобритания - Канада' 'Германия, Бельгия'\n",
      " 'Австралия, Канада' 'США, Великобритания, Франция' 'Кения, Германия'\n",
      " 'Нидерланды, Бельгия, Люксембург' 'Колумбия' 'Латвия - Франция'\n",
      " 'Ирландия, Великобритания' 'Франция - Израиль - Германия'\n",
      " 'Швеция, Франция, Великобритания' 'Бельгия - Люксембург'\n",
      " 'Германия - Бельгия - Великобритания'\n",
      " 'Испания, Франция, Великобритания, Дания, Бельгия, Германия'\n",
      " 'Румыния, ЮАР, Иран, Франция, Канада, Великобритания' 'Германия, Франция'\n",
      " 'США, Япония' 'США, Великобритания, Ирландия, Люксембург'\n",
      " 'Республика Армения' 'США, Франция, Япония' 'Япония, США' 'Канада, США'\n",
      " 'Республика Кипр - Россия'\n",
      " 'Дания - Франция - Италия - Бельгия - Нидерланды' 'Россия - Грузия'\n",
      " 'Италия, Германия' 'Норвегия, Швеция, Дания' 'Республика Кипр, Россия'\n",
      " 'КНР, Индия, Гонконг, США' 'Израиль, Украина' 'США, Россия'\n",
      " 'США - КНР - Индия - Ю.Корея' 'США - Швеция' 'Франция, Канада'\n",
      " 'Россия-Китай' 'Канада, Великобритания' 'США, Германия'\n",
      " 'Канада, США, Каймановы острова'\n",
      " 'Бразилия, Уругвай, Дания, Норвегия, Чили, Швеция'\n",
      " 'Пуэрто-Рико, Великобритания, США' 'Уругвай - Аргентина - Испания'\n",
      " 'США - Великобритания - Италия - Израиль - Сербия - Индия'\n",
      " 'США - Канада - Франция - Индия' 'Великобритания - Россия - КНР'\n",
      " 'Франция, Новая Зеландия' 'Франция, Люксембург, Бельгия'\n",
      " 'Канада, США, Норвегия' 'Италия, Испания'\n",
      " 'Испания - Германия - Нидерланды' 'Бразилия - США - КНР '\n",
      " 'Великобритания, Германия, Дания, США' '2019'\n",
      " 'Италия - Фрация - Бразилия - Германия' 'Норвегия - Швеция - Россия'\n",
      " 'Великобритания, Япония, США' 'Сша, Канада' 'Бельгия, Канада'\n",
      " 'Великобритания - Австралия - США' 'США, Канада' 'КНР - США '\n",
      " 'Франция - Финляндия' 'Колумбия - США' 'Великобритания, Франция, Бельгия'\n",
      " 'Норвегия - Нидерланды' 'Великобритания, Канада, США'\n",
      " 'Япония, Великобритания' 'Италия - Бельгия - Франция'\n",
      " 'Россия, Бельгия, Финляндия' 'США, Украина' 'Франция, Норвегия'\n",
      " 'Великобритания, Южная Корея, Канада, США, Индия, Китай, Япония'\n",
      " 'Канада - Норвегия' 'Республика Кипр-Россия' 'Германия, Россия'\n",
      " 'Польша - Франция - Испания - Бразилия - Швеция'\n",
      " 'Австрия, Великобритания, Германия' 'Франция - Сенегал - Бельгия'\n",
      " 'Франция, Бельгия, Люксембург' 'Финляндия, Латвия' 'Пакистан'\n",
      " 'Германия, Франция, США' 'Германия - Великобритания - США'\n",
      " 'КНР - Франция' 'Дания, Норвегия, Швеция, Исландия'\n",
      " 'Республика Кипр, США, Россия' 'Новая Зеландия - КНР'\n",
      " 'Дания - Канада - Швеция - Франция - Германия - Великобритания - США'] \n",
      "\n",
      "DIRECTOR \n",
      " ['Кевин Костнер' 'Е.Матвеев' 'Тимур Бекмамбетов' ... 'Ник Пауэлл'\n",
      " 'А.Беляев' 'И.Трусов'] \n",
      "\n",
      "PRODUCER \n",
      " ['Дэвид Валдес, Кевин Костнер, Джейк Эбертс' 'unkn'\n",
      " 'Джим Лемли, Джейсон Нетер, Марк Е.Платт, Яйн Смит' ...\n",
      " 'Поппи Бегум, Ник Пойнц'\n",
      " 'Джефф Боулер, Дэниэл Гродник, Луильо Руис, Брэт Саксон, Кирк Шоу'\n",
      " 'Дженнифер Додж'] \n",
      "\n",
      "AGE_RESTRICTION \n",
      " ['«18+» - запрещено для детей' '«6+» - для детей старше 6 лет'\n",
      " '«12+» - для детей старше 12 лет' '«16+» - для детей старше 16 лет'\n",
      " '«0+» - для любой зрительской аудитории'] \n",
      "\n",
      "REFUNDABLE_SUPPORT \n",
      " [         nan 0.000000e+00 5.000000e+07 2.600000e+07 3.000000e+07\n",
      " 1.500000e+07 1.000000e+07 2.000000e+07 7.153119e+06 2.500000e+07\n",
      " 4.000000e+07 6.000000e+07 4.400000e+07 2.900000e+07 4.100000e+07\n",
      " 3.600000e+07 3.500000e+06 5.000000e+06 1.900000e+07 9.000000e+06\n",
      " 1.100000e+08 1.700000e+07 7.500000e+07 1.500000e+08 3.800000e+07\n",
      " 1.000000e+08 5.500000e+07 7.000000e+06 7.346881e+06 8.000000e+06\n",
      " 1.150000e+08 3.500000e+07 1.800000e+08 2.800000e+07 8.000000e+07] \n",
      "\n",
      "NONREFUNDABLE_SUPPORT \n",
      " [           nan 2.65000000e+07 2.60000000e+07 1.07847945e+08\n",
      " 2.80000000e+07 2.50000000e+07 1.00000000e+08 4.65022990e+07\n",
      " 7.50000000e+07 3.40000000e+07 3.00000000e+07 4.00000000e+07\n",
      " 2.30000000e+07 4.50000000e+07 5.65790550e+07 2.55000000e+07\n",
      " 2.75100000e+07 1.00000000e+07 2.40000000e+07 2.45000000e+07\n",
      " 2.70000000e+07 5.00000000e+06 9.00000000e+07 2.00000000e+07\n",
      " 7.00000000e+07 9.70000000e+07 2.44500000e+07 5.00000000e+07\n",
      " 0.00000000e+00 6.00000000e+07 2.75000000e+07 2.69500000e+07\n",
      " 1.10000000e+08 1.50000000e+07 5.90000000e+07 2.50000000e+08\n",
      " 3.70000000e+07 3.50000000e+07 2.01452850e+07 2.59000000e+07\n",
      " 6.00000000e+06 3.92104482e+08 2.52000000e+07 2.29040000e+07\n",
      " 2.90000000e+07 5.10000000e+07 4.70000000e+06 5.30000000e+06\n",
      " 2.17000000e+07 2.49860000e+07 2.53450000e+07 1.33000000e+08\n",
      " 1.75000000e+08 3.01239150e+07 2.85000000e+07 3.00000000e+08\n",
      " 4.15000000e+07 2.00000000e+08 1.50000000e+08 5.50000000e+07\n",
      " 6.40000000e+07 5.00008660e+07 1.15200000e+07 1.90000000e+08\n",
      " 2.25000000e+08 8.00000000e+06 4.00000000e+08 2.60000000e+08\n",
      " 3.10000000e+07 8.50000000e+07 8.00000000e+07 1.38969465e+08\n",
      " 1.20000000e+08 1.30000000e+08 1.40000000e+08 3.00000000e+06] \n",
      "\n",
      "BUDGET \n",
      " [           nan 7.94119000e+07 3.71428570e+07 1.76023490e+08\n",
      " 4.05741400e+07 4.00151220e+07 5.18500000e+07 2.20588394e+08\n",
      " 8.62100670e+07 1.39551503e+08 4.85714300e+07 8.00000000e+07\n",
      " 3.62595000e+07 7.08761720e+07 2.52489571e+08 7.49100000e+07\n",
      " 0.00000000e+00 8.97823120e+07 4.36437176e+08 4.05000000e+07\n",
      " 6.84906060e+07 4.50066090e+07 1.31000000e+08 5.00000000e+08\n",
      " 6.10114070e+07 4.00000000e+07 3.73712620e+07 3.52969500e+07\n",
      " 4.30000000e+07 7.74017510e+07 3.50000000e+07 5.11967110e+07\n",
      " 9.01200000e+07 2.67288892e+08 4.92804960e+07 4.90714280e+07\n",
      " 4.69688830e+07 5.51950000e+07 1.56360666e+08 3.74247960e+07\n",
      " 3.57600600e+07 2.81155800e+07 3.79436520e+07 1.38325738e+08\n",
      " 4.22525090e+07 3.99900000e+07 1.12000000e+08 5.57294240e+07\n",
      " 3.57142860e+07 1.39357211e+08 5.02187410e+07 4.02650000e+07\n",
      " 3.90579710e+07 9.25000000e+07 4.14978600e+07 8.62363940e+07\n",
      " 8.03241370e+07 2.40153900e+08 1.00274436e+08 4.02877700e+07\n",
      " 2.85714290e+07 3.84768690e+07 2.70000000e+07 8.16124110e+07\n",
      " 6.40300800e+07 8.02732770e+07 3.60000000e+08 1.30619336e+08\n",
      " 5.28600000e+07 1.11736163e+08 5.54049630e+07 7.33795540e+07\n",
      " 4.20000000e+07 1.05445546e+08 5.80784510e+07 1.34000000e+08\n",
      " 8.46670380e+07 1.64780000e+08 4.19989840e+07 5.95607460e+07\n",
      " 7.40719180e+07 3.90000000e+07 8.53840000e+07 1.50008573e+08\n",
      " 5.21246380e+07 2.11810247e+08 6.35283867e+08 3.78891650e+07\n",
      " 4.62000000e+07 7.59409410e+07 5.42096570e+07 9.00000000e+07\n",
      " 6.94287280e+07 6.98830490e+07 4.28600000e+07 4.61600000e+07\n",
      " 6.20446460e+07 4.86611500e+07 3.99075326e+08 6.10700000e+07\n",
      " 3.84615380e+07 4.55386550e+07 3.80000000e+07 5.69095200e+07\n",
      " 5.38462000e+07 1.79257987e+08 1.09020947e+08 9.02767740e+07\n",
      " 7.86865000e+07 1.44624640e+07 2.15860000e+08 5.00000000e+07\n",
      " 7.00000000e+07 9.10000000e+07 3.70009900e+07 2.22177790e+08\n",
      " 3.84400000e+07 6.82942000e+07 1.62630398e+08 2.26271533e+08\n",
      " 5.28441977e+08 5.99374700e+07 7.50001350e+07 2.22513841e+08\n",
      " 4.61954270e+07 6.88092260e+07 6.10000000e+07 6.84200536e+08\n",
      " 2.87802711e+08 7.00864390e+07 6.30000000e+07 3.85000000e+07\n",
      " 1.10464061e+08 9.50000000e+07 1.13837339e+08 5.43032220e+07\n",
      " 4.30000000e+08 1.82659393e+08 3.23232109e+08 5.78743750e+07\n",
      " 2.06982031e+08 1.20000000e+08 2.02484224e+08 9.08227660e+07\n",
      " 3.60162690e+07 1.26932894e+08 5.46875000e+07 2.43122945e+08\n",
      " 3.13053130e+07 2.15162287e+08 3.78787870e+07 2.10405981e+08\n",
      " 3.20000000e+08 4.61538870e+07 1.80000000e+08 4.54832330e+07\n",
      " 4.06008000e+07 2.04674000e+08 3.44905389e+08 1.28570000e+08\n",
      " 6.50000000e+07 4.73280000e+07 1.87060800e+07 5.77670810e+07\n",
      " 9.02780630e+07 5.40000000e+07 6.31700000e+07 4.66573110e+07\n",
      " 3.00000000e+07 1.03290596e+09 7.70000000e+07 8.35534120e+07\n",
      " 1.57236080e+08 5.71667970e+07 4.93733957e+08 3.52477575e+08\n",
      " 7.80963150e+07 2.19398491e+08 7.42751000e+07 5.00012729e+08\n",
      " 3.84667000e+07 1.81664180e+07 4.86808580e+07 1.36230333e+08\n",
      " 5.84473010e+07 1.50000000e+08 1.74381922e+08 1.30000000e+08\n",
      " 5.90192191e+08 1.74464395e+08 4.46000000e+07 2.92412422e+08\n",
      " 1.70122675e+08 1.48585222e+08 6.00000000e+07 1.09609029e+08\n",
      " 8.28004880e+07 8.76491270e+07 2.04400968e+08 1.40005238e+08\n",
      " 1.10000000e+08 3.90191139e+08 1.09814241e+08 3.78491030e+07\n",
      " 1.18000000e+08 2.98500000e+08 2.00067392e+08 3.76000000e+07\n",
      " 1.14510306e+08 3.91292890e+07 9.50655460e+07 3.85000000e+08\n",
      " 3.08000000e+07 3.77656540e+07 6.20000000e+07 1.68271268e+08\n",
      " 1.11812387e+08 4.50450500e+07 1.81302726e+08 7.03050000e+07\n",
      " 8.24968890e+07 6.03735760e+07 7.69130580e+07 4.69237760e+07\n",
      " 4.82380750e+07 9.30000000e+07 4.50745470e+07 1.54245687e+08\n",
      " 1.72763618e+08 1.85500705e+08 3.97000000e+07 1.79708770e+08\n",
      " 5.63784717e+08 3.56550000e+08 3.35567667e+08 1.23714264e+08\n",
      " 1.15000000e+08 4.42865840e+07 5.66935590e+07 1.01463696e+08\n",
      " 1.08518988e+08 4.99826569e+08 4.69411400e+07 7.83551540e+07\n",
      " 1.02760000e+08 2.64578774e+08 1.69000000e+08 2.40041307e+08\n",
      " 1.65222908e+08 4.53704666e+08 3.77442800e+07 3.88582600e+07\n",
      " 3.75000000e+07 4.80000000e+07 4.61538460e+07 1.05721524e+08\n",
      " 4.10000000e+07 6.15714490e+07 4.63000000e+07 4.72000000e+07\n",
      " 3.00000000e+08 5.50000000e+07 6.06685760e+07 4.50500000e+07\n",
      " 7.15176310e+07 1.50100000e+07 6.01503760e+07 6.47929130e+07\n",
      " 6.79427180e+07 2.30507430e+09 1.01659240e+08 6.24157490e+07\n",
      " 1.54989700e+08 7.79941965e+08 3.30000000e+07 1.47866278e+08\n",
      " 5.78760000e+07 2.50000000e+08 1.40025000e+08 3.04489110e+07\n",
      " 7.50000000e+07 3.60054850e+08 4.77340500e+07 7.84222120e+07\n",
      " 2.70000000e+08 1.60000000e+08 9.80000000e+08 1.90000000e+08\n",
      " 9.44000000e+08 4.61540000e+07 1.50147502e+08] \n",
      "\n",
      "FINANCING_SOURCE \n",
      " ['missing' 'Министерство культуры' 'Фонд кино'\n",
      " 'Министерство культуры, Фонд кино'] \n",
      "\n",
      "RATINGS \n",
      " [7.2 6.6 6.8 7.7 8.3 8.0 7.8 8.1 7.1 6.0 7.4 5.8 8.7 6.3 6.9 5.0 4.3 7.3\n",
      " 7.0 6.4 'unkn' 8.2 7.5 6.7 7.9 5.9 6.2 5.6 6.5 2.4 7.6 6.1 8.6 8.5 8.8\n",
      " 5.5 5.1 5.7 5.4 9.9 4.4 4.5 5.3 4.1 8.4 2.6 3.8 4.6 4.8 4.0 3.0 1.6 4.2\n",
      " 5.2 4.7 4.9 3.9 2.7 3.3 2.9 2.8 3.7 1.4 3.1 9.7 3.5 3.2 1.5 2.1 2.5 9.2\n",
      " 3.4 1.1 3.6 9.1 9.4 9.0 1.9 1.0 8.9 1.3 1.8 1.2 1.7 9.8] \n",
      "\n",
      "GENRES \n",
      " ['боевик,драма,мелодрама' 'драма,военный' 'фантастика,боевик,триллер'\n",
      " 'драма' 'мелодрама,комедия' 'мюзикл,мелодрама,комедия' 'комедия,криминал'\n",
      " 'боевик,триллер,детектив' 'боевик,драма,приключения' 'драма,спорт'\n",
      " 'триллер,драма,мелодрама' 'комедия,мелодрама' 'драма,мелодрама,комедия'\n",
      " 'драма,мелодрама' 'драма,история' 'драма,мелодрама,семейный'\n",
      " 'комедия,мелодрама,криминал' 'комедия' 'боевик,драма,криминал'\n",
      " 'драма,комедия' 'ужасы,фантастика,комедия'\n",
      " 'мультфильм,короткометражка,мелодрама' 'драма,криминал'\n",
      " 'мультфильм,фантастика,фэнтези' 'триллер,драма,криминал'\n",
      " 'драма,мелодрама,биография' 'драма,комедия,военный'\n",
      " 'фантастика,драма,детектив' 'мюзикл,семейный' 'unkn'\n",
      " 'военный,приключения,драма' 'документальный,драма'\n",
      " 'драма,биография,история' 'боевик,триллер,драма' 'фэнтези,боевик'\n",
      " 'боевик,комедия,криминал' 'мюзикл,комедия,детский'\n",
      " 'комедия,мелодрама,драма' 'мультфильм,фэнтези,комедия' 'комедия,история'\n",
      " 'мелодрама' 'драма,биография,музыка' 'фэнтези,драма,мелодрама'\n",
      " 'триллер,военный' 'драма,мелодрама,военный' 'мюзикл,драма,мелодрама'\n",
      " 'мюзикл,комедия' 'мультфильм,приключения,семейный' 'ужасы,триллер'\n",
      " 'боевик,драма,военный' 'драма,боевик' 'мультфильм,драма,комедия'\n",
      " 'триллер,криминал' 'военный,биография,драма' 'комедия,семейный' 'военный'\n",
      " 'драма,семейный,биография' 'фэнтези,приключения,семейный'\n",
      " 'драма,криминал,биография' 'ужасы,триллер,детектив'\n",
      " 'боевик,история,драма' 'ужасы,триллер,драма' 'драма,криминал,спорт'\n",
      " 'документальный,короткометражка' 'триллер,драма'\n",
      " 'криминал,детектив,приключения' 'драма,комедия,криминал'\n",
      " 'драма,комедия,вестерн' 'драма,мелодрама,детектив' 'мелодрама,биография'\n",
      " 'фэнтези,мелодрама,драма' 'драма,мелодрама,история'\n",
      " 'комедия,приключения,история' 'приключения' 'драма,семейный'\n",
      " 'криминал,детектив' 'мультфильм,короткометражка,ужасы'\n",
      " 'фантастика,триллер,драма' 'фэнтези,мелодрама,комедия' 'драма,биография'\n",
      " 'комедия,криминал,история' 'триллер,драма,детектив'\n",
      " 'фантастика,комедия,приключения' 'фэнтези,семейный'\n",
      " 'ужасы,фантастика,боевик' 'мелодрама,криминал'\n",
      " 'комедия,приключения,мелодрама' 'боевик,триллер,приключения'\n",
      " 'боевик,приключения' 'боевик,триллер,криминал'\n",
      " 'документальный,военный,история' 'драма,музыка' 'боевик,драма'\n",
      " 'приключения,боевик' 'драма,военный,биография'\n",
      " 'триллер,драма,приключения' 'аниме,мультфильм,фэнтези'\n",
      " 'триллер,детектив,драма' 'боевик,триллер,мелодрама' 'боевик,история'\n",
      " 'приключения,история' 'драма,комедия,приключения'\n",
      " 'фэнтези,комедия,приключения' 'драма,вестерн' 'документальный,музыка'\n",
      " 'мелодрама,драма' 'триллер,криминал,детектив' 'ужасы'\n",
      " 'боевик,комедия,приключения' 'мультфильм,фэнтези,боевик'\n",
      " 'боевик,фэнтези,драма' 'фэнтези,драма' 'фэнтези,боевик,комедия'\n",
      " 'приключения,детский,комедия' 'документальный' 'боевик,триллер,комедия'\n",
      " 'мелодрама,комедия,криминал' 'драма,детектив' 'мюзикл,ужасы,триллер'\n",
      " 'детектив,триллер,ужасы' 'ужасы,фэнтези' 'ужасы,фэнтези,триллер'\n",
      " 'мультфильм,драма' 'ужасы,боевик,фантастика' 'боевик' 'фантастика,боевик'\n",
      " 'мелодрама,комедия,приключения' 'триллер,детектив'\n",
      " 'мюзикл,мелодрама,фэнтези' 'криминал' 'триллер,комедия,криминал'\n",
      " 'боевик,приключения,триллер' 'триллер,драма,военный'\n",
      " 'комедия,семейный,музыка' 'комедия,фантастика,мелодрама'\n",
      " 'фантастика,триллер,криминал' 'комедия,драма' 'боевик,военный'\n",
      " 'ужасы,фантастика,триллер' 'фантастика,драма,мелодрама'\n",
      " 'фэнтези,драма,детектив' 'боевик,триллер' 'боевик,драма,история'\n",
      " 'мультфильм,мюзикл,фэнтези' 'для взрослых,драма,мелодрама'\n",
      " 'мультфильм,боевик,детектив' 'фантастика,мелодрама,боевик'\n",
      " 'ужасы,фантастика,детектив' 'фантастика,боевик,приключения'\n",
      " 'мелодрама,комедия,спорт' 'комедия,боевик,приключения'\n",
      " 'документальный,приключения' 'мультфильм,короткометражка,детский'\n",
      " 'комедия,приключения' 'ужасы,драма' 'ужасы,фэнтези,боевик'\n",
      " 'мультфильм,фэнтези,детский' 'мюзикл,боевик,драма'\n",
      " 'семейный,комедия,драма' 'концерт,музыка' 'фэнтези,боевик,драма'\n",
      " 'драма,комедия,музыка' 'фантастика,фэнтези,боевик'\n",
      " 'фэнтези,комедия,семейный' 'фэнтези,драма,комедия'\n",
      " 'мультфильм,мюзикл,драма' 'триллер' 'боевик,криминал,триллер'\n",
      " 'мультфильм,приключения,драма' 'мелодрама,музыка'\n",
      " 'документальный,музыка,концерт' 'мультфильм,семейный'\n",
      " 'мультфильм,комедия,приключения' 'мультфильм,комедия,семейный'\n",
      " 'фантастика,драма' 'фэнтези,боевик,приключения' 'мультфильм,приключения'\n",
      " 'драма,военный,история' 'история' 'драма,приключения,военный'\n",
      " 'документальный,короткометражка,семейный' 'мелодрама,история,триллер'\n",
      " 'ужасы,детектив' 'мюзикл,комедия,приключения' 'драма,спорт,биография'\n",
      " 'фантастика,боевик,комедия' 'фантастика,приключения,детектив'\n",
      " 'короткометражка,драма,военный' 'драма,мультфильм' 'приключения,семейный'\n",
      " 'детектив' 'триллер,приключения' 'аниме,мультфильм,боевик'\n",
      " 'драма,комедия,биография' 'драма,комедия,спорт'\n",
      " 'боевик,мелодрама,комедия' 'семейный,комедия' 'фэнтези,боевик,триллер'\n",
      " 'документальный,фэнтези,семейный' 'фантастика,фэнтези,драма'\n",
      " 'ужасы,комедия,фэнтези' 'документальный,биография,музыка'\n",
      " 'фантастика,боевик,фэнтези' 'ужасы,боевик,триллер'\n",
      " 'комедия,криминал,семейный' 'приключения,драма' 'криминал,драма,триллер'\n",
      " 'драма,детектив,криминал' 'фэнтези,приключения,комедия' 'комедия,спорт'\n",
      " 'мюзикл,фэнтези,мелодрама' 'мультфильм,фэнтези,приключения'\n",
      " 'фантастика,фэнтези,приключения' 'фэнтези' 'фэнтези,приключения,боевик'\n",
      " 'фантастика,боевик,драма' 'криминал,драма' 'криминал,триллер,драма'\n",
      " 'драма,мелодрама,приключения' 'детский,комедия' 'фантастика,драма,боевик'\n",
      " 'мультфильм,семейный,фэнтези' 'концерт,музыка,документальный'\n",
      " 'ужасы,комедия,приключения' 'драма,мелодрама,криминал'\n",
      " 'ужасы,фантастика,фэнтези' 'боевик,комедия'\n",
      " 'мультфильм,фантастика,комедия' 'триллер,ужасы'\n",
      " 'мультфильм,мюзикл,комедия' 'мелодрама,фэнтези,триллер'\n",
      " 'детский,приключения,комедия' 'комедия,детектив'\n",
      " 'аниме,мультфильм,мелодрама' 'документальный,драма,семейный'\n",
      " 'документальный,биография,история' 'военный,боевик,драма' 'ужасы,комедия'\n",
      " 'комедия,приключения,семейный' 'приключения,биография,история'\n",
      " 'детский,приключения,семейный' 'спорт,драма,биография'\n",
      " 'аниме,мультфильм,ужасы' 'фантастика,боевик,криминал' 'мюзикл,драма'\n",
      " 'драма,криминал,детектив' 'аниме,мультфильм,драма'\n",
      " 'драма,триллер,приключения' 'триллер,криминал,драма'\n",
      " 'фэнтези,комедия,драма' 'мультфильм,комедия' 'драма,комедия,история'\n",
      " 'комедия,биография,история' 'мультфильм,фантастика,приключения'\n",
      " 'аниме,мультфильм,фантастика' 'мультфильм,фэнтези,семейный'\n",
      " 'мультфильм,боевик,комедия' 'комедия,криминал,спорт'\n",
      " 'документальный,мюзикл' 'мелодрама,комедия,музыка' 'биография'\n",
      " 'триллер,криминал,комедия' 'фантастика,драма,комедия'\n",
      " 'комедия,драма,мелодрама' 'фантастика,приключения,боевик'\n",
      " 'мультфильм,фэнтези,драма' 'триллер,комедия'\n",
      " 'драма,приключения,биография' 'фантастика,комедия'\n",
      " 'мелодрама,драма,комедия' 'боевик,криминал' 'драма,криминал,боевик'\n",
      " 'мультфильм,мюзикл,детский' 'драма,фэнтези' 'документальный,семейный'\n",
      " 'фэнтези,драма,приключения' 'ужасы,комедия,фантастика'\n",
      " 'драма,мелодрама,музыка' 'фэнтези,драма,семейный'\n",
      " 'триллер,мелодрама,драма' 'вестерн,боевик,драма'\n",
      " 'мультфильм,короткометражка,комедия' 'триллер,драма,история'\n",
      " 'ужасы,фантастика' 'ужасы,мелодрама,комедия' 'фэнтези,приключения'\n",
      " 'фантастика,триллер' 'ужасы,боевик,фэнтези' 'мультфильм,комедия,детский'\n",
      " 'триллер,драма,биография' 'мультфильм,ужасы,фэнтези'\n",
      " 'мультфильм,ужасы,фантастика' 'ужасы,боевик,комедия'\n",
      " 'драма,биография,спорт' 'мультфильм' 'мелодрама,комедия,драма'\n",
      " 'приключения,фантастика,семейный' 'комедия,криминал,детектив'\n",
      " 'ужасы,триллер,комедия' 'криминал,комедия,триллер'\n",
      " 'семейный,приключения,комедия' 'мультфильм,драма,приключения'\n",
      " 'ужасы,драма,детектив' 'драма,приключения,фэнтези'\n",
      " 'фантастика,мультфильм,драма' 'драма,триллер,детектив'\n",
      " 'драма,история,музыка' 'детский' 'триллер,боевик,криминал'\n",
      " 'драма,фантастика' 'комедия,драма,семейный' 'боевик,драма,комедия'\n",
      " 'комедия,ужасы' 'драма,фантастика,триллер' 'фантастика,драма,триллер'\n",
      " 'история,спорт,драма' 'документальный,биография' 'биография,история'\n",
      " 'спорт,драма' 'боевик,фэнтези' 'мультфильм,фэнтези'\n",
      " 'документальный,комедия,история' 'криминал,комедия,боевик'\n",
      " 'фэнтези,приключения,драма' 'музыка,концерт' 'триллер,драма,боевик'\n",
      " 'комедия,криминал,боевик' 'комедия,фантастика,боевик'\n",
      " 'вестерн,приключения,боевик' 'аниме,мультфильм,комедия'\n",
      " 'детектив,криминал,триллер' 'мультфильм,комедия,криминал'\n",
      " 'комедия,приключения,детектив' 'мелодрама,фантастика,драма'\n",
      " 'драма,комедия,семейный' 'приключения,фантастика'\n",
      " 'триллер,детектив,ужасы' 'комедия,приключения,фэнтези'\n",
      " 'фэнтези,триллер,драма' 'мелодрама,приключения,боевик'\n",
      " 'детектив,триллер,криминал' 'фэнтези,семейный,мелодрама' 'военный,драма'\n",
      " 'документальный,приключения,семейный' 'криминал,комедия,драма'\n",
      " 'комедия,фантастика' 'история,биография,драма' 'мелодрама,драма,музыка'\n",
      " 'боевик,мелодрама' 'комедия,криминал,триллер' 'детектив,триллер,боевик'\n",
      " 'комедия,боевик,криминал' 'комедия,вестерн' 'детский,мелодрама,семейный'\n",
      " 'короткометражка,мультфильм' 'комедия,фэнтези' 'фантастика,драма,ужасы'\n",
      " 'триллер,драма,ужасы' 'драма,фэнтези,история'\n",
      " 'комедия,драма,короткометражка' 'фэнтези,триллер,приключения' 'семейный'\n",
      " 'комедия,криминал,драма' 'комедия,фэнтези,ужасы'\n",
      " 'короткометражка,комедия,криминал' 'фантастика' 'триллер,ужасы,драма'\n",
      " 'мелодрама,драма,фэнтези' 'фантастика,приключения,драма'\n",
      " 'боевик,детектив' 'военный,драма,боевик' 'комедия,мелодрама,фэнтези'\n",
      " 'вестерн,криминал,триллер' 'драма,история,триллер'\n",
      " 'мультфильм,фантастика,боевик' 'детектив,драма,криминал'\n",
      " 'приключения,история,драма' 'мультфильм,семейный,детский'\n",
      " 'биография,драма,история' 'триллер,криминал,боевик' 'история,мелодрама'\n",
      " 'приключения,детский' 'музыка,приключения,концерт'\n",
      " 'военный,драма,комедия' 'фэнтези,боевик,военный'\n",
      " 'фантастика,детектив,боевик' 'мультфильм,фэнтези,история'\n",
      " 'биография,мелодрама,драма' 'документальный,биография,спорт'\n",
      " 'фантастика,комедия,детектив' 'музыка,концерт,документальный'\n",
      " 'триллер,боевик,приключения' 'триллер,драма,комедия' 'детектив,криминал'\n",
      " 'мультфильм,приключения,фэнтези' 'мелодрама,приключения' 'комедия,музыка'\n",
      " 'мелодрама,комедия,ужасы' 'драма,криминал,приключения'\n",
      " 'приключения,детектив,мелодрама' 'драма,криминал,фантастика'\n",
      " 'фэнтези,драма,биография' 'детектив,фантастика,криминал'\n",
      " 'триллер,драма,фантастика' 'ужасы,комедия,боевик' 'мелодрама,история'\n",
      " 'триллер,боевик' 'фильм-нуар,триллер,детектив'\n",
      " 'комедия,криминал,приключения' 'ужасы,триллер,мелодрама'\n",
      " 'военный,драма,история' 'драма,спорт,история'\n",
      " 'документальный,драма,история' 'триллер,мелодрама,детектив'\n",
      " 'детский,семейный' 'мюзикл,семейный,драма' 'биография,военный,драма'\n",
      " 'мультфильм,детский' 'боевик,криминал,драма' 'детектив,фэнтези,триллер'\n",
      " 'драма,боевик,приключения' 'драма,мелодрама,фэнтези'\n",
      " 'детектив,история,драма' 'фэнтези,боевик,ужасы' 'ужасы,фэнтези,мелодрама'\n",
      " 'ужасы,приключения' 'боевик,фантастика' 'ужасы,мелодрама,детектив'\n",
      " 'фантастика,триллер,приключения' 'боевик,приключения,история'\n",
      " 'приключения,боевик,триллер' 'детектив,ужасы,криминал' 'семейный,фэнтези'\n",
      " 'мюзикл,мелодрама' 'драма,военный,приключения'\n",
      " 'фантастика,драма,приключения' 'приключения,семейный,драма'\n",
      " 'история,драма,боевик' 'мультфильм,приключения,комедия'\n",
      " 'криминал,драма,комедия' 'ужасы,комедия,драма'\n",
      " 'комедия,семейный,приключения' 'мюзикл,фэнтези,драма'\n",
      " 'драма,вестерн,боевик' 'фантастика,триллер,детектив'\n",
      " 'драма,история,детектив' 'короткометражка,биография'\n",
      " 'мультфильм,приключения,фантастика' 'комедия,триллер'\n",
      " 'мультфильм,приключения,детектив' 'драма,триллер'\n",
      " 'ужасы,триллер,криминал' 'документальный,криминал,военный'\n",
      " 'ужасы,фэнтези,драма' 'фэнтези,комедия' 'ужасы,фэнтези,комедия'\n",
      " 'комедия,музыка,драма' 'мультфильм,приключения,военный'\n",
      " 'мюзикл,фэнтези,комедия' 'боевик,фантастика,приключения'\n",
      " 'триллер,ужасы,криминал' 'ужасы,фантастика,драма'\n",
      " 'фантастика,приключения,семейный' 'короткометражка,музыка'\n",
      " 'мелодрама,детектив,комедия' 'документальный,триллер,биография'\n",
      " 'боевик,фантастика,триллер' 'спорт,драма,комедия'\n",
      " 'фэнтези,мелодрама,приключения' 'триллер,детектив,криминал'\n",
      " 'короткометражка,мелодрама' 'мультфильм,семейный,спорт'\n",
      " 'комедия,фэнтези,мелодрама' 'драма,спорт,комедия'\n",
      " 'история,драма,мелодрама' 'драма,боевик,криминал' 'драма,комедия,триллер'\n",
      " 'аниме,мультфильм' 'документальный,ужасы' 'мультфильм,короткометражка'\n",
      " 'драма,история,военный' 'мультфильм,короткометражка,фэнтези'\n",
      " 'комедия,военный,музыка' 'биография,история,драма'\n",
      " 'ужасы,драма,мелодрама' 'драма,комедия,детектив'\n",
      " 'комедия,семейный,фантастика' 'мультфильм,семейный,комедия'\n",
      " 'история,детектив' 'приключения,мелодрама,детектив'\n",
      " 'мюзикл,комедия,мелодрама' 'драма,фантастика,ужасы'\n",
      " 'мультфильм,ужасы,комедия' 'для взрослых,драма,комедия'\n",
      " 'ужасы,комедия,музыка' 'комедия,история,драма'\n",
      " 'семейный,детектив,детский' 'короткометражка,драма'\n",
      " 'документальный,новости,драма' 'триллер,мелодрама' 'ужасы,драма,вестерн'\n",
      " 'мюзикл,фэнтези,семейный' 'вестерн,драма,триллер'\n",
      " 'приключения,вестерн,боевик' 'семейный,комедия,музыка'\n",
      " 'боевик,драма,вестерн' 'ужасы,драма,триллер' 'фантастика,мелодрама'\n",
      " 'комедия,криминал,биография' 'семейный,мультфильм,комедия'\n",
      " 'комедия,драма,криминал' 'фантастика,боевик,военный'\n",
      " 'приключения,биография,драма' 'приключения,триллер,биография'\n",
      " 'криминал,боевик,триллер' 'боевик,вестерн,приключения' 'история,драма'\n",
      " 'фантастика,фэнтези,комедия' 'мультфильм,детский,комедия'\n",
      " 'мелодрама,комедия,триллер' 'документальный,боевик,приключения'\n",
      " 'драма,приключения' 'мелодрама,военный,драма' 'триллер,фэнтези'\n",
      " 'драма,триллер,биография' 'фэнтези,боевик,семейный'\n",
      " 'фантастика,триллер,комедия' 'документальный,фэнтези'\n",
      " 'комедия,мультфильм,фантастика' 'криминал,биография,комедия'\n",
      " 'биография,спорт,драма' 'приключения,военный' 'мультфильм,семейный,драма'\n",
      " 'документальный,фэнтези,драма' 'комедия,боевик,фантастика'\n",
      " 'семейный,приключения,военный' 'триллер,ужасы,детектив' 'короткометражка'\n",
      " 'мелодрама,триллер,история' 'документальный,история'\n",
      " 'мультфильм,приключения,детский' 'драма,комедия,мультфильм'\n",
      " 'военный,детектив' 'семейный,приключения,документальный'\n",
      " 'детский,фэнтези' 'документальный,комедия' 'комедия,биография'\n",
      " 'криминал,комедия' 'спорт,мелодрама,криминал' 'фантастика,комедия,боевик'\n",
      " 'боевик,приключения,детектив' 'детектив,триллер,драма'\n",
      " 'документальный,фантастика' 'мелодрама,комедия,семейный'\n",
      " 'мультфильм,мелодрама,комедия' 'драма,спорт,семейный'\n",
      " 'фантастика,мелодрама,фэнтези' 'мюзикл,комедия,музыка'\n",
      " 'фантастика,триллер,мелодрама' 'приключения,комедия,фэнтези'\n",
      " 'фэнтези,боевик,детектив' 'фэнтези,боевик,мелодрама' 'комедия,военный'\n",
      " 'драма,спорт,боевик' 'мультфильм,боевик,триллер' 'мелодрама,семейный'\n",
      " 'фантастика,боевик,детектив' 'драма,приключения,история'\n",
      " 'документальный,драма,музыка' 'фантастика,триллер,боевик'\n",
      " 'фэнтези,боевик,вестерн' 'драма,комедия,мелодрама'\n",
      " 'ужасы,фэнтези,приключения' 'триллер,фэнтези,драма'\n",
      " 'мультфильм,мюзикл,мелодрама' 'ужасы,триллер,фантастика'\n",
      " 'триллер,мелодрама,комедия' 'ужасы,комедия,семейный'\n",
      " 'комедия,приключения,музыка' 'документальный,комедия,криминал'\n",
      " 'мелодрама,детектив' 'детский,приключения,фантастика'\n",
      " 'короткометражка,боевик,драма' 'боевик,комедия,семейный'\n",
      " 'фантастика,боевик,мелодрама' 'фэнтези,триллер,мелодрама'\n",
      " 'драма,детектив,история' 'боевик,криминал,детектив'\n",
      " 'мультфильм,фэнтези,мелодрама' 'мелодрама,драма,боевик'\n",
      " 'драма,вестерн,приключения' 'драма,приключения,мелодрама'\n",
      " 'фэнтези,боевик,криминал' 'фантастика,комедия,семейный'\n",
      " 'детский,фэнтези,приключения' 'ужасы,боевик'\n",
      " 'фантастика,мелодрама,комедия' 'семейный,спорт,боевик'\n",
      " 'триллер,биография,драма' 'ужасы,драма,комедия'\n",
      " 'мультфильм,фэнтези,триллер' 'мюзикл' 'боевик,спорт,драма'\n",
      " 'комедия,приключения,вестерн' 'документальный,ужасы,боевик'\n",
      " 'фантастика,боевик,семейный' 'военный,история' 'ужасы,боевик,криминал'\n",
      " 'детектив,триллер' 'драма,семейный,комедия' 'драма,детектив,приключения'\n",
      " 'драма,криминал,история' 'приключения,триллер' 'боевик,драма,биография'\n",
      " 'драма,приключения,триллер' 'комедия,фэнтези,приключения'\n",
      " 'фантастика,боевик,ужасы' 'драма,комедия,фантастика'\n",
      " 'детектив,криминал,драма' 'боевик,триллер,фэнтези'\n",
      " 'приключения,детектив,семейный' 'ужасы,комедия,криминал'\n",
      " 'мультфильм,биография,драма' 'история,боевик,фэнтези'\n",
      " 'детектив,криминал,боевик' 'приключения,фэнтези'\n",
      " 'комедия,приключения,спорт' 'драма,биография,мюзикл'\n",
      " 'комедия,семейный,фэнтези' 'детектив,драма,триллер'\n",
      " 'боевик,приключения,семейный' 'биография,спорт,комедия'\n",
      " 'фантастика,приключения,военный' 'документальный,драма,биография'\n",
      " 'детектив,приключения,драма' 'аниме,мультфильм,приключения'\n",
      " 'семейный,приключения' 'ужасы,фэнтези,детектив' 'семейный,документальный'\n",
      " 'драма,приключения,семейный' 'приключения,история,военный'\n",
      " 'фэнтези,мелодрама' 'фэнтези,триллер,детектив'\n",
      " 'документальный,спорт,биография' 'комедия,триллер,драма' 'драма,ужасы'\n",
      " 'биография,музыка,драма' 'фэнтези,ужасы' 'детектив,мелодрама,фэнтези'\n",
      " 'боевик,военный,история' 'биография,драма,криминал'\n",
      " 'триллер,мелодрама,криминал' 'семейный,мелодрама' 'биография,драма'\n",
      " 'военный,история,драма' 'фантастика,детектив,фэнтези'\n",
      " 'детектив,приключения,триллер' 'фантастика,приключения'\n",
      " 'мультфильм,короткометражка,мюзикл' 'мультфильм,детский,семейный'\n",
      " 'документальный,драма,комедия' 'комедия,приключения,криминал'\n",
      " 'документальный,семейный,музыка' 'мелодрама,музыка,драма'\n",
      " 'детектив,фантастика,триллер' 'драма,мелодрама,триллер'\n",
      " 'биография,драма,военный' 'приключения,фантастика,драма'\n",
      " 'детектив,фильм-нуар,комедия' 'документальный,спорт'\n",
      " 'триллер,фантастика,драма' 'биография,документальный'\n",
      " 'ужасы,фантастика,мелодрама' 'детектив,комедия'\n",
      " 'история,биография,военный' 'криминал,мелодрама' 'драма,криминал,вестерн'\n",
      " 'мелодрама,семейный,приключения' 'триллер,ужасы,мелодрама'\n",
      " 'фэнтези,драма,фильм-нуар' 'детектив,мелодрама' 'комедия,драма,биография'\n",
      " 'драма,военный,боевик' 'драма,комедия,ужасы' 'фантастика,драма,криминал'\n",
      " 'документальный,музыка,биография' 'мультфильм,боевик,приключения'\n",
      " 'короткометражка,фантастика' 'мультфильм,мелодрама,драма'\n",
      " 'боевик,военный,драма' 'фэнтези,семейный,приключения'\n",
      " 'детский,мультфильм,приключения' 'семейный,фэнтези,комедия'\n",
      " 'фэнтези,ужасы,триллер' 'ужасы,триллер,приключения'\n",
      " 'драма,боевик,история' 'фэнтези,комедия,детектив' 'история,приключения'\n",
      " 'аниме,мультфильм,короткометражка' 'драма,военный,триллер'\n",
      " 'биография,криминал,триллер' 'фантастика,фэнтези,детектив'\n",
      " 'вестерн,биография,драма' 'биография,музыка,мюзикл'\n",
      " 'драма,история,биография' 'приключения,драма,фантастика'\n",
      " 'комедия,фэнтези,криминал' 'биография,спорт,история'\n",
      " 'драма,криминал,семейный' 'детектив,боевик,история'\n",
      " 'ужасы,комедия,детектив' 'триллер,приключения,драма'\n",
      " 'фэнтези,комедия,криминал' 'триллер,криминал,приключения'\n",
      " 'комедия,детектив,приключения' 'фэнтези,драма,ужасы'\n",
      " 'ужасы,драма,военный' 'реальное ТВ' 'аниме,мультфильм,детектив'\n",
      " 'приключения,фэнтези,семейный' 'драма,биография,комедия'\n",
      " 'триллер,комедия,ужасы' 'музыка,мелодрама,фэнтези' 'мультфильм,история'\n",
      " 'мультфильм,комедия,фантастика' 'биография,криминал,драма'\n",
      " 'комедия,мелодрама,фантастика' 'криминал,боевик,комедия'\n",
      " 'история,криминал' 'детектив,комедия,драма' 'триллер,фантастика,боевик'\n",
      " 'криминал,боевик' 'комедия,драма,военный' 'драма,триллер,криминал'\n",
      " 'мультфильм,мелодрама,приключения' 'фантастика,фэнтези,триллер'\n",
      " 'короткометражка,драма,триллер' 'военный,боевик,история'\n",
      " 'боевик,драма,триллер' 'документальный,военный,драма'\n",
      " 'драма,криминал,фильм-нуар' 'мультфильм,детский,приключения'\n",
      " 'мелодрама,история,драма'] \n",
      "\n",
      "BOX_OFFICE \n",
      " [           nan 2.70000000e+03 3.60000000e+02 ... 3.14379050e+06\n",
      " 1.80017724e+07 2.19569000e+05] \n",
      "\n"
     ]
    }
   ],
   "source": [
    "columns = data.columns\n",
    "for c in columns:\n",
    "    print(c.upper(), '\\n', data[c].unique(), '\\n')"
   ]
  },
  {
   "cell_type": "markdown",
   "metadata": {},
   "source": [
    "В столбце `type` обнаружены дубликаты. Исправим:"
   ]
  },
  {
   "cell_type": "code",
   "execution_count": 24,
   "metadata": {},
   "outputs": [],
   "source": [
    "data['type'] = data['type'].str.strip()"
   ]
  },
  {
   "cell_type": "code",
   "execution_count": 25,
   "metadata": {},
   "outputs": [
    {
     "data": {
      "text/plain": [
       "array(['Художественный', 'Анимационный', 'Прочие', 'Документальный',\n",
       "       'Научно-популярный', 'Музыкально-развлекательный'], dtype=object)"
      ]
     },
     "execution_count": 25,
     "metadata": {},
     "output_type": "execute_result"
    }
   ],
   "source": [
    "data['type'].unique()"
   ]
  },
  {
   "cell_type": "markdown",
   "metadata": {},
   "source": [
    "В категориальных столбцах заметили, что через запятую перечислено много значений, это может затруднить исследовательскую работу.  Нужно преобразовать эти столбцы."
   ]
  },
  {
   "cell_type": "markdown",
   "metadata": {},
   "source": [
    "Других проблем пока не выявлено. Проверим, есть ли в данных явные дубликаты:"
   ]
  },
  {
   "cell_type": "code",
   "execution_count": 26,
   "metadata": {},
   "outputs": [
    {
     "data": {
      "text/plain": [
       "0"
      ]
     },
     "execution_count": 26,
     "metadata": {},
     "output_type": "execute_result"
    }
   ],
   "source": [
    "data.duplicated().sum() "
   ]
  },
  {
   "cell_type": "code",
   "execution_count": 27,
   "metadata": {},
   "outputs": [],
   "source": [
    "data = data.sort_values(\n",
    "    by = 'box_office',\n",
    "    ascending = False\n",
    "    ).drop_duplicates(\n",
    "    subset=['title'])"
   ]
  },
  {
   "cell_type": "code",
   "execution_count": 28,
   "metadata": {},
   "outputs": [
    {
     "data": {
      "text/plain": [
       "0"
      ]
     },
     "execution_count": 28,
     "metadata": {},
     "output_type": "execute_result"
    }
   ],
   "source": [
    "data['title'].duplicated().sum()"
   ]
  },
  {
   "cell_type": "code",
   "execution_count": 29,
   "metadata": {},
   "outputs": [
    {
     "data": {
      "text/plain": [
       "0"
      ]
     },
     "execution_count": 29,
     "metadata": {},
     "output_type": "execute_result"
    }
   ],
   "source": [
    "data['puNumber'].duplicated().sum()"
   ]
  },
  {
   "cell_type": "markdown",
   "metadata": {},
   "source": [
    "### Обработка аномальных значений <a id=\"23\"></a>"
   ]
  },
  {
   "cell_type": "markdown",
   "metadata": {},
   "source": [
    "Проверим количественные столбцы на наличие аномальных значений."
   ]
  },
  {
   "cell_type": "markdown",
   "metadata": {},
   "source": [
    "Столбец `budget` уже включает в себя полный объём государственной поддержки. Стоит проверить нет ли таких фильмов, для которых бюджет оказался меньше суммарной поддержки."
   ]
  },
  {
   "cell_type": "code",
   "execution_count": 30,
   "metadata": {},
   "outputs": [],
   "source": [
    "data['sum'] = data['refundable_support']+data['nonrefundable_support']"
   ]
  },
  {
   "cell_type": "code",
   "execution_count": 31,
   "metadata": {},
   "outputs": [
    {
     "data": {
      "text/html": [
       "<div>\n",
       "<style scoped>\n",
       "    .dataframe tbody tr th:only-of-type {\n",
       "        vertical-align: middle;\n",
       "    }\n",
       "\n",
       "    .dataframe tbody tr th {\n",
       "        vertical-align: top;\n",
       "    }\n",
       "\n",
       "    .dataframe thead th {\n",
       "        text-align: right;\n",
       "    }\n",
       "</style>\n",
       "<table border=\"1\" class=\"dataframe\">\n",
       "  <thead>\n",
       "    <tr style=\"text-align: right;\">\n",
       "      <th></th>\n",
       "      <th>title</th>\n",
       "      <th>puNumber</th>\n",
       "      <th>show_start_date</th>\n",
       "      <th>type</th>\n",
       "      <th>film_studio</th>\n",
       "      <th>production_country</th>\n",
       "      <th>director</th>\n",
       "      <th>producer</th>\n",
       "      <th>age_restriction</th>\n",
       "      <th>refundable_support</th>\n",
       "      <th>nonrefundable_support</th>\n",
       "      <th>budget</th>\n",
       "      <th>financing_source</th>\n",
       "      <th>ratings</th>\n",
       "      <th>genres</th>\n",
       "      <th>box_office</th>\n",
       "      <th>sum</th>\n",
       "    </tr>\n",
       "  </thead>\n",
       "  <tbody>\n",
       "    <tr>\n",
       "      <th>3565</th>\n",
       "      <td>Притяжение (2016)</td>\n",
       "      <td>111018116</td>\n",
       "      <td>2016-12-16 12:00:00+00:00</td>\n",
       "      <td>Художественный</td>\n",
       "      <td>ООО \"Водород 2011\",  ООО \"Арт Пикчерс Студия\"</td>\n",
       "      <td>Россия</td>\n",
       "      <td>Ф.Бондарчук</td>\n",
       "      <td>ООО \"Арт Пикчерс Студия\"</td>\n",
       "      <td>«12+» - для детей старше 12 лет</td>\n",
       "      <td>0.0</td>\n",
       "      <td>250000000.0</td>\n",
       "      <td>0.0</td>\n",
       "      <td>Фонд кино</td>\n",
       "      <td>5.6</td>\n",
       "      <td>фантастика</td>\n",
       "      <td>1.038321e+09</td>\n",
       "      <td>250000000.0</td>\n",
       "    </tr>\n",
       "    <tr>\n",
       "      <th>2058</th>\n",
       "      <td>Дуxless 2</td>\n",
       "      <td>111000415</td>\n",
       "      <td>2015-01-26 12:00:00+00:00</td>\n",
       "      <td>Художественный</td>\n",
       "      <td>ООО \"Киностудия \"Слово\", ООО \"Арт Пикчерс Студия\"</td>\n",
       "      <td>Россия</td>\n",
       "      <td>Р.Прыгунов</td>\n",
       "      <td>П.Ануров, Ф.Бондарчук, Д.Рудовский</td>\n",
       "      <td>«16+» - для детей старше 16 лет</td>\n",
       "      <td>0.0</td>\n",
       "      <td>75000000.0</td>\n",
       "      <td>0.0</td>\n",
       "      <td>Фонд кино</td>\n",
       "      <td>6.6</td>\n",
       "      <td>драма</td>\n",
       "      <td>4.461635e+08</td>\n",
       "      <td>75000000.0</td>\n",
       "    </tr>\n",
       "    <tr>\n",
       "      <th>5673</th>\n",
       "      <td>Селфи</td>\n",
       "      <td>111012117</td>\n",
       "      <td>2018-02-01 12:00:00+00:00</td>\n",
       "      <td>Художественный</td>\n",
       "      <td>ООО \"Киностудия \"Слово\", ООО \"Арт Пикчерс Студия\"</td>\n",
       "      <td>Россия</td>\n",
       "      <td>Н.Хомерики</td>\n",
       "      <td>П.Ануров, Ф.Бондарчук, Д.Рудовский</td>\n",
       "      <td>«16+» - для детей старше 16 лет</td>\n",
       "      <td>20000000.0</td>\n",
       "      <td>40000000.0</td>\n",
       "      <td>0.0</td>\n",
       "      <td>Фонд кино</td>\n",
       "      <td>5.8</td>\n",
       "      <td>триллер,драма</td>\n",
       "      <td>2.251964e+08</td>\n",
       "      <td>60000000.0</td>\n",
       "    </tr>\n",
       "    <tr>\n",
       "      <th>2472</th>\n",
       "      <td>Воин (2015)</td>\n",
       "      <td>111017315</td>\n",
       "      <td>2015-09-28 12:00:00+00:00</td>\n",
       "      <td>Художественный</td>\n",
       "      <td>ООО \"Форпост Продакшн\", ООО \"Арт Пикчерс Студия\"</td>\n",
       "      <td>Россия</td>\n",
       "      <td>А.Андрианов</td>\n",
       "      <td>ООО \"Арт Пикчерс Студия\"</td>\n",
       "      <td>«12+» - для детей старше 12 лет</td>\n",
       "      <td>10000000.0</td>\n",
       "      <td>70000000.0</td>\n",
       "      <td>0.0</td>\n",
       "      <td>Фонд кино</td>\n",
       "      <td>7.8</td>\n",
       "      <td>боевик,драма,криминал</td>\n",
       "      <td>1.965724e+08</td>\n",
       "      <td>80000000.0</td>\n",
       "    </tr>\n",
       "    <tr>\n",
       "      <th>2615</th>\n",
       "      <td>Савва. Сердце воина</td>\n",
       "      <td>114001715</td>\n",
       "      <td>2015-07-21 12:00:00+00:00</td>\n",
       "      <td>Анимационный</td>\n",
       "      <td>ООО \"Глюкоза Продакшн\", ООО \"Арт Пикчерс Студия\"</td>\n",
       "      <td>Россия</td>\n",
       "      <td>М.Фадеев</td>\n",
       "      <td>А.Чистяков</td>\n",
       "      <td>«6+» - для детей старше 6 лет</td>\n",
       "      <td>60000000.0</td>\n",
       "      <td>100000000.0</td>\n",
       "      <td>0.0</td>\n",
       "      <td>Фонд кино</td>\n",
       "      <td>4.6</td>\n",
       "      <td>мультфильм,приключения,фэнтези</td>\n",
       "      <td>1.844876e+08</td>\n",
       "      <td>160000000.0</td>\n",
       "    </tr>\n",
       "    <tr>\n",
       "      <th>6823</th>\n",
       "      <td>Большое путешествие</td>\n",
       "      <td>114002419</td>\n",
       "      <td>2019-04-20 12:00:00+00:00</td>\n",
       "      <td>Анимационный</td>\n",
       "      <td>ООО \"ЛИЦЕНЗИОННЫЕ БРЕНДЫ\"</td>\n",
       "      <td>Россия</td>\n",
       "      <td>Н.Лопато, В.Ровенский</td>\n",
       "      <td>ООО \"ЛИЦЕНЗИОННЫЕ БРЕНДЫ\"</td>\n",
       "      <td>«6+» - для детей старше 6 лет</td>\n",
       "      <td>60000000.0</td>\n",
       "      <td>120000000.0</td>\n",
       "      <td>0.0</td>\n",
       "      <td>Фонд кино</td>\n",
       "      <td>6.2</td>\n",
       "      <td>мультфильм,комедия,приключения</td>\n",
       "      <td>1.476068e+08</td>\n",
       "      <td>180000000.0</td>\n",
       "    </tr>\n",
       "    <tr>\n",
       "      <th>5806</th>\n",
       "      <td>Два хвоста</td>\n",
       "      <td>114001018</td>\n",
       "      <td>2018-05-31 12:00:00+00:00</td>\n",
       "      <td>Анимационный</td>\n",
       "      <td>ООО \"ЛИЦЕНЗИОННЫЕ БРЕНДЫ\"</td>\n",
       "      <td>Россия</td>\n",
       "      <td>В.Ровенский, Н.Лопато, В.Азеев</td>\n",
       "      <td>ООО \"ЛИЦЕНЗИОННЫЕ БРЕНДЫ\"</td>\n",
       "      <td>«6+» - для детей старше 6 лет</td>\n",
       "      <td>10000000.0</td>\n",
       "      <td>60000000.0</td>\n",
       "      <td>0.0</td>\n",
       "      <td>Фонд кино</td>\n",
       "      <td>5.0</td>\n",
       "      <td>мультфильм,детский</td>\n",
       "      <td>1.065143e+08</td>\n",
       "      <td>70000000.0</td>\n",
       "    </tr>\n",
       "    <tr>\n",
       "      <th>6008</th>\n",
       "      <td>Принцесса и дракон</td>\n",
       "      <td>114003018</td>\n",
       "      <td>2018-08-23 12:00:00+00:00</td>\n",
       "      <td>Анимационный</td>\n",
       "      <td>ООО \"ЛИЦЕНЗИОННЫЕ БРЕНДЫ\"</td>\n",
       "      <td>Россия</td>\n",
       "      <td>М.Нефедова</td>\n",
       "      <td>ООО \"ЛИЦЕНЗИОННЫЕ БРЕНДЫ\"</td>\n",
       "      <td>«6+» - для детей старше 6 лет</td>\n",
       "      <td>40000000.0</td>\n",
       "      <td>40000000.0</td>\n",
       "      <td>0.0</td>\n",
       "      <td>Фонд кино</td>\n",
       "      <td>5.2</td>\n",
       "      <td>мультфильм,фэнтези,детский</td>\n",
       "      <td>8.336633e+07</td>\n",
       "      <td>80000000.0</td>\n",
       "    </tr>\n",
       "    <tr>\n",
       "      <th>2788</th>\n",
       "      <td>Срочно выйду замуж</td>\n",
       "      <td>111017115</td>\n",
       "      <td>2015-09-30 12:00:00+00:00</td>\n",
       "      <td>Художественный</td>\n",
       "      <td>АО \"ВайТ Медиа\", ООО \"Арт Пикчерс Студия\"</td>\n",
       "      <td>Россия</td>\n",
       "      <td>С Чекалов</td>\n",
       "      <td>Ф.Бондарчук, Т.Вайнштейн, Д.Рудовский</td>\n",
       "      <td>«16+» - для детей старше 16 лет</td>\n",
       "      <td>0.0</td>\n",
       "      <td>35000000.0</td>\n",
       "      <td>0.0</td>\n",
       "      <td>Фонд кино</td>\n",
       "      <td>5.1</td>\n",
       "      <td>комедия,мелодрама</td>\n",
       "      <td>7.293778e+07</td>\n",
       "      <td>35000000.0</td>\n",
       "    </tr>\n",
       "    <tr>\n",
       "      <th>3047</th>\n",
       "      <td>Любовь с ограничениями</td>\n",
       "      <td>111008216</td>\n",
       "      <td>2016-04-29 12:00:00+00:00</td>\n",
       "      <td>Художественный</td>\n",
       "      <td>АО \"ВайТ Медиа\", ООО \"Арт Пикчерс Студия\"</td>\n",
       "      <td>Россия</td>\n",
       "      <td>Д.Тюрин</td>\n",
       "      <td>Ф.Бондарчук, Т.Вайнштейн, Д.Рудовский</td>\n",
       "      <td>«16+» - для детей старше 16 лет</td>\n",
       "      <td>19000000.0</td>\n",
       "      <td>51000000.0</td>\n",
       "      <td>0.0</td>\n",
       "      <td>Фонд кино</td>\n",
       "      <td>6.3</td>\n",
       "      <td>комедия,мелодрама</td>\n",
       "      <td>7.029905e+07</td>\n",
       "      <td>70000000.0</td>\n",
       "    </tr>\n",
       "    <tr>\n",
       "      <th>2532</th>\n",
       "      <td>Бармен.</td>\n",
       "      <td>111009615</td>\n",
       "      <td>2015-05-26 12:00:00+00:00</td>\n",
       "      <td>Художественный</td>\n",
       "      <td>АО \"ВайТ Медиа\", ООО \"Арт Пикчерс Студия\"</td>\n",
       "      <td>Россия</td>\n",
       "      <td>Д.Штурманова</td>\n",
       "      <td>Т.Вайнштейн</td>\n",
       "      <td>«16+» - для детей старше 16 лет</td>\n",
       "      <td>20000000.0</td>\n",
       "      <td>0.0</td>\n",
       "      <td>0.0</td>\n",
       "      <td>Фонд кино</td>\n",
       "      <td>6.2</td>\n",
       "      <td>комедия,фэнтези</td>\n",
       "      <td>6.741897e+07</td>\n",
       "      <td>20000000.0</td>\n",
       "    </tr>\n",
       "    <tr>\n",
       "      <th>3675</th>\n",
       "      <td>Чудо-юдо</td>\n",
       "      <td>114001817</td>\n",
       "      <td>2017-06-27 12:00:00+00:00</td>\n",
       "      <td>Анимационный</td>\n",
       "      <td>ООО \"КиноФирма\"</td>\n",
       "      <td>Россия</td>\n",
       "      <td>А.Лукичев</td>\n",
       "      <td>ООО \"КиноФирма\"</td>\n",
       "      <td>«6+» - для детей старше 6 лет</td>\n",
       "      <td>20000000.0</td>\n",
       "      <td>20000000.0</td>\n",
       "      <td>0.0</td>\n",
       "      <td>Фонд кино</td>\n",
       "      <td>5.2</td>\n",
       "      <td>мультфильм,фэнтези,семейный</td>\n",
       "      <td>5.510801e+07</td>\n",
       "      <td>40000000.0</td>\n",
       "    </tr>\n",
       "    <tr>\n",
       "      <th>3739</th>\n",
       "      <td>Мифы</td>\n",
       "      <td>111004317</td>\n",
       "      <td>2017-06-07 12:00:00+00:00</td>\n",
       "      <td>Художественный</td>\n",
       "      <td>ООО \"ХАЙПФИЛМ\", ООО \"Арт Пикчерс Студия\"</td>\n",
       "      <td>Россия</td>\n",
       "      <td>А.Молочников</td>\n",
       "      <td>Ф.Бондарчук, Д.Рудовский, И.Стюарт, М.Османн, ...</td>\n",
       "      <td>«16+» - для детей старше 16 лет</td>\n",
       "      <td>25000000.0</td>\n",
       "      <td>20000000.0</td>\n",
       "      <td>0.0</td>\n",
       "      <td>Фонд кино</td>\n",
       "      <td>4.8</td>\n",
       "      <td>комедия</td>\n",
       "      <td>5.045195e+07</td>\n",
       "      <td>45000000.0</td>\n",
       "    </tr>\n",
       "    <tr>\n",
       "      <th>2874</th>\n",
       "      <td>Помню - не помню!</td>\n",
       "      <td>111004916</td>\n",
       "      <td>2016-03-01 12:00:00+00:00</td>\n",
       "      <td>Художественный</td>\n",
       "      <td>ООО \"КиноФирма\"</td>\n",
       "      <td>Россия</td>\n",
       "      <td>В.Ровенский</td>\n",
       "      <td>ООО \"КиноФирма\"</td>\n",
       "      <td>«12+» - для детей старше 12 лет</td>\n",
       "      <td>0.0</td>\n",
       "      <td>6000000.0</td>\n",
       "      <td>0.0</td>\n",
       "      <td>Министерство культуры</td>\n",
       "      <td>4.3</td>\n",
       "      <td>комедия</td>\n",
       "      <td>1.536293e+07</td>\n",
       "      <td>6000000.0</td>\n",
       "    </tr>\n",
       "    <tr>\n",
       "      <th>2053</th>\n",
       "      <td>14+</td>\n",
       "      <td>111023614</td>\n",
       "      <td>2014-12-19 12:00:00+00:00</td>\n",
       "      <td>Художественный</td>\n",
       "      <td>ООО Киностудия  \"Сентябрь\"</td>\n",
       "      <td>Россия</td>\n",
       "      <td>А.Зайцев</td>\n",
       "      <td>О.Гранина, А.Зайцев</td>\n",
       "      <td>«16+» - для детей старше 16 лет</td>\n",
       "      <td>0.0</td>\n",
       "      <td>23000000.0</td>\n",
       "      <td>0.0</td>\n",
       "      <td>Министерство культуры, Фонд кино</td>\n",
       "      <td>6.6</td>\n",
       "      <td>мелодрама</td>\n",
       "      <td>1.023402e+07</td>\n",
       "      <td>23000000.0</td>\n",
       "    </tr>\n",
       "    <tr>\n",
       "      <th>2684</th>\n",
       "      <td>Тряпичный союз</td>\n",
       "      <td>111010215</td>\n",
       "      <td>2015-06-08 12:00:00+00:00</td>\n",
       "      <td>Художественный</td>\n",
       "      <td>ООО \"Кинокомпания \"КОКТЕБЕЛЬ\"</td>\n",
       "      <td>Россия</td>\n",
       "      <td>М.Местецкий</td>\n",
       "      <td>Р.Борисевич, А.Кушаев</td>\n",
       "      <td>«18+» - запрещено для детей</td>\n",
       "      <td>0.0</td>\n",
       "      <td>59000000.0</td>\n",
       "      <td>0.0</td>\n",
       "      <td>Фонд кино</td>\n",
       "      <td>6.3</td>\n",
       "      <td>комедия,драма</td>\n",
       "      <td>1.957739e+06</td>\n",
       "      <td>59000000.0</td>\n",
       "    </tr>\n",
       "    <tr>\n",
       "      <th>6323</th>\n",
       "      <td>Баба Яга</td>\n",
       "      <td>114006518</td>\n",
       "      <td>2018-11-08 12:00:00+00:00</td>\n",
       "      <td>Анимационный</td>\n",
       "      <td>ООО \"Арт Пикчерс Студия\"</td>\n",
       "      <td>Россия</td>\n",
       "      <td>В.Саков</td>\n",
       "      <td>ООО \"Арт Пикчерс Студия\", ООО \"КРИЭЙТИВ АНИМЭЙ...</td>\n",
       "      <td>«6+» - для детей старше 6 лет</td>\n",
       "      <td>0.0</td>\n",
       "      <td>138969465.0</td>\n",
       "      <td>0.0</td>\n",
       "      <td>Фонд кино</td>\n",
       "      <td>unkn</td>\n",
       "      <td>unkn</td>\n",
       "      <td>1.334699e+06</td>\n",
       "      <td>138969465.0</td>\n",
       "    </tr>\n",
       "  </tbody>\n",
       "</table>\n",
       "</div>"
      ],
      "text/plain": [
       "                       title   puNumber           show_start_date  \\\n",
       "3565       Притяжение (2016)  111018116 2016-12-16 12:00:00+00:00   \n",
       "2058               Дуxless 2  111000415 2015-01-26 12:00:00+00:00   \n",
       "5673                   Селфи  111012117 2018-02-01 12:00:00+00:00   \n",
       "2472             Воин (2015)  111017315 2015-09-28 12:00:00+00:00   \n",
       "2615     Савва. Сердце воина  114001715 2015-07-21 12:00:00+00:00   \n",
       "6823     Большое путешествие  114002419 2019-04-20 12:00:00+00:00   \n",
       "5806              Два хвоста  114001018 2018-05-31 12:00:00+00:00   \n",
       "6008      Принцесса и дракон  114003018 2018-08-23 12:00:00+00:00   \n",
       "2788      Срочно выйду замуж  111017115 2015-09-30 12:00:00+00:00   \n",
       "3047  Любовь с ограничениями  111008216 2016-04-29 12:00:00+00:00   \n",
       "2532                 Бармен.  111009615 2015-05-26 12:00:00+00:00   \n",
       "3675                Чудо-юдо  114001817 2017-06-27 12:00:00+00:00   \n",
       "3739                    Мифы  111004317 2017-06-07 12:00:00+00:00   \n",
       "2874       Помню - не помню!  111004916 2016-03-01 12:00:00+00:00   \n",
       "2053                     14+  111023614 2014-12-19 12:00:00+00:00   \n",
       "2684          Тряпичный союз  111010215 2015-06-08 12:00:00+00:00   \n",
       "6323                Баба Яга  114006518 2018-11-08 12:00:00+00:00   \n",
       "\n",
       "                type                                        film_studio  \\\n",
       "3565  Художественный      ООО \"Водород 2011\",  ООО \"Арт Пикчерс Студия\"   \n",
       "2058  Художественный  ООО \"Киностудия \"Слово\", ООО \"Арт Пикчерс Студия\"   \n",
       "5673  Художественный  ООО \"Киностудия \"Слово\", ООО \"Арт Пикчерс Студия\"   \n",
       "2472  Художественный   ООО \"Форпост Продакшн\", ООО \"Арт Пикчерс Студия\"   \n",
       "2615    Анимационный   ООО \"Глюкоза Продакшн\", ООО \"Арт Пикчерс Студия\"   \n",
       "6823    Анимационный                          ООО \"ЛИЦЕНЗИОННЫЕ БРЕНДЫ\"   \n",
       "5806    Анимационный                          ООО \"ЛИЦЕНЗИОННЫЕ БРЕНДЫ\"   \n",
       "6008    Анимационный                          ООО \"ЛИЦЕНЗИОННЫЕ БРЕНДЫ\"   \n",
       "2788  Художественный          АО \"ВайТ Медиа\", ООО \"Арт Пикчерс Студия\"   \n",
       "3047  Художественный          АО \"ВайТ Медиа\", ООО \"Арт Пикчерс Студия\"   \n",
       "2532  Художественный          АО \"ВайТ Медиа\", ООО \"Арт Пикчерс Студия\"   \n",
       "3675    Анимационный                                    ООО \"КиноФирма\"   \n",
       "3739  Художественный           ООО \"ХАЙПФИЛМ\", ООО \"Арт Пикчерс Студия\"   \n",
       "2874  Художественный                                    ООО \"КиноФирма\"   \n",
       "2053  Художественный                         ООО Киностудия  \"Сентябрь\"   \n",
       "2684  Художественный                      ООО \"Кинокомпания \"КОКТЕБЕЛЬ\"   \n",
       "6323    Анимационный                           ООО \"Арт Пикчерс Студия\"   \n",
       "\n",
       "     production_country                        director  \\\n",
       "3565             Россия                     Ф.Бондарчук   \n",
       "2058             Россия                      Р.Прыгунов   \n",
       "5673             Россия                      Н.Хомерики   \n",
       "2472             Россия                     А.Андрианов   \n",
       "2615             Россия                        М.Фадеев   \n",
       "6823             Россия           Н.Лопато, В.Ровенский   \n",
       "5806             Россия  В.Ровенский, Н.Лопато, В.Азеев   \n",
       "6008             Россия                      М.Нефедова   \n",
       "2788             Россия                       С Чекалов   \n",
       "3047             Россия                         Д.Тюрин   \n",
       "2532             Россия                    Д.Штурманова   \n",
       "3675             Россия                       А.Лукичев   \n",
       "3739             Россия                    А.Молочников   \n",
       "2874             Россия                     В.Ровенский   \n",
       "2053             Россия                        А.Зайцев   \n",
       "2684             Россия                     М.Местецкий   \n",
       "6323             Россия                         В.Саков   \n",
       "\n",
       "                                               producer  \\\n",
       "3565                           ООО \"Арт Пикчерс Студия\"   \n",
       "2058                 П.Ануров, Ф.Бондарчук, Д.Рудовский   \n",
       "5673                 П.Ануров, Ф.Бондарчук, Д.Рудовский   \n",
       "2472                           ООО \"Арт Пикчерс Студия\"   \n",
       "2615                                         А.Чистяков   \n",
       "6823                          ООО \"ЛИЦЕНЗИОННЫЕ БРЕНДЫ\"   \n",
       "5806                          ООО \"ЛИЦЕНЗИОННЫЕ БРЕНДЫ\"   \n",
       "6008                          ООО \"ЛИЦЕНЗИОННЫЕ БРЕНДЫ\"   \n",
       "2788              Ф.Бондарчук, Т.Вайнштейн, Д.Рудовский   \n",
       "3047              Ф.Бондарчук, Т.Вайнштейн, Д.Рудовский   \n",
       "2532                                        Т.Вайнштейн   \n",
       "3675                                    ООО \"КиноФирма\"   \n",
       "3739  Ф.Бондарчук, Д.Рудовский, И.Стюарт, М.Османн, ...   \n",
       "2874                                    ООО \"КиноФирма\"   \n",
       "2053                                О.Гранина, А.Зайцев   \n",
       "2684                              Р.Борисевич, А.Кушаев   \n",
       "6323  ООО \"Арт Пикчерс Студия\", ООО \"КРИЭЙТИВ АНИМЭЙ...   \n",
       "\n",
       "                      age_restriction  refundable_support  \\\n",
       "3565  «12+» - для детей старше 12 лет                 0.0   \n",
       "2058  «16+» - для детей старше 16 лет                 0.0   \n",
       "5673  «16+» - для детей старше 16 лет          20000000.0   \n",
       "2472  «12+» - для детей старше 12 лет          10000000.0   \n",
       "2615    «6+» - для детей старше 6 лет          60000000.0   \n",
       "6823    «6+» - для детей старше 6 лет          60000000.0   \n",
       "5806    «6+» - для детей старше 6 лет          10000000.0   \n",
       "6008    «6+» - для детей старше 6 лет          40000000.0   \n",
       "2788  «16+» - для детей старше 16 лет                 0.0   \n",
       "3047  «16+» - для детей старше 16 лет          19000000.0   \n",
       "2532  «16+» - для детей старше 16 лет          20000000.0   \n",
       "3675    «6+» - для детей старше 6 лет          20000000.0   \n",
       "3739  «16+» - для детей старше 16 лет          25000000.0   \n",
       "2874  «12+» - для детей старше 12 лет                 0.0   \n",
       "2053  «16+» - для детей старше 16 лет                 0.0   \n",
       "2684      «18+» - запрещено для детей                 0.0   \n",
       "6323    «6+» - для детей старше 6 лет                 0.0   \n",
       "\n",
       "      nonrefundable_support  budget                  financing_source ratings  \\\n",
       "3565            250000000.0     0.0                         Фонд кино     5.6   \n",
       "2058             75000000.0     0.0                         Фонд кино     6.6   \n",
       "5673             40000000.0     0.0                         Фонд кино     5.8   \n",
       "2472             70000000.0     0.0                         Фонд кино     7.8   \n",
       "2615            100000000.0     0.0                         Фонд кино     4.6   \n",
       "6823            120000000.0     0.0                         Фонд кино     6.2   \n",
       "5806             60000000.0     0.0                         Фонд кино     5.0   \n",
       "6008             40000000.0     0.0                         Фонд кино     5.2   \n",
       "2788             35000000.0     0.0                         Фонд кино     5.1   \n",
       "3047             51000000.0     0.0                         Фонд кино     6.3   \n",
       "2532                    0.0     0.0                         Фонд кино     6.2   \n",
       "3675             20000000.0     0.0                         Фонд кино     5.2   \n",
       "3739             20000000.0     0.0                         Фонд кино     4.8   \n",
       "2874              6000000.0     0.0             Министерство культуры     4.3   \n",
       "2053             23000000.0     0.0  Министерство культуры, Фонд кино     6.6   \n",
       "2684             59000000.0     0.0                         Фонд кино     6.3   \n",
       "6323            138969465.0     0.0                         Фонд кино    unkn   \n",
       "\n",
       "                              genres    box_office          sum  \n",
       "3565                      фантастика  1.038321e+09  250000000.0  \n",
       "2058                           драма  4.461635e+08   75000000.0  \n",
       "5673                   триллер,драма  2.251964e+08   60000000.0  \n",
       "2472           боевик,драма,криминал  1.965724e+08   80000000.0  \n",
       "2615  мультфильм,приключения,фэнтези  1.844876e+08  160000000.0  \n",
       "6823  мультфильм,комедия,приключения  1.476068e+08  180000000.0  \n",
       "5806              мультфильм,детский  1.065143e+08   70000000.0  \n",
       "6008      мультфильм,фэнтези,детский  8.336633e+07   80000000.0  \n",
       "2788               комедия,мелодрама  7.293778e+07   35000000.0  \n",
       "3047               комедия,мелодрама  7.029905e+07   70000000.0  \n",
       "2532                 комедия,фэнтези  6.741897e+07   20000000.0  \n",
       "3675     мультфильм,фэнтези,семейный  5.510801e+07   40000000.0  \n",
       "3739                         комедия  5.045195e+07   45000000.0  \n",
       "2874                         комедия  1.536293e+07    6000000.0  \n",
       "2053                       мелодрама  1.023402e+07   23000000.0  \n",
       "2684                   комедия,драма  1.957739e+06   59000000.0  \n",
       "6323                            unkn  1.334699e+06  138969465.0  "
      ]
     },
     "execution_count": 31,
     "metadata": {},
     "output_type": "execute_result"
    }
   ],
   "source": [
    "data.loc[data['sum'] > data['budget']]"
   ]
  },
  {
   "cell_type": "markdown",
   "metadata": {},
   "source": [
    "Выявлено 17 строк в колонке budget со значением '0'. Эти строки составляют маленький процент от общего кол-ва строк, удалим их."
   ]
  },
  {
   "cell_type": "code",
   "execution_count": 32,
   "metadata": {},
   "outputs": [],
   "source": [
    "data = data.query('budget != 0.0')"
   ]
  },
  {
   "cell_type": "markdown",
   "metadata": {},
   "source": [
    "Проверим колонку `budget` на наличие аномалий."
   ]
  },
  {
   "cell_type": "code",
   "execution_count": 33,
   "metadata": {},
   "outputs": [],
   "source": [
    "pd.options.display.float_format = '{:.2f}'.format"
   ]
  },
  {
   "cell_type": "code",
   "execution_count": 34,
   "metadata": {},
   "outputs": [
    {
     "data": {
      "text/plain": [
       "count          314.00\n",
       "mean     131516770.51\n",
       "std      185962049.92\n",
       "min       14462464.00\n",
       "25%       46153856.25\n",
       "50%       72448592.50\n",
       "75%      150000000.00\n",
       "max     2305074303.00\n",
       "Name: budget, dtype: float64"
      ]
     },
     "execution_count": 34,
     "metadata": {},
     "output_type": "execute_result"
    }
   ],
   "source": [
    "data['budget'].describe()"
   ]
  },
  {
   "cell_type": "code",
   "execution_count": 35,
   "metadata": {},
   "outputs": [
    {
     "data": {
      "text/plain": [
       "<AxesSubplot:>"
      ]
     },
     "execution_count": 35,
     "metadata": {},
     "output_type": "execute_result"
    },
    {
     "data": {
      "image/png": "[encoded data removed]",
      "text/plain": [
       "<Figure size 504x720 with 1 Axes>"
      ]
     },
     "metadata": {
      "needs_background": "light"
     },
     "output_type": "display_data"
    }
   ],
   "source": [
    "data.boxplot('budget', figsize = (7,10))"
   ]
  },
  {
   "cell_type": "markdown",
   "metadata": {},
   "source": [
    "По диаграмме размаха видно, что выбросы начинаются со значения 350 млн., одно из значений превышает нормальные в разы. Проверим, аномалия это или реальные данные."
   ]
  },
  {
   "cell_type": "code",
   "execution_count": 36,
   "metadata": {},
   "outputs": [
    {
     "data": {
      "text/html": [
       "<div>\n",
       "<style scoped>\n",
       "    .dataframe tbody tr th:only-of-type {\n",
       "        vertical-align: middle;\n",
       "    }\n",
       "\n",
       "    .dataframe tbody tr th {\n",
       "        vertical-align: top;\n",
       "    }\n",
       "\n",
       "    .dataframe thead th {\n",
       "        text-align: right;\n",
       "    }\n",
       "</style>\n",
       "<table border=\"1\" class=\"dataframe\">\n",
       "  <thead>\n",
       "    <tr style=\"text-align: right;\">\n",
       "      <th></th>\n",
       "      <th>title</th>\n",
       "      <th>puNumber</th>\n",
       "      <th>show_start_date</th>\n",
       "      <th>type</th>\n",
       "      <th>film_studio</th>\n",
       "      <th>production_country</th>\n",
       "      <th>director</th>\n",
       "      <th>producer</th>\n",
       "      <th>age_restriction</th>\n",
       "      <th>refundable_support</th>\n",
       "      <th>nonrefundable_support</th>\n",
       "      <th>budget</th>\n",
       "      <th>financing_source</th>\n",
       "      <th>ratings</th>\n",
       "      <th>genres</th>\n",
       "      <th>box_office</th>\n",
       "      <th>sum</th>\n",
       "    </tr>\n",
       "  </thead>\n",
       "  <tbody>\n",
       "    <tr>\n",
       "      <th>7114</th>\n",
       "      <td>Тайна Печати Дракона</td>\n",
       "      <td>111012819</td>\n",
       "      <td>2019-09-12 12:00:00+00:00</td>\n",
       "      <td>Художественный</td>\n",
       "      <td>ООО \"Кинокомпания \"СТВ\"; ООО \"РФГ Корп\"; ООО \"...</td>\n",
       "      <td>Россия-Китай</td>\n",
       "      <td>О.Степченко</td>\n",
       "      <td>С.Сельянов, А.Петрухин</td>\n",
       "      <td>«6+» - для детей старше 6 лет</td>\n",
       "      <td>180000000.00</td>\n",
       "      <td>90000000.00</td>\n",
       "      <td>2305074303.00</td>\n",
       "      <td>Фонд кино</td>\n",
       "      <td>5.80</td>\n",
       "      <td>приключения,фэнтези</td>\n",
       "      <td>333597059.59</td>\n",
       "      <td>270000000.00</td>\n",
       "    </tr>\n",
       "  </tbody>\n",
       "</table>\n",
       "</div>"
      ],
      "text/plain": [
       "                     title   puNumber           show_start_date  \\\n",
       "7114  Тайна Печати Дракона  111012819 2019-09-12 12:00:00+00:00   \n",
       "\n",
       "                type                                        film_studio  \\\n",
       "7114  Художественный  ООО \"Кинокомпания \"СТВ\"; ООО \"РФГ Корп\"; ООО \"...   \n",
       "\n",
       "     production_country     director                producer  \\\n",
       "7114       Россия-Китай  О.Степченко  С.Сельянов, А.Петрухин   \n",
       "\n",
       "                    age_restriction  refundable_support  \\\n",
       "7114  «6+» - для детей старше 6 лет        180000000.00   \n",
       "\n",
       "      nonrefundable_support        budget financing_source ratings  \\\n",
       "7114            90000000.00 2305074303.00        Фонд кино    5.80   \n",
       "\n",
       "                   genres   box_office          sum  \n",
       "7114  приключения,фэнтези 333597059.59 270000000.00  "
      ]
     },
     "execution_count": 36,
     "metadata": {},
     "output_type": "execute_result"
    }
   ],
   "source": [
    "data[data['budget'] == 2305074303]"
   ]
  },
  {
   "cell_type": "markdown",
   "metadata": {},
   "source": [
    "По данным кинопоиска и другим источникам бюджет фильма действительно составляет 48 млн долларов. Для проведения исследовательского анализа на данном этапе очищать данные от выбросов не будем."
   ]
  },
  {
   "cell_type": "markdown",
   "metadata": {},
   "source": [
    "Проверим другие столбцы."
   ]
  },
  {
   "cell_type": "code",
   "execution_count": 37,
   "metadata": {},
   "outputs": [
    {
     "data": {
      "text/plain": [
       "count         314.00\n",
       "mean     11321656.05\n",
       "std      24689503.57\n",
       "min             0.00\n",
       "25%             0.00\n",
       "50%             0.00\n",
       "75%      10000000.00\n",
       "max     180000000.00\n",
       "Name: refundable_support, dtype: float64"
      ]
     },
     "execution_count": 37,
     "metadata": {},
     "output_type": "execute_result"
    }
   ],
   "source": [
    "data['refundable_support'].describe()"
   ]
  },
  {
   "cell_type": "code",
   "execution_count": 38,
   "metadata": {},
   "outputs": [
    {
     "data": {
      "text/plain": [
       "<AxesSubplot:>"
      ]
     },
     "execution_count": 38,
     "metadata": {},
     "output_type": "execute_result"
    },
    {
     "data": {
      "image/png": "[encoded data removed]",
      "text/plain": [
       "<Figure size 504x720 with 1 Axes>"
      ]
     },
     "metadata": {
      "needs_background": "light"
     },
     "output_type": "display_data"
    }
   ],
   "source": [
    "data.boxplot('refundable_support', figsize = (7,10))"
   ]
  },
  {
   "cell_type": "code",
   "execution_count": 39,
   "metadata": {},
   "outputs": [
    {
     "data": {
      "text/html": [
       "<div>\n",
       "<style scoped>\n",
       "    .dataframe tbody tr th:only-of-type {\n",
       "        vertical-align: middle;\n",
       "    }\n",
       "\n",
       "    .dataframe tbody tr th {\n",
       "        vertical-align: top;\n",
       "    }\n",
       "\n",
       "    .dataframe thead th {\n",
       "        text-align: right;\n",
       "    }\n",
       "</style>\n",
       "<table border=\"1\" class=\"dataframe\">\n",
       "  <thead>\n",
       "    <tr style=\"text-align: right;\">\n",
       "      <th></th>\n",
       "      <th>title</th>\n",
       "      <th>puNumber</th>\n",
       "      <th>show_start_date</th>\n",
       "      <th>type</th>\n",
       "      <th>film_studio</th>\n",
       "      <th>production_country</th>\n",
       "      <th>director</th>\n",
       "      <th>producer</th>\n",
       "      <th>age_restriction</th>\n",
       "      <th>refundable_support</th>\n",
       "      <th>nonrefundable_support</th>\n",
       "      <th>budget</th>\n",
       "      <th>financing_source</th>\n",
       "      <th>ratings</th>\n",
       "      <th>genres</th>\n",
       "      <th>box_office</th>\n",
       "      <th>sum</th>\n",
       "    </tr>\n",
       "  </thead>\n",
       "  <tbody>\n",
       "    <tr>\n",
       "      <th>7464</th>\n",
       "      <td>Союз спасения</td>\n",
       "      <td>111022019</td>\n",
       "      <td>2019-12-26 12:00:00+00:00</td>\n",
       "      <td>Художественный</td>\n",
       "      <td>ЗАО \"Дирекция кино\"</td>\n",
       "      <td>Россия</td>\n",
       "      <td>А.Кравчук</td>\n",
       "      <td>А.Максимов, К.Эрнст</td>\n",
       "      <td>«12+» - для детей старше 12 лет</td>\n",
       "      <td>100000000.00</td>\n",
       "      <td>400000000.00</td>\n",
       "      <td>980000000.00</td>\n",
       "      <td>Фонд кино</td>\n",
       "      <td>6.00</td>\n",
       "      <td>история,биография,драма</td>\n",
       "      <td>717703185.53</td>\n",
       "      <td>500000000.00</td>\n",
       "    </tr>\n",
       "    <tr>\n",
       "      <th>5569</th>\n",
       "      <td>Легенда о Коловрате</td>\n",
       "      <td>111007617</td>\n",
       "      <td>2017-11-30 12:00:00+00:00</td>\n",
       "      <td>Художественный</td>\n",
       "      <td>ООО \"Продюсерский центр ИВАН\"</td>\n",
       "      <td>Россия</td>\n",
       "      <td>И.Шурховецкий</td>\n",
       "      <td>ООО \"Централ Партнершип\",              АО \"Тел...</td>\n",
       "      <td>«12+» - для детей старше 12 лет</td>\n",
       "      <td>100000000.00</td>\n",
       "      <td>250000000.00</td>\n",
       "      <td>500012729.00</td>\n",
       "      <td>Фонд кино</td>\n",
       "      <td>6.40</td>\n",
       "      <td>история,боевик,фэнтези</td>\n",
       "      <td>590405065.00</td>\n",
       "      <td>350000000.00</td>\n",
       "    </tr>\n",
       "    <tr>\n",
       "      <th>6472</th>\n",
       "      <td>Три богатыря и наследница престола</td>\n",
       "      <td>114008818</td>\n",
       "      <td>2018-12-15 12:00:00+00:00</td>\n",
       "      <td>Анимационный</td>\n",
       "      <td>ООО \"Студия анимационного кино \"Мельница\"</td>\n",
       "      <td>Россия</td>\n",
       "      <td>К.Бронзит</td>\n",
       "      <td>С.Сельянов, А.Боярский</td>\n",
       "      <td>«6+» - для детей старше 6 лет</td>\n",
       "      <td>115000000.00</td>\n",
       "      <td>0.00</td>\n",
       "      <td>185500705.00</td>\n",
       "      <td>Фонд кино</td>\n",
       "      <td>6.50</td>\n",
       "      <td>мультфильм,приключения,семейный</td>\n",
       "      <td>577368853.25</td>\n",
       "      <td>115000000.00</td>\n",
       "    </tr>\n",
       "    <tr>\n",
       "      <th>5437</th>\n",
       "      <td>Матильда</td>\n",
       "      <td>111005717</td>\n",
       "      <td>2017-08-17 12:00:00+00:00</td>\n",
       "      <td>Художественный</td>\n",
       "      <td>ООО \"ТПО \"РОК\", ООО \"Матильда\"</td>\n",
       "      <td>Россия</td>\n",
       "      <td>А.Учитель</td>\n",
       "      <td>А.Учитель, А.Достман, В.Винокур</td>\n",
       "      <td>«16+» - для детей старше 16 лет</td>\n",
       "      <td>110000000.00</td>\n",
       "      <td>190000000.00</td>\n",
       "      <td>1032905957.00</td>\n",
       "      <td>Фонд кино</td>\n",
       "      <td>7.70</td>\n",
       "      <td>фэнтези,комедия,семейный</td>\n",
       "      <td>511775548.00</td>\n",
       "      <td>300000000.00</td>\n",
       "    </tr>\n",
       "    <tr>\n",
       "      <th>7466</th>\n",
       "      <td>Иван Царевич и Серый Волк 4</td>\n",
       "      <td>114005019</td>\n",
       "      <td>2019-12-20 12:00:00+00:00</td>\n",
       "      <td>Анимационный</td>\n",
       "      <td>ООО \"Студия анимационного кино \"Мельница\"</td>\n",
       "      <td>Россия</td>\n",
       "      <td>Д.Шмидт, К.Феоктистов</td>\n",
       "      <td>С.Сельянов, А.Боярский</td>\n",
       "      <td>«6+» - для детей старше 6 лет</td>\n",
       "      <td>100000000.00</td>\n",
       "      <td>0.00</td>\n",
       "      <td>190000000.00</td>\n",
       "      <td>Фонд кино</td>\n",
       "      <td>6.70</td>\n",
       "      <td>мультфильм,приключения,семейный</td>\n",
       "      <td>501069235.00</td>\n",
       "      <td>100000000.00</td>\n",
       "    </tr>\n",
       "    <tr>\n",
       "      <th>3351</th>\n",
       "      <td>Дуэлянт</td>\n",
       "      <td>111015416</td>\n",
       "      <td>2016-09-14 12:00:00+00:00</td>\n",
       "      <td>Художественный</td>\n",
       "      <td>ООО \"Нон-Стоп Продакшн\"</td>\n",
       "      <td>Россия</td>\n",
       "      <td>А.Мизгирев</td>\n",
       "      <td>А.Роднянский, С.Мелькумов</td>\n",
       "      <td>«16+» - для детей старше 16 лет</td>\n",
       "      <td>150000000.00</td>\n",
       "      <td>300000000.00</td>\n",
       "      <td>684200536.00</td>\n",
       "      <td>Фонд кино</td>\n",
       "      <td>6.60</td>\n",
       "      <td>драма</td>\n",
       "      <td>364285139.60</td>\n",
       "      <td>450000000.00</td>\n",
       "    </tr>\n",
       "    <tr>\n",
       "      <th>3453</th>\n",
       "      <td>Ледокол</td>\n",
       "      <td>111016316</td>\n",
       "      <td>2016-10-11 12:00:00+00:00</td>\n",
       "      <td>Художественный</td>\n",
       "      <td>ООО \"Продюсерская фирма Игоря Толстунова\"</td>\n",
       "      <td>Россия</td>\n",
       "      <td>Н.Хомерики</td>\n",
       "      <td>И.Толстунов, С.Козлов</td>\n",
       "      <td>«12+» - для детей старше 12 лет</td>\n",
       "      <td>100000000.00</td>\n",
       "      <td>200000000.00</td>\n",
       "      <td>430000000.00</td>\n",
       "      <td>Фонд кино</td>\n",
       "      <td>6.50</td>\n",
       "      <td>драма</td>\n",
       "      <td>337069662.80</td>\n",
       "      <td>300000000.00</td>\n",
       "    </tr>\n",
       "    <tr>\n",
       "      <th>7114</th>\n",
       "      <td>Тайна Печати Дракона</td>\n",
       "      <td>111012819</td>\n",
       "      <td>2019-09-12 12:00:00+00:00</td>\n",
       "      <td>Художественный</td>\n",
       "      <td>ООО \"Кинокомпания \"СТВ\"; ООО \"РФГ Корп\"; ООО \"...</td>\n",
       "      <td>Россия-Китай</td>\n",
       "      <td>О.Степченко</td>\n",
       "      <td>С.Сельянов, А.Петрухин</td>\n",
       "      <td>«6+» - для детей старше 6 лет</td>\n",
       "      <td>180000000.00</td>\n",
       "      <td>90000000.00</td>\n",
       "      <td>2305074303.00</td>\n",
       "      <td>Фонд кино</td>\n",
       "      <td>5.80</td>\n",
       "      <td>приключения,фэнтези</td>\n",
       "      <td>333597059.59</td>\n",
       "      <td>270000000.00</td>\n",
       "    </tr>\n",
       "    <tr>\n",
       "      <th>3164</th>\n",
       "      <td>Герой (2015)</td>\n",
       "      <td>111000416</td>\n",
       "      <td>2016-01-22 12:00:00+00:00</td>\n",
       "      <td>Художественный</td>\n",
       "      <td>ООО \"Студия 25\", ООО \"Медиа Арт Студио\", ООО ...</td>\n",
       "      <td>Россия</td>\n",
       "      <td>Ю.Васильев</td>\n",
       "      <td>Э.Айнулова, Н.Дорошкевич, М.Журомская</td>\n",
       "      <td>«12+» - для детей старше 12 лет</td>\n",
       "      <td>110000000.00</td>\n",
       "      <td>30000000.00</td>\n",
       "      <td>222177790.00</td>\n",
       "      <td>Министерство культуры, Фонд кино</td>\n",
       "      <td>7.10</td>\n",
       "      <td>мюзикл,боевик,драма</td>\n",
       "      <td>81430626.82</td>\n",
       "      <td>140000000.00</td>\n",
       "    </tr>\n",
       "  </tbody>\n",
       "</table>\n",
       "</div>"
      ],
      "text/plain": [
       "                                   title   puNumber           show_start_date  \\\n",
       "7464                       Союз спасения  111022019 2019-12-26 12:00:00+00:00   \n",
       "5569                 Легенда о Коловрате  111007617 2017-11-30 12:00:00+00:00   \n",
       "6472  Три богатыря и наследница престола  114008818 2018-12-15 12:00:00+00:00   \n",
       "5437                            Матильда  111005717 2017-08-17 12:00:00+00:00   \n",
       "7466         Иван Царевич и Серый Волк 4  114005019 2019-12-20 12:00:00+00:00   \n",
       "3351                             Дуэлянт  111015416 2016-09-14 12:00:00+00:00   \n",
       "3453                             Ледокол  111016316 2016-10-11 12:00:00+00:00   \n",
       "7114                Тайна Печати Дракона  111012819 2019-09-12 12:00:00+00:00   \n",
       "3164                        Герой (2015)  111000416 2016-01-22 12:00:00+00:00   \n",
       "\n",
       "                type                                        film_studio  \\\n",
       "7464  Художественный                                ЗАО \"Дирекция кино\"   \n",
       "5569  Художественный                      ООО \"Продюсерский центр ИВАН\"   \n",
       "6472    Анимационный          ООО \"Студия анимационного кино \"Мельница\"   \n",
       "5437  Художественный                     ООО \"ТПО \"РОК\", ООО \"Матильда\"   \n",
       "7466    Анимационный          ООО \"Студия анимационного кино \"Мельница\"   \n",
       "3351  Художественный                            ООО \"Нон-Стоп Продакшн\"   \n",
       "3453  Художественный          ООО \"Продюсерская фирма Игоря Толстунова\"   \n",
       "7114  Художественный  ООО \"Кинокомпания \"СТВ\"; ООО \"РФГ Корп\"; ООО \"...   \n",
       "3164  Художественный   ООО \"Студия 25\", ООО \"Медиа Арт Студио\", ООО ...   \n",
       "\n",
       "     production_country               director  \\\n",
       "7464             Россия              А.Кравчук   \n",
       "5569             Россия          И.Шурховецкий   \n",
       "6472             Россия              К.Бронзит   \n",
       "5437             Россия              А.Учитель   \n",
       "7466             Россия  Д.Шмидт, К.Феоктистов   \n",
       "3351             Россия             А.Мизгирев   \n",
       "3453             Россия             Н.Хомерики   \n",
       "7114       Россия-Китай            О.Степченко   \n",
       "3164             Россия             Ю.Васильев   \n",
       "\n",
       "                                               producer  \\\n",
       "7464                                А.Максимов, К.Эрнст   \n",
       "5569  ООО \"Централ Партнершип\",              АО \"Тел...   \n",
       "6472                             С.Сельянов, А.Боярский   \n",
       "5437                    А.Учитель, А.Достман, В.Винокур   \n",
       "7466                             С.Сельянов, А.Боярский   \n",
       "3351                          А.Роднянский, С.Мелькумов   \n",
       "3453                              И.Толстунов, С.Козлов   \n",
       "7114                             С.Сельянов, А.Петрухин   \n",
       "3164              Э.Айнулова, Н.Дорошкевич, М.Журомская   \n",
       "\n",
       "                      age_restriction  refundable_support  \\\n",
       "7464  «12+» - для детей старше 12 лет        100000000.00   \n",
       "5569  «12+» - для детей старше 12 лет        100000000.00   \n",
       "6472    «6+» - для детей старше 6 лет        115000000.00   \n",
       "5437  «16+» - для детей старше 16 лет        110000000.00   \n",
       "7466    «6+» - для детей старше 6 лет        100000000.00   \n",
       "3351  «16+» - для детей старше 16 лет        150000000.00   \n",
       "3453  «12+» - для детей старше 12 лет        100000000.00   \n",
       "7114    «6+» - для детей старше 6 лет        180000000.00   \n",
       "3164  «12+» - для детей старше 12 лет        110000000.00   \n",
       "\n",
       "      nonrefundable_support        budget                  financing_source  \\\n",
       "7464           400000000.00  980000000.00                         Фонд кино   \n",
       "5569           250000000.00  500012729.00                         Фонд кино   \n",
       "6472                   0.00  185500705.00                         Фонд кино   \n",
       "5437           190000000.00 1032905957.00                         Фонд кино   \n",
       "7466                   0.00  190000000.00                         Фонд кино   \n",
       "3351           300000000.00  684200536.00                         Фонд кино   \n",
       "3453           200000000.00  430000000.00                         Фонд кино   \n",
       "7114            90000000.00 2305074303.00                         Фонд кино   \n",
       "3164            30000000.00  222177790.00  Министерство культуры, Фонд кино   \n",
       "\n",
       "     ratings                           genres   box_office          sum  \n",
       "7464    6.00          история,биография,драма 717703185.53 500000000.00  \n",
       "5569    6.40           история,боевик,фэнтези 590405065.00 350000000.00  \n",
       "6472    6.50  мультфильм,приключения,семейный 577368853.25 115000000.00  \n",
       "5437    7.70         фэнтези,комедия,семейный 511775548.00 300000000.00  \n",
       "7466    6.70  мультфильм,приключения,семейный 501069235.00 100000000.00  \n",
       "3351    6.60                            драма 364285139.60 450000000.00  \n",
       "3453    6.50                            драма 337069662.80 300000000.00  \n",
       "7114    5.80              приключения,фэнтези 333597059.59 270000000.00  \n",
       "3164    7.10              мюзикл,боевик,драма  81430626.82 140000000.00  "
      ]
     },
     "execution_count": 39,
     "metadata": {},
     "output_type": "execute_result"
    }
   ],
   "source": [
    "data[data['refundable_support'] >= 100000000]"
   ]
  },
  {
   "cell_type": "markdown",
   "metadata": {},
   "source": [
    "Все данные в выбросах реальные, пока оставим как есть."
   ]
  },
  {
   "cell_type": "code",
   "execution_count": 40,
   "metadata": {},
   "outputs": [
    {
     "data": {
      "text/plain": [
       "count         314.00\n",
       "mean     46986365.75\n",
       "std      56576755.16\n",
       "min             0.00\n",
       "25%      25000000.00\n",
       "50%      30000000.00\n",
       "75%      40000000.00\n",
       "max     400000000.00\n",
       "Name: nonrefundable_support, dtype: float64"
      ]
     },
     "execution_count": 40,
     "metadata": {},
     "output_type": "execute_result"
    }
   ],
   "source": [
    "data['nonrefundable_support'].describe()"
   ]
  },
  {
   "cell_type": "code",
   "execution_count": 41,
   "metadata": {},
   "outputs": [
    {
     "data": {
      "text/plain": [
       "<AxesSubplot:>"
      ]
     },
     "execution_count": 41,
     "metadata": {},
     "output_type": "execute_result"
    },
    {
     "data": {
      "image/png": "[encoded data removed]",
      "text/plain": [
       "<Figure size 504x720 with 1 Axes>"
      ]
     },
     "metadata": {
      "needs_background": "light"
     },
     "output_type": "display_data"
    }
   ],
   "source": [
    "data.boxplot('nonrefundable_support', figsize = (7,10))"
   ]
  },
  {
   "cell_type": "code",
   "execution_count": 42,
   "metadata": {},
   "outputs": [
    {
     "data": {
      "text/html": [
       "<div>\n",
       "<style scoped>\n",
       "    .dataframe tbody tr th:only-of-type {\n",
       "        vertical-align: middle;\n",
       "    }\n",
       "\n",
       "    .dataframe tbody tr th {\n",
       "        vertical-align: top;\n",
       "    }\n",
       "\n",
       "    .dataframe thead th {\n",
       "        text-align: right;\n",
       "    }\n",
       "</style>\n",
       "<table border=\"1\" class=\"dataframe\">\n",
       "  <thead>\n",
       "    <tr style=\"text-align: right;\">\n",
       "      <th></th>\n",
       "      <th>title</th>\n",
       "      <th>puNumber</th>\n",
       "      <th>show_start_date</th>\n",
       "      <th>type</th>\n",
       "      <th>film_studio</th>\n",
       "      <th>production_country</th>\n",
       "      <th>director</th>\n",
       "      <th>producer</th>\n",
       "      <th>age_restriction</th>\n",
       "      <th>refundable_support</th>\n",
       "      <th>nonrefundable_support</th>\n",
       "      <th>budget</th>\n",
       "      <th>financing_source</th>\n",
       "      <th>ratings</th>\n",
       "      <th>genres</th>\n",
       "      <th>box_office</th>\n",
       "      <th>sum</th>\n",
       "    </tr>\n",
       "  </thead>\n",
       "  <tbody>\n",
       "    <tr>\n",
       "      <th>5653</th>\n",
       "      <td>Движение вверх</td>\n",
       "      <td>111011817</td>\n",
       "      <td>2017-12-21 12:00:00+00:00</td>\n",
       "      <td>Художественный</td>\n",
       "      <td>ООО \"Студия \"ТРИТЭ\" Никиты Михалкова\"</td>\n",
       "      <td>Россия</td>\n",
       "      <td>А.Мегердичев</td>\n",
       "      <td>Л.Верещагин, А.Златопольский, Н.Михалков, ООО ...</td>\n",
       "      <td>«6+» - для детей старше 6 лет</td>\n",
       "      <td>0.00</td>\n",
       "      <td>400000000.00</td>\n",
       "      <td>590192191.00</td>\n",
       "      <td>Фонд кино</td>\n",
       "      <td>7.50</td>\n",
       "      <td>спорт,драма</td>\n",
       "      <td>2779686144.00</td>\n",
       "      <td>400000000.00</td>\n",
       "    </tr>\n",
       "    <tr>\n",
       "      <th>7464</th>\n",
       "      <td>Союз спасения</td>\n",
       "      <td>111022019</td>\n",
       "      <td>2019-12-26 12:00:00+00:00</td>\n",
       "      <td>Художественный</td>\n",
       "      <td>ЗАО \"Дирекция кино\"</td>\n",
       "      <td>Россия</td>\n",
       "      <td>А.Кравчук</td>\n",
       "      <td>А.Максимов, К.Эрнст</td>\n",
       "      <td>«12+» - для детей старше 12 лет</td>\n",
       "      <td>100000000.00</td>\n",
       "      <td>400000000.00</td>\n",
       "      <td>980000000.00</td>\n",
       "      <td>Фонд кино</td>\n",
       "      <td>6.00</td>\n",
       "      <td>история,биография,драма</td>\n",
       "      <td>717703185.53</td>\n",
       "      <td>500000000.00</td>\n",
       "    </tr>\n",
       "    <tr>\n",
       "      <th>2920</th>\n",
       "      <td>Экипаж .</td>\n",
       "      <td>111005416</td>\n",
       "      <td>2016-03-21 12:00:00+00:00</td>\n",
       "      <td>Художественный</td>\n",
       "      <td>ООО \"Студия \"ТРИТЭ\" Никиты Михалкова\"</td>\n",
       "      <td>Россия</td>\n",
       "      <td>Н.Лебедев</td>\n",
       "      <td>Л.Верещагин, А.Златопольский, Н.Михалков, ООО ...</td>\n",
       "      <td>«6+» - для детей старше 6 лет</td>\n",
       "      <td>50000000.00</td>\n",
       "      <td>392104482.00</td>\n",
       "      <td>635283867.00</td>\n",
       "      <td>Фонд кино</td>\n",
       "      <td>7.60</td>\n",
       "      <td>драма,триллер,приключения</td>\n",
       "      <td>1402255390.00</td>\n",
       "      <td>442104482.00</td>\n",
       "    </tr>\n",
       "    <tr>\n",
       "      <th>6887</th>\n",
       "      <td>Девятая</td>\n",
       "      <td>111007019</td>\n",
       "      <td>2019-09-19 12:00:00+00:00</td>\n",
       "      <td>Художественный</td>\n",
       "      <td>ООО \"Нон-Стоп Продакшн\"</td>\n",
       "      <td>Россия</td>\n",
       "      <td>Н.Хомерики</td>\n",
       "      <td>С.Мелькумов, А.Роднянский</td>\n",
       "      <td>«16+» - для детей старше 16 лет</td>\n",
       "      <td>0.00</td>\n",
       "      <td>300000000.00</td>\n",
       "      <td>453704666.00</td>\n",
       "      <td>Фонд кино</td>\n",
       "      <td>5.80</td>\n",
       "      <td>детектив,триллер,криминал</td>\n",
       "      <td>55876887.40</td>\n",
       "      <td>300000000.00</td>\n",
       "    </tr>\n",
       "    <tr>\n",
       "      <th>3351</th>\n",
       "      <td>Дуэлянт</td>\n",
       "      <td>111015416</td>\n",
       "      <td>2016-09-14 12:00:00+00:00</td>\n",
       "      <td>Художественный</td>\n",
       "      <td>ООО \"Нон-Стоп Продакшн\"</td>\n",
       "      <td>Россия</td>\n",
       "      <td>А.Мизгирев</td>\n",
       "      <td>А.Роднянский, С.Мелькумов</td>\n",
       "      <td>«16+» - для детей старше 16 лет</td>\n",
       "      <td>150000000.00</td>\n",
       "      <td>300000000.00</td>\n",
       "      <td>684200536.00</td>\n",
       "      <td>Фонд кино</td>\n",
       "      <td>6.60</td>\n",
       "      <td>драма</td>\n",
       "      <td>364285139.60</td>\n",
       "      <td>450000000.00</td>\n",
       "    </tr>\n",
       "    <tr>\n",
       "      <th>5826</th>\n",
       "      <td>Тренер</td>\n",
       "      <td>111003218</td>\n",
       "      <td>2018-04-19 12:00:00+00:00</td>\n",
       "      <td>Художественный</td>\n",
       "      <td>ООО \"ДК интертеймент\", ООО \"Киностудия \"Слово\"...</td>\n",
       "      <td>Россия</td>\n",
       "      <td>Д.Козловский</td>\n",
       "      <td>Д.Козловский, П.Ануров, Л.Верещагин, А.Златопо...</td>\n",
       "      <td>«12+» - для детей старше 12 лет</td>\n",
       "      <td>0.00</td>\n",
       "      <td>260000000.00</td>\n",
       "      <td>390191139.00</td>\n",
       "      <td>Фонд кино</td>\n",
       "      <td>6.80</td>\n",
       "      <td>драма,спорт</td>\n",
       "      <td>820528005.21</td>\n",
       "      <td>260000000.00</td>\n",
       "    </tr>\n",
       "    <tr>\n",
       "      <th>5569</th>\n",
       "      <td>Легенда о Коловрате</td>\n",
       "      <td>111007617</td>\n",
       "      <td>2017-11-30 12:00:00+00:00</td>\n",
       "      <td>Художественный</td>\n",
       "      <td>ООО \"Продюсерский центр ИВАН\"</td>\n",
       "      <td>Россия</td>\n",
       "      <td>И.Шурховецкий</td>\n",
       "      <td>ООО \"Централ Партнершип\",              АО \"Тел...</td>\n",
       "      <td>«12+» - для детей старше 12 лет</td>\n",
       "      <td>100000000.00</td>\n",
       "      <td>250000000.00</td>\n",
       "      <td>500012729.00</td>\n",
       "      <td>Фонд кино</td>\n",
       "      <td>6.40</td>\n",
       "      <td>история,боевик,фэнтези</td>\n",
       "      <td>590405065.00</td>\n",
       "      <td>350000000.00</td>\n",
       "    </tr>\n",
       "    <tr>\n",
       "      <th>2699</th>\n",
       "      <td>Он - Дракон</td>\n",
       "      <td>111017915</td>\n",
       "      <td>2015-10-14 12:00:00+00:00</td>\n",
       "      <td>Художественный</td>\n",
       "      <td>ООО \"ТаББаК\"</td>\n",
       "      <td>Россия</td>\n",
       "      <td>И.Джендубаев</td>\n",
       "      <td>Т.Бекмамбетов</td>\n",
       "      <td>«6+» - для детей старше 6 лет</td>\n",
       "      <td>0.00</td>\n",
       "      <td>250000000.00</td>\n",
       "      <td>360000000.00</td>\n",
       "      <td>Фонд кино</td>\n",
       "      <td>6.80</td>\n",
       "      <td>фэнтези</td>\n",
       "      <td>110171448.50</td>\n",
       "      <td>250000000.00</td>\n",
       "    </tr>\n",
       "    <tr>\n",
       "      <th>5502</th>\n",
       "      <td>Салют-7</td>\n",
       "      <td>111006917</td>\n",
       "      <td>2017-10-01 12:00:00+00:00</td>\n",
       "      <td>Художественный</td>\n",
       "      <td>ООО \"Лемон Филмз Студио\"</td>\n",
       "      <td>Россия</td>\n",
       "      <td>К.Шипенко</td>\n",
       "      <td>С.Сельянов, Б.Бакурадзе, А.Златопольский</td>\n",
       "      <td>«12+» - для детей старше 12 лет</td>\n",
       "      <td>0.00</td>\n",
       "      <td>225000000.00</td>\n",
       "      <td>493733957.00</td>\n",
       "      <td>Фонд кино</td>\n",
       "      <td>7.40</td>\n",
       "      <td>драма,приключения,триллер</td>\n",
       "      <td>752679777.00</td>\n",
       "      <td>225000000.00</td>\n",
       "    </tr>\n",
       "    <tr>\n",
       "      <th>7290</th>\n",
       "      <td>Урфин Джюс возвращается</td>\n",
       "      <td>114004019</td>\n",
       "      <td>2019-10-14 12:00:00+00:00</td>\n",
       "      <td>Анимационный</td>\n",
       "      <td>ООО \"Студия анимационного кино \"Мельница\"</td>\n",
       "      <td>Россия</td>\n",
       "      <td>Ф.Дмитриев</td>\n",
       "      <td>С.Сельянов, А.Боярский</td>\n",
       "      <td>«6+» - для детей старше 6 лет</td>\n",
       "      <td>0.00</td>\n",
       "      <td>200000000.00</td>\n",
       "      <td>300000000.00</td>\n",
       "      <td>Фонд кино</td>\n",
       "      <td>6.20</td>\n",
       "      <td>мультфильм,детский</td>\n",
       "      <td>68549523.47</td>\n",
       "      <td>200000000.00</td>\n",
       "    </tr>\n",
       "    <tr>\n",
       "      <th>3627</th>\n",
       "      <td>БОЛЬШОЙ</td>\n",
       "      <td>111017416</td>\n",
       "      <td>2016-11-22 12:00:00+00:00</td>\n",
       "      <td>Художественный</td>\n",
       "      <td>ЗАО \"ПРОДЮСЕРСКАЯ КОМПАНИЯ ВАЛЕРИЯ ТОДОРОВСКОГО\"</td>\n",
       "      <td>Россия</td>\n",
       "      <td>В.Тодоровский</td>\n",
       "      <td>В.Тодоровский, А.Златопольский</td>\n",
       "      <td>«12+» - для детей старше 12 лет</td>\n",
       "      <td>10000000.00</td>\n",
       "      <td>200000000.00</td>\n",
       "      <td>320000000.00</td>\n",
       "      <td>Фонд кино</td>\n",
       "      <td>8.50</td>\n",
       "      <td>криминал,комедия,боевик</td>\n",
       "      <td>228578204.00</td>\n",
       "      <td>210000000.00</td>\n",
       "    </tr>\n",
       "    <tr>\n",
       "      <th>3453</th>\n",
       "      <td>Ледокол</td>\n",
       "      <td>111016316</td>\n",
       "      <td>2016-10-11 12:00:00+00:00</td>\n",
       "      <td>Художественный</td>\n",
       "      <td>ООО \"Продюсерская фирма Игоря Толстунова\"</td>\n",
       "      <td>Россия</td>\n",
       "      <td>Н.Хомерики</td>\n",
       "      <td>И.Толстунов, С.Козлов</td>\n",
       "      <td>«12+» - для детей старше 12 лет</td>\n",
       "      <td>100000000.00</td>\n",
       "      <td>200000000.00</td>\n",
       "      <td>430000000.00</td>\n",
       "      <td>Фонд кино</td>\n",
       "      <td>6.50</td>\n",
       "      <td>драма</td>\n",
       "      <td>337069662.80</td>\n",
       "      <td>300000000.00</td>\n",
       "    </tr>\n",
       "    <tr>\n",
       "      <th>5690</th>\n",
       "      <td>Рубеж</td>\n",
       "      <td>111012317</td>\n",
       "      <td>2018-02-22 12:00:00+00:00</td>\n",
       "      <td>Художественный</td>\n",
       "      <td>ООО \"Киностудия КИТ\"</td>\n",
       "      <td>Россия</td>\n",
       "      <td>Д.Тюрин</td>\n",
       "      <td>ООО \"Централ Партнершип\"</td>\n",
       "      <td>«12+» - для детей старше 12 лет</td>\n",
       "      <td>0.00</td>\n",
       "      <td>200000000.00</td>\n",
       "      <td>292412422.00</td>\n",
       "      <td>Фонд кино</td>\n",
       "      <td>6.20</td>\n",
       "      <td>фантастика,приключения,военный</td>\n",
       "      <td>87707397.08</td>\n",
       "      <td>200000000.00</td>\n",
       "    </tr>\n",
       "    <tr>\n",
       "      <th>5437</th>\n",
       "      <td>Матильда</td>\n",
       "      <td>111005717</td>\n",
       "      <td>2017-08-17 12:00:00+00:00</td>\n",
       "      <td>Художественный</td>\n",
       "      <td>ООО \"ТПО \"РОК\", ООО \"Матильда\"</td>\n",
       "      <td>Россия</td>\n",
       "      <td>А.Учитель</td>\n",
       "      <td>А.Учитель, А.Достман, В.Винокур</td>\n",
       "      <td>«16+» - для детей старше 16 лет</td>\n",
       "      <td>110000000.00</td>\n",
       "      <td>190000000.00</td>\n",
       "      <td>1032905957.00</td>\n",
       "      <td>Фонд кино</td>\n",
       "      <td>7.70</td>\n",
       "      <td>фэнтези,комедия,семейный</td>\n",
       "      <td>511775548.00</td>\n",
       "      <td>300000000.00</td>\n",
       "    </tr>\n",
       "    <tr>\n",
       "      <th>3255</th>\n",
       "      <td>Время первых (2017)</td>\n",
       "      <td>111001317</td>\n",
       "      <td>2017-02-21 12:00:00+00:00</td>\n",
       "      <td>Художественный</td>\n",
       "      <td>ООО \"ТаББаК\", ООО \"Студия Третий Рим\"</td>\n",
       "      <td>Россия</td>\n",
       "      <td>Д.Киселев</td>\n",
       "      <td>Т.Бекмамбетов, Е.Миронов</td>\n",
       "      <td>«6+» - для детей старше 6 лет</td>\n",
       "      <td>75000000.00</td>\n",
       "      <td>175000000.00</td>\n",
       "      <td>528441977.00</td>\n",
       "      <td>Фонд кино</td>\n",
       "      <td>7.50</td>\n",
       "      <td>приключения,триллер,биография</td>\n",
       "      <td>544332260.00</td>\n",
       "      <td>250000000.00</td>\n",
       "    </tr>\n",
       "    <tr>\n",
       "      <th>3610</th>\n",
       "      <td>Ёлки 5</td>\n",
       "      <td>111018016</td>\n",
       "      <td>2016-12-15 12:00:00+00:00</td>\n",
       "      <td>Художественный</td>\n",
       "      <td>ООО \"ТаББаК\"</td>\n",
       "      <td>Россия</td>\n",
       "      <td>Т.Бекмамбетов, И.Джендубаев, А.Котт, А.Шавкеро...</td>\n",
       "      <td>Т.Бекмамбетов, И.Стромилова, М.Затуловская</td>\n",
       "      <td>«6+» - для детей старше 6 лет</td>\n",
       "      <td>0.00</td>\n",
       "      <td>150000000.00</td>\n",
       "      <td>215162287.00</td>\n",
       "      <td>Фонд кино</td>\n",
       "      <td>4.80</td>\n",
       "      <td>семейный,комедия</td>\n",
       "      <td>308401482.70</td>\n",
       "      <td>150000000.00</td>\n",
       "    </tr>\n",
       "    <tr>\n",
       "      <th>3462</th>\n",
       "      <td>Защитники</td>\n",
       "      <td>111000717</td>\n",
       "      <td>2017-01-24 12:00:00+00:00</td>\n",
       "      <td>Художественный</td>\n",
       "      <td>ООО \"Энджой мувиз\", ООО \"РЕНОВАЦИО интертейнмент\"</td>\n",
       "      <td>Россия</td>\n",
       "      <td>С.Андреасян</td>\n",
       "      <td>С.Андреасян, Г.Андреасян, В.Поляков, А.Рязанцев</td>\n",
       "      <td>«12+» - для детей старше 12 лет</td>\n",
       "      <td>50000000.00</td>\n",
       "      <td>150000000.00</td>\n",
       "      <td>323232109.00</td>\n",
       "      <td>Фонд кино</td>\n",
       "      <td>3.00</td>\n",
       "      <td>фантастика,фэнтези,боевик</td>\n",
       "      <td>262040254.00</td>\n",
       "      <td>200000000.00</td>\n",
       "    </tr>\n",
       "    <tr>\n",
       "      <th>6855</th>\n",
       "      <td>Миллиард</td>\n",
       "      <td>111006719</td>\n",
       "      <td>2019-04-17 12:00:00+00:00</td>\n",
       "      <td>Художественный</td>\n",
       "      <td>ООО \"Медиа Юниверсал Ивент\"</td>\n",
       "      <td>Россия</td>\n",
       "      <td>Р.Прыгунов</td>\n",
       "      <td>В.Маслов, В.Верещагин, Б.Анисимов</td>\n",
       "      <td>«12+» - для детей старше 12 лет</td>\n",
       "      <td>0.00</td>\n",
       "      <td>140000000.00</td>\n",
       "      <td>240041307.00</td>\n",
       "      <td>Фонд кино</td>\n",
       "      <td>8.20</td>\n",
       "      <td>драма</td>\n",
       "      <td>408646665.70</td>\n",
       "      <td>140000000.00</td>\n",
       "    </tr>\n",
       "    <tr>\n",
       "      <th>3247</th>\n",
       "      <td>Дама Пик</td>\n",
       "      <td>111012416</td>\n",
       "      <td>2016-08-05 12:00:00+00:00</td>\n",
       "      <td>Художественный</td>\n",
       "      <td>ООО \"Мастерская Павла Лунгина\". ООО \"Арт Пикче...</td>\n",
       "      <td>Россия</td>\n",
       "      <td>П.Лунгин</td>\n",
       "      <td>П.Лунгин, Ф.Бондарчук, Д.Рудовский, Е.Панфилов</td>\n",
       "      <td>«16+» - для детей старше 16 лет</td>\n",
       "      <td>17000000.00</td>\n",
       "      <td>133000000.00</td>\n",
       "      <td>226271533.00</td>\n",
       "      <td>Министерство культуры, Фонд кино</td>\n",
       "      <td>6.00</td>\n",
       "      <td>триллер</td>\n",
       "      <td>30393100.72</td>\n",
       "      <td>150000000.00</td>\n",
       "    </tr>\n",
       "    <tr>\n",
       "      <th>6846</th>\n",
       "      <td>Братство</td>\n",
       "      <td>111006319</td>\n",
       "      <td>2019-05-10 12:00:00+00:00</td>\n",
       "      <td>Художественный</td>\n",
       "      <td>ООО \"Мастерская Павла Лунгина\"</td>\n",
       "      <td>Россия</td>\n",
       "      <td>П.Лунгин</td>\n",
       "      <td>П.Лунгин, Е.Панфилов</td>\n",
       "      <td>«16+» - для детей старше 16 лет</td>\n",
       "      <td>0.00</td>\n",
       "      <td>130000000.00</td>\n",
       "      <td>264578774.00</td>\n",
       "      <td>Фонд кино</td>\n",
       "      <td>6.60</td>\n",
       "      <td>драма,боевик,история</td>\n",
       "      <td>46350172.49</td>\n",
       "      <td>130000000.00</td>\n",
       "    </tr>\n",
       "    <tr>\n",
       "      <th>6699</th>\n",
       "      <td>Тобол</td>\n",
       "      <td>111002419</td>\n",
       "      <td>2019-02-16 12:00:00+00:00</td>\n",
       "      <td>Художественный</td>\n",
       "      <td>ООО Кинокомпания \"Соливс\" по заказу АО \"ВБД Груп\"</td>\n",
       "      <td>Россия</td>\n",
       "      <td>И.Зайцев, О.Урушев</td>\n",
       "      <td>Э.Илоян, В.Шляппо, Д.Жалинский, А.Троцюк, О.Ур...</td>\n",
       "      <td>«16+» - для детей старше 16 лет</td>\n",
       "      <td>0.00</td>\n",
       "      <td>130000000.00</td>\n",
       "      <td>499826569.00</td>\n",
       "      <td>Фонд кино</td>\n",
       "      <td>5.80</td>\n",
       "      <td>история,драма</td>\n",
       "      <td>138162876.53</td>\n",
       "      <td>130000000.00</td>\n",
       "    </tr>\n",
       "    <tr>\n",
       "      <th>6549</th>\n",
       "      <td>Т-34</td>\n",
       "      <td>111024918</td>\n",
       "      <td>2018-12-21 12:00:00+00:00</td>\n",
       "      <td>Художественный</td>\n",
       "      <td>ООО \"Кинокомпания МАРС-фильм\" по заказу ООО \"М...</td>\n",
       "      <td>Россия</td>\n",
       "      <td>А.Сидоров</td>\n",
       "      <td>А.Златопольский, Р.Дишдишян, Л.Блаватник, Н.Яр...</td>\n",
       "      <td>«12+» - для детей старше 12 лет</td>\n",
       "      <td>60000000.00</td>\n",
       "      <td>120000000.00</td>\n",
       "      <td>563784717.00</td>\n",
       "      <td>Фонд кино</td>\n",
       "      <td>6.50</td>\n",
       "      <td>драма,военный,боевик</td>\n",
       "      <td>2271754004.52</td>\n",
       "      <td>180000000.00</td>\n",
       "    </tr>\n",
       "    <tr>\n",
       "      <th>2574</th>\n",
       "      <td>Смешарики. Легенда о золотом драконе</td>\n",
       "      <td>114002815</td>\n",
       "      <td>2015-10-07 12:00:00+00:00</td>\n",
       "      <td>Анимационный</td>\n",
       "      <td>ООО \"Смешарики\"</td>\n",
       "      <td>Россия</td>\n",
       "      <td>Д.Чернов</td>\n",
       "      <td>И.Попов, Ф.Бондарчук, Д.Рудовский</td>\n",
       "      <td>«6+» - для детей старше 6 лет</td>\n",
       "      <td>40000000.00</td>\n",
       "      <td>110000000.00</td>\n",
       "      <td>240153900.00</td>\n",
       "      <td>Фонд кино</td>\n",
       "      <td>6.30</td>\n",
       "      <td>мультфильм,приключения,комедия</td>\n",
       "      <td>242403434.60</td>\n",
       "      <td>150000000.00</td>\n",
       "    </tr>\n",
       "    <tr>\n",
       "      <th>1498</th>\n",
       "      <td>Невидимки</td>\n",
       "      <td>111004213</td>\n",
       "      <td>2013-09-10 12:00:00+00:00</td>\n",
       "      <td>Художественный</td>\n",
       "      <td>ООО \"Компания \"РЕАЛ-ДАКОТА\"</td>\n",
       "      <td>Россия</td>\n",
       "      <td>Р.Давлетьяров, С.Комаров</td>\n",
       "      <td>Р.Давлетьяров, А.Котелевский, А.Олейников</td>\n",
       "      <td>«12+» - для детей старше 12 лет</td>\n",
       "      <td>0.00</td>\n",
       "      <td>107847945.00</td>\n",
       "      <td>176023490.00</td>\n",
       "      <td>Фонд кино</td>\n",
       "      <td>5.30</td>\n",
       "      <td>комедия,фантастика</td>\n",
       "      <td>19957031.50</td>\n",
       "      <td>107847945.00</td>\n",
       "    </tr>\n",
       "    <tr>\n",
       "      <th>6313</th>\n",
       "      <td>Крымский мост. Сделано с любовью</td>\n",
       "      <td>111020018</td>\n",
       "      <td>2018-10-29 12:00:00+00:00</td>\n",
       "      <td>Художественный</td>\n",
       "      <td>ООО \"Студия \"8 рядов\"</td>\n",
       "      <td>Россия</td>\n",
       "      <td>Т.Кеосаян</td>\n",
       "      <td>Д.Кеосаян</td>\n",
       "      <td>«12+» - для детей старше 12 лет</td>\n",
       "      <td>0.00</td>\n",
       "      <td>100000000.00</td>\n",
       "      <td>154245687.00</td>\n",
       "      <td>Фонд кино</td>\n",
       "      <td>2.50</td>\n",
       "      <td>комедия,мелодрама</td>\n",
       "      <td>70798668.90</td>\n",
       "      <td>100000000.00</td>\n",
       "    </tr>\n",
       "    <tr>\n",
       "      <th>7254</th>\n",
       "      <td>Герой</td>\n",
       "      <td>111015819</td>\n",
       "      <td>2019-09-26 12:00:00+00:00</td>\n",
       "      <td>Художественный</td>\n",
       "      <td>ООО \"Карго\"</td>\n",
       "      <td>Россия</td>\n",
       "      <td>К.Оганисян</td>\n",
       "      <td>К.Оганисян</td>\n",
       "      <td>«12+» - для детей старше 12 лет</td>\n",
       "      <td>20000000.00</td>\n",
       "      <td>100000000.00</td>\n",
       "      <td>250000000.00</td>\n",
       "      <td>Фонд кино</td>\n",
       "      <td>7.90</td>\n",
       "      <td>фэнтези,боевик,драма</td>\n",
       "      <td>172871342.04</td>\n",
       "      <td>120000000.00</td>\n",
       "    </tr>\n",
       "    <tr>\n",
       "      <th>5869</th>\n",
       "      <td>Черновик</td>\n",
       "      <td>111004718</td>\n",
       "      <td>2018-05-25 12:00:00+00:00</td>\n",
       "      <td>Художественный</td>\n",
       "      <td>ООО \"Компания \"Новые люди\"</td>\n",
       "      <td>Россия</td>\n",
       "      <td>С.Мокрицкий</td>\n",
       "      <td>Н.Мокрицкая</td>\n",
       "      <td>«12+» - для детей старше 12 лет</td>\n",
       "      <td>40000000.00</td>\n",
       "      <td>100000000.00</td>\n",
       "      <td>200067392.00</td>\n",
       "      <td>Фонд кино</td>\n",
       "      <td>4.90</td>\n",
       "      <td>фантастика</td>\n",
       "      <td>204158417.05</td>\n",
       "      <td>140000000.00</td>\n",
       "    </tr>\n",
       "    <tr>\n",
       "      <th>3558</th>\n",
       "      <td>СНЕЖНАЯ КОРОЛЕВА 3. ОГОНЬ И ЛЁД</td>\n",
       "      <td>114003516</td>\n",
       "      <td>2016-11-03 12:00:00+00:00</td>\n",
       "      <td>Анимационный</td>\n",
       "      <td>ООО \"ВИЗАРТ ФИЛЬМ\"</td>\n",
       "      <td>Россия</td>\n",
       "      <td>А.Цицилин</td>\n",
       "      <td>ООО \"ВИЗАРТ ФИЛЬМ\"</td>\n",
       "      <td>«6+» - для детей старше 6 лет</td>\n",
       "      <td>60000000.00</td>\n",
       "      <td>100000000.00</td>\n",
       "      <td>243122945.00</td>\n",
       "      <td>Фонд кино</td>\n",
       "      <td>6.10</td>\n",
       "      <td>мультфильм,комедия,приключения</td>\n",
       "      <td>31517776.73</td>\n",
       "      <td>160000000.00</td>\n",
       "    </tr>\n",
       "    <tr>\n",
       "      <th>1870</th>\n",
       "      <td>А зори здесь тихие..._</td>\n",
       "      <td>111002915</td>\n",
       "      <td>2015-03-16 12:00:00+00:00</td>\n",
       "      <td>Художественный</td>\n",
       "      <td>ООО \"Компания \"Реал-Дакота\"</td>\n",
       "      <td>Россия</td>\n",
       "      <td>Р.Давлетьяров</td>\n",
       "      <td>unkn</td>\n",
       "      <td>«12+» - для детей старше 12 лет</td>\n",
       "      <td>50000000.00</td>\n",
       "      <td>100000000.00</td>\n",
       "      <td>220588394.00</td>\n",
       "      <td>Фонд кино</td>\n",
       "      <td>8.50</td>\n",
       "      <td>драма,военный,история</td>\n",
       "      <td>249166767.70</td>\n",
       "      <td>150000000.00</td>\n",
       "    </tr>\n",
       "    <tr>\n",
       "      <th>6144</th>\n",
       "      <td>Семь пар нечистых</td>\n",
       "      <td>111015218</td>\n",
       "      <td>2018-08-15 12:00:00+00:00</td>\n",
       "      <td>Художественный</td>\n",
       "      <td>ООО \"Киностудия \"АРК-ФИЛЬМ\"</td>\n",
       "      <td>Россия</td>\n",
       "      <td>К.Белевич (псевдоним - Кирилл Астахов), Г.Ильин</td>\n",
       "      <td>Д.Потемкин</td>\n",
       "      <td>«16+» - для детей старше 16 лет</td>\n",
       "      <td>19000000.00</td>\n",
       "      <td>100000000.00</td>\n",
       "      <td>181302726.00</td>\n",
       "      <td>Фонд кино</td>\n",
       "      <td>5.90</td>\n",
       "      <td>боевик,драма,военный</td>\n",
       "      <td>807011.50</td>\n",
       "      <td>119000000.00</td>\n",
       "    </tr>\n",
       "  </tbody>\n",
       "</table>\n",
       "</div>"
      ],
      "text/plain": [
       "                                     title   puNumber  \\\n",
       "5653                        Движение вверх  111011817   \n",
       "7464                         Союз спасения  111022019   \n",
       "2920                              Экипаж .  111005416   \n",
       "6887                               Девятая  111007019   \n",
       "3351                               Дуэлянт  111015416   \n",
       "5826                                Тренер  111003218   \n",
       "5569                   Легенда о Коловрате  111007617   \n",
       "2699                           Он - Дракон  111017915   \n",
       "5502                               Салют-7  111006917   \n",
       "7290               Урфин Джюс возвращается  114004019   \n",
       "3627                               БОЛЬШОЙ  111017416   \n",
       "3453                               Ледокол  111016316   \n",
       "5690                                 Рубеж  111012317   \n",
       "5437                              Матильда  111005717   \n",
       "3255                   Время первых (2017)  111001317   \n",
       "3610                                Ёлки 5  111018016   \n",
       "3462                             Защитники  111000717   \n",
       "6855                              Миллиард  111006719   \n",
       "3247                              Дама Пик  111012416   \n",
       "6846                              Братство  111006319   \n",
       "6699                                 Тобол  111002419   \n",
       "6549                                  Т-34  111024918   \n",
       "2574  Смешарики. Легенда о золотом драконе  114002815   \n",
       "1498                             Невидимки  111004213   \n",
       "6313      Крымский мост. Сделано с любовью  111020018   \n",
       "7254                                 Герой  111015819   \n",
       "5869                              Черновик  111004718   \n",
       "3558       СНЕЖНАЯ КОРОЛЕВА 3. ОГОНЬ И ЛЁД  114003516   \n",
       "1870                А зори здесь тихие..._  111002915   \n",
       "6144                     Семь пар нечистых  111015218   \n",
       "\n",
       "               show_start_date            type  \\\n",
       "5653 2017-12-21 12:00:00+00:00  Художественный   \n",
       "7464 2019-12-26 12:00:00+00:00  Художественный   \n",
       "2920 2016-03-21 12:00:00+00:00  Художественный   \n",
       "6887 2019-09-19 12:00:00+00:00  Художественный   \n",
       "3351 2016-09-14 12:00:00+00:00  Художественный   \n",
       "5826 2018-04-19 12:00:00+00:00  Художественный   \n",
       "5569 2017-11-30 12:00:00+00:00  Художественный   \n",
       "2699 2015-10-14 12:00:00+00:00  Художественный   \n",
       "5502 2017-10-01 12:00:00+00:00  Художественный   \n",
       "7290 2019-10-14 12:00:00+00:00    Анимационный   \n",
       "3627 2016-11-22 12:00:00+00:00  Художественный   \n",
       "3453 2016-10-11 12:00:00+00:00  Художественный   \n",
       "5690 2018-02-22 12:00:00+00:00  Художественный   \n",
       "5437 2017-08-17 12:00:00+00:00  Художественный   \n",
       "3255 2017-02-21 12:00:00+00:00  Художественный   \n",
       "3610 2016-12-15 12:00:00+00:00  Художественный   \n",
       "3462 2017-01-24 12:00:00+00:00  Художественный   \n",
       "6855 2019-04-17 12:00:00+00:00  Художественный   \n",
       "3247 2016-08-05 12:00:00+00:00  Художественный   \n",
       "6846 2019-05-10 12:00:00+00:00  Художественный   \n",
       "6699 2019-02-16 12:00:00+00:00  Художественный   \n",
       "6549 2018-12-21 12:00:00+00:00  Художественный   \n",
       "2574 2015-10-07 12:00:00+00:00    Анимационный   \n",
       "1498 2013-09-10 12:00:00+00:00  Художественный   \n",
       "6313 2018-10-29 12:00:00+00:00  Художественный   \n",
       "7254 2019-09-26 12:00:00+00:00  Художественный   \n",
       "5869 2018-05-25 12:00:00+00:00  Художественный   \n",
       "3558 2016-11-03 12:00:00+00:00    Анимационный   \n",
       "1870 2015-03-16 12:00:00+00:00  Художественный   \n",
       "6144 2018-08-15 12:00:00+00:00  Художественный   \n",
       "\n",
       "                                            film_studio production_country  \\\n",
       "5653              ООО \"Студия \"ТРИТЭ\" Никиты Михалкова\"             Россия   \n",
       "7464                                ЗАО \"Дирекция кино\"             Россия   \n",
       "2920              ООО \"Студия \"ТРИТЭ\" Никиты Михалкова\"             Россия   \n",
       "6887                            ООО \"Нон-Стоп Продакшн\"             Россия   \n",
       "3351                            ООО \"Нон-Стоп Продакшн\"             Россия   \n",
       "5826  ООО \"ДК интертеймент\", ООО \"Киностудия \"Слово\"...             Россия   \n",
       "5569                      ООО \"Продюсерский центр ИВАН\"             Россия   \n",
       "2699                                       ООО \"ТаББаК\"             Россия   \n",
       "5502                           ООО \"Лемон Филмз Студио\"             Россия   \n",
       "7290          ООО \"Студия анимационного кино \"Мельница\"             Россия   \n",
       "3627   ЗАО \"ПРОДЮСЕРСКАЯ КОМПАНИЯ ВАЛЕРИЯ ТОДОРОВСКОГО\"             Россия   \n",
       "3453          ООО \"Продюсерская фирма Игоря Толстунова\"             Россия   \n",
       "5690                               ООО \"Киностудия КИТ\"             Россия   \n",
       "5437                     ООО \"ТПО \"РОК\", ООО \"Матильда\"             Россия   \n",
       "3255              ООО \"ТаББаК\", ООО \"Студия Третий Рим\"             Россия   \n",
       "3610                                       ООО \"ТаББаК\"             Россия   \n",
       "3462  ООО \"Энджой мувиз\", ООО \"РЕНОВАЦИО интертейнмент\"             Россия   \n",
       "6855                        ООО \"Медиа Юниверсал Ивент\"             Россия   \n",
       "3247  ООО \"Мастерская Павла Лунгина\". ООО \"Арт Пикче...             Россия   \n",
       "6846                     ООО \"Мастерская Павла Лунгина\"             Россия   \n",
       "6699  ООО Кинокомпания \"Соливс\" по заказу АО \"ВБД Груп\"             Россия   \n",
       "6549  ООО \"Кинокомпания МАРС-фильм\" по заказу ООО \"М...             Россия   \n",
       "2574                                    ООО \"Смешарики\"             Россия   \n",
       "1498                        ООО \"Компания \"РЕАЛ-ДАКОТА\"             Россия   \n",
       "6313                              ООО \"Студия \"8 рядов\"             Россия   \n",
       "7254                                        ООО \"Карго\"             Россия   \n",
       "5869                         ООО \"Компания \"Новые люди\"             Россия   \n",
       "3558                                 ООО \"ВИЗАРТ ФИЛЬМ\"             Россия   \n",
       "1870                        ООО \"Компания \"Реал-Дакота\"             Россия   \n",
       "6144                        ООО \"Киностудия \"АРК-ФИЛЬМ\"             Россия   \n",
       "\n",
       "                                               director  \\\n",
       "5653                                       А.Мегердичев   \n",
       "7464                                          А.Кравчук   \n",
       "2920                                          Н.Лебедев   \n",
       "6887                                         Н.Хомерики   \n",
       "3351                                         А.Мизгирев   \n",
       "5826                                       Д.Козловский   \n",
       "5569                                      И.Шурховецкий   \n",
       "2699                                       И.Джендубаев   \n",
       "5502                                          К.Шипенко   \n",
       "7290                                         Ф.Дмитриев   \n",
       "3627                                      В.Тодоровский   \n",
       "3453                                         Н.Хомерики   \n",
       "5690                                            Д.Тюрин   \n",
       "5437                                          А.Учитель   \n",
       "3255                                          Д.Киселев   \n",
       "3610  Т.Бекмамбетов, И.Джендубаев, А.Котт, А.Шавкеро...   \n",
       "3462                                        С.Андреасян   \n",
       "6855                                         Р.Прыгунов   \n",
       "3247                                           П.Лунгин   \n",
       "6846                                           П.Лунгин   \n",
       "6699                                 И.Зайцев, О.Урушев   \n",
       "6549                                          А.Сидоров   \n",
       "2574                                           Д.Чернов   \n",
       "1498                           Р.Давлетьяров, С.Комаров   \n",
       "6313                                          Т.Кеосаян   \n",
       "7254                                         К.Оганисян   \n",
       "5869                                        С.Мокрицкий   \n",
       "3558                                          А.Цицилин   \n",
       "1870                                      Р.Давлетьяров   \n",
       "6144    К.Белевич (псевдоним - Кирилл Астахов), Г.Ильин   \n",
       "\n",
       "                                               producer  \\\n",
       "5653  Л.Верещагин, А.Златопольский, Н.Михалков, ООО ...   \n",
       "7464                                А.Максимов, К.Эрнст   \n",
       "2920  Л.Верещагин, А.Златопольский, Н.Михалков, ООО ...   \n",
       "6887                          С.Мелькумов, А.Роднянский   \n",
       "3351                          А.Роднянский, С.Мелькумов   \n",
       "5826  Д.Козловский, П.Ануров, Л.Верещагин, А.Златопо...   \n",
       "5569  ООО \"Централ Партнершип\",              АО \"Тел...   \n",
       "2699                                      Т.Бекмамбетов   \n",
       "5502           С.Сельянов, Б.Бакурадзе, А.Златопольский   \n",
       "7290                             С.Сельянов, А.Боярский   \n",
       "3627                     В.Тодоровский, А.Златопольский   \n",
       "3453                              И.Толстунов, С.Козлов   \n",
       "5690                           ООО \"Централ Партнершип\"   \n",
       "5437                    А.Учитель, А.Достман, В.Винокур   \n",
       "3255                           Т.Бекмамбетов, Е.Миронов   \n",
       "3610         Т.Бекмамбетов, И.Стромилова, М.Затуловская   \n",
       "3462    С.Андреасян, Г.Андреасян, В.Поляков, А.Рязанцев   \n",
       "6855                  В.Маслов, В.Верещагин, Б.Анисимов   \n",
       "3247     П.Лунгин, Ф.Бондарчук, Д.Рудовский, Е.Панфилов   \n",
       "6846                               П.Лунгин, Е.Панфилов   \n",
       "6699  Э.Илоян, В.Шляппо, Д.Жалинский, А.Троцюк, О.Ур...   \n",
       "6549  А.Златопольский, Р.Дишдишян, Л.Блаватник, Н.Яр...   \n",
       "2574                  И.Попов, Ф.Бондарчук, Д.Рудовский   \n",
       "1498          Р.Давлетьяров, А.Котелевский, А.Олейников   \n",
       "6313                                          Д.Кеосаян   \n",
       "7254                                         К.Оганисян   \n",
       "5869                                        Н.Мокрицкая   \n",
       "3558                                 ООО \"ВИЗАРТ ФИЛЬМ\"   \n",
       "1870                                               unkn   \n",
       "6144                                         Д.Потемкин   \n",
       "\n",
       "                      age_restriction  refundable_support  \\\n",
       "5653    «6+» - для детей старше 6 лет                0.00   \n",
       "7464  «12+» - для детей старше 12 лет        100000000.00   \n",
       "2920    «6+» - для детей старше 6 лет         50000000.00   \n",
       "6887  «16+» - для детей старше 16 лет                0.00   \n",
       "3351  «16+» - для детей старше 16 лет        150000000.00   \n",
       "5826  «12+» - для детей старше 12 лет                0.00   \n",
       "5569  «12+» - для детей старше 12 лет        100000000.00   \n",
       "2699    «6+» - для детей старше 6 лет                0.00   \n",
       "5502  «12+» - для детей старше 12 лет                0.00   \n",
       "7290    «6+» - для детей старше 6 лет                0.00   \n",
       "3627  «12+» - для детей старше 12 лет         10000000.00   \n",
       "3453  «12+» - для детей старше 12 лет        100000000.00   \n",
       "5690  «12+» - для детей старше 12 лет                0.00   \n",
       "5437  «16+» - для детей старше 16 лет        110000000.00   \n",
       "3255    «6+» - для детей старше 6 лет         75000000.00   \n",
       "3610    «6+» - для детей старше 6 лет                0.00   \n",
       "3462  «12+» - для детей старше 12 лет         50000000.00   \n",
       "6855  «12+» - для детей старше 12 лет                0.00   \n",
       "3247  «16+» - для детей старше 16 лет         17000000.00   \n",
       "6846  «16+» - для детей старше 16 лет                0.00   \n",
       "6699  «16+» - для детей старше 16 лет                0.00   \n",
       "6549  «12+» - для детей старше 12 лет         60000000.00   \n",
       "2574    «6+» - для детей старше 6 лет         40000000.00   \n",
       "1498  «12+» - для детей старше 12 лет                0.00   \n",
       "6313  «12+» - для детей старше 12 лет                0.00   \n",
       "7254  «12+» - для детей старше 12 лет         20000000.00   \n",
       "5869  «12+» - для детей старше 12 лет         40000000.00   \n",
       "3558    «6+» - для детей старше 6 лет         60000000.00   \n",
       "1870  «12+» - для детей старше 12 лет         50000000.00   \n",
       "6144  «16+» - для детей старше 16 лет         19000000.00   \n",
       "\n",
       "      nonrefundable_support        budget                  financing_source  \\\n",
       "5653           400000000.00  590192191.00                         Фонд кино   \n",
       "7464           400000000.00  980000000.00                         Фонд кино   \n",
       "2920           392104482.00  635283867.00                         Фонд кино   \n",
       "6887           300000000.00  453704666.00                         Фонд кино   \n",
       "3351           300000000.00  684200536.00                         Фонд кино   \n",
       "5826           260000000.00  390191139.00                         Фонд кино   \n",
       "5569           250000000.00  500012729.00                         Фонд кино   \n",
       "2699           250000000.00  360000000.00                         Фонд кино   \n",
       "5502           225000000.00  493733957.00                         Фонд кино   \n",
       "7290           200000000.00  300000000.00                         Фонд кино   \n",
       "3627           200000000.00  320000000.00                         Фонд кино   \n",
       "3453           200000000.00  430000000.00                         Фонд кино   \n",
       "5690           200000000.00  292412422.00                         Фонд кино   \n",
       "5437           190000000.00 1032905957.00                         Фонд кино   \n",
       "3255           175000000.00  528441977.00                         Фонд кино   \n",
       "3610           150000000.00  215162287.00                         Фонд кино   \n",
       "3462           150000000.00  323232109.00                         Фонд кино   \n",
       "6855           140000000.00  240041307.00                         Фонд кино   \n",
       "3247           133000000.00  226271533.00  Министерство культуры, Фонд кино   \n",
       "6846           130000000.00  264578774.00                         Фонд кино   \n",
       "6699           130000000.00  499826569.00                         Фонд кино   \n",
       "6549           120000000.00  563784717.00                         Фонд кино   \n",
       "2574           110000000.00  240153900.00                         Фонд кино   \n",
       "1498           107847945.00  176023490.00                         Фонд кино   \n",
       "6313           100000000.00  154245687.00                         Фонд кино   \n",
       "7254           100000000.00  250000000.00                         Фонд кино   \n",
       "5869           100000000.00  200067392.00                         Фонд кино   \n",
       "3558           100000000.00  243122945.00                         Фонд кино   \n",
       "1870           100000000.00  220588394.00                         Фонд кино   \n",
       "6144           100000000.00  181302726.00                         Фонд кино   \n",
       "\n",
       "     ratings                          genres    box_office          sum  \n",
       "5653    7.50                     спорт,драма 2779686144.00 400000000.00  \n",
       "7464    6.00         история,биография,драма  717703185.53 500000000.00  \n",
       "2920    7.60       драма,триллер,приключения 1402255390.00 442104482.00  \n",
       "6887    5.80       детектив,триллер,криминал   55876887.40 300000000.00  \n",
       "3351    6.60                           драма  364285139.60 450000000.00  \n",
       "5826    6.80                     драма,спорт  820528005.21 260000000.00  \n",
       "5569    6.40          история,боевик,фэнтези  590405065.00 350000000.00  \n",
       "2699    6.80                         фэнтези  110171448.50 250000000.00  \n",
       "5502    7.40       драма,приключения,триллер  752679777.00 225000000.00  \n",
       "7290    6.20              мультфильм,детский   68549523.47 200000000.00  \n",
       "3627    8.50         криминал,комедия,боевик  228578204.00 210000000.00  \n",
       "3453    6.50                           драма  337069662.80 300000000.00  \n",
       "5690    6.20  фантастика,приключения,военный   87707397.08 200000000.00  \n",
       "5437    7.70        фэнтези,комедия,семейный  511775548.00 300000000.00  \n",
       "3255    7.50   приключения,триллер,биография  544332260.00 250000000.00  \n",
       "3610    4.80                семейный,комедия  308401482.70 150000000.00  \n",
       "3462    3.00       фантастика,фэнтези,боевик  262040254.00 200000000.00  \n",
       "6855    8.20                           драма  408646665.70 140000000.00  \n",
       "3247    6.00                         триллер   30393100.72 150000000.00  \n",
       "6846    6.60            драма,боевик,история   46350172.49 130000000.00  \n",
       "6699    5.80                   история,драма  138162876.53 130000000.00  \n",
       "6549    6.50            драма,военный,боевик 2271754004.52 180000000.00  \n",
       "2574    6.30  мультфильм,приключения,комедия  242403434.60 150000000.00  \n",
       "1498    5.30              комедия,фантастика   19957031.50 107847945.00  \n",
       "6313    2.50               комедия,мелодрама   70798668.90 100000000.00  \n",
       "7254    7.90            фэнтези,боевик,драма  172871342.04 120000000.00  \n",
       "5869    4.90                      фантастика  204158417.05 140000000.00  \n",
       "3558    6.10  мультфильм,комедия,приключения   31517776.73 160000000.00  \n",
       "1870    8.50           драма,военный,история  249166767.70 150000000.00  \n",
       "6144    5.90            боевик,драма,военный     807011.50 119000000.00  "
      ]
     },
     "execution_count": 42,
     "metadata": {},
     "output_type": "execute_result"
    }
   ],
   "source": [
    "data[data['nonrefundable_support'] >= 100000000].sort_values(by = 'nonrefundable_support', ascending = False)"
   ]
  },
  {
   "cell_type": "code",
   "execution_count": 43,
   "metadata": {},
   "outputs": [
    {
     "data": {
      "text/html": [
       "<div>\n",
       "<style scoped>\n",
       "    .dataframe tbody tr th:only-of-type {\n",
       "        vertical-align: middle;\n",
       "    }\n",
       "\n",
       "    .dataframe tbody tr th {\n",
       "        vertical-align: top;\n",
       "    }\n",
       "\n",
       "    .dataframe thead th {\n",
       "        text-align: right;\n",
       "    }\n",
       "</style>\n",
       "<table border=\"1\" class=\"dataframe\">\n",
       "  <thead>\n",
       "    <tr style=\"text-align: right;\">\n",
       "      <th></th>\n",
       "      <th>title</th>\n",
       "      <th>puNumber</th>\n",
       "      <th>show_start_date</th>\n",
       "      <th>type</th>\n",
       "      <th>film_studio</th>\n",
       "      <th>production_country</th>\n",
       "      <th>director</th>\n",
       "      <th>producer</th>\n",
       "      <th>age_restriction</th>\n",
       "      <th>refundable_support</th>\n",
       "      <th>nonrefundable_support</th>\n",
       "      <th>budget</th>\n",
       "      <th>financing_source</th>\n",
       "      <th>ratings</th>\n",
       "      <th>genres</th>\n",
       "      <th>box_office</th>\n",
       "      <th>sum</th>\n",
       "    </tr>\n",
       "  </thead>\n",
       "  <tbody>\n",
       "    <tr>\n",
       "      <th>3337</th>\n",
       "      <td>Любовь и Сакс</td>\n",
       "      <td>111001217</td>\n",
       "      <td>2017-02-16 12:00:00+00:00</td>\n",
       "      <td>Художественный</td>\n",
       "      <td>ООО \"ДжемСтудия\"</td>\n",
       "      <td>Россия</td>\n",
       "      <td>А.Сурикова</td>\n",
       "      <td>А.Голутва</td>\n",
       "      <td>«12+» - для детей старше 12 лет</td>\n",
       "      <td>0.00</td>\n",
       "      <td>10000000.00</td>\n",
       "      <td>61000000.00</td>\n",
       "      <td>Министерство культуры</td>\n",
       "      <td>5.20</td>\n",
       "      <td>мелодрама</td>\n",
       "      <td>NaN</td>\n",
       "      <td>10000000.00</td>\n",
       "    </tr>\n",
       "    <tr>\n",
       "      <th>2146</th>\n",
       "      <td>Главный</td>\n",
       "      <td>111003415</td>\n",
       "      <td>2015-03-27 12:00:00+00:00</td>\n",
       "      <td>Художественный</td>\n",
       "      <td>ООО \"Киностудия \"МАСТЕР\"</td>\n",
       "      <td>Россия</td>\n",
       "      <td>Ю.Кара</td>\n",
       "      <td>Ю.Кара</td>\n",
       "      <td>«6+» - для детей старше 6 лет</td>\n",
       "      <td>0.00</td>\n",
       "      <td>10000000.00</td>\n",
       "      <td>40000000.00</td>\n",
       "      <td>Министерство культуры</td>\n",
       "      <td>9.40</td>\n",
       "      <td>фантастика,боевик,комедия</td>\n",
       "      <td>334750.00</td>\n",
       "      <td>10000000.00</td>\n",
       "    </tr>\n",
       "    <tr>\n",
       "      <th>3609</th>\n",
       "      <td>Все о мужчинах</td>\n",
       "      <td>111012716</td>\n",
       "      <td>2016-08-17 12:00:00+00:00</td>\n",
       "      <td>Художественный</td>\n",
       "      <td>ООО \"Фреш-Фильм\", ООО \"Энджой мувиз\"</td>\n",
       "      <td>Россия</td>\n",
       "      <td>Л.Марголин, С.Андреасян, М.Жерневский</td>\n",
       "      <td>С.Андреасян, Г.Андреасян, А.Ананикян, М.Галуст...</td>\n",
       "      <td>«16+» - для детей старше 16 лет</td>\n",
       "      <td>10000000.00</td>\n",
       "      <td>10000000.00</td>\n",
       "      <td>31305313.00</td>\n",
       "      <td>Фонд кино</td>\n",
       "      <td>4.90</td>\n",
       "      <td>комедия</td>\n",
       "      <td>62260863.65</td>\n",
       "      <td>20000000.00</td>\n",
       "    </tr>\n",
       "    <tr>\n",
       "      <th>7042</th>\n",
       "      <td>Ленин Неизбежность</td>\n",
       "      <td>111010619</td>\n",
       "      <td>2019-07-01 12:00:00+00:00</td>\n",
       "      <td>Художественный</td>\n",
       "      <td>ООО \"Студия \"Рой\"</td>\n",
       "      <td>Россия</td>\n",
       "      <td>В.Хотиненко</td>\n",
       "      <td>В.Хотиненко, Д.Литвинов</td>\n",
       "      <td>«16+» - для детей старше 16 лет</td>\n",
       "      <td>0.00</td>\n",
       "      <td>10000000.00</td>\n",
       "      <td>15010000.00</td>\n",
       "      <td>Министерство культуры</td>\n",
       "      <td>5.40</td>\n",
       "      <td>драма,история,биография</td>\n",
       "      <td>1957979.50</td>\n",
       "      <td>10000000.00</td>\n",
       "    </tr>\n",
       "    <tr>\n",
       "      <th>5576</th>\n",
       "      <td>Исповедь содержанки</td>\n",
       "      <td>111007817</td>\n",
       "      <td>2017-11-30 12:00:00+00:00</td>\n",
       "      <td>Художественный</td>\n",
       "      <td>ООО \"Корпорация Русская Фильм Группа\", ООО \"Ма...</td>\n",
       "      <td>Россия</td>\n",
       "      <td>Е.Жигаева</td>\n",
       "      <td>ООО \"Корпорация Русская Фильм Группа\", ООО \"Ма...</td>\n",
       "      <td>«18+» - запрещено для детей</td>\n",
       "      <td>0.00</td>\n",
       "      <td>8000000.00</td>\n",
       "      <td>18166418.00</td>\n",
       "      <td>Министерство культуры</td>\n",
       "      <td>5.40</td>\n",
       "      <td>мелодрама,криминал</td>\n",
       "      <td>270497.00</td>\n",
       "      <td>8000000.00</td>\n",
       "    </tr>\n",
       "    <tr>\n",
       "      <th>5600</th>\n",
       "      <td>За гранью реальности</td>\n",
       "      <td>111010817</td>\n",
       "      <td>2017-11-27 12:00:00+00:00</td>\n",
       "      <td>Художественный</td>\n",
       "      <td>ООО \"КИНОДАНЦ\"</td>\n",
       "      <td>Россия</td>\n",
       "      <td>А.Богуславский</td>\n",
       "      <td>В.Денисюк, Е.Мелентьев</td>\n",
       "      <td>«12+» - для детей старше 12 лет</td>\n",
       "      <td>0.00</td>\n",
       "      <td>6000000.00</td>\n",
       "      <td>136230333.00</td>\n",
       "      <td>Министерство культуры</td>\n",
       "      <td>5.20</td>\n",
       "      <td>приключения,фэнтези</td>\n",
       "      <td>126713450.16</td>\n",
       "      <td>6000000.00</td>\n",
       "    </tr>\n",
       "    <tr>\n",
       "      <th>3732</th>\n",
       "      <td>Танцы насмерть</td>\n",
       "      <td>111013416</td>\n",
       "      <td>2016-08-31 12:00:00+00:00</td>\n",
       "      <td>Художественный</td>\n",
       "      <td>ООО \"КИНОДАНЦ\", ООО \"ЦЕНТРОКИНО\"</td>\n",
       "      <td>Россия</td>\n",
       "      <td>А.Волгин</td>\n",
       "      <td>В.Денисюк, Е.Мелентьев</td>\n",
       "      <td>«12+» - для детей старше 12 лет</td>\n",
       "      <td>0.00</td>\n",
       "      <td>6000000.00</td>\n",
       "      <td>90278063.00</td>\n",
       "      <td>Министерство культуры</td>\n",
       "      <td>4.00</td>\n",
       "      <td>фантастика</td>\n",
       "      <td>9680744.00</td>\n",
       "      <td>6000000.00</td>\n",
       "    </tr>\n",
       "    <tr>\n",
       "      <th>3142</th>\n",
       "      <td>Тайна Снежной королевы</td>\n",
       "      <td>111021615</td>\n",
       "      <td>2015-12-25 12:00:00+00:00</td>\n",
       "      <td>Художественный</td>\n",
       "      <td>ООО \"Продюсерский центр \"ЗОЛОТОЙ ВЕК\"</td>\n",
       "      <td>Россия</td>\n",
       "      <td>Н.Бондарчук</td>\n",
       "      <td>С.Кабанова</td>\n",
       "      <td>«6+» - для детей старше 6 лет</td>\n",
       "      <td>20000000.00</td>\n",
       "      <td>5300000.00</td>\n",
       "      <td>215860000.00</td>\n",
       "      <td>Министерство культуры, Фонд кино</td>\n",
       "      <td>7.20</td>\n",
       "      <td>мюзикл,фэнтези,семейный</td>\n",
       "      <td>1434072.50</td>\n",
       "      <td>25300000.00</td>\n",
       "    </tr>\n",
       "    <tr>\n",
       "      <th>2517</th>\n",
       "      <td>Норвег</td>\n",
       "      <td>111018215</td>\n",
       "      <td>2015-10-15 12:00:00+00:00</td>\n",
       "      <td>Художественный</td>\n",
       "      <td>ООО \"Росмедиа Продакшн\" по заказу ООО \"МАРС МЕ...</td>\n",
       "      <td>Россия</td>\n",
       "      <td>Е.Константинова (псевдоним Алена Званцева)</td>\n",
       "      <td>Р.Дишдишян, ООО \"ММЕ\"</td>\n",
       "      <td>«12+» - для детей старше 12 лет</td>\n",
       "      <td>0.00</td>\n",
       "      <td>5000000.00</td>\n",
       "      <td>28115580.00</td>\n",
       "      <td>Министерство культуры</td>\n",
       "      <td>6.30</td>\n",
       "      <td>комедия</td>\n",
       "      <td>2323980.00</td>\n",
       "      <td>5000000.00</td>\n",
       "    </tr>\n",
       "    <tr>\n",
       "      <th>5734</th>\n",
       "      <td>Ну, здравствуй, Оксана Соколова!</td>\n",
       "      <td>111001118</td>\n",
       "      <td>2018-03-06 12:00:00+00:00</td>\n",
       "      <td>Художественный</td>\n",
       "      <td>ООО \"Продюсерская фирма Игоря Толстунова\"</td>\n",
       "      <td>Россия</td>\n",
       "      <td>К.Васильев</td>\n",
       "      <td>И.Толстунов, П.Попов, А.Рыданов</td>\n",
       "      <td>«16+» - для детей старше 16 лет</td>\n",
       "      <td>50000000.00</td>\n",
       "      <td>5000000.00</td>\n",
       "      <td>82800488.00</td>\n",
       "      <td>Фонд кино</td>\n",
       "      <td>5.80</td>\n",
       "      <td>комедия</td>\n",
       "      <td>80289852.90</td>\n",
       "      <td>55000000.00</td>\n",
       "    </tr>\n",
       "    <tr>\n",
       "      <th>2288</th>\n",
       "      <td>12 месяцев. Новая сказка</td>\n",
       "      <td>111014414</td>\n",
       "      <td>2014-10-16 12:00:00+00:00</td>\n",
       "      <td>Художественный</td>\n",
       "      <td>ООО \"Киностудия \"Никола-фильм\", ООО \"Инвестмен...</td>\n",
       "      <td>Россия</td>\n",
       "      <td>Д.Елеонский</td>\n",
       "      <td>И.Каленов</td>\n",
       "      <td>«0+» - для любой зрительской аудитории</td>\n",
       "      <td>15000000.00</td>\n",
       "      <td>5000000.00</td>\n",
       "      <td>90120000.00</td>\n",
       "      <td>Фонд кино</td>\n",
       "      <td>3.80</td>\n",
       "      <td>семейный,фэнтези</td>\n",
       "      <td>32244810.00</td>\n",
       "      <td>20000000.00</td>\n",
       "    </tr>\n",
       "    <tr>\n",
       "      <th>3139</th>\n",
       "      <td>Я умею вязать</td>\n",
       "      <td>111019615</td>\n",
       "      <td>2015-11-27 12:00:00+00:00</td>\n",
       "      <td>Художественный</td>\n",
       "      <td>ООО \"Белое Зеркало\"</td>\n",
       "      <td>Россия</td>\n",
       "      <td>Н.Степанова при участии С.Иванова</td>\n",
       "      <td>С.Кикнавелидзе, Д.Улюкаев</td>\n",
       "      <td>«16+» - для детей старше 16 лет</td>\n",
       "      <td>0.00</td>\n",
       "      <td>4700000.00</td>\n",
       "      <td>14462464.00</td>\n",
       "      <td>Министерство культуры</td>\n",
       "      <td>9.00</td>\n",
       "      <td>драма</td>\n",
       "      <td>801370.00</td>\n",
       "      <td>4700000.00</td>\n",
       "    </tr>\n",
       "    <tr>\n",
       "      <th>7180</th>\n",
       "      <td>Байкал - Сердце мира 3D</td>\n",
       "      <td>112004619</td>\n",
       "      <td>2019-11-01 12:00:00+00:00</td>\n",
       "      <td>Документальный</td>\n",
       "      <td>ООО \"Продюсерский центр \"Новое Время\"</td>\n",
       "      <td>Россия</td>\n",
       "      <td>А.Попова</td>\n",
       "      <td>И.Добровольский, А.Разуваева, Ю.Перкуль</td>\n",
       "      <td>«0+» - для любой зрительской аудитории</td>\n",
       "      <td>0.00</td>\n",
       "      <td>3000000.00</td>\n",
       "      <td>33000000.00</td>\n",
       "      <td>Министерство культуры</td>\n",
       "      <td>8.00</td>\n",
       "      <td>семейный</td>\n",
       "      <td>NaN</td>\n",
       "      <td>3000000.00</td>\n",
       "    </tr>\n",
       "    <tr>\n",
       "      <th>5659</th>\n",
       "      <td>Три богатыря и принцесса Египта</td>\n",
       "      <td>114003317</td>\n",
       "      <td>2017-12-21 12:00:00+00:00</td>\n",
       "      <td>Анимационный</td>\n",
       "      <td>ООО \"Студия анимационного кино \"Мельница\"</td>\n",
       "      <td>Россия</td>\n",
       "      <td>К.Феоктистов</td>\n",
       "      <td>С.Сельянов, А.Боярский</td>\n",
       "      <td>«6+» - для детей старше 6 лет</td>\n",
       "      <td>50000000.00</td>\n",
       "      <td>0.00</td>\n",
       "      <td>174464395.00</td>\n",
       "      <td>Фонд кино</td>\n",
       "      <td>5.50</td>\n",
       "      <td>мультфильм,приключения,семейный</td>\n",
       "      <td>759226773.00</td>\n",
       "      <td>50000000.00</td>\n",
       "    </tr>\n",
       "    <tr>\n",
       "      <th>2733</th>\n",
       "      <td>Неуловимые: последний герой</td>\n",
       "      <td>111017415</td>\n",
       "      <td>2015-09-30 12:00:00+00:00</td>\n",
       "      <td>Художественный</td>\n",
       "      <td>ООО \"Энджой мувиз\", ООО \"Ультра стори\"</td>\n",
       "      <td>Россия</td>\n",
       "      <td>А.Аксененко</td>\n",
       "      <td>Г.Малков, В.Поляков, И.Капитонов, В.Муругов</td>\n",
       "      <td>«16+» - для детей старше 16 лет</td>\n",
       "      <td>25000000.00</td>\n",
       "      <td>0.00</td>\n",
       "      <td>73379554.00</td>\n",
       "      <td>Фонд кино</td>\n",
       "      <td>3.30</td>\n",
       "      <td>мелодрама,криминал</td>\n",
       "      <td>11034433.20</td>\n",
       "      <td>25000000.00</td>\n",
       "    </tr>\n",
       "    <tr>\n",
       "      <th>6472</th>\n",
       "      <td>Три богатыря и наследница престола</td>\n",
       "      <td>114008818</td>\n",
       "      <td>2018-12-15 12:00:00+00:00</td>\n",
       "      <td>Анимационный</td>\n",
       "      <td>ООО \"Студия анимационного кино \"Мельница\"</td>\n",
       "      <td>Россия</td>\n",
       "      <td>К.Бронзит</td>\n",
       "      <td>С.Сельянов, А.Боярский</td>\n",
       "      <td>«6+» - для детей старше 6 лет</td>\n",
       "      <td>115000000.00</td>\n",
       "      <td>0.00</td>\n",
       "      <td>185500705.00</td>\n",
       "      <td>Фонд кино</td>\n",
       "      <td>6.50</td>\n",
       "      <td>мультфильм,приключения,семейный</td>\n",
       "      <td>577368853.25</td>\n",
       "      <td>115000000.00</td>\n",
       "    </tr>\n",
       "    <tr>\n",
       "      <th>6627</th>\n",
       "      <td>Рассвет</td>\n",
       "      <td>111000419</td>\n",
       "      <td>2019-01-31 12:00:00+00:00</td>\n",
       "      <td>Художественный</td>\n",
       "      <td>ООО \"Форс Медиа\"</td>\n",
       "      <td>Россия</td>\n",
       "      <td>П.Сидоров</td>\n",
       "      <td>В.Северцев, Д.Литвинов</td>\n",
       "      <td>«16+» - для детей старше 16 лет</td>\n",
       "      <td>35000000.00</td>\n",
       "      <td>0.00</td>\n",
       "      <td>56693559.00</td>\n",
       "      <td>Фонд кино</td>\n",
       "      <td>7.30</td>\n",
       "      <td>ужасы,боевик</td>\n",
       "      <td>53449711.94</td>\n",
       "      <td>35000000.00</td>\n",
       "    </tr>\n",
       "    <tr>\n",
       "      <th>3042</th>\n",
       "      <td>Крякнутые каникулы</td>\n",
       "      <td>114003615</td>\n",
       "      <td>2015-12-22 12:00:00+00:00</td>\n",
       "      <td>Анимационный</td>\n",
       "      <td>ООО \"Анимационная студия РИМ\"</td>\n",
       "      <td>Россия</td>\n",
       "      <td>В.Лакисов</td>\n",
       "      <td>Р.Атоян, В.Зорин, О.Бровченко</td>\n",
       "      <td>«6+» - для детей старше 6 лет</td>\n",
       "      <td>40000000.00</td>\n",
       "      <td>0.00</td>\n",
       "      <td>399075326.00</td>\n",
       "      <td>Фонд кино</td>\n",
       "      <td>5.40</td>\n",
       "      <td>мультфильм,комедия,приключения</td>\n",
       "      <td>69693747.93</td>\n",
       "      <td>40000000.00</td>\n",
       "    </tr>\n",
       "    <tr>\n",
       "      <th>3224</th>\n",
       "      <td>Кухня. Последняя битва</td>\n",
       "      <td>111001517</td>\n",
       "      <td>2017-03-22 12:00:00+00:00</td>\n",
       "      <td>Художественный</td>\n",
       "      <td>ООО Кинокомпания \"Аврора продакшнс\" по заказу ...</td>\n",
       "      <td>Россия</td>\n",
       "      <td>А.Федотов</td>\n",
       "      <td>Э.Илоян, В.Шляппо, Д.Жалинский, А.Троцюк, А.Ку...</td>\n",
       "      <td>«12+» - для детей старше 12 лет</td>\n",
       "      <td>50000000.00</td>\n",
       "      <td>0.00</td>\n",
       "      <td>162630398.00</td>\n",
       "      <td>Фонд кино</td>\n",
       "      <td>6.00</td>\n",
       "      <td>комедия</td>\n",
       "      <td>334007366.00</td>\n",
       "      <td>50000000.00</td>\n",
       "    </tr>\n",
       "    <tr>\n",
       "      <th>7466</th>\n",
       "      <td>Иван Царевич и Серый Волк 4</td>\n",
       "      <td>114005019</td>\n",
       "      <td>2019-12-20 12:00:00+00:00</td>\n",
       "      <td>Анимационный</td>\n",
       "      <td>ООО \"Студия анимационного кино \"Мельница\"</td>\n",
       "      <td>Россия</td>\n",
       "      <td>Д.Шмидт, К.Феоктистов</td>\n",
       "      <td>С.Сельянов, А.Боярский</td>\n",
       "      <td>«6+» - для детей старше 6 лет</td>\n",
       "      <td>100000000.00</td>\n",
       "      <td>0.00</td>\n",
       "      <td>190000000.00</td>\n",
       "      <td>Фонд кино</td>\n",
       "      <td>6.70</td>\n",
       "      <td>мультфильм,приключения,семейный</td>\n",
       "      <td>501069235.00</td>\n",
       "      <td>100000000.00</td>\n",
       "    </tr>\n",
       "    <tr>\n",
       "      <th>2683</th>\n",
       "      <td>Дабл трабл</td>\n",
       "      <td>111009215</td>\n",
       "      <td>2015-05-18 12:00:00+00:00</td>\n",
       "      <td>Художественный</td>\n",
       "      <td>ООО \"ТаББаК\", ООО \"Весёлая Компания\"</td>\n",
       "      <td>Россия</td>\n",
       "      <td>Э.Оганесян</td>\n",
       "      <td>Т.Бекмамбетов, М.Затуловская</td>\n",
       "      <td>«12+» - для детей старше 12 лет</td>\n",
       "      <td>44000000.00</td>\n",
       "      <td>0.00</td>\n",
       "      <td>64030080.00</td>\n",
       "      <td>Фонд кино</td>\n",
       "      <td>4.30</td>\n",
       "      <td>комедия,мелодрама</td>\n",
       "      <td>19654526.30</td>\n",
       "      <td>44000000.00</td>\n",
       "    </tr>\n",
       "  </tbody>\n",
       "</table>\n",
       "</div>"
      ],
      "text/plain": [
       "                                   title   puNumber           show_start_date  \\\n",
       "3337                       Любовь и Сакс  111001217 2017-02-16 12:00:00+00:00   \n",
       "2146                             Главный  111003415 2015-03-27 12:00:00+00:00   \n",
       "3609                      Все о мужчинах  111012716 2016-08-17 12:00:00+00:00   \n",
       "7042                  Ленин Неизбежность  111010619 2019-07-01 12:00:00+00:00   \n",
       "5576                 Исповедь содержанки  111007817 2017-11-30 12:00:00+00:00   \n",
       "5600                За гранью реальности  111010817 2017-11-27 12:00:00+00:00   \n",
       "3732                      Танцы насмерть  111013416 2016-08-31 12:00:00+00:00   \n",
       "3142              Тайна Снежной королевы  111021615 2015-12-25 12:00:00+00:00   \n",
       "2517                              Норвег  111018215 2015-10-15 12:00:00+00:00   \n",
       "5734    Ну, здравствуй, Оксана Соколова!  111001118 2018-03-06 12:00:00+00:00   \n",
       "2288            12 месяцев. Новая сказка  111014414 2014-10-16 12:00:00+00:00   \n",
       "3139                       Я умею вязать  111019615 2015-11-27 12:00:00+00:00   \n",
       "7180             Байкал - Сердце мира 3D  112004619 2019-11-01 12:00:00+00:00   \n",
       "5659     Три богатыря и принцесса Египта  114003317 2017-12-21 12:00:00+00:00   \n",
       "2733         Неуловимые: последний герой  111017415 2015-09-30 12:00:00+00:00   \n",
       "6472  Три богатыря и наследница престола  114008818 2018-12-15 12:00:00+00:00   \n",
       "6627                             Рассвет  111000419 2019-01-31 12:00:00+00:00   \n",
       "3042                  Крякнутые каникулы  114003615 2015-12-22 12:00:00+00:00   \n",
       "3224              Кухня. Последняя битва  111001517 2017-03-22 12:00:00+00:00   \n",
       "7466         Иван Царевич и Серый Волк 4  114005019 2019-12-20 12:00:00+00:00   \n",
       "2683                          Дабл трабл  111009215 2015-05-18 12:00:00+00:00   \n",
       "\n",
       "                type                                        film_studio  \\\n",
       "3337  Художественный                                   ООО \"ДжемСтудия\"   \n",
       "2146  Художественный                           ООО \"Киностудия \"МАСТЕР\"   \n",
       "3609  Художественный               ООО \"Фреш-Фильм\", ООО \"Энджой мувиз\"   \n",
       "7042  Художественный                                  ООО \"Студия \"Рой\"   \n",
       "5576  Художественный  ООО \"Корпорация Русская Фильм Группа\", ООО \"Ма...   \n",
       "5600  Художественный                                     ООО \"КИНОДАНЦ\"   \n",
       "3732  Художественный                   ООО \"КИНОДАНЦ\", ООО \"ЦЕНТРОКИНО\"   \n",
       "3142  Художественный              ООО \"Продюсерский центр \"ЗОЛОТОЙ ВЕК\"   \n",
       "2517  Художественный  ООО \"Росмедиа Продакшн\" по заказу ООО \"МАРС МЕ...   \n",
       "5734  Художественный          ООО \"Продюсерская фирма Игоря Толстунова\"   \n",
       "2288  Художественный  ООО \"Киностудия \"Никола-фильм\", ООО \"Инвестмен...   \n",
       "3139  Художественный                                ООО \"Белое Зеркало\"   \n",
       "7180  Документальный              ООО \"Продюсерский центр \"Новое Время\"   \n",
       "5659    Анимационный          ООО \"Студия анимационного кино \"Мельница\"   \n",
       "2733  Художественный             ООО \"Энджой мувиз\", ООО \"Ультра стори\"   \n",
       "6472    Анимационный          ООО \"Студия анимационного кино \"Мельница\"   \n",
       "6627  Художественный                                   ООО \"Форс Медиа\"   \n",
       "3042    Анимационный                      ООО \"Анимационная студия РИМ\"   \n",
       "3224  Художественный  ООО Кинокомпания \"Аврора продакшнс\" по заказу ...   \n",
       "7466    Анимационный          ООО \"Студия анимационного кино \"Мельница\"   \n",
       "2683  Художественный               ООО \"ТаББаК\", ООО \"Весёлая Компания\"   \n",
       "\n",
       "     production_country                                    director  \\\n",
       "3337             Россия                                  А.Сурикова   \n",
       "2146             Россия                                      Ю.Кара   \n",
       "3609             Россия       Л.Марголин, С.Андреасян, М.Жерневский   \n",
       "7042             Россия                                 В.Хотиненко   \n",
       "5576             Россия                                   Е.Жигаева   \n",
       "5600             Россия                              А.Богуславский   \n",
       "3732             Россия                                    А.Волгин   \n",
       "3142             Россия                                 Н.Бондарчук   \n",
       "2517             Россия  Е.Константинова (псевдоним Алена Званцева)   \n",
       "5734             Россия                                  К.Васильев   \n",
       "2288             Россия                                 Д.Елеонский   \n",
       "3139             Россия           Н.Степанова при участии С.Иванова   \n",
       "7180             Россия                                    А.Попова   \n",
       "5659             Россия                                К.Феоктистов   \n",
       "2733             Россия                                 А.Аксененко   \n",
       "6472             Россия                                   К.Бронзит   \n",
       "6627             Россия                                   П.Сидоров   \n",
       "3042             Россия                                   В.Лакисов   \n",
       "3224             Россия                                   А.Федотов   \n",
       "7466             Россия                       Д.Шмидт, К.Феоктистов   \n",
       "2683             Россия                                  Э.Оганесян   \n",
       "\n",
       "                                               producer  \\\n",
       "3337                                          А.Голутва   \n",
       "2146                                             Ю.Кара   \n",
       "3609  С.Андреасян, Г.Андреасян, А.Ананикян, М.Галуст...   \n",
       "7042                            В.Хотиненко, Д.Литвинов   \n",
       "5576  ООО \"Корпорация Русская Фильм Группа\", ООО \"Ма...   \n",
       "5600                             В.Денисюк, Е.Мелентьев   \n",
       "3732                             В.Денисюк, Е.Мелентьев   \n",
       "3142                                         С.Кабанова   \n",
       "2517                              Р.Дишдишян, ООО \"ММЕ\"   \n",
       "5734                    И.Толстунов, П.Попов, А.Рыданов   \n",
       "2288                                          И.Каленов   \n",
       "3139                          С.Кикнавелидзе, Д.Улюкаев   \n",
       "7180            И.Добровольский, А.Разуваева, Ю.Перкуль   \n",
       "5659                             С.Сельянов, А.Боярский   \n",
       "2733        Г.Малков, В.Поляков, И.Капитонов, В.Муругов   \n",
       "6472                             С.Сельянов, А.Боярский   \n",
       "6627                             В.Северцев, Д.Литвинов   \n",
       "3042                      Р.Атоян, В.Зорин, О.Бровченко   \n",
       "3224  Э.Илоян, В.Шляппо, Д.Жалинский, А.Троцюк, А.Ку...   \n",
       "7466                             С.Сельянов, А.Боярский   \n",
       "2683                       Т.Бекмамбетов, М.Затуловская   \n",
       "\n",
       "                             age_restriction  refundable_support  \\\n",
       "3337         «12+» - для детей старше 12 лет                0.00   \n",
       "2146           «6+» - для детей старше 6 лет                0.00   \n",
       "3609         «16+» - для детей старше 16 лет         10000000.00   \n",
       "7042         «16+» - для детей старше 16 лет                0.00   \n",
       "5576             «18+» - запрещено для детей                0.00   \n",
       "5600         «12+» - для детей старше 12 лет                0.00   \n",
       "3732         «12+» - для детей старше 12 лет                0.00   \n",
       "3142           «6+» - для детей старше 6 лет         20000000.00   \n",
       "2517         «12+» - для детей старше 12 лет                0.00   \n",
       "5734         «16+» - для детей старше 16 лет         50000000.00   \n",
       "2288  «0+» - для любой зрительской аудитории         15000000.00   \n",
       "3139         «16+» - для детей старше 16 лет                0.00   \n",
       "7180  «0+» - для любой зрительской аудитории                0.00   \n",
       "5659           «6+» - для детей старше 6 лет         50000000.00   \n",
       "2733         «16+» - для детей старше 16 лет         25000000.00   \n",
       "6472           «6+» - для детей старше 6 лет        115000000.00   \n",
       "6627         «16+» - для детей старше 16 лет         35000000.00   \n",
       "3042           «6+» - для детей старше 6 лет         40000000.00   \n",
       "3224         «12+» - для детей старше 12 лет         50000000.00   \n",
       "7466           «6+» - для детей старше 6 лет        100000000.00   \n",
       "2683         «12+» - для детей старше 12 лет         44000000.00   \n",
       "\n",
       "      nonrefundable_support       budget                  financing_source  \\\n",
       "3337            10000000.00  61000000.00             Министерство культуры   \n",
       "2146            10000000.00  40000000.00             Министерство культуры   \n",
       "3609            10000000.00  31305313.00                         Фонд кино   \n",
       "7042            10000000.00  15010000.00             Министерство культуры   \n",
       "5576             8000000.00  18166418.00             Министерство культуры   \n",
       "5600             6000000.00 136230333.00             Министерство культуры   \n",
       "3732             6000000.00  90278063.00             Министерство культуры   \n",
       "3142             5300000.00 215860000.00  Министерство культуры, Фонд кино   \n",
       "2517             5000000.00  28115580.00             Министерство культуры   \n",
       "5734             5000000.00  82800488.00                         Фонд кино   \n",
       "2288             5000000.00  90120000.00                         Фонд кино   \n",
       "3139             4700000.00  14462464.00             Министерство культуры   \n",
       "7180             3000000.00  33000000.00             Министерство культуры   \n",
       "5659                   0.00 174464395.00                         Фонд кино   \n",
       "2733                   0.00  73379554.00                         Фонд кино   \n",
       "6472                   0.00 185500705.00                         Фонд кино   \n",
       "6627                   0.00  56693559.00                         Фонд кино   \n",
       "3042                   0.00 399075326.00                         Фонд кино   \n",
       "3224                   0.00 162630398.00                         Фонд кино   \n",
       "7466                   0.00 190000000.00                         Фонд кино   \n",
       "2683                   0.00  64030080.00                         Фонд кино   \n",
       "\n",
       "     ratings                           genres   box_office          sum  \n",
       "3337    5.20                        мелодрама          NaN  10000000.00  \n",
       "2146    9.40        фантастика,боевик,комедия    334750.00  10000000.00  \n",
       "3609    4.90                          комедия  62260863.65  20000000.00  \n",
       "7042    5.40          драма,история,биография   1957979.50  10000000.00  \n",
       "5576    5.40               мелодрама,криминал    270497.00   8000000.00  \n",
       "5600    5.20              приключения,фэнтези 126713450.16   6000000.00  \n",
       "3732    4.00                       фантастика   9680744.00   6000000.00  \n",
       "3142    7.20          мюзикл,фэнтези,семейный   1434072.50  25300000.00  \n",
       "2517    6.30                          комедия   2323980.00   5000000.00  \n",
       "5734    5.80                          комедия  80289852.90  55000000.00  \n",
       "2288    3.80                 семейный,фэнтези  32244810.00  20000000.00  \n",
       "3139    9.00                            драма    801370.00   4700000.00  \n",
       "7180    8.00                         семейный          NaN   3000000.00  \n",
       "5659    5.50  мультфильм,приключения,семейный 759226773.00  50000000.00  \n",
       "2733    3.30               мелодрама,криминал  11034433.20  25000000.00  \n",
       "6472    6.50  мультфильм,приключения,семейный 577368853.25 115000000.00  \n",
       "6627    7.30                     ужасы,боевик  53449711.94  35000000.00  \n",
       "3042    5.40   мультфильм,комедия,приключения  69693747.93  40000000.00  \n",
       "3224    6.00                          комедия 334007366.00  50000000.00  \n",
       "7466    6.70  мультфильм,приключения,семейный 501069235.00 100000000.00  \n",
       "2683    4.30                комедия,мелодрама  19654526.30  44000000.00  "
      ]
     },
     "execution_count": 43,
     "metadata": {},
     "output_type": "execute_result"
    }
   ],
   "source": [
    "data[data['nonrefundable_support'] <= 10000000].sort_values(by = 'nonrefundable_support', ascending = False)"
   ]
  },
  {
   "cell_type": "markdown",
   "metadata": {},
   "source": [
    "По диаграмме размаха выбросы есть и выше, и ниже границы нормальных значений. Вторые представляют собой строки, где сумма невозвратных ср-в гос-ва равна нулю. Аномалии не выявлены."
   ]
  },
  {
   "cell_type": "code",
   "execution_count": 44,
   "metadata": {},
   "outputs": [],
   "source": [
    "data['ratings'] = data['ratings'].replace('unkn', np.nan)"
   ]
  },
  {
   "cell_type": "code",
   "execution_count": 45,
   "metadata": {},
   "outputs": [
    {
     "data": {
      "text/plain": [
       "count   5798.00\n",
       "mean       6.46\n",
       "std        1.13\n",
       "min        1.00\n",
       "25%        5.80\n",
       "50%        6.60\n",
       "75%        7.20\n",
       "max        9.90\n",
       "Name: ratings, dtype: float64"
      ]
     },
     "execution_count": 45,
     "metadata": {},
     "output_type": "execute_result"
    }
   ],
   "source": [
    "data['ratings'].describe()"
   ]
  },
  {
   "cell_type": "code",
   "execution_count": 46,
   "metadata": {},
   "outputs": [
    {
     "data": {
      "text/plain": [
       "<AxesSubplot:>"
      ]
     },
     "execution_count": 46,
     "metadata": {},
     "output_type": "execute_result"
    },
    {
     "data": {
      "image/png": "[encoded data removed]",
      "text/plain": [
       "<Figure size 504x720 with 1 Axes>"
      ]
     },
     "metadata": {
      "needs_background": "light"
     },
     "output_type": "display_data"
    }
   ],
   "source": [
    "data.boxplot('ratings', figsize = (7,10))"
   ]
  },
  {
   "cell_type": "code",
   "execution_count": 47,
   "metadata": {},
   "outputs": [
    {
     "data": {
      "text/html": [
       "<div>\n",
       "<style scoped>\n",
       "    .dataframe tbody tr th:only-of-type {\n",
       "        vertical-align: middle;\n",
       "    }\n",
       "\n",
       "    .dataframe tbody tr th {\n",
       "        vertical-align: top;\n",
       "    }\n",
       "\n",
       "    .dataframe thead th {\n",
       "        text-align: right;\n",
       "    }\n",
       "</style>\n",
       "<table border=\"1\" class=\"dataframe\">\n",
       "  <thead>\n",
       "    <tr style=\"text-align: right;\">\n",
       "      <th></th>\n",
       "      <th>title</th>\n",
       "      <th>puNumber</th>\n",
       "      <th>show_start_date</th>\n",
       "      <th>type</th>\n",
       "      <th>film_studio</th>\n",
       "      <th>production_country</th>\n",
       "      <th>director</th>\n",
       "      <th>producer</th>\n",
       "      <th>age_restriction</th>\n",
       "      <th>refundable_support</th>\n",
       "      <th>nonrefundable_support</th>\n",
       "      <th>budget</th>\n",
       "      <th>financing_source</th>\n",
       "      <th>ratings</th>\n",
       "      <th>genres</th>\n",
       "      <th>box_office</th>\n",
       "      <th>sum</th>\n",
       "    </tr>\n",
       "  </thead>\n",
       "  <tbody>\n",
       "    <tr>\n",
       "      <th>3374</th>\n",
       "      <td>Дизлайк</td>\n",
       "      <td>111012516</td>\n",
       "      <td>2016-08-05 12:00:00+00:00</td>\n",
       "      <td>Художественный</td>\n",
       "      <td>ООО \"Ангел\"</td>\n",
       "      <td>Россия</td>\n",
       "      <td>П.Руминов</td>\n",
       "      <td>П.Руминов, И.Капитонов</td>\n",
       "      <td>«18+» - запрещено для детей</td>\n",
       "      <td>NaN</td>\n",
       "      <td>NaN</td>\n",
       "      <td>NaN</td>\n",
       "      <td>missing</td>\n",
       "      <td>1.50</td>\n",
       "      <td>ужасы</td>\n",
       "      <td>11066749.18</td>\n",
       "      <td>NaN</td>\n",
       "    </tr>\n",
       "    <tr>\n",
       "      <th>3515</th>\n",
       "      <td>Взломать блогеров</td>\n",
       "      <td>111016616</td>\n",
       "      <td>2016-10-28 12:00:00+00:00</td>\n",
       "      <td>Художественный</td>\n",
       "      <td>ООО \"ТаББаК\"</td>\n",
       "      <td>Россия</td>\n",
       "      <td>М.Свешников</td>\n",
       "      <td>Т.Бекмамбетов</td>\n",
       "      <td>«6+» - для детей старше 6 лет</td>\n",
       "      <td>0.00</td>\n",
       "      <td>25000000.00</td>\n",
       "      <td>36016269.00</td>\n",
       "      <td>Фонд кино</td>\n",
       "      <td>1.00</td>\n",
       "      <td>комедия,мультфильм,фантастика</td>\n",
       "      <td>7323648.00</td>\n",
       "      <td>25000000.00</td>\n",
       "    </tr>\n",
       "    <tr>\n",
       "      <th>6830</th>\n",
       "      <td>Белый лебедь</td>\n",
       "      <td>121006019</td>\n",
       "      <td>2019-03-28 12:00:00+00:00</td>\n",
       "      <td>Художественный</td>\n",
       "      <td>Майпо Фильм</td>\n",
       "      <td>Норвегия</td>\n",
       "      <td>Анне Севитски</td>\n",
       "      <td>Корнелия Бойсен, Сюннёве Хёрсдаль</td>\n",
       "      <td>«18+» - запрещено для детей</td>\n",
       "      <td>NaN</td>\n",
       "      <td>NaN</td>\n",
       "      <td>NaN</td>\n",
       "      <td>missing</td>\n",
       "      <td>1.60</td>\n",
       "      <td>боевик,триллер,криминал</td>\n",
       "      <td>2482317.00</td>\n",
       "      <td>NaN</td>\n",
       "    </tr>\n",
       "    <tr>\n",
       "      <th>1025</th>\n",
       "      <td>Большая Ржака</td>\n",
       "      <td>111003512</td>\n",
       "      <td>2012-07-23 12:00:00+00:00</td>\n",
       "      <td>Художественный</td>\n",
       "      <td>ООО \"Авеста филмс\"</td>\n",
       "      <td>Россия</td>\n",
       "      <td>В.Москаленко</td>\n",
       "      <td>Р.Арзуманов, В.Малый</td>\n",
       "      <td>«16+» - для детей старше 16 лет</td>\n",
       "      <td>NaN</td>\n",
       "      <td>NaN</td>\n",
       "      <td>NaN</td>\n",
       "      <td>missing</td>\n",
       "      <td>1.40</td>\n",
       "      <td>комедия</td>\n",
       "      <td>87795.00</td>\n",
       "      <td>NaN</td>\n",
       "    </tr>\n",
       "    <tr>\n",
       "      <th>3431</th>\n",
       "      <td>Наурыз</td>\n",
       "      <td>131000217</td>\n",
       "      <td>2017-03-09 12:00:00+00:00</td>\n",
       "      <td>Художественный</td>\n",
       "      <td>Эс Джи</td>\n",
       "      <td>Республика Казахстан</td>\n",
       "      <td>Аскар Бисембин</td>\n",
       "      <td>Олег Головашкин, Алмас Султангазин</td>\n",
       "      <td>«12+» - для детей старше 12 лет</td>\n",
       "      <td>NaN</td>\n",
       "      <td>NaN</td>\n",
       "      <td>NaN</td>\n",
       "      <td>missing</td>\n",
       "      <td>1.90</td>\n",
       "      <td>комедия</td>\n",
       "      <td>37960.00</td>\n",
       "      <td>NaN</td>\n",
       "    </tr>\n",
       "    <tr>\n",
       "      <th>4794</th>\n",
       "      <td>Приключения в тридесятом царстве.</td>\n",
       "      <td>111006610</td>\n",
       "      <td>2010-06-18 12:00:00+00:00</td>\n",
       "      <td>Художественный</td>\n",
       "      <td>ООО Киностудия \"ЮНОСТЬ\"</td>\n",
       "      <td>Россия</td>\n",
       "      <td>В.Ивановская</td>\n",
       "      <td>В.Бердочкин</td>\n",
       "      <td>«0+» - для любой зрительской аудитории</td>\n",
       "      <td>NaN</td>\n",
       "      <td>NaN</td>\n",
       "      <td>NaN</td>\n",
       "      <td>missing</td>\n",
       "      <td>1.20</td>\n",
       "      <td>детский,фэнтези,приключения</td>\n",
       "      <td>24978.00</td>\n",
       "      <td>NaN</td>\n",
       "    </tr>\n",
       "    <tr>\n",
       "      <th>4323</th>\n",
       "      <td>Легенда острова Двид</td>\n",
       "      <td>111000810</td>\n",
       "      <td>2010-01-28 12:00:00+00:00</td>\n",
       "      <td>Художественный</td>\n",
       "      <td>ООО \"Студия \"А-фильм\"</td>\n",
       "      <td>Россия</td>\n",
       "      <td>А.Мамедов</td>\n",
       "      <td>В.Хижнякова</td>\n",
       "      <td>«0+» - для любой зрительской аудитории</td>\n",
       "      <td>NaN</td>\n",
       "      <td>NaN</td>\n",
       "      <td>NaN</td>\n",
       "      <td>missing</td>\n",
       "      <td>1.90</td>\n",
       "      <td>детский,приключения,фантастика</td>\n",
       "      <td>14990.00</td>\n",
       "      <td>NaN</td>\n",
       "    </tr>\n",
       "    <tr>\n",
       "      <th>1691</th>\n",
       "      <td>7 главных желаний</td>\n",
       "      <td>111009113</td>\n",
       "      <td>2013-11-19 12:00:00+00:00</td>\n",
       "      <td>Художественный</td>\n",
       "      <td>ООО ТПО \"РОК\"</td>\n",
       "      <td>Россия</td>\n",
       "      <td>В.Соколовский</td>\n",
       "      <td>А.Учитель, К.Саксаганская</td>\n",
       "      <td>«12+» - для детей старше 12 лет</td>\n",
       "      <td>NaN</td>\n",
       "      <td>NaN</td>\n",
       "      <td>NaN</td>\n",
       "      <td>missing</td>\n",
       "      <td>1.60</td>\n",
       "      <td>мелодрама,комедия</td>\n",
       "      <td>6380.00</td>\n",
       "      <td>NaN</td>\n",
       "    </tr>\n",
       "    <tr>\n",
       "      <th>515</th>\n",
       "      <td>Ночь в супермаркете</td>\n",
       "      <td>124001212</td>\n",
       "      <td>2012-05-02 12:00:00+00:00</td>\n",
       "      <td>Анимационный</td>\n",
       "      <td>Си 47 Продакшнз, Лайнс Гейт Фэмили Интертейнме...</td>\n",
       "      <td>США</td>\n",
       "      <td>Лоуренс Казанофф</td>\n",
       "      <td>Джордж Джонсен, Лоуренс Казанофф, Элисон Сэвич...</td>\n",
       "      <td>«0+» - для любой зрительской аудитории</td>\n",
       "      <td>NaN</td>\n",
       "      <td>NaN</td>\n",
       "      <td>NaN</td>\n",
       "      <td>missing</td>\n",
       "      <td>1.60</td>\n",
       "      <td>мультфильм,комедия,семейный</td>\n",
       "      <td>620.00</td>\n",
       "      <td>NaN</td>\n",
       "    </tr>\n",
       "    <tr>\n",
       "      <th>1468</th>\n",
       "      <td>Черная роза</td>\n",
       "      <td>111004014</td>\n",
       "      <td>2014-04-16 12:00:00+00:00</td>\n",
       "      <td>Художественный</td>\n",
       "      <td>ООО \"Кинокомпания Царь\", Hollywood Storm</td>\n",
       "      <td>Россия</td>\n",
       "      <td>А.Невский</td>\n",
       "      <td>А.Невский</td>\n",
       "      <td>«16+» - для детей старше 16 лет</td>\n",
       "      <td>NaN</td>\n",
       "      <td>NaN</td>\n",
       "      <td>NaN</td>\n",
       "      <td>missing</td>\n",
       "      <td>1.50</td>\n",
       "      <td>детектив,триллер,криминал</td>\n",
       "      <td>380.00</td>\n",
       "      <td>NaN</td>\n",
       "    </tr>\n",
       "    <tr>\n",
       "      <th>1226</th>\n",
       "      <td>Зомби каникулы</td>\n",
       "      <td>111001213</td>\n",
       "      <td>2013-03-29 12:00:00+00:00</td>\n",
       "      <td>Художественный</td>\n",
       "      <td>ООО Студия \"Новая волна\"</td>\n",
       "      <td>Россия</td>\n",
       "      <td>К.Кемниц</td>\n",
       "      <td>С.Торчилин</td>\n",
       "      <td>«18+» - запрещено для детей</td>\n",
       "      <td>NaN</td>\n",
       "      <td>NaN</td>\n",
       "      <td>NaN</td>\n",
       "      <td>missing</td>\n",
       "      <td>1.50</td>\n",
       "      <td>ужасы,триллер,комедия</td>\n",
       "      <td>NaN</td>\n",
       "      <td>NaN</td>\n",
       "    </tr>\n",
       "    <tr>\n",
       "      <th>1472</th>\n",
       "      <td>Джастин Бибер: Believe</td>\n",
       "      <td>126003716</td>\n",
       "      <td>2016-06-07 12:00:00+00:00</td>\n",
       "      <td>Прочие</td>\n",
       "      <td>Дольфин Филмз, Бибер Тайм Филмз, Скутер Браун ...</td>\n",
       "      <td>США</td>\n",
       "      <td>Джон М.Чу</td>\n",
       "      <td>Джастин Бибер, Скутер Браун, Стюарт Форд</td>\n",
       "      <td>«6+» - для детей старше 6 лет</td>\n",
       "      <td>NaN</td>\n",
       "      <td>NaN</td>\n",
       "      <td>NaN</td>\n",
       "      <td>missing</td>\n",
       "      <td>1.60</td>\n",
       "      <td>концерт,музыка,документальный</td>\n",
       "      <td>NaN</td>\n",
       "      <td>NaN</td>\n",
       "    </tr>\n",
       "    <tr>\n",
       "      <th>1535</th>\n",
       "      <td>Кавказ.</td>\n",
       "      <td>111009413</td>\n",
       "      <td>2013-11-26 12:00:00+00:00</td>\n",
       "      <td>Художественный</td>\n",
       "      <td>Юнайтед Мультимедиа Проджектс, Метрополь</td>\n",
       "      <td>Азербайджан-Россия</td>\n",
       "      <td>Фарид Гумбатов</td>\n",
       "      <td>Рауф Атамалибеков, Фарид Гумбатов</td>\n",
       "      <td>«16+» - для детей старше 16 лет</td>\n",
       "      <td>NaN</td>\n",
       "      <td>NaN</td>\n",
       "      <td>NaN</td>\n",
       "      <td>missing</td>\n",
       "      <td>1.10</td>\n",
       "      <td>комедия</td>\n",
       "      <td>NaN</td>\n",
       "      <td>NaN</td>\n",
       "    </tr>\n",
       "    <tr>\n",
       "      <th>4014</th>\n",
       "      <td>Кукарача 3D</td>\n",
       "      <td>114000111</td>\n",
       "      <td>2011-03-10 12:00:00+00:00</td>\n",
       "      <td>Анимационный</td>\n",
       "      <td>ЗАО \"Продюсерский центр \"Парадиз\"</td>\n",
       "      <td>Россия</td>\n",
       "      <td>А.Адилханян</td>\n",
       "      <td>Г.Нерсисян</td>\n",
       "      <td>«0+» - для любой зрительской аудитории</td>\n",
       "      <td>NaN</td>\n",
       "      <td>NaN</td>\n",
       "      <td>NaN</td>\n",
       "      <td>missing</td>\n",
       "      <td>1.30</td>\n",
       "      <td>мультфильм,комедия</td>\n",
       "      <td>NaN</td>\n",
       "      <td>NaN</td>\n",
       "    </tr>\n",
       "    <tr>\n",
       "      <th>4346</th>\n",
       "      <td>Кармелита. Цыганская страсть</td>\n",
       "      <td>211004810</td>\n",
       "      <td>2010-02-09 12:00:00+00:00</td>\n",
       "      <td>Художественный</td>\n",
       "      <td>ООО \"Творческое телевизионное объединение\"</td>\n",
       "      <td>Россия</td>\n",
       "      <td>Е.Цыплакова</td>\n",
       "      <td>Е.Имамова, Ю.Беленький</td>\n",
       "      <td>«0+» - для любой зрительской аудитории</td>\n",
       "      <td>NaN</td>\n",
       "      <td>NaN</td>\n",
       "      <td>NaN</td>\n",
       "      <td>missing</td>\n",
       "      <td>1.80</td>\n",
       "      <td>мелодрама</td>\n",
       "      <td>NaN</td>\n",
       "      <td>NaN</td>\n",
       "    </tr>\n",
       "    <tr>\n",
       "      <th>4678</th>\n",
       "      <td>Мантикора.</td>\n",
       "      <td>111011510</td>\n",
       "      <td>2010-12-17 12:00:00+00:00</td>\n",
       "      <td>Художественный</td>\n",
       "      <td>ООО \"Студия спецэффектов \"Ацидум\"</td>\n",
       "      <td>Россия</td>\n",
       "      <td>Вл.Китт</td>\n",
       "      <td>В.Музыченков</td>\n",
       "      <td>«16+» - для детей старше 16 лет</td>\n",
       "      <td>NaN</td>\n",
       "      <td>NaN</td>\n",
       "      <td>NaN</td>\n",
       "      <td>missing</td>\n",
       "      <td>1.10</td>\n",
       "      <td>триллер</td>\n",
       "      <td>NaN</td>\n",
       "      <td>NaN</td>\n",
       "    </tr>\n",
       "    <tr>\n",
       "      <th>5135</th>\n",
       "      <td>А мама лучше! (рабочее название \"Вся прелесть ...</td>\n",
       "      <td>111004211</td>\n",
       "      <td>2011-06-08 12:00:00+00:00</td>\n",
       "      <td>Художественный</td>\n",
       "      <td>ООО \"МВ Синема\"</td>\n",
       "      <td>Россия</td>\n",
       "      <td>М.Воронков</td>\n",
       "      <td>М.Воронков</td>\n",
       "      <td>«16+» - для детей старше 16 лет</td>\n",
       "      <td>NaN</td>\n",
       "      <td>NaN</td>\n",
       "      <td>NaN</td>\n",
       "      <td>missing</td>\n",
       "      <td>1.70</td>\n",
       "      <td>мелодрама,комедия</td>\n",
       "      <td>NaN</td>\n",
       "      <td>NaN</td>\n",
       "    </tr>\n",
       "    <tr>\n",
       "      <th>5243</th>\n",
       "      <td>Сказка. Есть</td>\n",
       "      <td>111010611</td>\n",
       "      <td>2011-12-27 12:00:00+00:00</td>\n",
       "      <td>Художественный</td>\n",
       "      <td>ООО \"Муви Про\"</td>\n",
       "      <td>Россия</td>\n",
       "      <td>Е.Соломина, А.Баршак, К.Статский</td>\n",
       "      <td>М.Пореченков, А.Перова, М.Королёв</td>\n",
       "      <td>«0+» - для любой зрительской аудитории</td>\n",
       "      <td>NaN</td>\n",
       "      <td>NaN</td>\n",
       "      <td>NaN</td>\n",
       "      <td>missing</td>\n",
       "      <td>1.40</td>\n",
       "      <td>фэнтези,семейный</td>\n",
       "      <td>NaN</td>\n",
       "      <td>NaN</td>\n",
       "    </tr>\n",
       "    <tr>\n",
       "      <th>6505</th>\n",
       "      <td>Маша и Медведь. Серия \"Вот как бывает!\"</td>\n",
       "      <td>124004818</td>\n",
       "      <td>2018-12-07 12:00:00+00:00</td>\n",
       "      <td>Анимационный</td>\n",
       "      <td>Анимаккорд Лтд</td>\n",
       "      <td>Республика Кипр</td>\n",
       "      <td>Владислав Байрамгулов</td>\n",
       "      <td>Олег Кузовков, Дмитрий Ловейко, Марина Ратина</td>\n",
       "      <td>«0+» - для любой зрительской аудитории</td>\n",
       "      <td>NaN</td>\n",
       "      <td>NaN</td>\n",
       "      <td>NaN</td>\n",
       "      <td>missing</td>\n",
       "      <td>1.70</td>\n",
       "      <td>мультфильм,фэнтези,приключения</td>\n",
       "      <td>NaN</td>\n",
       "      <td>NaN</td>\n",
       "    </tr>\n",
       "  </tbody>\n",
       "</table>\n",
       "</div>"
      ],
      "text/plain": [
       "                                                  title   puNumber  \\\n",
       "3374                                            Дизлайк  111012516   \n",
       "3515                                  Взломать блогеров  111016616   \n",
       "6830                                       Белый лебедь  121006019   \n",
       "1025                                      Большая Ржака  111003512   \n",
       "3431                                             Наурыз  131000217   \n",
       "4794                  Приключения в тридесятом царстве.  111006610   \n",
       "4323                               Легенда острова Двид  111000810   \n",
       "1691                                  7 главных желаний  111009113   \n",
       "515                                 Ночь в супермаркете  124001212   \n",
       "1468                                        Черная роза  111004014   \n",
       "1226                                     Зомби каникулы  111001213   \n",
       "1472                             Джастин Бибер: Believe  126003716   \n",
       "1535                                            Кавказ.  111009413   \n",
       "4014                                        Кукарача 3D  114000111   \n",
       "4346                       Кармелита. Цыганская страсть  211004810   \n",
       "4678                                         Мантикора.  111011510   \n",
       "5135  А мама лучше! (рабочее название \"Вся прелесть ...  111004211   \n",
       "5243                                       Сказка. Есть  111010611   \n",
       "6505            Маша и Медведь. Серия \"Вот как бывает!\"  124004818   \n",
       "\n",
       "               show_start_date            type  \\\n",
       "3374 2016-08-05 12:00:00+00:00  Художественный   \n",
       "3515 2016-10-28 12:00:00+00:00  Художественный   \n",
       "6830 2019-03-28 12:00:00+00:00  Художественный   \n",
       "1025 2012-07-23 12:00:00+00:00  Художественный   \n",
       "3431 2017-03-09 12:00:00+00:00  Художественный   \n",
       "4794 2010-06-18 12:00:00+00:00  Художественный   \n",
       "4323 2010-01-28 12:00:00+00:00  Художественный   \n",
       "1691 2013-11-19 12:00:00+00:00  Художественный   \n",
       "515  2012-05-02 12:00:00+00:00    Анимационный   \n",
       "1468 2014-04-16 12:00:00+00:00  Художественный   \n",
       "1226 2013-03-29 12:00:00+00:00  Художественный   \n",
       "1472 2016-06-07 12:00:00+00:00          Прочие   \n",
       "1535 2013-11-26 12:00:00+00:00  Художественный   \n",
       "4014 2011-03-10 12:00:00+00:00    Анимационный   \n",
       "4346 2010-02-09 12:00:00+00:00  Художественный   \n",
       "4678 2010-12-17 12:00:00+00:00  Художественный   \n",
       "5135 2011-06-08 12:00:00+00:00  Художественный   \n",
       "5243 2011-12-27 12:00:00+00:00  Художественный   \n",
       "6505 2018-12-07 12:00:00+00:00    Анимационный   \n",
       "\n",
       "                                            film_studio    production_country  \\\n",
       "3374                                        ООО \"Ангел\"                Россия   \n",
       "3515                                       ООО \"ТаББаК\"                Россия   \n",
       "6830                                        Майпо Фильм              Норвегия   \n",
       "1025                                 ООО \"Авеста филмс\"                Россия   \n",
       "3431                                             Эс Джи  Республика Казахстан   \n",
       "4794                            ООО Киностудия \"ЮНОСТЬ\"                Россия   \n",
       "4323                              ООО \"Студия \"А-фильм\"                Россия   \n",
       "1691                                      ООО ТПО \"РОК\"                Россия   \n",
       "515   Си 47 Продакшнз, Лайнс Гейт Фэмили Интертейнме...                   США   \n",
       "1468           ООО \"Кинокомпания Царь\", Hollywood Storm                Россия   \n",
       "1226                           ООО Студия \"Новая волна\"                Россия   \n",
       "1472  Дольфин Филмз, Бибер Тайм Филмз, Скутер Браун ...                   США   \n",
       "1535           Юнайтед Мультимедиа Проджектс, Метрополь    Азербайджан-Россия   \n",
       "4014                  ЗАО \"Продюсерский центр \"Парадиз\"                Россия   \n",
       "4346         ООО \"Творческое телевизионное объединение\"                Россия   \n",
       "4678                  ООО \"Студия спецэффектов \"Ацидум\"                Россия   \n",
       "5135                                    ООО \"МВ Синема\"                Россия   \n",
       "5243                                     ООО \"Муви Про\"                Россия   \n",
       "6505                                     Анимаккорд Лтд       Республика Кипр   \n",
       "\n",
       "                              director  \\\n",
       "3374                         П.Руминов   \n",
       "3515                       М.Свешников   \n",
       "6830                     Анне Севитски   \n",
       "1025                      В.Москаленко   \n",
       "3431                    Аскар Бисембин   \n",
       "4794                      В.Ивановская   \n",
       "4323                         А.Мамедов   \n",
       "1691                     В.Соколовский   \n",
       "515                   Лоуренс Казанофф   \n",
       "1468                         А.Невский   \n",
       "1226                          К.Кемниц   \n",
       "1472                         Джон М.Чу   \n",
       "1535                    Фарид Гумбатов   \n",
       "4014                       А.Адилханян   \n",
       "4346                       Е.Цыплакова   \n",
       "4678                           Вл.Китт   \n",
       "5135                        М.Воронков   \n",
       "5243  Е.Соломина, А.Баршак, К.Статский   \n",
       "6505             Владислав Байрамгулов   \n",
       "\n",
       "                                               producer  \\\n",
       "3374                             П.Руминов, И.Капитонов   \n",
       "3515                                      Т.Бекмамбетов   \n",
       "6830                  Корнелия Бойсен, Сюннёве Хёрсдаль   \n",
       "1025                               Р.Арзуманов, В.Малый   \n",
       "3431                 Олег Головашкин, Алмас Султангазин   \n",
       "4794                                        В.Бердочкин   \n",
       "4323                                        В.Хижнякова   \n",
       "1691                          А.Учитель, К.Саксаганская   \n",
       "515   Джордж Джонсен, Лоуренс Казанофф, Элисон Сэвич...   \n",
       "1468                                          А.Невский   \n",
       "1226                                         С.Торчилин   \n",
       "1472           Джастин Бибер, Скутер Браун, Стюарт Форд   \n",
       "1535                  Рауф Атамалибеков, Фарид Гумбатов   \n",
       "4014                                         Г.Нерсисян   \n",
       "4346                             Е.Имамова, Ю.Беленький   \n",
       "4678                                       В.Музыченков   \n",
       "5135                                         М.Воронков   \n",
       "5243                  М.Пореченков, А.Перова, М.Королёв   \n",
       "6505      Олег Кузовков, Дмитрий Ловейко, Марина Ратина   \n",
       "\n",
       "                             age_restriction  refundable_support  \\\n",
       "3374             «18+» - запрещено для детей                 NaN   \n",
       "3515           «6+» - для детей старше 6 лет                0.00   \n",
       "6830             «18+» - запрещено для детей                 NaN   \n",
       "1025         «16+» - для детей старше 16 лет                 NaN   \n",
       "3431         «12+» - для детей старше 12 лет                 NaN   \n",
       "4794  «0+» - для любой зрительской аудитории                 NaN   \n",
       "4323  «0+» - для любой зрительской аудитории                 NaN   \n",
       "1691         «12+» - для детей старше 12 лет                 NaN   \n",
       "515   «0+» - для любой зрительской аудитории                 NaN   \n",
       "1468         «16+» - для детей старше 16 лет                 NaN   \n",
       "1226             «18+» - запрещено для детей                 NaN   \n",
       "1472           «6+» - для детей старше 6 лет                 NaN   \n",
       "1535         «16+» - для детей старше 16 лет                 NaN   \n",
       "4014  «0+» - для любой зрительской аудитории                 NaN   \n",
       "4346  «0+» - для любой зрительской аудитории                 NaN   \n",
       "4678         «16+» - для детей старше 16 лет                 NaN   \n",
       "5135         «16+» - для детей старше 16 лет                 NaN   \n",
       "5243  «0+» - для любой зрительской аудитории                 NaN   \n",
       "6505  «0+» - для любой зрительской аудитории                 NaN   \n",
       "\n",
       "      nonrefundable_support      budget financing_source  ratings  \\\n",
       "3374                    NaN         NaN          missing     1.50   \n",
       "3515            25000000.00 36016269.00        Фонд кино     1.00   \n",
       "6830                    NaN         NaN          missing     1.60   \n",
       "1025                    NaN         NaN          missing     1.40   \n",
       "3431                    NaN         NaN          missing     1.90   \n",
       "4794                    NaN         NaN          missing     1.20   \n",
       "4323                    NaN         NaN          missing     1.90   \n",
       "1691                    NaN         NaN          missing     1.60   \n",
       "515                     NaN         NaN          missing     1.60   \n",
       "1468                    NaN         NaN          missing     1.50   \n",
       "1226                    NaN         NaN          missing     1.50   \n",
       "1472                    NaN         NaN          missing     1.60   \n",
       "1535                    NaN         NaN          missing     1.10   \n",
       "4014                    NaN         NaN          missing     1.30   \n",
       "4346                    NaN         NaN          missing     1.80   \n",
       "4678                    NaN         NaN          missing     1.10   \n",
       "5135                    NaN         NaN          missing     1.70   \n",
       "5243                    NaN         NaN          missing     1.40   \n",
       "6505                    NaN         NaN          missing     1.70   \n",
       "\n",
       "                              genres  box_office         sum  \n",
       "3374                           ужасы 11066749.18         NaN  \n",
       "3515   комедия,мультфильм,фантастика  7323648.00 25000000.00  \n",
       "6830         боевик,триллер,криминал  2482317.00         NaN  \n",
       "1025                         комедия    87795.00         NaN  \n",
       "3431                         комедия    37960.00         NaN  \n",
       "4794     детский,фэнтези,приключения    24978.00         NaN  \n",
       "4323  детский,приключения,фантастика    14990.00         NaN  \n",
       "1691               мелодрама,комедия     6380.00         NaN  \n",
       "515      мультфильм,комедия,семейный      620.00         NaN  \n",
       "1468       детектив,триллер,криминал      380.00         NaN  \n",
       "1226           ужасы,триллер,комедия         NaN         NaN  \n",
       "1472   концерт,музыка,документальный         NaN         NaN  \n",
       "1535                         комедия         NaN         NaN  \n",
       "4014              мультфильм,комедия         NaN         NaN  \n",
       "4346                       мелодрама         NaN         NaN  \n",
       "4678                         триллер         NaN         NaN  \n",
       "5135               мелодрама,комедия         NaN         NaN  \n",
       "5243                фэнтези,семейный         NaN         NaN  \n",
       "6505  мультфильм,фэнтези,приключения         NaN         NaN  "
      ]
     },
     "execution_count": 47,
     "metadata": {},
     "output_type": "execute_result"
    }
   ],
   "source": [
    "data[data['ratings'] < 2]"
   ]
  },
  {
   "cell_type": "markdown",
   "metadata": {},
   "source": [
    "У этих фильмов действительно плохой рейтинг, оставим данные."
   ]
  },
  {
   "cell_type": "code",
   "execution_count": 48,
   "metadata": {},
   "outputs": [
    {
     "data": {
      "text/html": [
       "<div>\n",
       "<style scoped>\n",
       "    .dataframe tbody tr th:only-of-type {\n",
       "        vertical-align: middle;\n",
       "    }\n",
       "\n",
       "    .dataframe tbody tr th {\n",
       "        vertical-align: top;\n",
       "    }\n",
       "\n",
       "    .dataframe thead th {\n",
       "        text-align: right;\n",
       "    }\n",
       "</style>\n",
       "<table border=\"1\" class=\"dataframe\">\n",
       "  <thead>\n",
       "    <tr style=\"text-align: right;\">\n",
       "      <th></th>\n",
       "      <th>title</th>\n",
       "      <th>puNumber</th>\n",
       "      <th>show_start_date</th>\n",
       "      <th>type</th>\n",
       "      <th>film_studio</th>\n",
       "      <th>production_country</th>\n",
       "      <th>director</th>\n",
       "      <th>producer</th>\n",
       "      <th>age_restriction</th>\n",
       "      <th>refundable_support</th>\n",
       "      <th>nonrefundable_support</th>\n",
       "      <th>budget</th>\n",
       "      <th>financing_source</th>\n",
       "      <th>ratings</th>\n",
       "      <th>genres</th>\n",
       "      <th>box_office</th>\n",
       "      <th>sum</th>\n",
       "    </tr>\n",
       "  </thead>\n",
       "  <tbody>\n",
       "    <tr>\n",
       "      <th>5821</th>\n",
       "      <td>Свинья</td>\n",
       "      <td>121007018</td>\n",
       "      <td>2018-04-11 12:00:00+00:00</td>\n",
       "      <td>Художественный</td>\n",
       "      <td>Дарк Прекёрсор Продакшен, Филмиран, Хедейт Филм</td>\n",
       "      <td>Иран</td>\n",
       "      <td>Мани Хагиги</td>\n",
       "      <td>Мани Хагиги</td>\n",
       "      <td>«18+» - запрещено для детей</td>\n",
       "      <td>NaN</td>\n",
       "      <td>NaN</td>\n",
       "      <td>NaN</td>\n",
       "      <td>missing</td>\n",
       "      <td>9.40</td>\n",
       "      <td>триллер,драма</td>\n",
       "      <td>1587221.51</td>\n",
       "      <td>NaN</td>\n",
       "    </tr>\n",
       "    <tr>\n",
       "      <th>2146</th>\n",
       "      <td>Главный</td>\n",
       "      <td>111003415</td>\n",
       "      <td>2015-03-27 12:00:00+00:00</td>\n",
       "      <td>Художественный</td>\n",
       "      <td>ООО \"Киностудия \"МАСТЕР\"</td>\n",
       "      <td>Россия</td>\n",
       "      <td>Ю.Кара</td>\n",
       "      <td>Ю.Кара</td>\n",
       "      <td>«6+» - для детей старше 6 лет</td>\n",
       "      <td>0.00</td>\n",
       "      <td>10000000.00</td>\n",
       "      <td>40000000.00</td>\n",
       "      <td>Министерство культуры</td>\n",
       "      <td>9.40</td>\n",
       "      <td>фантастика,боевик,комедия</td>\n",
       "      <td>334750.00</td>\n",
       "      <td>10000000.00</td>\n",
       "    </tr>\n",
       "    <tr>\n",
       "      <th>6737</th>\n",
       "      <td>Колесо времени</td>\n",
       "      <td>111003219</td>\n",
       "      <td>2019-03-01 12:00:00+00:00</td>\n",
       "      <td>Художественный</td>\n",
       "      <td>ООО \"БестМедиа\"</td>\n",
       "      <td>Россия</td>\n",
       "      <td>Б.Куломзин</td>\n",
       "      <td>Б.Куломзин</td>\n",
       "      <td>«6+» - для детей старше 6 лет</td>\n",
       "      <td>NaN</td>\n",
       "      <td>NaN</td>\n",
       "      <td>NaN</td>\n",
       "      <td>missing</td>\n",
       "      <td>9.80</td>\n",
       "      <td>фэнтези,приключения</td>\n",
       "      <td>34992.00</td>\n",
       "      <td>NaN</td>\n",
       "    </tr>\n",
       "    <tr>\n",
       "      <th>1471</th>\n",
       "      <td>Друзья друзей</td>\n",
       "      <td>111014513</td>\n",
       "      <td>2013-12-19 12:00:00+00:00</td>\n",
       "      <td>Художественный</td>\n",
       "      <td>ООО \"ЕМ Продакшн\"</td>\n",
       "      <td>Россия</td>\n",
       "      <td>А.Аксененко</td>\n",
       "      <td>Г.Малков, В.Поляков, Г.Андреасян, С.Андреасян</td>\n",
       "      <td>«16+» - для детей старше 16 лет</td>\n",
       "      <td>NaN</td>\n",
       "      <td>NaN</td>\n",
       "      <td>NaN</td>\n",
       "      <td>missing</td>\n",
       "      <td>9.20</td>\n",
       "      <td>комедия,мелодрама</td>\n",
       "      <td>27780.00</td>\n",
       "      <td>NaN</td>\n",
       "    </tr>\n",
       "    <tr>\n",
       "      <th>1805</th>\n",
       "      <td>Спираль.</td>\n",
       "      <td>111001014</td>\n",
       "      <td>2014-01-30 12:00:00+00:00</td>\n",
       "      <td>Художественный</td>\n",
       "      <td>ООО \"Компания Питон\"</td>\n",
       "      <td>Россия</td>\n",
       "      <td>А.Волгин</td>\n",
       "      <td>Е.Ковалева</td>\n",
       "      <td>«12+» - для детей старше 12 лет</td>\n",
       "      <td>NaN</td>\n",
       "      <td>NaN</td>\n",
       "      <td>NaN</td>\n",
       "      <td>missing</td>\n",
       "      <td>9.90</td>\n",
       "      <td>аниме,мультфильм,ужасы</td>\n",
       "      <td>4295.00</td>\n",
       "      <td>NaN</td>\n",
       "    </tr>\n",
       "    <tr>\n",
       "      <th>259</th>\n",
       "      <td>Прошлое</td>\n",
       "      <td>221030715</td>\n",
       "      <td>2015-07-29 12:00:00+00:00</td>\n",
       "      <td>Художественный</td>\n",
       "      <td>20 Сенчюри Фокс де Архентина, Чемо, ЭйчБи Филм...</td>\n",
       "      <td>Аргентина - Бразилия</td>\n",
       "      <td>Эктор Бабенко</td>\n",
       "      <td>Эктор Бабенко, Оскар Крамер, Хуго Сидмэн</td>\n",
       "      <td>«16+» - для детей старше 16 лет</td>\n",
       "      <td>NaN</td>\n",
       "      <td>NaN</td>\n",
       "      <td>NaN</td>\n",
       "      <td>missing</td>\n",
       "      <td>9.90</td>\n",
       "      <td>ужасы,триллер,драма</td>\n",
       "      <td>NaN</td>\n",
       "      <td>NaN</td>\n",
       "    </tr>\n",
       "    <tr>\n",
       "      <th>1053</th>\n",
       "      <td>Песочный человек</td>\n",
       "      <td>121029212</td>\n",
       "      <td>2012-11-29 12:00:00+00:00</td>\n",
       "      <td>Художественный</td>\n",
       "      <td>Спотлайт Медиа Продакшн</td>\n",
       "      <td>Швейцария</td>\n",
       "      <td>Питер Луизи</td>\n",
       "      <td>Дэвид Луизи, Питер Луизи</td>\n",
       "      <td>«16+» - для детей старше 16 лет</td>\n",
       "      <td>NaN</td>\n",
       "      <td>NaN</td>\n",
       "      <td>NaN</td>\n",
       "      <td>missing</td>\n",
       "      <td>9.70</td>\n",
       "      <td>ужасы,фантастика,фэнтези</td>\n",
       "      <td>NaN</td>\n",
       "      <td>NaN</td>\n",
       "    </tr>\n",
       "    <tr>\n",
       "      <th>1341</th>\n",
       "      <td>Сказка о добре и Вре</td>\n",
       "      <td>111008913</td>\n",
       "      <td>2013-11-15 12:00:00+00:00</td>\n",
       "      <td>Художественный</td>\n",
       "      <td>НП \"Студия игрового кино \"Лик\"</td>\n",
       "      <td>Россия</td>\n",
       "      <td>Е.Шиляева</td>\n",
       "      <td>К.Терещенко</td>\n",
       "      <td>«6+» - для детей старше 6 лет</td>\n",
       "      <td>NaN</td>\n",
       "      <td>NaN</td>\n",
       "      <td>NaN</td>\n",
       "      <td>missing</td>\n",
       "      <td>9.90</td>\n",
       "      <td>триллер,драма,детектив</td>\n",
       "      <td>NaN</td>\n",
       "      <td>NaN</td>\n",
       "    </tr>\n",
       "    <tr>\n",
       "      <th>3585</th>\n",
       "      <td>Машины Страшилки. Серия \"Жутчайшая повесть о п...</td>\n",
       "      <td>114003916</td>\n",
       "      <td>2016-12-09 12:00:00+00:00</td>\n",
       "      <td>Анимационный</td>\n",
       "      <td>ООО Студия \"АНИМАККОРД\", АНИМАККОРД ЛТД.</td>\n",
       "      <td>Россия, Республика Кипр</td>\n",
       "      <td>Д.Червяцов</td>\n",
       "      <td>Д.Ловейко, О.Кузовков</td>\n",
       "      <td>«0+» - для любой зрительской аудитории</td>\n",
       "      <td>NaN</td>\n",
       "      <td>NaN</td>\n",
       "      <td>NaN</td>\n",
       "      <td>missing</td>\n",
       "      <td>9.70</td>\n",
       "      <td>мультфильм,ужасы,фэнтези</td>\n",
       "      <td>NaN</td>\n",
       "      <td>NaN</td>\n",
       "    </tr>\n",
       "    <tr>\n",
       "      <th>3948</th>\n",
       "      <td>Круиз.</td>\n",
       "      <td>211038210</td>\n",
       "      <td>2010-09-03 12:00:00+00:00</td>\n",
       "      <td>Художественный</td>\n",
       "      <td>ООО \"ЮНАЙТЕД МУЛЬТИМЕДИА ПРОДЖЕКТС\"</td>\n",
       "      <td>Россия</td>\n",
       "      <td>И.Ромащенко</td>\n",
       "      <td>Р.Атамалибеков</td>\n",
       "      <td>«16+» - для детей старше 16 лет</td>\n",
       "      <td>NaN</td>\n",
       "      <td>NaN</td>\n",
       "      <td>NaN</td>\n",
       "      <td>missing</td>\n",
       "      <td>9.70</td>\n",
       "      <td>приключения,комедия,фэнтези</td>\n",
       "      <td>NaN</td>\n",
       "      <td>NaN</td>\n",
       "    </tr>\n",
       "    <tr>\n",
       "      <th>5910</th>\n",
       "      <td>Мира</td>\n",
       "      <td>112000118</td>\n",
       "      <td>2018-06-04 12:00:00+00:00</td>\n",
       "      <td>Документальный</td>\n",
       "      <td>ООО \"Компания \"Новые люди\"</td>\n",
       "      <td>Россия</td>\n",
       "      <td>Д.Шабаев</td>\n",
       "      <td>Н.Мокрицкая</td>\n",
       "      <td>«18+» - запрещено для детей</td>\n",
       "      <td>NaN</td>\n",
       "      <td>NaN</td>\n",
       "      <td>NaN</td>\n",
       "      <td>missing</td>\n",
       "      <td>9.40</td>\n",
       "      <td>драма</td>\n",
       "      <td>NaN</td>\n",
       "      <td>NaN</td>\n",
       "    </tr>\n",
       "    <tr>\n",
       "      <th>6616</th>\n",
       "      <td>ОТ ВОЙНЫ ДО НАШИХ ДНЕЙ</td>\n",
       "      <td>111026518</td>\n",
       "      <td>2019-01-21 12:00:00+00:00</td>\n",
       "      <td>Художественный</td>\n",
       "      <td>ИП Вайсман Анатолий Александрович</td>\n",
       "      <td>Россия</td>\n",
       "      <td>А.Сазонов, Е.Климович, А.Коломеец, С.Черникова...</td>\n",
       "      <td>Д.Руюежин, Л.Пятницкая, Д.Колеров, Э.Ким, А.Хомич</td>\n",
       "      <td>«12+» - для детей старше 12 лет</td>\n",
       "      <td>NaN</td>\n",
       "      <td>NaN</td>\n",
       "      <td>NaN</td>\n",
       "      <td>missing</td>\n",
       "      <td>9.80</td>\n",
       "      <td>фантастика,боевик</td>\n",
       "      <td>NaN</td>\n",
       "      <td>NaN</td>\n",
       "    </tr>\n",
       "    <tr>\n",
       "      <th>6882</th>\n",
       "      <td>Животные рядом со Святыми</td>\n",
       "      <td>112003719</td>\n",
       "      <td>2019-05-03 12:00:00+00:00</td>\n",
       "      <td>Документальный</td>\n",
       "      <td>ООО \"Кинопрограмма \"XXI век\"</td>\n",
       "      <td>Россия</td>\n",
       "      <td>Т.Мирошник</td>\n",
       "      <td>В.Есинов, Е.Калинина</td>\n",
       "      <td>«0+» - для любой зрительской аудитории</td>\n",
       "      <td>NaN</td>\n",
       "      <td>NaN</td>\n",
       "      <td>NaN</td>\n",
       "      <td>missing</td>\n",
       "      <td>9.90</td>\n",
       "      <td>криминал,драма</td>\n",
       "      <td>NaN</td>\n",
       "      <td>NaN</td>\n",
       "    </tr>\n",
       "  </tbody>\n",
       "</table>\n",
       "</div>"
      ],
      "text/plain": [
       "                                                  title   puNumber  \\\n",
       "5821                                             Свинья  121007018   \n",
       "2146                                            Главный  111003415   \n",
       "6737                                     Колесо времени  111003219   \n",
       "1471                                      Друзья друзей  111014513   \n",
       "1805                                           Спираль.  111001014   \n",
       "259                                             Прошлое  221030715   \n",
       "1053                                   Песочный человек  121029212   \n",
       "1341                               Сказка о добре и Вре  111008913   \n",
       "3585  Машины Страшилки. Серия \"Жутчайшая повесть о п...  114003916   \n",
       "3948                                             Круиз.  211038210   \n",
       "5910                                               Мира  112000118   \n",
       "6616                             ОТ ВОЙНЫ ДО НАШИХ ДНЕЙ  111026518   \n",
       "6882                          Животные рядом со Святыми  112003719   \n",
       "\n",
       "               show_start_date            type  \\\n",
       "5821 2018-04-11 12:00:00+00:00  Художественный   \n",
       "2146 2015-03-27 12:00:00+00:00  Художественный   \n",
       "6737 2019-03-01 12:00:00+00:00  Художественный   \n",
       "1471 2013-12-19 12:00:00+00:00  Художественный   \n",
       "1805 2014-01-30 12:00:00+00:00  Художественный   \n",
       "259  2015-07-29 12:00:00+00:00  Художественный   \n",
       "1053 2012-11-29 12:00:00+00:00  Художественный   \n",
       "1341 2013-11-15 12:00:00+00:00  Художественный   \n",
       "3585 2016-12-09 12:00:00+00:00    Анимационный   \n",
       "3948 2010-09-03 12:00:00+00:00  Художественный   \n",
       "5910 2018-06-04 12:00:00+00:00  Документальный   \n",
       "6616 2019-01-21 12:00:00+00:00  Художественный   \n",
       "6882 2019-05-03 12:00:00+00:00  Документальный   \n",
       "\n",
       "                                            film_studio  \\\n",
       "5821    Дарк Прекёрсор Продакшен, Филмиран, Хедейт Филм   \n",
       "2146                           ООО \"Киностудия \"МАСТЕР\"   \n",
       "6737                                    ООО \"БестМедиа\"   \n",
       "1471                                  ООО \"ЕМ Продакшн\"   \n",
       "1805                               ООО \"Компания Питон\"   \n",
       "259   20 Сенчюри Фокс де Архентина, Чемо, ЭйчБи Филм...   \n",
       "1053                            Спотлайт Медиа Продакшн   \n",
       "1341                     НП \"Студия игрового кино \"Лик\"   \n",
       "3585           ООО Студия \"АНИМАККОРД\", АНИМАККОРД ЛТД.   \n",
       "3948                ООО \"ЮНАЙТЕД МУЛЬТИМЕДИА ПРОДЖЕКТС\"   \n",
       "5910                         ООО \"Компания \"Новые люди\"   \n",
       "6616                  ИП Вайсман Анатолий Александрович   \n",
       "6882                       ООО \"Кинопрограмма \"XXI век\"   \n",
       "\n",
       "           production_country  \\\n",
       "5821                     Иран   \n",
       "2146                   Россия   \n",
       "6737                   Россия   \n",
       "1471                   Россия   \n",
       "1805                   Россия   \n",
       "259      Аргентина - Бразилия   \n",
       "1053                Швейцария   \n",
       "1341                   Россия   \n",
       "3585  Россия, Республика Кипр   \n",
       "3948                   Россия   \n",
       "5910                   Россия   \n",
       "6616                   Россия   \n",
       "6882                   Россия   \n",
       "\n",
       "                                               director  \\\n",
       "5821                                        Мани Хагиги   \n",
       "2146                                             Ю.Кара   \n",
       "6737                                         Б.Куломзин   \n",
       "1471                                        А.Аксененко   \n",
       "1805                                           А.Волгин   \n",
       "259                                       Эктор Бабенко   \n",
       "1053                                        Питер Луизи   \n",
       "1341                                          Е.Шиляева   \n",
       "3585                                         Д.Червяцов   \n",
       "3948                                        И.Ромащенко   \n",
       "5910                                           Д.Шабаев   \n",
       "6616  А.Сазонов, Е.Климович, А.Коломеец, С.Черникова...   \n",
       "6882                                         Т.Мирошник   \n",
       "\n",
       "                                               producer  \\\n",
       "5821                                        Мани Хагиги   \n",
       "2146                                             Ю.Кара   \n",
       "6737                                         Б.Куломзин   \n",
       "1471      Г.Малков, В.Поляков, Г.Андреасян, С.Андреасян   \n",
       "1805                                         Е.Ковалева   \n",
       "259            Эктор Бабенко, Оскар Крамер, Хуго Сидмэн   \n",
       "1053                           Дэвид Луизи, Питер Луизи   \n",
       "1341                                        К.Терещенко   \n",
       "3585                              Д.Ловейко, О.Кузовков   \n",
       "3948                                     Р.Атамалибеков   \n",
       "5910                                        Н.Мокрицкая   \n",
       "6616  Д.Руюежин, Л.Пятницкая, Д.Колеров, Э.Ким, А.Хомич   \n",
       "6882                               В.Есинов, Е.Калинина   \n",
       "\n",
       "                             age_restriction  refundable_support  \\\n",
       "5821             «18+» - запрещено для детей                 NaN   \n",
       "2146           «6+» - для детей старше 6 лет                0.00   \n",
       "6737           «6+» - для детей старше 6 лет                 NaN   \n",
       "1471         «16+» - для детей старше 16 лет                 NaN   \n",
       "1805         «12+» - для детей старше 12 лет                 NaN   \n",
       "259          «16+» - для детей старше 16 лет                 NaN   \n",
       "1053         «16+» - для детей старше 16 лет                 NaN   \n",
       "1341           «6+» - для детей старше 6 лет                 NaN   \n",
       "3585  «0+» - для любой зрительской аудитории                 NaN   \n",
       "3948         «16+» - для детей старше 16 лет                 NaN   \n",
       "5910             «18+» - запрещено для детей                 NaN   \n",
       "6616         «12+» - для детей старше 12 лет                 NaN   \n",
       "6882  «0+» - для любой зрительской аудитории                 NaN   \n",
       "\n",
       "      nonrefundable_support      budget       financing_source  ratings  \\\n",
       "5821                    NaN         NaN                missing     9.40   \n",
       "2146            10000000.00 40000000.00  Министерство культуры     9.40   \n",
       "6737                    NaN         NaN                missing     9.80   \n",
       "1471                    NaN         NaN                missing     9.20   \n",
       "1805                    NaN         NaN                missing     9.90   \n",
       "259                     NaN         NaN                missing     9.90   \n",
       "1053                    NaN         NaN                missing     9.70   \n",
       "1341                    NaN         NaN                missing     9.90   \n",
       "3585                    NaN         NaN                missing     9.70   \n",
       "3948                    NaN         NaN                missing     9.70   \n",
       "5910                    NaN         NaN                missing     9.40   \n",
       "6616                    NaN         NaN                missing     9.80   \n",
       "6882                    NaN         NaN                missing     9.90   \n",
       "\n",
       "                           genres  box_office         sum  \n",
       "5821                триллер,драма  1587221.51         NaN  \n",
       "2146    фантастика,боевик,комедия   334750.00 10000000.00  \n",
       "6737          фэнтези,приключения    34992.00         NaN  \n",
       "1471            комедия,мелодрама    27780.00         NaN  \n",
       "1805       аниме,мультфильм,ужасы     4295.00         NaN  \n",
       "259           ужасы,триллер,драма         NaN         NaN  \n",
       "1053     ужасы,фантастика,фэнтези         NaN         NaN  \n",
       "1341       триллер,драма,детектив         NaN         NaN  \n",
       "3585     мультфильм,ужасы,фэнтези         NaN         NaN  \n",
       "3948  приключения,комедия,фэнтези         NaN         NaN  \n",
       "5910                        драма         NaN         NaN  \n",
       "6616            фантастика,боевик         NaN         NaN  \n",
       "6882               криминал,драма         NaN         NaN  "
      ]
     },
     "execution_count": 48,
     "metadata": {},
     "output_type": "execute_result"
    }
   ],
   "source": [
    "data[data['ratings'] > 9.1]"
   ]
  },
  {
   "cell_type": "markdown",
   "metadata": {},
   "source": [
    "Шоу и фильмы с наиболее высоким рейтингом в датасете в реальности имеют среднюю оценку. В строках с большинством из них отсутствует информация о бюджете и сумме сбора, данные не превышают 10% от общего датасета, можем убрать выбросы."
   ]
  },
  {
   "cell_type": "code",
   "execution_count": 49,
   "metadata": {},
   "outputs": [],
   "source": [
    "data['ratings'] = data['ratings'].fillna(0)"
   ]
  },
  {
   "cell_type": "code",
   "execution_count": 50,
   "metadata": {},
   "outputs": [],
   "source": [
    "data = data.query('ratings <= 9.1')"
   ]
  },
  {
   "cell_type": "code",
   "execution_count": 51,
   "metadata": {},
   "outputs": [],
   "source": [
    "data['ratings'] = data['ratings'].replace(0, np.nan)"
   ]
  },
  {
   "cell_type": "code",
   "execution_count": 52,
   "metadata": {},
   "outputs": [
    {
     "data": {
      "text/plain": [
       "count         3106.00\n",
       "mean      76865236.66\n",
       "std      241464506.82\n",
       "min              0.00\n",
       "25%         100558.25\n",
       "50%        2402285.00\n",
       "75%       23979671.02\n",
       "max     3073568690.79\n",
       "Name: box_office, dtype: float64"
      ]
     },
     "execution_count": 52,
     "metadata": {},
     "output_type": "execute_result"
    }
   ],
   "source": [
    "data['box_office'].describe()"
   ]
  },
  {
   "cell_type": "code",
   "execution_count": 53,
   "metadata": {},
   "outputs": [
    {
     "data": {
      "text/plain": [
       "<AxesSubplot:>"
      ]
     },
     "execution_count": 53,
     "metadata": {},
     "output_type": "execute_result"
    },
    {
     "data": {
      "image/png": "[encoded data removed]",
      "text/plain": [
       "<Figure size 504x720 with 1 Axes>"
      ]
     },
     "metadata": {
      "needs_background": "light"
     },
     "output_type": "display_data"
    }
   ],
   "source": [
    "data.boxplot('box_office', figsize = (7,10))"
   ]
  },
  {
   "cell_type": "code",
   "execution_count": 54,
   "metadata": {},
   "outputs": [
    {
     "data": {
      "text/html": [
       "<div>\n",
       "<style scoped>\n",
       "    .dataframe tbody tr th:only-of-type {\n",
       "        vertical-align: middle;\n",
       "    }\n",
       "\n",
       "    .dataframe tbody tr th {\n",
       "        vertical-align: top;\n",
       "    }\n",
       "\n",
       "    .dataframe thead th {\n",
       "        text-align: right;\n",
       "    }\n",
       "</style>\n",
       "<table border=\"1\" class=\"dataframe\">\n",
       "  <thead>\n",
       "    <tr style=\"text-align: right;\">\n",
       "      <th></th>\n",
       "      <th>title</th>\n",
       "      <th>puNumber</th>\n",
       "      <th>show_start_date</th>\n",
       "      <th>type</th>\n",
       "      <th>film_studio</th>\n",
       "      <th>production_country</th>\n",
       "      <th>director</th>\n",
       "      <th>producer</th>\n",
       "      <th>age_restriction</th>\n",
       "      <th>refundable_support</th>\n",
       "      <th>nonrefundable_support</th>\n",
       "      <th>budget</th>\n",
       "      <th>financing_source</th>\n",
       "      <th>ratings</th>\n",
       "      <th>genres</th>\n",
       "      <th>box_office</th>\n",
       "      <th>sum</th>\n",
       "    </tr>\n",
       "  </thead>\n",
       "  <tbody>\n",
       "    <tr>\n",
       "      <th>7456</th>\n",
       "      <td>Холоп</td>\n",
       "      <td>111021719</td>\n",
       "      <td>2019-12-19 12:00:00+00:00</td>\n",
       "      <td>Художественный</td>\n",
       "      <td>ООО \"МЕМ-МЕДИА\" по заказу АО \"ВБД Груп\"</td>\n",
       "      <td>Россия</td>\n",
       "      <td>К.Шипенко</td>\n",
       "      <td>Э.Илоян, Д.Жалинский, В.Дусмухаметов, Т.Бадзие...</td>\n",
       "      <td>«12+» - для детей старше 12 лет</td>\n",
       "      <td>25000000.00</td>\n",
       "      <td>35000000.00</td>\n",
       "      <td>160000000.00</td>\n",
       "      <td>Фонд кино</td>\n",
       "      <td>6.80</td>\n",
       "      <td>комедия</td>\n",
       "      <td>3073568690.79</td>\n",
       "      <td>60000000.00</td>\n",
       "    </tr>\n",
       "    <tr>\n",
       "      <th>5653</th>\n",
       "      <td>Движение вверх</td>\n",
       "      <td>111011817</td>\n",
       "      <td>2017-12-21 12:00:00+00:00</td>\n",
       "      <td>Художественный</td>\n",
       "      <td>ООО \"Студия \"ТРИТЭ\" Никиты Михалкова\"</td>\n",
       "      <td>Россия</td>\n",
       "      <td>А.Мегердичев</td>\n",
       "      <td>Л.Верещагин, А.Златопольский, Н.Михалков, ООО ...</td>\n",
       "      <td>«6+» - для детей старше 6 лет</td>\n",
       "      <td>0.00</td>\n",
       "      <td>400000000.00</td>\n",
       "      <td>590192191.00</td>\n",
       "      <td>Фонд кино</td>\n",
       "      <td>7.50</td>\n",
       "      <td>спорт,драма</td>\n",
       "      <td>2779686144.00</td>\n",
       "      <td>400000000.00</td>\n",
       "    </tr>\n",
       "    <tr>\n",
       "      <th>6820</th>\n",
       "      <td>Мстители: Финал</td>\n",
       "      <td>121005519</td>\n",
       "      <td>2019-04-29 12:00:00+00:00</td>\n",
       "      <td>Художественный</td>\n",
       "      <td>Марвел Студиос</td>\n",
       "      <td>США</td>\n",
       "      <td>Джо Руссо, Энтони Руссо</td>\n",
       "      <td>Кевин Фейги</td>\n",
       "      <td>«16+» - для детей старше 16 лет</td>\n",
       "      <td>NaN</td>\n",
       "      <td>NaN</td>\n",
       "      <td>NaN</td>\n",
       "      <td>missing</td>\n",
       "      <td>7.60</td>\n",
       "      <td>фантастика,боевик,драма</td>\n",
       "      <td>2576613776.83</td>\n",
       "      <td>NaN</td>\n",
       "    </tr>\n",
       "    <tr>\n",
       "      <th>6549</th>\n",
       "      <td>Т-34</td>\n",
       "      <td>111024918</td>\n",
       "      <td>2018-12-21 12:00:00+00:00</td>\n",
       "      <td>Художественный</td>\n",
       "      <td>ООО \"Кинокомпания МАРС-фильм\" по заказу ООО \"М...</td>\n",
       "      <td>Россия</td>\n",
       "      <td>А.Сидоров</td>\n",
       "      <td>А.Златопольский, Р.Дишдишян, Л.Блаватник, Н.Яр...</td>\n",
       "      <td>«12+» - для детей старше 12 лет</td>\n",
       "      <td>60000000.00</td>\n",
       "      <td>120000000.00</td>\n",
       "      <td>563784717.00</td>\n",
       "      <td>Фонд кино</td>\n",
       "      <td>6.50</td>\n",
       "      <td>драма,военный,боевик</td>\n",
       "      <td>2271754004.52</td>\n",
       "      <td>180000000.00</td>\n",
       "    </tr>\n",
       "    <tr>\n",
       "      <th>3488</th>\n",
       "      <td>Пираты Карибского моря: Мертвецы не рассказыва...</td>\n",
       "      <td>121009217</td>\n",
       "      <td>2017-05-17 12:00:00+00:00</td>\n",
       "      <td>Художественный</td>\n",
       "      <td>Джерри Брукхаймер Филмз, Уолт Дисней Пикчерз, ...</td>\n",
       "      <td>США</td>\n",
       "      <td>Йоаким Реннинг, Эспен Сандберг</td>\n",
       "      <td>Джерри Брукхаймер</td>\n",
       "      <td>«16+» - для детей старше 16 лет</td>\n",
       "      <td>NaN</td>\n",
       "      <td>NaN</td>\n",
       "      <td>NaN</td>\n",
       "      <td>missing</td>\n",
       "      <td>6.60</td>\n",
       "      <td>фэнтези,боевик,комедия</td>\n",
       "      <td>2118396119.00</td>\n",
       "      <td>NaN</td>\n",
       "    </tr>\n",
       "    <tr>\n",
       "      <th>2859</th>\n",
       "      <td>Зверополис</td>\n",
       "      <td>124000316</td>\n",
       "      <td>2016-02-15 12:00:00+00:00</td>\n",
       "      <td>Анимационный</td>\n",
       "      <td>Уолт Дисней Анимейшн Студиос, Уолт Дисней Пикчерз</td>\n",
       "      <td>США</td>\n",
       "      <td>Рич Мур, Байрон Ховард</td>\n",
       "      <td>Кларк Спенсер</td>\n",
       "      <td>«6+» - для детей старше 6 лет</td>\n",
       "      <td>NaN</td>\n",
       "      <td>NaN</td>\n",
       "      <td>NaN</td>\n",
       "      <td>missing</td>\n",
       "      <td>8.30</td>\n",
       "      <td>мультфильм,комедия,криминал</td>\n",
       "      <td>2048126108.00</td>\n",
       "      <td>NaN</td>\n",
       "    </tr>\n",
       "  </tbody>\n",
       "</table>\n",
       "</div>"
      ],
      "text/plain": [
       "                                                  title   puNumber  \\\n",
       "7456                                              Холоп  111021719   \n",
       "5653                                     Движение вверх  111011817   \n",
       "6820                                    Мстители: Финал  121005519   \n",
       "6549                                               Т-34  111024918   \n",
       "3488  Пираты Карибского моря: Мертвецы не рассказыва...  121009217   \n",
       "2859                                         Зверополис  124000316   \n",
       "\n",
       "               show_start_date            type  \\\n",
       "7456 2019-12-19 12:00:00+00:00  Художественный   \n",
       "5653 2017-12-21 12:00:00+00:00  Художественный   \n",
       "6820 2019-04-29 12:00:00+00:00  Художественный   \n",
       "6549 2018-12-21 12:00:00+00:00  Художественный   \n",
       "3488 2017-05-17 12:00:00+00:00  Художественный   \n",
       "2859 2016-02-15 12:00:00+00:00    Анимационный   \n",
       "\n",
       "                                            film_studio production_country  \\\n",
       "7456            ООО \"МЕМ-МЕДИА\" по заказу АО \"ВБД Груп\"             Россия   \n",
       "5653              ООО \"Студия \"ТРИТЭ\" Никиты Михалкова\"             Россия   \n",
       "6820                                     Марвел Студиос                США   \n",
       "6549  ООО \"Кинокомпания МАРС-фильм\" по заказу ООО \"М...             Россия   \n",
       "3488  Джерри Брукхаймер Филмз, Уолт Дисней Пикчерз, ...                США   \n",
       "2859  Уолт Дисней Анимейшн Студиос, Уолт Дисней Пикчерз                США   \n",
       "\n",
       "                            director  \\\n",
       "7456                       К.Шипенко   \n",
       "5653                    А.Мегердичев   \n",
       "6820         Джо Руссо, Энтони Руссо   \n",
       "6549                       А.Сидоров   \n",
       "3488  Йоаким Реннинг, Эспен Сандберг   \n",
       "2859          Рич Мур, Байрон Ховард   \n",
       "\n",
       "                                               producer  \\\n",
       "7456  Э.Илоян, Д.Жалинский, В.Дусмухаметов, Т.Бадзие...   \n",
       "5653  Л.Верещагин, А.Златопольский, Н.Михалков, ООО ...   \n",
       "6820                                        Кевин Фейги   \n",
       "6549  А.Златопольский, Р.Дишдишян, Л.Блаватник, Н.Яр...   \n",
       "3488                                  Джерри Брукхаймер   \n",
       "2859                                      Кларк Спенсер   \n",
       "\n",
       "                      age_restriction  refundable_support  \\\n",
       "7456  «12+» - для детей старше 12 лет         25000000.00   \n",
       "5653    «6+» - для детей старше 6 лет                0.00   \n",
       "6820  «16+» - для детей старше 16 лет                 NaN   \n",
       "6549  «12+» - для детей старше 12 лет         60000000.00   \n",
       "3488  «16+» - для детей старше 16 лет                 NaN   \n",
       "2859    «6+» - для детей старше 6 лет                 NaN   \n",
       "\n",
       "      nonrefundable_support       budget financing_source  ratings  \\\n",
       "7456            35000000.00 160000000.00        Фонд кино     6.80   \n",
       "5653           400000000.00 590192191.00        Фонд кино     7.50   \n",
       "6820                    NaN          NaN          missing     7.60   \n",
       "6549           120000000.00 563784717.00        Фонд кино     6.50   \n",
       "3488                    NaN          NaN          missing     6.60   \n",
       "2859                    NaN          NaN          missing     8.30   \n",
       "\n",
       "                           genres    box_office          sum  \n",
       "7456                      комедия 3073568690.79  60000000.00  \n",
       "5653                  спорт,драма 2779686144.00 400000000.00  \n",
       "6820      фантастика,боевик,драма 2576613776.83          NaN  \n",
       "6549         драма,военный,боевик 2271754004.52 180000000.00  \n",
       "3488       фэнтези,боевик,комедия 2118396119.00          NaN  \n",
       "2859  мультфильм,комедия,криминал 2048126108.00          NaN  "
      ]
     },
     "execution_count": 54,
     "metadata": {},
     "output_type": "execute_result"
    }
   ],
   "source": [
    "data[data['box_office'] > 2000000000].sort_values(by = 'box_office', ascending = False)"
   ]
  },
  {
   "cell_type": "markdown",
   "metadata": {},
   "source": [
    "Даные реальные, аномалий нет."
   ]
  },
  {
   "cell_type": "code",
   "execution_count": 55,
   "metadata": {},
   "outputs": [
    {
     "data": {
      "text/html": [
       "<div>\n",
       "<style scoped>\n",
       "    .dataframe tbody tr th:only-of-type {\n",
       "        vertical-align: middle;\n",
       "    }\n",
       "\n",
       "    .dataframe tbody tr th {\n",
       "        vertical-align: top;\n",
       "    }\n",
       "\n",
       "    .dataframe thead th {\n",
       "        text-align: right;\n",
       "    }\n",
       "</style>\n",
       "<table border=\"1\" class=\"dataframe\">\n",
       "  <thead>\n",
       "    <tr style=\"text-align: right;\">\n",
       "      <th></th>\n",
       "      <th>title</th>\n",
       "      <th>puNumber</th>\n",
       "      <th>show_start_date</th>\n",
       "      <th>type</th>\n",
       "      <th>film_studio</th>\n",
       "      <th>production_country</th>\n",
       "      <th>director</th>\n",
       "      <th>producer</th>\n",
       "      <th>age_restriction</th>\n",
       "      <th>refundable_support</th>\n",
       "      <th>nonrefundable_support</th>\n",
       "      <th>budget</th>\n",
       "      <th>financing_source</th>\n",
       "      <th>ratings</th>\n",
       "      <th>genres</th>\n",
       "      <th>box_office</th>\n",
       "      <th>sum</th>\n",
       "    </tr>\n",
       "  </thead>\n",
       "  <tbody>\n",
       "    <tr>\n",
       "      <th>1610</th>\n",
       "      <td>Иллюзия обмана</td>\n",
       "      <td>121014013</td>\n",
       "      <td>2013-05-27 12:00:00+00:00</td>\n",
       "      <td>Художественный</td>\n",
       "      <td>Саммит Интертейнмент, К/О Пепе Продакшн, Си Ми...</td>\n",
       "      <td>Франция-США</td>\n",
       "      <td>Луи Летерье</td>\n",
       "      <td>Бобби Коэн, Алекс Куртцман, Роберто Орси</td>\n",
       "      <td>«12+» - для детей старше 12 лет</td>\n",
       "      <td>NaN</td>\n",
       "      <td>NaN</td>\n",
       "      <td>NaN</td>\n",
       "      <td>missing</td>\n",
       "      <td>7.70</td>\n",
       "      <td>триллер,криминал,детектив</td>\n",
       "      <td>48300.00</td>\n",
       "      <td>NaN</td>\n",
       "    </tr>\n",
       "    <tr>\n",
       "      <th>2946</th>\n",
       "      <td>Пришествие</td>\n",
       "      <td>126002116</td>\n",
       "      <td>2016-04-05 12:00:00+00:00</td>\n",
       "      <td>Прочие</td>\n",
       "      <td>Инди Филм, Магик Хоур Филмз, Мука Фильми Оу, Н...</td>\n",
       "      <td>Дания - Австрия - Ирландия - Финляндия - Норве...</td>\n",
       "      <td>Майкл Мэдсен</td>\n",
       "      <td>Лиз Ленсе-Моллер</td>\n",
       "      <td>«16+» - для детей старше 16 лет</td>\n",
       "      <td>NaN</td>\n",
       "      <td>NaN</td>\n",
       "      <td>NaN</td>\n",
       "      <td>missing</td>\n",
       "      <td>5.70</td>\n",
       "      <td>ужасы</td>\n",
       "      <td>47800.00</td>\n",
       "      <td>NaN</td>\n",
       "    </tr>\n",
       "    <tr>\n",
       "      <th>2756</th>\n",
       "      <td>Хозяин джунглей</td>\n",
       "      <td>121008015</td>\n",
       "      <td>2015-04-13 12:00:00+00:00</td>\n",
       "      <td>Художественный</td>\n",
       "      <td>Магма Сине, Бонанира Филмз, Мани Филмз, Канана...</td>\n",
       "      <td>Аргентина - Мексика - Бразилия - Франция - США</td>\n",
       "      <td>Пабло Фендрик</td>\n",
       "      <td>Гаэль Гарсиа Берналь, Хуан Пабло Гильотта, Нат...</td>\n",
       "      <td>«18+» - запрещено для детей</td>\n",
       "      <td>NaN</td>\n",
       "      <td>NaN</td>\n",
       "      <td>NaN</td>\n",
       "      <td>missing</td>\n",
       "      <td>5.10</td>\n",
       "      <td>драма,вестерн</td>\n",
       "      <td>47780.00</td>\n",
       "      <td>NaN</td>\n",
       "    </tr>\n",
       "    <tr>\n",
       "      <th>2720</th>\n",
       "      <td>Форс-мажор.</td>\n",
       "      <td>121009215</td>\n",
       "      <td>2015-04-27 12:00:00+00:00</td>\n",
       "      <td>Художественный</td>\n",
       "      <td>Мотлис, Платформ Продакшн, Рон-Альпс Синема, С...</td>\n",
       "      <td>Швеция - Франция - Норвегия - Дания</td>\n",
       "      <td>Рубен Эстлунд</td>\n",
       "      <td>Филипп Бобер, Эрик Хеммендорф, Мари Челльсон</td>\n",
       "      <td>«18+» - запрещено для детей</td>\n",
       "      <td>NaN</td>\n",
       "      <td>NaN</td>\n",
       "      <td>NaN</td>\n",
       "      <td>missing</td>\n",
       "      <td>8.60</td>\n",
       "      <td>драма,комедия</td>\n",
       "      <td>47005.00</td>\n",
       "      <td>NaN</td>\n",
       "    </tr>\n",
       "    <tr>\n",
       "      <th>1124</th>\n",
       "      <td>Замбезия</td>\n",
       "      <td>124001712</td>\n",
       "      <td>2012-08-15 12:00:00+00:00</td>\n",
       "      <td>Анимационный</td>\n",
       "      <td>Синема Менеджмент Груп, Дэ Тэ И, Эн Эф Вэ Эф, ...</td>\n",
       "      <td>ЮАР</td>\n",
       "      <td>Вейн Тонли</td>\n",
       "      <td>Грег Бекер, Клер Бекер, Ванесса Синден</td>\n",
       "      <td>«0+» - для любой зрительской аудитории</td>\n",
       "      <td>NaN</td>\n",
       "      <td>NaN</td>\n",
       "      <td>NaN</td>\n",
       "      <td>missing</td>\n",
       "      <td>6.30</td>\n",
       "      <td>мультфильм,комедия,приключения</td>\n",
       "      <td>46556.00</td>\n",
       "      <td>NaN</td>\n",
       "    </tr>\n",
       "    <tr>\n",
       "      <th>...</th>\n",
       "      <td>...</td>\n",
       "      <td>...</td>\n",
       "      <td>...</td>\n",
       "      <td>...</td>\n",
       "      <td>...</td>\n",
       "      <td>...</td>\n",
       "      <td>...</td>\n",
       "      <td>...</td>\n",
       "      <td>...</td>\n",
       "      <td>...</td>\n",
       "      <td>...</td>\n",
       "      <td>...</td>\n",
       "      <td>...</td>\n",
       "      <td>...</td>\n",
       "      <td>...</td>\n",
       "      <td>...</td>\n",
       "      <td>...</td>\n",
       "    </tr>\n",
       "    <tr>\n",
       "      <th>932</th>\n",
       "      <td>Письмо для Момо</td>\n",
       "      <td>124002912</td>\n",
       "      <td>2012-10-25 12:00:00+00:00</td>\n",
       "      <td>Анимационный</td>\n",
       "      <td>Кадокава Пикчерз, Продакшнз И Джи, Токио Броад...</td>\n",
       "      <td>Япония</td>\n",
       "      <td>Окиура Хироюки</td>\n",
       "      <td>Хироюки Икеда, Митсухиса Ишикава, Кацзуя Хамана</td>\n",
       "      <td>«12+» - для детей старше 12 лет</td>\n",
       "      <td>NaN</td>\n",
       "      <td>NaN</td>\n",
       "      <td>NaN</td>\n",
       "      <td>missing</td>\n",
       "      <td>7.40</td>\n",
       "      <td>аниме,мультфильм,драма</td>\n",
       "      <td>0.00</td>\n",
       "      <td>NaN</td>\n",
       "    </tr>\n",
       "    <tr>\n",
       "      <th>933</th>\n",
       "      <td>Летние войны</td>\n",
       "      <td>124002812</td>\n",
       "      <td>2012-10-25 12:00:00+00:00</td>\n",
       "      <td>Анимационный</td>\n",
       "      <td>Медхауз, Ниппон Телевижн Нетуорк Корпорейшн, К...</td>\n",
       "      <td>Япония</td>\n",
       "      <td>Мамору Хосода</td>\n",
       "      <td>Такафуми Ватанабэ, Такуя Ито, Сэйдзи Окуда, Юи...</td>\n",
       "      <td>«12+» - для детей старше 12 лет</td>\n",
       "      <td>NaN</td>\n",
       "      <td>NaN</td>\n",
       "      <td>NaN</td>\n",
       "      <td>missing</td>\n",
       "      <td>7.70</td>\n",
       "      <td>аниме,мультфильм,фантастика</td>\n",
       "      <td>0.00</td>\n",
       "      <td>NaN</td>\n",
       "    </tr>\n",
       "    <tr>\n",
       "      <th>2442</th>\n",
       "      <td>Звездный мальчик</td>\n",
       "      <td>111013915</td>\n",
       "      <td>2015-08-25 12:00:00+00:00</td>\n",
       "      <td>Художественный</td>\n",
       "      <td>Киностудия \"Мосфильм\"</td>\n",
       "      <td>СССР</td>\n",
       "      <td>Е.Зильберштейн, А.Дудоров</td>\n",
       "      <td>unkn</td>\n",
       "      <td>«0+» - для любой зрительской аудитории</td>\n",
       "      <td>NaN</td>\n",
       "      <td>NaN</td>\n",
       "      <td>NaN</td>\n",
       "      <td>missing</td>\n",
       "      <td>7.50</td>\n",
       "      <td>драма</td>\n",
       "      <td>0.00</td>\n",
       "      <td>NaN</td>\n",
       "    </tr>\n",
       "    <tr>\n",
       "      <th>976</th>\n",
       "      <td>Гарегин Нжде</td>\n",
       "      <td>131000213</td>\n",
       "      <td>2013-04-23 12:00:00+00:00</td>\n",
       "      <td>Художественный</td>\n",
       "      <td>Эй Джи Кей Продакшнз, Пан Армениан Медиа Групп</td>\n",
       "      <td>Армения</td>\n",
       "      <td>Грач Кешишян</td>\n",
       "      <td>Грач Кешишян</td>\n",
       "      <td>«12+» - для детей старше 12 лет</td>\n",
       "      <td>NaN</td>\n",
       "      <td>NaN</td>\n",
       "      <td>NaN</td>\n",
       "      <td>missing</td>\n",
       "      <td>7.90</td>\n",
       "      <td>биография</td>\n",
       "      <td>0.00</td>\n",
       "      <td>NaN</td>\n",
       "    </tr>\n",
       "    <tr>\n",
       "      <th>1978</th>\n",
       "      <td>Люблю твою жену</td>\n",
       "      <td>121013014</td>\n",
       "      <td>2014-06-23 12:00:00+00:00</td>\n",
       "      <td>Художественный</td>\n",
       "      <td>Серендипити Пойнт Фильм, Номадик Пикчерз</td>\n",
       "      <td>Канада</td>\n",
       "      <td>Джеримайя С.Чечик</td>\n",
       "      <td>Стефен Аликс, Эри Лантос, Роберт Лантош</td>\n",
       "      <td>«16+» - для детей старше 16 лет</td>\n",
       "      <td>NaN</td>\n",
       "      <td>NaN</td>\n",
       "      <td>NaN</td>\n",
       "      <td>missing</td>\n",
       "      <td>6.00</td>\n",
       "      <td>мелодрама,комедия</td>\n",
       "      <td>0.00</td>\n",
       "      <td>NaN</td>\n",
       "    </tr>\n",
       "  </tbody>\n",
       "</table>\n",
       "<p>689 rows × 17 columns</p>\n",
       "</div>"
      ],
      "text/plain": [
       "                 title   puNumber           show_start_date            type  \\\n",
       "1610    Иллюзия обмана  121014013 2013-05-27 12:00:00+00:00  Художественный   \n",
       "2946        Пришествие  126002116 2016-04-05 12:00:00+00:00          Прочие   \n",
       "2756   Хозяин джунглей  121008015 2015-04-13 12:00:00+00:00  Художественный   \n",
       "2720       Форс-мажор.  121009215 2015-04-27 12:00:00+00:00  Художественный   \n",
       "1124          Замбезия  124001712 2012-08-15 12:00:00+00:00    Анимационный   \n",
       "...                ...        ...                       ...             ...   \n",
       "932    Письмо для Момо  124002912 2012-10-25 12:00:00+00:00    Анимационный   \n",
       "933       Летние войны  124002812 2012-10-25 12:00:00+00:00    Анимационный   \n",
       "2442  Звездный мальчик  111013915 2015-08-25 12:00:00+00:00  Художественный   \n",
       "976       Гарегин Нжде  131000213 2013-04-23 12:00:00+00:00  Художественный   \n",
       "1978   Люблю твою жену  121013014 2014-06-23 12:00:00+00:00  Художественный   \n",
       "\n",
       "                                            film_studio  \\\n",
       "1610  Саммит Интертейнмент, К/О Пепе Продакшн, Си Ми...   \n",
       "2946  Инди Филм, Магик Хоур Филмз, Мука Фильми Оу, Н...   \n",
       "2756  Магма Сине, Бонанира Филмз, Мани Филмз, Канана...   \n",
       "2720  Мотлис, Платформ Продакшн, Рон-Альпс Синема, С...   \n",
       "1124  Синема Менеджмент Груп, Дэ Тэ И, Эн Эф Вэ Эф, ...   \n",
       "...                                                 ...   \n",
       "932   Кадокава Пикчерз, Продакшнз И Джи, Токио Броад...   \n",
       "933   Медхауз, Ниппон Телевижн Нетуорк Корпорейшн, К...   \n",
       "2442                              Киностудия \"Мосфильм\"   \n",
       "976      Эй Джи Кей Продакшнз, Пан Армениан Медиа Групп   \n",
       "1978           Серендипити Пойнт Фильм, Номадик Пикчерз   \n",
       "\n",
       "                                     production_country  \\\n",
       "1610                                        Франция-США   \n",
       "2946  Дания - Австрия - Ирландия - Финляндия - Норве...   \n",
       "2756     Аргентина - Мексика - Бразилия - Франция - США   \n",
       "2720                Швеция - Франция - Норвегия - Дания   \n",
       "1124                                                ЮАР   \n",
       "...                                                 ...   \n",
       "932                                              Япония   \n",
       "933                                              Япония   \n",
       "2442                                               СССР   \n",
       "976                                             Армения   \n",
       "1978                                             Канада   \n",
       "\n",
       "                       director  \\\n",
       "1610                Луи Летерье   \n",
       "2946               Майкл Мэдсен   \n",
       "2756              Пабло Фендрик   \n",
       "2720              Рубен Эстлунд   \n",
       "1124                 Вейн Тонли   \n",
       "...                         ...   \n",
       "932              Окиура Хироюки   \n",
       "933               Мамору Хосода   \n",
       "2442  Е.Зильберштейн, А.Дудоров   \n",
       "976                Грач Кешишян   \n",
       "1978          Джеримайя С.Чечик   \n",
       "\n",
       "                                               producer  \\\n",
       "1610           Бобби Коэн, Алекс Куртцман, Роберто Орси   \n",
       "2946                                   Лиз Ленсе-Моллер   \n",
       "2756  Гаэль Гарсиа Берналь, Хуан Пабло Гильотта, Нат...   \n",
       "2720       Филипп Бобер, Эрик Хеммендорф, Мари Челльсон   \n",
       "1124             Грег Бекер, Клер Бекер, Ванесса Синден   \n",
       "...                                                 ...   \n",
       "932     Хироюки Икеда, Митсухиса Ишикава, Кацзуя Хамана   \n",
       "933   Такафуми Ватанабэ, Такуя Ито, Сэйдзи Окуда, Юи...   \n",
       "2442                                               unkn   \n",
       "976                                        Грач Кешишян   \n",
       "1978            Стефен Аликс, Эри Лантос, Роберт Лантош   \n",
       "\n",
       "                             age_restriction  refundable_support  \\\n",
       "1610         «12+» - для детей старше 12 лет                 NaN   \n",
       "2946         «16+» - для детей старше 16 лет                 NaN   \n",
       "2756             «18+» - запрещено для детей                 NaN   \n",
       "2720             «18+» - запрещено для детей                 NaN   \n",
       "1124  «0+» - для любой зрительской аудитории                 NaN   \n",
       "...                                      ...                 ...   \n",
       "932          «12+» - для детей старше 12 лет                 NaN   \n",
       "933          «12+» - для детей старше 12 лет                 NaN   \n",
       "2442  «0+» - для любой зрительской аудитории                 NaN   \n",
       "976          «12+» - для детей старше 12 лет                 NaN   \n",
       "1978         «16+» - для детей старше 16 лет                 NaN   \n",
       "\n",
       "      nonrefundable_support  budget financing_source  ratings  \\\n",
       "1610                    NaN     NaN          missing     7.70   \n",
       "2946                    NaN     NaN          missing     5.70   \n",
       "2756                    NaN     NaN          missing     5.10   \n",
       "2720                    NaN     NaN          missing     8.60   \n",
       "1124                    NaN     NaN          missing     6.30   \n",
       "...                     ...     ...              ...      ...   \n",
       "932                     NaN     NaN          missing     7.40   \n",
       "933                     NaN     NaN          missing     7.70   \n",
       "2442                    NaN     NaN          missing     7.50   \n",
       "976                     NaN     NaN          missing     7.90   \n",
       "1978                    NaN     NaN          missing     6.00   \n",
       "\n",
       "                              genres  box_office  sum  \n",
       "1610       триллер,криминал,детектив    48300.00  NaN  \n",
       "2946                           ужасы    47800.00  NaN  \n",
       "2756                   драма,вестерн    47780.00  NaN  \n",
       "2720                   драма,комедия    47005.00  NaN  \n",
       "1124  мультфильм,комедия,приключения    46556.00  NaN  \n",
       "...                              ...         ...  ...  \n",
       "932           аниме,мультфильм,драма        0.00  NaN  \n",
       "933      аниме,мультфильм,фантастика        0.00  NaN  \n",
       "2442                           драма        0.00  NaN  \n",
       "976                        биография        0.00  NaN  \n",
       "1978               мелодрама,комедия        0.00  NaN  \n",
       "\n",
       "[689 rows x 17 columns]"
      ]
     },
     "execution_count": 55,
     "metadata": {},
     "output_type": "execute_result"
    }
   ],
   "source": [
    "data[data['box_office'] < 50000]"
   ]
  },
  {
   "cell_type": "markdown",
   "metadata": {},
   "source": [
    "Кассовые сборы фильма \"люблю твою жену\" в реальности выше 90 тыс. рублей. Нули скорее всего проставлены у фильмов, информации о сборах которых не было изначально. Заменим пропусками. "
   ]
  },
  {
   "cell_type": "code",
   "execution_count": 56,
   "metadata": {},
   "outputs": [],
   "source": [
    "data['box_office'] = data['box_office'].replace(0.00, np.nan)"
   ]
  },
  {
   "cell_type": "markdown",
   "metadata": {},
   "source": [
    "В некоторых строках обнаружено несовпадение с реальными данными. Например, сборы фильма \"иллюзия обмана\" в реальности превышает миллиард, \"замбезия\" - 3 миллиарда, в нашем датафреме у обоих меньше 50 тыс. При этом у других фильмов, например \"хозяин джунглей\" данные совпадают с реальностью. Эмпирическим путем выявлено, что проблемы с данными начинаются именно со значения 50 тыс. рублей. Проверим, сколько строк осталось в выборке после замены нулей."
   ]
  },
  {
   "cell_type": "code",
   "execution_count": 57,
   "metadata": {},
   "outputs": [
    {
     "data": {
      "text/plain": [
       "0.09863541975674874"
      ]
     },
     "execution_count": 57,
     "metadata": {},
     "output_type": "execute_result"
    }
   ],
   "source": [
    "len(data[data['box_office'] < 50000])/len(data)"
   ]
  },
  {
   "cell_type": "markdown",
   "metadata": {},
   "source": [
    "Не больше 10% от общей доли, можем удалить их."
   ]
  },
  {
   "cell_type": "code",
   "execution_count": 58,
   "metadata": {},
   "outputs": [],
   "source": [
    "data['box_office'] = data['box_office'].fillna(9999999999)\n",
    "data = data.query('box_office > 50000')\n",
    "data['box_office'] = data['box_office'].replace(9999999999, np.nan)"
   ]
  },
  {
   "cell_type": "markdown",
   "metadata": {
    "id": "Eu6oWp2CgFyS"
   },
   "source": [
    "### Декомпозиция исходного датафрейма <a id=\"24\"></a>\n"
   ]
  },
  {
   "cell_type": "markdown",
   "metadata": {
    "id": "7GgW-UpAgFyS"
   },
   "source": [
    "Создадим столбец с информацией о годе проката:"
   ]
  },
  {
   "cell_type": "code",
   "execution_count": 59,
   "metadata": {
    "id": "I-yd1DkWgFyT"
   },
   "outputs": [],
   "source": [
    "data['year'] = pd.DatetimeIndex(data['show_start_date']).year"
   ]
  },
  {
   "cell_type": "markdown",
   "metadata": {
    "id": "nFTDLDYOgFyT"
   },
   "source": [
    "Также создадим два столбца: с именем и фамилией главного режиссёра и основным жанром фильма. В столбцы войдут первые значения из списка режиссёров и жанров соответственно."
   ]
  },
  {
   "cell_type": "code",
   "execution_count": 60,
   "metadata": {
    "id": "LSbRZKbMgFyU"
   },
   "outputs": [],
   "source": [
    "def first_val(val):\n",
    "    new_val = val.split(',')\n",
    "    return new_val[0]\n",
    "    \n",
    "data['main_director'] = data['director'].apply(first_val)\n",
    "data['main_genre'] = data['genres'].apply(first_val)"
   ]
  },
  {
   "cell_type": "markdown",
   "metadata": {
    "id": "1FsCXHwdgFyU"
   },
   "source": [
    "Добавим столбец с информацией о том, какую долю от общего бюджета фильма составляет государственная поддержка."
   ]
  },
  {
   "cell_type": "code",
   "execution_count": 61,
   "metadata": {
    "id": "LV6qFuZLgFyV"
   },
   "outputs": [],
   "source": [
    "data['percent_support'] = round((data['refundable_support'] + data['nonrefundable_support']) / data['budget'], 2)"
   ]
  },
  {
   "cell_type": "code",
   "execution_count": 62,
   "metadata": {},
   "outputs": [
    {
     "data": {
      "text/html": [
       "<div>\n",
       "<style scoped>\n",
       "    .dataframe tbody tr th:only-of-type {\n",
       "        vertical-align: middle;\n",
       "    }\n",
       "\n",
       "    .dataframe tbody tr th {\n",
       "        vertical-align: top;\n",
       "    }\n",
       "\n",
       "    .dataframe thead th {\n",
       "        text-align: right;\n",
       "    }\n",
       "</style>\n",
       "<table border=\"1\" class=\"dataframe\">\n",
       "  <thead>\n",
       "    <tr style=\"text-align: right;\">\n",
       "      <th></th>\n",
       "      <th>title</th>\n",
       "      <th>puNumber</th>\n",
       "      <th>show_start_date</th>\n",
       "      <th>type</th>\n",
       "      <th>film_studio</th>\n",
       "      <th>production_country</th>\n",
       "      <th>director</th>\n",
       "      <th>producer</th>\n",
       "      <th>age_restriction</th>\n",
       "      <th>refundable_support</th>\n",
       "      <th>...</th>\n",
       "      <th>budget</th>\n",
       "      <th>financing_source</th>\n",
       "      <th>ratings</th>\n",
       "      <th>genres</th>\n",
       "      <th>box_office</th>\n",
       "      <th>sum</th>\n",
       "      <th>year</th>\n",
       "      <th>main_director</th>\n",
       "      <th>main_genre</th>\n",
       "      <th>percent_support</th>\n",
       "    </tr>\n",
       "  </thead>\n",
       "  <tbody>\n",
       "    <tr>\n",
       "      <th>7456</th>\n",
       "      <td>Холоп</td>\n",
       "      <td>111021719</td>\n",
       "      <td>2019-12-19 12:00:00+00:00</td>\n",
       "      <td>Художественный</td>\n",
       "      <td>ООО \"МЕМ-МЕДИА\" по заказу АО \"ВБД Груп\"</td>\n",
       "      <td>Россия</td>\n",
       "      <td>К.Шипенко</td>\n",
       "      <td>Э.Илоян, Д.Жалинский, В.Дусмухаметов, Т.Бадзие...</td>\n",
       "      <td>«12+» - для детей старше 12 лет</td>\n",
       "      <td>25000000.00</td>\n",
       "      <td>...</td>\n",
       "      <td>160000000.00</td>\n",
       "      <td>Фонд кино</td>\n",
       "      <td>6.80</td>\n",
       "      <td>комедия</td>\n",
       "      <td>3073568690.79</td>\n",
       "      <td>60000000.00</td>\n",
       "      <td>2019</td>\n",
       "      <td>К.Шипенко</td>\n",
       "      <td>комедия</td>\n",
       "      <td>0.38</td>\n",
       "    </tr>\n",
       "    <tr>\n",
       "      <th>5653</th>\n",
       "      <td>Движение вверх</td>\n",
       "      <td>111011817</td>\n",
       "      <td>2017-12-21 12:00:00+00:00</td>\n",
       "      <td>Художественный</td>\n",
       "      <td>ООО \"Студия \"ТРИТЭ\" Никиты Михалкова\"</td>\n",
       "      <td>Россия</td>\n",
       "      <td>А.Мегердичев</td>\n",
       "      <td>Л.Верещагин, А.Златопольский, Н.Михалков, ООО ...</td>\n",
       "      <td>«6+» - для детей старше 6 лет</td>\n",
       "      <td>0.00</td>\n",
       "      <td>...</td>\n",
       "      <td>590192191.00</td>\n",
       "      <td>Фонд кино</td>\n",
       "      <td>7.50</td>\n",
       "      <td>спорт,драма</td>\n",
       "      <td>2779686144.00</td>\n",
       "      <td>400000000.00</td>\n",
       "      <td>2017</td>\n",
       "      <td>А.Мегердичев</td>\n",
       "      <td>спорт</td>\n",
       "      <td>0.68</td>\n",
       "    </tr>\n",
       "    <tr>\n",
       "      <th>6820</th>\n",
       "      <td>Мстители: Финал</td>\n",
       "      <td>121005519</td>\n",
       "      <td>2019-04-29 12:00:00+00:00</td>\n",
       "      <td>Художественный</td>\n",
       "      <td>Марвел Студиос</td>\n",
       "      <td>США</td>\n",
       "      <td>Джо Руссо, Энтони Руссо</td>\n",
       "      <td>Кевин Фейги</td>\n",
       "      <td>«16+» - для детей старше 16 лет</td>\n",
       "      <td>NaN</td>\n",
       "      <td>...</td>\n",
       "      <td>NaN</td>\n",
       "      <td>missing</td>\n",
       "      <td>7.60</td>\n",
       "      <td>фантастика,боевик,драма</td>\n",
       "      <td>2576613776.83</td>\n",
       "      <td>NaN</td>\n",
       "      <td>2019</td>\n",
       "      <td>Джо Руссо</td>\n",
       "      <td>фантастика</td>\n",
       "      <td>NaN</td>\n",
       "    </tr>\n",
       "    <tr>\n",
       "      <th>6549</th>\n",
       "      <td>Т-34</td>\n",
       "      <td>111024918</td>\n",
       "      <td>2018-12-21 12:00:00+00:00</td>\n",
       "      <td>Художественный</td>\n",
       "      <td>ООО \"Кинокомпания МАРС-фильм\" по заказу ООО \"М...</td>\n",
       "      <td>Россия</td>\n",
       "      <td>А.Сидоров</td>\n",
       "      <td>А.Златопольский, Р.Дишдишян, Л.Блаватник, Н.Яр...</td>\n",
       "      <td>«12+» - для детей старше 12 лет</td>\n",
       "      <td>60000000.00</td>\n",
       "      <td>...</td>\n",
       "      <td>563784717.00</td>\n",
       "      <td>Фонд кино</td>\n",
       "      <td>6.50</td>\n",
       "      <td>драма,военный,боевик</td>\n",
       "      <td>2271754004.52</td>\n",
       "      <td>180000000.00</td>\n",
       "      <td>2018</td>\n",
       "      <td>А.Сидоров</td>\n",
       "      <td>драма</td>\n",
       "      <td>0.32</td>\n",
       "    </tr>\n",
       "    <tr>\n",
       "      <th>3488</th>\n",
       "      <td>Пираты Карибского моря: Мертвецы не рассказыва...</td>\n",
       "      <td>121009217</td>\n",
       "      <td>2017-05-17 12:00:00+00:00</td>\n",
       "      <td>Художественный</td>\n",
       "      <td>Джерри Брукхаймер Филмз, Уолт Дисней Пикчерз, ...</td>\n",
       "      <td>США</td>\n",
       "      <td>Йоаким Реннинг, Эспен Сандберг</td>\n",
       "      <td>Джерри Брукхаймер</td>\n",
       "      <td>«16+» - для детей старше 16 лет</td>\n",
       "      <td>NaN</td>\n",
       "      <td>...</td>\n",
       "      <td>NaN</td>\n",
       "      <td>missing</td>\n",
       "      <td>6.60</td>\n",
       "      <td>фэнтези,боевик,комедия</td>\n",
       "      <td>2118396119.00</td>\n",
       "      <td>NaN</td>\n",
       "      <td>2017</td>\n",
       "      <td>Йоаким Реннинг</td>\n",
       "      <td>фэнтези</td>\n",
       "      <td>NaN</td>\n",
       "    </tr>\n",
       "    <tr>\n",
       "      <th>2859</th>\n",
       "      <td>Зверополис</td>\n",
       "      <td>124000316</td>\n",
       "      <td>2016-02-15 12:00:00+00:00</td>\n",
       "      <td>Анимационный</td>\n",
       "      <td>Уолт Дисней Анимейшн Студиос, Уолт Дисней Пикчерз</td>\n",
       "      <td>США</td>\n",
       "      <td>Рич Мур, Байрон Ховард</td>\n",
       "      <td>Кларк Спенсер</td>\n",
       "      <td>«6+» - для детей старше 6 лет</td>\n",
       "      <td>NaN</td>\n",
       "      <td>...</td>\n",
       "      <td>NaN</td>\n",
       "      <td>missing</td>\n",
       "      <td>8.30</td>\n",
       "      <td>мультфильм,комедия,криминал</td>\n",
       "      <td>2048126108.00</td>\n",
       "      <td>NaN</td>\n",
       "      <td>2016</td>\n",
       "      <td>Рич Мур</td>\n",
       "      <td>мультфильм</td>\n",
       "      <td>NaN</td>\n",
       "    </tr>\n",
       "    <tr>\n",
       "      <th>3755</th>\n",
       "      <td>Тайная жизнь домашних животных. Миньоны против...</td>\n",
       "      <td>124002816</td>\n",
       "      <td>2016-07-05 12:00:00+00:00</td>\n",
       "      <td>Анимационный</td>\n",
       "      <td>Иллюминейшн Интертейнмент, Юниверсал Пикчерз</td>\n",
       "      <td>США</td>\n",
       "      <td>Крис Рено</td>\n",
       "      <td>Кристофер Меледандри</td>\n",
       "      <td>«6+» - для детей старше 6 лет</td>\n",
       "      <td>NaN</td>\n",
       "      <td>...</td>\n",
       "      <td>NaN</td>\n",
       "      <td>missing</td>\n",
       "      <td>6.70</td>\n",
       "      <td>мультфильм,короткометражка,комедия</td>\n",
       "      <td>1971005085.00</td>\n",
       "      <td>NaN</td>\n",
       "      <td>2016</td>\n",
       "      <td>Крис Рено</td>\n",
       "      <td>мультфильм</td>\n",
       "      <td>NaN</td>\n",
       "    </tr>\n",
       "    <tr>\n",
       "      <th>6274</th>\n",
       "      <td>Веном</td>\n",
       "      <td>121022018</td>\n",
       "      <td>2018-10-04 12:00:00+00:00</td>\n",
       "      <td>Художественный</td>\n",
       "      <td>Коламбиа Пикчерз, Марвел Интертейнмент, Паскал...</td>\n",
       "      <td>США</td>\n",
       "      <td>Рубен Флейшер</td>\n",
       "      <td>Ави Арад, Эми Паскаль, Мэтт Толмак</td>\n",
       "      <td>«16+» - для детей старше 16 лет</td>\n",
       "      <td>NaN</td>\n",
       "      <td>...</td>\n",
       "      <td>NaN</td>\n",
       "      <td>missing</td>\n",
       "      <td>6.80</td>\n",
       "      <td>боевик,фантастика,триллер</td>\n",
       "      <td>1913257923.06</td>\n",
       "      <td>NaN</td>\n",
       "      <td>2018</td>\n",
       "      <td>Рубен Флейшер</td>\n",
       "      <td>боевик</td>\n",
       "      <td>NaN</td>\n",
       "    </tr>\n",
       "    <tr>\n",
       "      <th>7216</th>\n",
       "      <td>Малефисента: Владычица тьмы</td>\n",
       "      <td>121026219</td>\n",
       "      <td>2019-10-04 12:00:00+00:00</td>\n",
       "      <td>Художественный</td>\n",
       "      <td>Рот Филмз, Уолт Дисней Пикчерз</td>\n",
       "      <td>США</td>\n",
       "      <td>Йоаким Роннинг</td>\n",
       "      <td>Анджелина Джоли, Джо Рот, Дункан Хендерсон</td>\n",
       "      <td>«6+» - для детей старше 6 лет</td>\n",
       "      <td>NaN</td>\n",
       "      <td>...</td>\n",
       "      <td>NaN</td>\n",
       "      <td>missing</td>\n",
       "      <td>6.90</td>\n",
       "      <td>фэнтези,приключения,семейный</td>\n",
       "      <td>1911944865.95</td>\n",
       "      <td>NaN</td>\n",
       "      <td>2019</td>\n",
       "      <td>Йоаким Роннинг</td>\n",
       "      <td>фэнтези</td>\n",
       "      <td>NaN</td>\n",
       "    </tr>\n",
       "    <tr>\n",
       "      <th>7258</th>\n",
       "      <td>Джокер</td>\n",
       "      <td>121027519</td>\n",
       "      <td>2019-10-03 12:00:00+00:00</td>\n",
       "      <td>Художественный</td>\n",
       "      <td>Брон Студиос, Ди Си Комикс, Джоинт Эффорт, Вил...</td>\n",
       "      <td>США - Канада</td>\n",
       "      <td>Тодд Филлипс</td>\n",
       "      <td>Брэдли Купер, Эмма Тиллинджер Коскофф, Тодд Фи...</td>\n",
       "      <td>«18+» - запрещено для детей</td>\n",
       "      <td>NaN</td>\n",
       "      <td>...</td>\n",
       "      <td>NaN</td>\n",
       "      <td>missing</td>\n",
       "      <td>8.00</td>\n",
       "      <td>триллер,драма,криминал</td>\n",
       "      <td>1890368076.47</td>\n",
       "      <td>NaN</td>\n",
       "      <td>2019</td>\n",
       "      <td>Тодд Филлипс</td>\n",
       "      <td>триллер</td>\n",
       "      <td>NaN</td>\n",
       "    </tr>\n",
       "  </tbody>\n",
       "</table>\n",
       "<p>10 rows × 21 columns</p>\n",
       "</div>"
      ],
      "text/plain": [
       "                                                  title   puNumber  \\\n",
       "7456                                              Холоп  111021719   \n",
       "5653                                     Движение вверх  111011817   \n",
       "6820                                    Мстители: Финал  121005519   \n",
       "6549                                               Т-34  111024918   \n",
       "3488  Пираты Карибского моря: Мертвецы не рассказыва...  121009217   \n",
       "2859                                         Зверополис  124000316   \n",
       "3755  Тайная жизнь домашних животных. Миньоны против...  124002816   \n",
       "6274                                              Веном  121022018   \n",
       "7216                        Малефисента: Владычица тьмы  121026219   \n",
       "7258                                             Джокер  121027519   \n",
       "\n",
       "               show_start_date            type  \\\n",
       "7456 2019-12-19 12:00:00+00:00  Художественный   \n",
       "5653 2017-12-21 12:00:00+00:00  Художественный   \n",
       "6820 2019-04-29 12:00:00+00:00  Художественный   \n",
       "6549 2018-12-21 12:00:00+00:00  Художественный   \n",
       "3488 2017-05-17 12:00:00+00:00  Художественный   \n",
       "2859 2016-02-15 12:00:00+00:00    Анимационный   \n",
       "3755 2016-07-05 12:00:00+00:00    Анимационный   \n",
       "6274 2018-10-04 12:00:00+00:00  Художественный   \n",
       "7216 2019-10-04 12:00:00+00:00  Художественный   \n",
       "7258 2019-10-03 12:00:00+00:00  Художественный   \n",
       "\n",
       "                                            film_studio production_country  \\\n",
       "7456            ООО \"МЕМ-МЕДИА\" по заказу АО \"ВБД Груп\"             Россия   \n",
       "5653              ООО \"Студия \"ТРИТЭ\" Никиты Михалкова\"             Россия   \n",
       "6820                                     Марвел Студиос                США   \n",
       "6549  ООО \"Кинокомпания МАРС-фильм\" по заказу ООО \"М...             Россия   \n",
       "3488  Джерри Брукхаймер Филмз, Уолт Дисней Пикчерз, ...                США   \n",
       "2859  Уолт Дисней Анимейшн Студиос, Уолт Дисней Пикчерз                США   \n",
       "3755       Иллюминейшн Интертейнмент, Юниверсал Пикчерз                США   \n",
       "6274  Коламбиа Пикчерз, Марвел Интертейнмент, Паскал...                США   \n",
       "7216                     Рот Филмз, Уолт Дисней Пикчерз                США   \n",
       "7258  Брон Студиос, Ди Си Комикс, Джоинт Эффорт, Вил...       США - Канада   \n",
       "\n",
       "                            director  \\\n",
       "7456                       К.Шипенко   \n",
       "5653                    А.Мегердичев   \n",
       "6820         Джо Руссо, Энтони Руссо   \n",
       "6549                       А.Сидоров   \n",
       "3488  Йоаким Реннинг, Эспен Сандберг   \n",
       "2859          Рич Мур, Байрон Ховард   \n",
       "3755                       Крис Рено   \n",
       "6274                   Рубен Флейшер   \n",
       "7216                  Йоаким Роннинг   \n",
       "7258                    Тодд Филлипс   \n",
       "\n",
       "                                               producer  \\\n",
       "7456  Э.Илоян, Д.Жалинский, В.Дусмухаметов, Т.Бадзие...   \n",
       "5653  Л.Верещагин, А.Златопольский, Н.Михалков, ООО ...   \n",
       "6820                                        Кевин Фейги   \n",
       "6549  А.Златопольский, Р.Дишдишян, Л.Блаватник, Н.Яр...   \n",
       "3488                                  Джерри Брукхаймер   \n",
       "2859                                      Кларк Спенсер   \n",
       "3755                               Кристофер Меледандри   \n",
       "6274                 Ави Арад, Эми Паскаль, Мэтт Толмак   \n",
       "7216         Анджелина Джоли, Джо Рот, Дункан Хендерсон   \n",
       "7258  Брэдли Купер, Эмма Тиллинджер Коскофф, Тодд Фи...   \n",
       "\n",
       "                      age_restriction  refundable_support  ...       budget  \\\n",
       "7456  «12+» - для детей старше 12 лет         25000000.00  ... 160000000.00   \n",
       "5653    «6+» - для детей старше 6 лет                0.00  ... 590192191.00   \n",
       "6820  «16+» - для детей старше 16 лет                 NaN  ...          NaN   \n",
       "6549  «12+» - для детей старше 12 лет         60000000.00  ... 563784717.00   \n",
       "3488  «16+» - для детей старше 16 лет                 NaN  ...          NaN   \n",
       "2859    «6+» - для детей старше 6 лет                 NaN  ...          NaN   \n",
       "3755    «6+» - для детей старше 6 лет                 NaN  ...          NaN   \n",
       "6274  «16+» - для детей старше 16 лет                 NaN  ...          NaN   \n",
       "7216    «6+» - для детей старше 6 лет                 NaN  ...          NaN   \n",
       "7258      «18+» - запрещено для детей                 NaN  ...          NaN   \n",
       "\n",
       "      financing_source ratings                              genres  \\\n",
       "7456         Фонд кино    6.80                             комедия   \n",
       "5653         Фонд кино    7.50                         спорт,драма   \n",
       "6820           missing    7.60             фантастика,боевик,драма   \n",
       "6549         Фонд кино    6.50                драма,военный,боевик   \n",
       "3488           missing    6.60              фэнтези,боевик,комедия   \n",
       "2859           missing    8.30         мультфильм,комедия,криминал   \n",
       "3755           missing    6.70  мультфильм,короткометражка,комедия   \n",
       "6274           missing    6.80           боевик,фантастика,триллер   \n",
       "7216           missing    6.90        фэнтези,приключения,семейный   \n",
       "7258           missing    8.00              триллер,драма,криминал   \n",
       "\n",
       "        box_office          sum  year   main_director  main_genre  \\\n",
       "7456 3073568690.79  60000000.00  2019       К.Шипенко     комедия   \n",
       "5653 2779686144.00 400000000.00  2017    А.Мегердичев       спорт   \n",
       "6820 2576613776.83          NaN  2019       Джо Руссо  фантастика   \n",
       "6549 2271754004.52 180000000.00  2018       А.Сидоров       драма   \n",
       "3488 2118396119.00          NaN  2017  Йоаким Реннинг     фэнтези   \n",
       "2859 2048126108.00          NaN  2016         Рич Мур  мультфильм   \n",
       "3755 1971005085.00          NaN  2016       Крис Рено  мультфильм   \n",
       "6274 1913257923.06          NaN  2018   Рубен Флейшер      боевик   \n",
       "7216 1911944865.95          NaN  2019  Йоаким Роннинг     фэнтези   \n",
       "7258 1890368076.47          NaN  2019    Тодд Филлипс     триллер   \n",
       "\n",
       "     percent_support  \n",
       "7456            0.38  \n",
       "5653            0.68  \n",
       "6820             NaN  \n",
       "6549            0.32  \n",
       "3488             NaN  \n",
       "2859             NaN  \n",
       "3755             NaN  \n",
       "6274             NaN  \n",
       "7216             NaN  \n",
       "7258             NaN  \n",
       "\n",
       "[10 rows x 21 columns]"
      ]
     },
     "execution_count": 62,
     "metadata": {},
     "output_type": "execute_result"
    }
   ],
   "source": [
    "data.head(10)"
   ]
  },
  {
   "cell_type": "code",
   "execution_count": 63,
   "metadata": {},
   "outputs": [
    {
     "data": {
      "text/plain": [
       "count   304.00\n",
       "mean      0.52\n",
       "std       0.17\n",
       "min       0.04\n",
       "25%       0.37\n",
       "50%       0.59\n",
       "75%       0.66\n",
       "max       0.78\n",
       "Name: percent_support, dtype: float64"
      ]
     },
     "execution_count": 63,
     "metadata": {},
     "output_type": "execute_result"
    }
   ],
   "source": [
    "data['percent_support'].describe()"
   ]
  },
  {
   "cell_type": "markdown",
   "metadata": {
    "id": "6t4EukPLgFyV"
   },
   "source": [
    "### Исследовательский анализ данных <a id=\"3\"></a>\n"
   ]
  },
  {
   "cell_type": "markdown",
   "metadata": {
    "id": "vAH8WCzugFyV"
   },
   "source": [
    "Посмотрим, сколько фильмов выходило в прокат каждый год. Данные о прокате в кинотеатрах известны не для всех фильмов, поэтому также посчитаем, какую долю составляют фильмы с указанной информацией о прокате в кинотеатрах."
   ]
  },
  {
   "cell_type": "code",
   "execution_count": 64,
   "metadata": {
    "id": "ABeV47y7gFyW"
   },
   "outputs": [
    {
     "data": {
      "text/plain": [
       "2019    888\n",
       "2018    867\n",
       "2016    700\n",
       "2010    670\n",
       "2015    629\n",
       "2014    592\n",
       "2017    494\n",
       "2013    432\n",
       "2012    418\n",
       "2011    387\n",
       "Name: year, dtype: int64"
      ]
     },
     "execution_count": 64,
     "metadata": {},
     "output_type": "execute_result"
    }
   ],
   "source": [
    "data['year'].value_counts()"
   ]
  },
  {
   "cell_type": "code",
   "execution_count": 65,
   "metadata": {},
   "outputs": [
    {
     "data": {
      "text/plain": [
       "0.39772914266908016"
      ]
     },
     "execution_count": 65,
     "metadata": {},
     "output_type": "execute_result"
    }
   ],
   "source": [
    "(len(data) - data['box_office'].isna().sum() + len(data.query('box_office == 0'))) / len(data)"
   ]
  },
  {
   "cell_type": "markdown",
   "metadata": {},
   "source": [
    "Больше чем в половине данных информация о прокате не представлена. Посмотрим, какой период полнее всего представлен в данных."
   ]
  },
  {
   "cell_type": "code",
   "execution_count": 66,
   "metadata": {
    "id": "tfEhofYvgFyX"
   },
   "outputs": [],
   "source": [
    "data['box_office'] = data['box_office'].fillna(1)"
   ]
  },
  {
   "cell_type": "code",
   "execution_count": 67,
   "metadata": {},
   "outputs": [],
   "source": [
    "box_off = data.query('box_office !=1')"
   ]
  },
  {
   "cell_type": "code",
   "execution_count": 68,
   "metadata": {},
   "outputs": [],
   "source": [
    "data['box_office'] = data['box_office'].replace(1, np.nan)"
   ]
  },
  {
   "cell_type": "code",
   "execution_count": 69,
   "metadata": {},
   "outputs": [],
   "source": [
    "year_box_off = box_off.pivot_table(index = 'year', values = 'box_office', aggfunc=['count', 'mean','median','sum'])\n",
    "year_box_off.columns = ['count', 'mean','median', 'sum']"
   ]
  },
  {
   "cell_type": "code",
   "execution_count": 70,
   "metadata": {},
   "outputs": [
    {
     "data": {
      "text/html": [
       "<div>\n",
       "<style scoped>\n",
       "    .dataframe tbody tr th:only-of-type {\n",
       "        vertical-align: middle;\n",
       "    }\n",
       "\n",
       "    .dataframe tbody tr th {\n",
       "        vertical-align: top;\n",
       "    }\n",
       "\n",
       "    .dataframe thead th {\n",
       "        text-align: right;\n",
       "    }\n",
       "</style>\n",
       "<table border=\"1\" class=\"dataframe\">\n",
       "  <thead>\n",
       "    <tr style=\"text-align: right;\">\n",
       "      <th></th>\n",
       "      <th>count</th>\n",
       "      <th>mean</th>\n",
       "      <th>median</th>\n",
       "      <th>sum</th>\n",
       "    </tr>\n",
       "    <tr>\n",
       "      <th>year</th>\n",
       "      <th></th>\n",
       "      <th></th>\n",
       "      <th></th>\n",
       "      <th></th>\n",
       "    </tr>\n",
       "  </thead>\n",
       "  <tbody>\n",
       "    <tr>\n",
       "      <th>2010</th>\n",
       "      <td>4</td>\n",
       "      <td>478625.25</td>\n",
       "      <td>207020.50</td>\n",
       "      <td>1914501.00</td>\n",
       "    </tr>\n",
       "    <tr>\n",
       "      <th>2011</th>\n",
       "      <td>12</td>\n",
       "      <td>1129438.92</td>\n",
       "      <td>80663.50</td>\n",
       "      <td>13553267.00</td>\n",
       "    </tr>\n",
       "    <tr>\n",
       "      <th>2012</th>\n",
       "      <td>17</td>\n",
       "      <td>354277.59</td>\n",
       "      <td>103210.00</td>\n",
       "      <td>6022719.00</td>\n",
       "    </tr>\n",
       "    <tr>\n",
       "      <th>2013</th>\n",
       "      <td>20</td>\n",
       "      <td>1429471.31</td>\n",
       "      <td>142907.75</td>\n",
       "      <td>28589426.20</td>\n",
       "    </tr>\n",
       "    <tr>\n",
       "      <th>2014</th>\n",
       "      <td>125</td>\n",
       "      <td>59469923.98</td>\n",
       "      <td>822023.00</td>\n",
       "      <td>7433740497.10</td>\n",
       "    </tr>\n",
       "    <tr>\n",
       "      <th>2015</th>\n",
       "      <td>418</td>\n",
       "      <td>92169888.28</td>\n",
       "      <td>7188503.75</td>\n",
       "      <td>38527013302.59</td>\n",
       "    </tr>\n",
       "    <tr>\n",
       "      <th>2016</th>\n",
       "      <td>480</td>\n",
       "      <td>97378265.19</td>\n",
       "      <td>5182360.75</td>\n",
       "      <td>46741567288.98</td>\n",
       "    </tr>\n",
       "    <tr>\n",
       "      <th>2017</th>\n",
       "      <td>352</td>\n",
       "      <td>137664991.72</td>\n",
       "      <td>10177833.50</td>\n",
       "      <td>48458077083.75</td>\n",
       "    </tr>\n",
       "    <tr>\n",
       "      <th>2018</th>\n",
       "      <td>467</td>\n",
       "      <td>105460972.65</td>\n",
       "      <td>8931965.66</td>\n",
       "      <td>49250274229.69</td>\n",
       "    </tr>\n",
       "    <tr>\n",
       "      <th>2019</th>\n",
       "      <td>522</td>\n",
       "      <td>92485330.99</td>\n",
       "      <td>4774520.50</td>\n",
       "      <td>48277342779.17</td>\n",
       "    </tr>\n",
       "  </tbody>\n",
       "</table>\n",
       "</div>"
      ],
      "text/plain": [
       "      count         mean      median            sum\n",
       "year                                               \n",
       "2010      4    478625.25   207020.50     1914501.00\n",
       "2011     12   1129438.92    80663.50    13553267.00\n",
       "2012     17    354277.59   103210.00     6022719.00\n",
       "2013     20   1429471.31   142907.75    28589426.20\n",
       "2014    125  59469923.98   822023.00  7433740497.10\n",
       "2015    418  92169888.28  7188503.75 38527013302.59\n",
       "2016    480  97378265.19  5182360.75 46741567288.98\n",
       "2017    352 137664991.72 10177833.50 48458077083.75\n",
       "2018    467 105460972.65  8931965.66 49250274229.69\n",
       "2019    522  92485330.99  4774520.50 48277342779.17"
      ]
     },
     "execution_count": 70,
     "metadata": {},
     "output_type": "execute_result"
    }
   ],
   "source": [
    "year_box_off"
   ]
  },
  {
   "cell_type": "code",
   "execution_count": 71,
   "metadata": {},
   "outputs": [
    {
     "data": {
      "image/png": "[encoded data removed]",
      "text/plain": [
       "<Figure size 432x288 with 1 Axes>"
      ]
     },
     "metadata": {
      "needs_background": "light"
     },
     "output_type": "display_data"
    }
   ],
   "source": [
    "year_box_off.plot(y='sum', grid = True)\n",
    "plt.title('Динамика изменения суммы сборов по годам')\n",
    "plt.xlabel('Год')\n",
    "plt.ylabel('Сумма, 10 млрд');"
   ]
  },
  {
   "cell_type": "code",
   "execution_count": 72,
   "metadata": {},
   "outputs": [
    {
     "name": "stdout",
     "output_type": "stream",
     "text": [
      "Максимальная сумма сборов:\n",
      "       count         mean     median            sum\n",
      "year                                              \n",
      "2018    467 105460972.65 8931965.66 49250274229.69\n"
     ]
    }
   ],
   "source": [
    "print('Максимальная сумма сборов:\\n', year_box_off[year_box_off['sum'] == year_box_off['sum'].max()])"
   ]
  },
  {
   "cell_type": "code",
   "execution_count": 73,
   "metadata": {},
   "outputs": [
    {
     "name": "stdout",
     "output_type": "stream",
     "text": [
      "Минимальная сумма сборов:\n",
      "       count      mean    median        sum\n",
      "year                                      \n",
      "2010      4 478625.25 207020.50 1914501.00\n"
     ]
    }
   ],
   "source": [
    "print('Минимальная сумма сборов:\\n', year_box_off[year_box_off['sum'] == year_box_off['sum'].min()])"
   ]
  },
  {
   "cell_type": "markdown",
   "metadata": {},
   "source": [
    "По графику виден рост динамики проката с 2013 по 2019 год. По таблице видно, что больше всего данных у нас с 2015 по 2019 год, поэтому и наблюдается такой резкий подъем. Остановимся на этом периоде.\n"
   ]
  },
  {
   "cell_type": "markdown",
   "metadata": {
    "id": "Ok89WFwJgFyZ"
   },
   "source": [
    "Определим, влияет ли возрастное ограничение аудитории («6+», «12+», «16+», «18+» и т. д.) на сборы фильма в прокате в период с 2015 по 2019 год."
   ]
  },
  {
   "cell_type": "code",
   "execution_count": 74,
   "metadata": {
    "id": "jsSbEqfjgFya"
   },
   "outputs": [],
   "source": [
    "new_box_off = box_off.query('year >= 2015')"
   ]
  },
  {
   "cell_type": "code",
   "execution_count": 75,
   "metadata": {},
   "outputs": [
    {
     "data": {
      "text/html": [
       "<div>\n",
       "<style scoped>\n",
       "    .dataframe tbody tr th:only-of-type {\n",
       "        vertical-align: middle;\n",
       "    }\n",
       "\n",
       "    .dataframe tbody tr th {\n",
       "        vertical-align: top;\n",
       "    }\n",
       "\n",
       "    .dataframe thead th {\n",
       "        text-align: right;\n",
       "    }\n",
       "</style>\n",
       "<table border=\"1\" class=\"dataframe\">\n",
       "  <thead>\n",
       "    <tr style=\"text-align: right;\">\n",
       "      <th></th>\n",
       "      <th>count</th>\n",
       "      <th>mean</th>\n",
       "      <th>median</th>\n",
       "      <th>sum</th>\n",
       "    </tr>\n",
       "    <tr>\n",
       "      <th>age_restriction</th>\n",
       "      <th></th>\n",
       "      <th></th>\n",
       "      <th></th>\n",
       "      <th></th>\n",
       "    </tr>\n",
       "  </thead>\n",
       "  <tbody>\n",
       "    <tr>\n",
       "      <th>«0+» - для любой зрительской аудитории</th>\n",
       "      <td>79</td>\n",
       "      <td>10239848.24</td>\n",
       "      <td>3353333.60</td>\n",
       "      <td>808948010.97</td>\n",
       "    </tr>\n",
       "    <tr>\n",
       "      <th>«12+» - для детей старше 12 лет</th>\n",
       "      <td>315</td>\n",
       "      <td>188470340.70</td>\n",
       "      <td>9977812.50</td>\n",
       "      <td>59368157319.00</td>\n",
       "    </tr>\n",
       "    <tr>\n",
       "      <th>«16+» - для детей старше 16 лет</th>\n",
       "      <td>777</td>\n",
       "      <td>96656164.27</td>\n",
       "      <td>6131431.30</td>\n",
       "      <td>75101839640.60</td>\n",
       "    </tr>\n",
       "    <tr>\n",
       "      <th>«18+» - запрещено для детей</th>\n",
       "      <td>774</td>\n",
       "      <td>52655801.87</td>\n",
       "      <td>6652524.00</td>\n",
       "      <td>40755590645.59</td>\n",
       "    </tr>\n",
       "    <tr>\n",
       "      <th>«6+» - для детей старше 6 лет</th>\n",
       "      <td>294</td>\n",
       "      <td>187822241.73</td>\n",
       "      <td>17247878.43</td>\n",
       "      <td>55219739068.02</td>\n",
       "    </tr>\n",
       "  </tbody>\n",
       "</table>\n",
       "</div>"
      ],
      "text/plain": [
       "                                        count         mean      median  \\\n",
       "age_restriction                                                          \n",
       "«0+» - для любой зрительской аудитории     79  10239848.24  3353333.60   \n",
       "«12+» - для детей старше 12 лет           315 188470340.70  9977812.50   \n",
       "«16+» - для детей старше 16 лет           777  96656164.27  6131431.30   \n",
       "«18+» - запрещено для детей               774  52655801.87  6652524.00   \n",
       "«6+» - для детей старше 6 лет             294 187822241.73 17247878.43   \n",
       "\n",
       "                                                  sum  \n",
       "age_restriction                                        \n",
       "«0+» - для любой зрительской аудитории   808948010.97  \n",
       "«12+» - для детей старше 12 лет        59368157319.00  \n",
       "«16+» - для детей старше 16 лет        75101839640.60  \n",
       "«18+» - запрещено для детей            40755590645.59  \n",
       "«6+» - для детей старше 6 лет          55219739068.02  "
      ]
     },
     "execution_count": 75,
     "metadata": {},
     "output_type": "execute_result"
    }
   ],
   "source": [
    "new_box_off_age = new_box_off.pivot_table(index = 'age_restriction', values = 'box_office', aggfunc=['count', 'mean','median','sum'])\n",
    "new_box_off_age.columns = ['count', 'mean','median', 'sum']\n",
    "new_box_off_age"
   ]
  },
  {
   "cell_type": "code",
   "execution_count": 76,
   "metadata": {},
   "outputs": [
    {
     "data": {
      "text/plain": [
       "<AxesSubplot:ylabel='age_restriction'>"
      ]
     },
     "execution_count": 76,
     "metadata": {},
     "output_type": "execute_result"
    },
    {
     "data": {
      "image/png": "[encoded data removed]",
      "text/plain": [
       "<Figure size 1440x504 with 1 Axes>"
      ]
     },
     "metadata": {
      "needs_background": "light"
     },
     "output_type": "display_data"
    }
   ],
   "source": [
    "new_box_off_age.plot(y = 'sum', figsize = (20,7), kind = 'barh')"
   ]
  },
  {
   "cell_type": "code",
   "execution_count": 77,
   "metadata": {},
   "outputs": [
    {
     "data": {
      "text/html": [
       "<div>\n",
       "<style scoped>\n",
       "    .dataframe tbody tr th:only-of-type {\n",
       "        vertical-align: middle;\n",
       "    }\n",
       "\n",
       "    .dataframe tbody tr th {\n",
       "        vertical-align: top;\n",
       "    }\n",
       "\n",
       "    .dataframe thead th {\n",
       "        text-align: right;\n",
       "    }\n",
       "</style>\n",
       "<table border=\"1\" class=\"dataframe\">\n",
       "  <thead>\n",
       "    <tr style=\"text-align: right;\">\n",
       "      <th></th>\n",
       "      <th>count</th>\n",
       "      <th>mean</th>\n",
       "      <th>median</th>\n",
       "      <th>sum</th>\n",
       "    </tr>\n",
       "    <tr>\n",
       "      <th>age_restriction</th>\n",
       "      <th></th>\n",
       "      <th></th>\n",
       "      <th></th>\n",
       "      <th></th>\n",
       "    </tr>\n",
       "  </thead>\n",
       "  <tbody>\n",
       "    <tr>\n",
       "      <th>«0+» - для любой зрительской аудитории</th>\n",
       "      <td>79</td>\n",
       "      <td>10239848.24</td>\n",
       "      <td>3353333.60</td>\n",
       "      <td>808948010.97</td>\n",
       "    </tr>\n",
       "  </tbody>\n",
       "</table>\n",
       "</div>"
      ],
      "text/plain": [
       "                                        count        mean     median  \\\n",
       "age_restriction                                                        \n",
       "«0+» - для любой зрительской аудитории     79 10239848.24 3353333.60   \n",
       "\n",
       "                                                sum  \n",
       "age_restriction                                      \n",
       "«0+» - для любой зрительской аудитории 808948010.97  "
      ]
     },
     "execution_count": 77,
     "metadata": {},
     "output_type": "execute_result"
    }
   ],
   "source": [
    "new_box_off_age[new_box_off_age['sum'] ==new_box_off_age['sum'].min()]"
   ]
  },
  {
   "cell_type": "code",
   "execution_count": 78,
   "metadata": {},
   "outputs": [
    {
     "data": {
      "text/html": [
       "<div>\n",
       "<style scoped>\n",
       "    .dataframe tbody tr th:only-of-type {\n",
       "        vertical-align: middle;\n",
       "    }\n",
       "\n",
       "    .dataframe tbody tr th {\n",
       "        vertical-align: top;\n",
       "    }\n",
       "\n",
       "    .dataframe thead th {\n",
       "        text-align: right;\n",
       "    }\n",
       "</style>\n",
       "<table border=\"1\" class=\"dataframe\">\n",
       "  <thead>\n",
       "    <tr style=\"text-align: right;\">\n",
       "      <th></th>\n",
       "      <th>count</th>\n",
       "      <th>mean</th>\n",
       "      <th>median</th>\n",
       "      <th>sum</th>\n",
       "    </tr>\n",
       "    <tr>\n",
       "      <th>age_restriction</th>\n",
       "      <th></th>\n",
       "      <th></th>\n",
       "      <th></th>\n",
       "      <th></th>\n",
       "    </tr>\n",
       "  </thead>\n",
       "  <tbody>\n",
       "    <tr>\n",
       "      <th>«16+» - для детей старше 16 лет</th>\n",
       "      <td>777</td>\n",
       "      <td>96656164.27</td>\n",
       "      <td>6131431.30</td>\n",
       "      <td>75101839640.60</td>\n",
       "    </tr>\n",
       "  </tbody>\n",
       "</table>\n",
       "</div>"
      ],
      "text/plain": [
       "                                 count        mean     median            sum\n",
       "age_restriction                                                             \n",
       "«16+» - для детей старше 16 лет    777 96656164.27 6131431.30 75101839640.60"
      ]
     },
     "execution_count": 78,
     "metadata": {},
     "output_type": "execute_result"
    }
   ],
   "source": [
    "new_box_off_age[new_box_off_age['sum'] ==new_box_off_age['sum'].max()]"
   ]
  },
  {
   "cell_type": "markdown",
   "metadata": {},
   "source": [
    "Больше всего денег в прокате собрали фильмы 16+, меньше всего - 0+. Проверим, меняется ли картина в зависимости от года."
   ]
  },
  {
   "cell_type": "code",
   "execution_count": 79,
   "metadata": {},
   "outputs": [],
   "source": [
    "def age_vs_year(condition, data = box_off):\n",
    "    a = data.query(condition)\n",
    "    b = a.pivot_table(index = 'age_restriction', values = 'box_office', aggfunc=['count', 'mean','median','sum'])\n",
    "    b.columns = ['count', 'mean','median', 'sum']\n",
    "    return b.plot(y = 'sum', figsize = (20,3), kind = 'barh')"
   ]
  },
  {
   "cell_type": "code",
   "execution_count": 80,
   "metadata": {},
   "outputs": [
    {
     "data": {
      "text/plain": [
       "<AxesSubplot:ylabel='age_restriction'>"
      ]
     },
     "execution_count": 80,
     "metadata": {},
     "output_type": "execute_result"
    },
    {
     "data": {
      "image/png": "[encoded data removed]",
      "text/plain": [
       "<Figure size 1440x216 with 1 Axes>"
      ]
     },
     "metadata": {
      "needs_background": "light"
     },
     "output_type": "display_data"
    },
    {
     "data": {
      "image/png": "[encoded data removed]",
      "text/plain": [
       "<Figure size 1440x216 with 1 Axes>"
      ]
     },
     "metadata": {
      "needs_background": "light"
     },
     "output_type": "display_data"
    },
    {
     "data": {
      "image/png": "[encoded data removed]",
      "text/plain": [
       "<Figure size 1440x216 with 1 Axes>"
      ]
     },
     "metadata": {
      "needs_background": "light"
     },
     "output_type": "display_data"
    },
    {
     "data": {
      "image/png": "[encoded data removed]",
      "text/plain": [
       "<Figure size 1440x216 with 1 Axes>"
      ]
     },
     "metadata": {
      "needs_background": "light"
     },
     "output_type": "display_data"
    },
    {
     "data": {
      "image/png": "[encoded data removed]",
      "text/plain": [
       "<Figure size 1440x216 with 1 Axes>"
      ]
     },
     "metadata": {
      "needs_background": "light"
     },
     "output_type": "display_data"
    }
   ],
   "source": [
    "age_vs_year('year == 2015')\n",
    "age_vs_year('year == 2016')\n",
    "age_vs_year('year == 2017')\n",
    "age_vs_year('year == 2018')\n",
    "age_vs_year('year == 2019')"
   ]
  },
  {
   "cell_type": "markdown",
   "metadata": {},
   "source": [
    "Изменения есть но незначительные. В 2015 и 2019 году, видимо, выходили долгожданные фильмы известных режиссеров или с лучшим кастом, поэтому категория 12+ превзошла 16+."
   ]
  },
  {
   "cell_type": "markdown",
   "metadata": {
    "id": "l_Kg6Ku4gFya"
   },
   "source": [
    "Исследуем фильмы, которые получили государственную поддержку."
   ]
  },
  {
   "cell_type": "code",
   "execution_count": 81,
   "metadata": {
    "id": "W9QKpjUdgFyb"
   },
   "outputs": [],
   "source": [
    "gos_films = data.query('budget != 0')"
   ]
  },
  {
   "cell_type": "markdown",
   "metadata": {},
   "source": [
    "Добавим столбец с общей суммой гос.поддержки."
   ]
  },
  {
   "cell_type": "code",
   "execution_count": 82,
   "metadata": {},
   "outputs": [],
   "source": [
    "gos_films['gos_sup'] = gos_films['refundable_support'] + gos_films['nonrefundable_support']"
   ]
  },
  {
   "cell_type": "code",
   "execution_count": 83,
   "metadata": {},
   "outputs": [
    {
     "data": {
      "text/html": [
       "<div>\n",
       "<style scoped>\n",
       "    .dataframe tbody tr th:only-of-type {\n",
       "        vertical-align: middle;\n",
       "    }\n",
       "\n",
       "    .dataframe tbody tr th {\n",
       "        vertical-align: top;\n",
       "    }\n",
       "\n",
       "    .dataframe thead th {\n",
       "        text-align: right;\n",
       "    }\n",
       "</style>\n",
       "<table border=\"1\" class=\"dataframe\">\n",
       "  <thead>\n",
       "    <tr style=\"text-align: right;\">\n",
       "      <th></th>\n",
       "      <th>title</th>\n",
       "      <th>puNumber</th>\n",
       "      <th>show_start_date</th>\n",
       "      <th>type</th>\n",
       "      <th>film_studio</th>\n",
       "      <th>production_country</th>\n",
       "      <th>director</th>\n",
       "      <th>producer</th>\n",
       "      <th>age_restriction</th>\n",
       "      <th>refundable_support</th>\n",
       "      <th>...</th>\n",
       "      <th>financing_source</th>\n",
       "      <th>ratings</th>\n",
       "      <th>genres</th>\n",
       "      <th>box_office</th>\n",
       "      <th>sum</th>\n",
       "      <th>year</th>\n",
       "      <th>main_director</th>\n",
       "      <th>main_genre</th>\n",
       "      <th>percent_support</th>\n",
       "      <th>gos_sup</th>\n",
       "    </tr>\n",
       "  </thead>\n",
       "  <tbody>\n",
       "    <tr>\n",
       "      <th>7456</th>\n",
       "      <td>Холоп</td>\n",
       "      <td>111021719</td>\n",
       "      <td>2019-12-19 12:00:00+00:00</td>\n",
       "      <td>Художественный</td>\n",
       "      <td>ООО \"МЕМ-МЕДИА\" по заказу АО \"ВБД Груп\"</td>\n",
       "      <td>Россия</td>\n",
       "      <td>К.Шипенко</td>\n",
       "      <td>Э.Илоян, Д.Жалинский, В.Дусмухаметов, Т.Бадзие...</td>\n",
       "      <td>«12+» - для детей старше 12 лет</td>\n",
       "      <td>25000000.00</td>\n",
       "      <td>...</td>\n",
       "      <td>Фонд кино</td>\n",
       "      <td>6.80</td>\n",
       "      <td>комедия</td>\n",
       "      <td>3073568690.79</td>\n",
       "      <td>60000000.00</td>\n",
       "      <td>2019</td>\n",
       "      <td>К.Шипенко</td>\n",
       "      <td>комедия</td>\n",
       "      <td>0.38</td>\n",
       "      <td>60000000.00</td>\n",
       "    </tr>\n",
       "    <tr>\n",
       "      <th>5653</th>\n",
       "      <td>Движение вверх</td>\n",
       "      <td>111011817</td>\n",
       "      <td>2017-12-21 12:00:00+00:00</td>\n",
       "      <td>Художественный</td>\n",
       "      <td>ООО \"Студия \"ТРИТЭ\" Никиты Михалкова\"</td>\n",
       "      <td>Россия</td>\n",
       "      <td>А.Мегердичев</td>\n",
       "      <td>Л.Верещагин, А.Златопольский, Н.Михалков, ООО ...</td>\n",
       "      <td>«6+» - для детей старше 6 лет</td>\n",
       "      <td>0.00</td>\n",
       "      <td>...</td>\n",
       "      <td>Фонд кино</td>\n",
       "      <td>7.50</td>\n",
       "      <td>спорт,драма</td>\n",
       "      <td>2779686144.00</td>\n",
       "      <td>400000000.00</td>\n",
       "      <td>2017</td>\n",
       "      <td>А.Мегердичев</td>\n",
       "      <td>спорт</td>\n",
       "      <td>0.68</td>\n",
       "      <td>400000000.00</td>\n",
       "    </tr>\n",
       "    <tr>\n",
       "      <th>6820</th>\n",
       "      <td>Мстители: Финал</td>\n",
       "      <td>121005519</td>\n",
       "      <td>2019-04-29 12:00:00+00:00</td>\n",
       "      <td>Художественный</td>\n",
       "      <td>Марвел Студиос</td>\n",
       "      <td>США</td>\n",
       "      <td>Джо Руссо, Энтони Руссо</td>\n",
       "      <td>Кевин Фейги</td>\n",
       "      <td>«16+» - для детей старше 16 лет</td>\n",
       "      <td>NaN</td>\n",
       "      <td>...</td>\n",
       "      <td>missing</td>\n",
       "      <td>7.60</td>\n",
       "      <td>фантастика,боевик,драма</td>\n",
       "      <td>2576613776.83</td>\n",
       "      <td>NaN</td>\n",
       "      <td>2019</td>\n",
       "      <td>Джо Руссо</td>\n",
       "      <td>фантастика</td>\n",
       "      <td>NaN</td>\n",
       "      <td>NaN</td>\n",
       "    </tr>\n",
       "    <tr>\n",
       "      <th>6549</th>\n",
       "      <td>Т-34</td>\n",
       "      <td>111024918</td>\n",
       "      <td>2018-12-21 12:00:00+00:00</td>\n",
       "      <td>Художественный</td>\n",
       "      <td>ООО \"Кинокомпания МАРС-фильм\" по заказу ООО \"М...</td>\n",
       "      <td>Россия</td>\n",
       "      <td>А.Сидоров</td>\n",
       "      <td>А.Златопольский, Р.Дишдишян, Л.Блаватник, Н.Яр...</td>\n",
       "      <td>«12+» - для детей старше 12 лет</td>\n",
       "      <td>60000000.00</td>\n",
       "      <td>...</td>\n",
       "      <td>Фонд кино</td>\n",
       "      <td>6.50</td>\n",
       "      <td>драма,военный,боевик</td>\n",
       "      <td>2271754004.52</td>\n",
       "      <td>180000000.00</td>\n",
       "      <td>2018</td>\n",
       "      <td>А.Сидоров</td>\n",
       "      <td>драма</td>\n",
       "      <td>0.32</td>\n",
       "      <td>180000000.00</td>\n",
       "    </tr>\n",
       "    <tr>\n",
       "      <th>3488</th>\n",
       "      <td>Пираты Карибского моря: Мертвецы не рассказыва...</td>\n",
       "      <td>121009217</td>\n",
       "      <td>2017-05-17 12:00:00+00:00</td>\n",
       "      <td>Художественный</td>\n",
       "      <td>Джерри Брукхаймер Филмз, Уолт Дисней Пикчерз, ...</td>\n",
       "      <td>США</td>\n",
       "      <td>Йоаким Реннинг, Эспен Сандберг</td>\n",
       "      <td>Джерри Брукхаймер</td>\n",
       "      <td>«16+» - для детей старше 16 лет</td>\n",
       "      <td>NaN</td>\n",
       "      <td>...</td>\n",
       "      <td>missing</td>\n",
       "      <td>6.60</td>\n",
       "      <td>фэнтези,боевик,комедия</td>\n",
       "      <td>2118396119.00</td>\n",
       "      <td>NaN</td>\n",
       "      <td>2017</td>\n",
       "      <td>Йоаким Реннинг</td>\n",
       "      <td>фэнтези</td>\n",
       "      <td>NaN</td>\n",
       "      <td>NaN</td>\n",
       "    </tr>\n",
       "    <tr>\n",
       "      <th>2859</th>\n",
       "      <td>Зверополис</td>\n",
       "      <td>124000316</td>\n",
       "      <td>2016-02-15 12:00:00+00:00</td>\n",
       "      <td>Анимационный</td>\n",
       "      <td>Уолт Дисней Анимейшн Студиос, Уолт Дисней Пикчерз</td>\n",
       "      <td>США</td>\n",
       "      <td>Рич Мур, Байрон Ховард</td>\n",
       "      <td>Кларк Спенсер</td>\n",
       "      <td>«6+» - для детей старше 6 лет</td>\n",
       "      <td>NaN</td>\n",
       "      <td>...</td>\n",
       "      <td>missing</td>\n",
       "      <td>8.30</td>\n",
       "      <td>мультфильм,комедия,криминал</td>\n",
       "      <td>2048126108.00</td>\n",
       "      <td>NaN</td>\n",
       "      <td>2016</td>\n",
       "      <td>Рич Мур</td>\n",
       "      <td>мультфильм</td>\n",
       "      <td>NaN</td>\n",
       "      <td>NaN</td>\n",
       "    </tr>\n",
       "    <tr>\n",
       "      <th>3755</th>\n",
       "      <td>Тайная жизнь домашних животных. Миньоны против...</td>\n",
       "      <td>124002816</td>\n",
       "      <td>2016-07-05 12:00:00+00:00</td>\n",
       "      <td>Анимационный</td>\n",
       "      <td>Иллюминейшн Интертейнмент, Юниверсал Пикчерз</td>\n",
       "      <td>США</td>\n",
       "      <td>Крис Рено</td>\n",
       "      <td>Кристофер Меледандри</td>\n",
       "      <td>«6+» - для детей старше 6 лет</td>\n",
       "      <td>NaN</td>\n",
       "      <td>...</td>\n",
       "      <td>missing</td>\n",
       "      <td>6.70</td>\n",
       "      <td>мультфильм,короткометражка,комедия</td>\n",
       "      <td>1971005085.00</td>\n",
       "      <td>NaN</td>\n",
       "      <td>2016</td>\n",
       "      <td>Крис Рено</td>\n",
       "      <td>мультфильм</td>\n",
       "      <td>NaN</td>\n",
       "      <td>NaN</td>\n",
       "    </tr>\n",
       "    <tr>\n",
       "      <th>6274</th>\n",
       "      <td>Веном</td>\n",
       "      <td>121022018</td>\n",
       "      <td>2018-10-04 12:00:00+00:00</td>\n",
       "      <td>Художественный</td>\n",
       "      <td>Коламбиа Пикчерз, Марвел Интертейнмент, Паскал...</td>\n",
       "      <td>США</td>\n",
       "      <td>Рубен Флейшер</td>\n",
       "      <td>Ави Арад, Эми Паскаль, Мэтт Толмак</td>\n",
       "      <td>«16+» - для детей старше 16 лет</td>\n",
       "      <td>NaN</td>\n",
       "      <td>...</td>\n",
       "      <td>missing</td>\n",
       "      <td>6.80</td>\n",
       "      <td>боевик,фантастика,триллер</td>\n",
       "      <td>1913257923.06</td>\n",
       "      <td>NaN</td>\n",
       "      <td>2018</td>\n",
       "      <td>Рубен Флейшер</td>\n",
       "      <td>боевик</td>\n",
       "      <td>NaN</td>\n",
       "      <td>NaN</td>\n",
       "    </tr>\n",
       "    <tr>\n",
       "      <th>7216</th>\n",
       "      <td>Малефисента: Владычица тьмы</td>\n",
       "      <td>121026219</td>\n",
       "      <td>2019-10-04 12:00:00+00:00</td>\n",
       "      <td>Художественный</td>\n",
       "      <td>Рот Филмз, Уолт Дисней Пикчерз</td>\n",
       "      <td>США</td>\n",
       "      <td>Йоаким Роннинг</td>\n",
       "      <td>Анджелина Джоли, Джо Рот, Дункан Хендерсон</td>\n",
       "      <td>«6+» - для детей старше 6 лет</td>\n",
       "      <td>NaN</td>\n",
       "      <td>...</td>\n",
       "      <td>missing</td>\n",
       "      <td>6.90</td>\n",
       "      <td>фэнтези,приключения,семейный</td>\n",
       "      <td>1911944865.95</td>\n",
       "      <td>NaN</td>\n",
       "      <td>2019</td>\n",
       "      <td>Йоаким Роннинг</td>\n",
       "      <td>фэнтези</td>\n",
       "      <td>NaN</td>\n",
       "      <td>NaN</td>\n",
       "    </tr>\n",
       "    <tr>\n",
       "      <th>7258</th>\n",
       "      <td>Джокер</td>\n",
       "      <td>121027519</td>\n",
       "      <td>2019-10-03 12:00:00+00:00</td>\n",
       "      <td>Художественный</td>\n",
       "      <td>Брон Студиос, Ди Си Комикс, Джоинт Эффорт, Вил...</td>\n",
       "      <td>США - Канада</td>\n",
       "      <td>Тодд Филлипс</td>\n",
       "      <td>Брэдли Купер, Эмма Тиллинджер Коскофф, Тодд Фи...</td>\n",
       "      <td>«18+» - запрещено для детей</td>\n",
       "      <td>NaN</td>\n",
       "      <td>...</td>\n",
       "      <td>missing</td>\n",
       "      <td>8.00</td>\n",
       "      <td>триллер,драма,криминал</td>\n",
       "      <td>1890368076.47</td>\n",
       "      <td>NaN</td>\n",
       "      <td>2019</td>\n",
       "      <td>Тодд Филлипс</td>\n",
       "      <td>триллер</td>\n",
       "      <td>NaN</td>\n",
       "      <td>NaN</td>\n",
       "    </tr>\n",
       "  </tbody>\n",
       "</table>\n",
       "<p>10 rows × 22 columns</p>\n",
       "</div>"
      ],
      "text/plain": [
       "                                                  title   puNumber  \\\n",
       "7456                                              Холоп  111021719   \n",
       "5653                                     Движение вверх  111011817   \n",
       "6820                                    Мстители: Финал  121005519   \n",
       "6549                                               Т-34  111024918   \n",
       "3488  Пираты Карибского моря: Мертвецы не рассказыва...  121009217   \n",
       "2859                                         Зверополис  124000316   \n",
       "3755  Тайная жизнь домашних животных. Миньоны против...  124002816   \n",
       "6274                                              Веном  121022018   \n",
       "7216                        Малефисента: Владычица тьмы  121026219   \n",
       "7258                                             Джокер  121027519   \n",
       "\n",
       "               show_start_date            type  \\\n",
       "7456 2019-12-19 12:00:00+00:00  Художественный   \n",
       "5653 2017-12-21 12:00:00+00:00  Художественный   \n",
       "6820 2019-04-29 12:00:00+00:00  Художественный   \n",
       "6549 2018-12-21 12:00:00+00:00  Художественный   \n",
       "3488 2017-05-17 12:00:00+00:00  Художественный   \n",
       "2859 2016-02-15 12:00:00+00:00    Анимационный   \n",
       "3755 2016-07-05 12:00:00+00:00    Анимационный   \n",
       "6274 2018-10-04 12:00:00+00:00  Художественный   \n",
       "7216 2019-10-04 12:00:00+00:00  Художественный   \n",
       "7258 2019-10-03 12:00:00+00:00  Художественный   \n",
       "\n",
       "                                            film_studio production_country  \\\n",
       "7456            ООО \"МЕМ-МЕДИА\" по заказу АО \"ВБД Груп\"             Россия   \n",
       "5653              ООО \"Студия \"ТРИТЭ\" Никиты Михалкова\"             Россия   \n",
       "6820                                     Марвел Студиос                США   \n",
       "6549  ООО \"Кинокомпания МАРС-фильм\" по заказу ООО \"М...             Россия   \n",
       "3488  Джерри Брукхаймер Филмз, Уолт Дисней Пикчерз, ...                США   \n",
       "2859  Уолт Дисней Анимейшн Студиос, Уолт Дисней Пикчерз                США   \n",
       "3755       Иллюминейшн Интертейнмент, Юниверсал Пикчерз                США   \n",
       "6274  Коламбиа Пикчерз, Марвел Интертейнмент, Паскал...                США   \n",
       "7216                     Рот Филмз, Уолт Дисней Пикчерз                США   \n",
       "7258  Брон Студиос, Ди Си Комикс, Джоинт Эффорт, Вил...       США - Канада   \n",
       "\n",
       "                            director  \\\n",
       "7456                       К.Шипенко   \n",
       "5653                    А.Мегердичев   \n",
       "6820         Джо Руссо, Энтони Руссо   \n",
       "6549                       А.Сидоров   \n",
       "3488  Йоаким Реннинг, Эспен Сандберг   \n",
       "2859          Рич Мур, Байрон Ховард   \n",
       "3755                       Крис Рено   \n",
       "6274                   Рубен Флейшер   \n",
       "7216                  Йоаким Роннинг   \n",
       "7258                    Тодд Филлипс   \n",
       "\n",
       "                                               producer  \\\n",
       "7456  Э.Илоян, Д.Жалинский, В.Дусмухаметов, Т.Бадзие...   \n",
       "5653  Л.Верещагин, А.Златопольский, Н.Михалков, ООО ...   \n",
       "6820                                        Кевин Фейги   \n",
       "6549  А.Златопольский, Р.Дишдишян, Л.Блаватник, Н.Яр...   \n",
       "3488                                  Джерри Брукхаймер   \n",
       "2859                                      Кларк Спенсер   \n",
       "3755                               Кристофер Меледандри   \n",
       "6274                 Ави Арад, Эми Паскаль, Мэтт Толмак   \n",
       "7216         Анджелина Джоли, Джо Рот, Дункан Хендерсон   \n",
       "7258  Брэдли Купер, Эмма Тиллинджер Коскофф, Тодд Фи...   \n",
       "\n",
       "                      age_restriction  refundable_support  ...  \\\n",
       "7456  «12+» - для детей старше 12 лет         25000000.00  ...   \n",
       "5653    «6+» - для детей старше 6 лет                0.00  ...   \n",
       "6820  «16+» - для детей старше 16 лет                 NaN  ...   \n",
       "6549  «12+» - для детей старше 12 лет         60000000.00  ...   \n",
       "3488  «16+» - для детей старше 16 лет                 NaN  ...   \n",
       "2859    «6+» - для детей старше 6 лет                 NaN  ...   \n",
       "3755    «6+» - для детей старше 6 лет                 NaN  ...   \n",
       "6274  «16+» - для детей старше 16 лет                 NaN  ...   \n",
       "7216    «6+» - для детей старше 6 лет                 NaN  ...   \n",
       "7258      «18+» - запрещено для детей                 NaN  ...   \n",
       "\n",
       "      financing_source  ratings                              genres  \\\n",
       "7456         Фонд кино     6.80                             комедия   \n",
       "5653         Фонд кино     7.50                         спорт,драма   \n",
       "6820           missing     7.60             фантастика,боевик,драма   \n",
       "6549         Фонд кино     6.50                драма,военный,боевик   \n",
       "3488           missing     6.60              фэнтези,боевик,комедия   \n",
       "2859           missing     8.30         мультфильм,комедия,криминал   \n",
       "3755           missing     6.70  мультфильм,короткометражка,комедия   \n",
       "6274           missing     6.80           боевик,фантастика,триллер   \n",
       "7216           missing     6.90        фэнтези,приключения,семейный   \n",
       "7258           missing     8.00              триллер,драма,криминал   \n",
       "\n",
       "        box_office          sum  year   main_director  main_genre  \\\n",
       "7456 3073568690.79  60000000.00  2019       К.Шипенко     комедия   \n",
       "5653 2779686144.00 400000000.00  2017    А.Мегердичев       спорт   \n",
       "6820 2576613776.83          NaN  2019       Джо Руссо  фантастика   \n",
       "6549 2271754004.52 180000000.00  2018       А.Сидоров       драма   \n",
       "3488 2118396119.00          NaN  2017  Йоаким Реннинг     фэнтези   \n",
       "2859 2048126108.00          NaN  2016         Рич Мур  мультфильм   \n",
       "3755 1971005085.00          NaN  2016       Крис Рено  мультфильм   \n",
       "6274 1913257923.06          NaN  2018   Рубен Флейшер      боевик   \n",
       "7216 1911944865.95          NaN  2019  Йоаким Роннинг     фэнтези   \n",
       "7258 1890368076.47          NaN  2019    Тодд Филлипс     триллер   \n",
       "\n",
       "     percent_support      gos_sup  \n",
       "7456            0.38  60000000.00  \n",
       "5653            0.68 400000000.00  \n",
       "6820             NaN          NaN  \n",
       "6549            0.32 180000000.00  \n",
       "3488             NaN          NaN  \n",
       "2859             NaN          NaN  \n",
       "3755             NaN          NaN  \n",
       "6274             NaN          NaN  \n",
       "7216             NaN          NaN  \n",
       "7258             NaN          NaN  \n",
       "\n",
       "[10 rows x 22 columns]"
      ]
     },
     "execution_count": 83,
     "metadata": {},
     "output_type": "execute_result"
    }
   ],
   "source": [
    "gos_films.head(10)"
   ]
  },
  {
   "cell_type": "code",
   "execution_count": 84,
   "metadata": {},
   "outputs": [
    {
     "data": {
      "text/html": [
       "<div>\n",
       "<style scoped>\n",
       "    .dataframe tbody tr th:only-of-type {\n",
       "        vertical-align: middle;\n",
       "    }\n",
       "\n",
       "    .dataframe tbody tr th {\n",
       "        vertical-align: top;\n",
       "    }\n",
       "\n",
       "    .dataframe thead th {\n",
       "        text-align: right;\n",
       "    }\n",
       "</style>\n",
       "<table border=\"1\" class=\"dataframe\">\n",
       "  <thead>\n",
       "    <tr style=\"text-align: right;\">\n",
       "      <th></th>\n",
       "      <th>puNumber</th>\n",
       "      <th>refundable_support</th>\n",
       "      <th>nonrefundable_support</th>\n",
       "      <th>budget</th>\n",
       "      <th>ratings</th>\n",
       "      <th>box_office</th>\n",
       "      <th>sum</th>\n",
       "      <th>year</th>\n",
       "      <th>percent_support</th>\n",
       "      <th>gos_sup</th>\n",
       "    </tr>\n",
       "  </thead>\n",
       "  <tbody>\n",
       "    <tr>\n",
       "      <th>count</th>\n",
       "      <td>6077.00</td>\n",
       "      <td>304.00</td>\n",
       "      <td>304.00</td>\n",
       "      <td>304.00</td>\n",
       "      <td>5159.00</td>\n",
       "      <td>2417.00</td>\n",
       "      <td>304.00</td>\n",
       "      <td>6077.00</td>\n",
       "      <td>304.00</td>\n",
       "      <td>304.00</td>\n",
       "    </tr>\n",
       "    <tr>\n",
       "      <th>mean</th>\n",
       "      <td>130563645.44</td>\n",
       "      <td>11611842.11</td>\n",
       "      <td>47678680.42</td>\n",
       "      <td>134131848.02</td>\n",
       "      <td>6.47</td>\n",
       "      <td>98774553.20</td>\n",
       "      <td>59290522.52</td>\n",
       "      <td>2015.04</td>\n",
       "      <td>0.52</td>\n",
       "      <td>59290522.52</td>\n",
       "    </tr>\n",
       "    <tr>\n",
       "      <th>std</th>\n",
       "      <td>33567209.67</td>\n",
       "      <td>25003603.12</td>\n",
       "      <td>57360662.60</td>\n",
       "      <td>188398266.84</td>\n",
       "      <td>1.09</td>\n",
       "      <td>269755209.71</td>\n",
       "      <td>69715148.33</td>\n",
       "      <td>2.97</td>\n",
       "      <td>0.17</td>\n",
       "      <td>69715148.33</td>\n",
       "    </tr>\n",
       "    <tr>\n",
       "      <th>min</th>\n",
       "      <td>0.00</td>\n",
       "      <td>0.00</td>\n",
       "      <td>0.00</td>\n",
       "      <td>14462464.00</td>\n",
       "      <td>1.00</td>\n",
       "      <td>50200.00</td>\n",
       "      <td>3000000.00</td>\n",
       "      <td>2010.00</td>\n",
       "      <td>0.04</td>\n",
       "      <td>3000000.00</td>\n",
       "    </tr>\n",
       "    <tr>\n",
       "      <th>25%</th>\n",
       "      <td>112013118.00</td>\n",
       "      <td>0.00</td>\n",
       "      <td>25000000.00</td>\n",
       "      <td>46186570.25</td>\n",
       "      <td>5.80</td>\n",
       "      <td>1231902.00</td>\n",
       "      <td>25150000.00</td>\n",
       "      <td>2013.00</td>\n",
       "      <td>0.37</td>\n",
       "      <td>25150000.00</td>\n",
       "    </tr>\n",
       "    <tr>\n",
       "      <th>50%</th>\n",
       "      <td>121013915.00</td>\n",
       "      <td>0.00</td>\n",
       "      <td>30000000.00</td>\n",
       "      <td>74592550.00</td>\n",
       "      <td>6.60</td>\n",
       "      <td>5712897.70</td>\n",
       "      <td>35000000.00</td>\n",
       "      <td>2015.00</td>\n",
       "      <td>0.59</td>\n",
       "      <td>35000000.00</td>\n",
       "    </tr>\n",
       "    <tr>\n",
       "      <th>75%</th>\n",
       "      <td>124000211.00</td>\n",
       "      <td>11250000.00</td>\n",
       "      <td>40000000.00</td>\n",
       "      <td>151172048.25</td>\n",
       "      <td>7.20</td>\n",
       "      <td>44554615.86</td>\n",
       "      <td>60000000.00</td>\n",
       "      <td>2018.00</td>\n",
       "      <td>0.66</td>\n",
       "      <td>60000000.00</td>\n",
       "    </tr>\n",
       "    <tr>\n",
       "      <th>max</th>\n",
       "      <td>231001012.00</td>\n",
       "      <td>180000000.00</td>\n",
       "      <td>400000000.00</td>\n",
       "      <td>2305074303.00</td>\n",
       "      <td>9.10</td>\n",
       "      <td>3073568690.79</td>\n",
       "      <td>500000000.00</td>\n",
       "      <td>2019.00</td>\n",
       "      <td>0.78</td>\n",
       "      <td>500000000.00</td>\n",
       "    </tr>\n",
       "  </tbody>\n",
       "</table>\n",
       "</div>"
      ],
      "text/plain": [
       "          puNumber  refundable_support  nonrefundable_support        budget  \\\n",
       "count      6077.00              304.00                 304.00        304.00   \n",
       "mean  130563645.44         11611842.11            47678680.42  134131848.02   \n",
       "std    33567209.67         25003603.12            57360662.60  188398266.84   \n",
       "min           0.00                0.00                   0.00   14462464.00   \n",
       "25%   112013118.00                0.00            25000000.00   46186570.25   \n",
       "50%   121013915.00                0.00            30000000.00   74592550.00   \n",
       "75%   124000211.00         11250000.00            40000000.00  151172048.25   \n",
       "max   231001012.00        180000000.00           400000000.00 2305074303.00   \n",
       "\n",
       "       ratings    box_office          sum    year  percent_support  \\\n",
       "count  5159.00       2417.00       304.00 6077.00           304.00   \n",
       "mean      6.47   98774553.20  59290522.52 2015.04             0.52   \n",
       "std       1.09  269755209.71  69715148.33    2.97             0.17   \n",
       "min       1.00      50200.00   3000000.00 2010.00             0.04   \n",
       "25%       5.80    1231902.00  25150000.00 2013.00             0.37   \n",
       "50%       6.60    5712897.70  35000000.00 2015.00             0.59   \n",
       "75%       7.20   44554615.86  60000000.00 2018.00             0.66   \n",
       "max       9.10 3073568690.79 500000000.00 2019.00             0.78   \n",
       "\n",
       "           gos_sup  \n",
       "count       304.00  \n",
       "mean   59290522.52  \n",
       "std    69715148.33  \n",
       "min     3000000.00  \n",
       "25%    25150000.00  \n",
       "50%    35000000.00  \n",
       "75%    60000000.00  \n",
       "max   500000000.00  "
      ]
     },
     "execution_count": 84,
     "metadata": {},
     "output_type": "execute_result"
    }
   ],
   "source": [
    "gos_films.describe()"
   ]
  },
  {
   "cell_type": "markdown",
   "metadata": {},
   "source": [
    "Среднее 35 000 000, медиана 59 710 220.\n",
    "Максимальная сумма поддержки государства = 500 млн."
   ]
  },
  {
   "cell_type": "code",
   "execution_count": 85,
   "metadata": {},
   "outputs": [
    {
     "data": {
      "text/plain": [
       "<AxesSubplot:xlabel='year'>"
      ]
     },
     "execution_count": 85,
     "metadata": {},
     "output_type": "execute_result"
    },
    {
     "data": {
      "image/png": "[encoded data removed]",
      "text/plain": [
       "<Figure size 1440x216 with 1 Axes>"
      ]
     },
     "metadata": {
      "needs_background": "light"
     },
     "output_type": "display_data"
    }
   ],
   "source": [
    "gos_films_year = gos_films.pivot_table(index = 'year', values = 'gos_sup', aggfunc=['count', 'mean','median','sum'])\n",
    "gos_films_year.columns = ['count', 'mean','median', 'sum']\n",
    "gos_films_year.plot(y = 'sum', figsize = (20,3))"
   ]
  },
  {
   "cell_type": "markdown",
   "metadata": {},
   "source": [
    "С 2014 года государство выделяет все больше бюджета на съемки отечественных фильмов. "
   ]
  },
  {
   "cell_type": "code",
   "execution_count": 86,
   "metadata": {},
   "outputs": [
    {
     "data": {
      "text/html": [
       "<div>\n",
       "<style scoped>\n",
       "    .dataframe tbody tr th:only-of-type {\n",
       "        vertical-align: middle;\n",
       "    }\n",
       "\n",
       "    .dataframe tbody tr th {\n",
       "        vertical-align: top;\n",
       "    }\n",
       "\n",
       "    .dataframe thead th {\n",
       "        text-align: right;\n",
       "    }\n",
       "</style>\n",
       "<table border=\"1\" class=\"dataframe\">\n",
       "  <thead>\n",
       "    <tr style=\"text-align: right;\">\n",
       "      <th></th>\n",
       "      <th>title</th>\n",
       "      <th>puNumber</th>\n",
       "      <th>show_start_date</th>\n",
       "      <th>type</th>\n",
       "      <th>film_studio</th>\n",
       "      <th>production_country</th>\n",
       "      <th>director</th>\n",
       "      <th>producer</th>\n",
       "      <th>age_restriction</th>\n",
       "      <th>refundable_support</th>\n",
       "      <th>nonrefundable_support</th>\n",
       "      <th>budget</th>\n",
       "      <th>financing_source</th>\n",
       "      <th>ratings</th>\n",
       "      <th>genres</th>\n",
       "      <th>box_office</th>\n",
       "      <th>sum</th>\n",
       "      <th>year</th>\n",
       "      <th>main_director</th>\n",
       "      <th>main_genre</th>\n",
       "      <th>percent_support</th>\n",
       "      <th>gos_sup</th>\n",
       "    </tr>\n",
       "  </thead>\n",
       "  <tbody>\n",
       "    <tr>\n",
       "      <th>7464</th>\n",
       "      <td>Союз спасения</td>\n",
       "      <td>111022019</td>\n",
       "      <td>2019-12-26 12:00:00+00:00</td>\n",
       "      <td>Художественный</td>\n",
       "      <td>ЗАО \"Дирекция кино\"</td>\n",
       "      <td>Россия</td>\n",
       "      <td>А.Кравчук</td>\n",
       "      <td>А.Максимов, К.Эрнст</td>\n",
       "      <td>«12+» - для детей старше 12 лет</td>\n",
       "      <td>100000000.00</td>\n",
       "      <td>400000000.00</td>\n",
       "      <td>980000000.00</td>\n",
       "      <td>Фонд кино</td>\n",
       "      <td>6.00</td>\n",
       "      <td>история,биография,драма</td>\n",
       "      <td>717703185.53</td>\n",
       "      <td>500000000.00</td>\n",
       "      <td>2019</td>\n",
       "      <td>А.Кравчук</td>\n",
       "      <td>история</td>\n",
       "      <td>0.51</td>\n",
       "      <td>500000000.00</td>\n",
       "    </tr>\n",
       "  </tbody>\n",
       "</table>\n",
       "</div>"
      ],
      "text/plain": [
       "              title   puNumber           show_start_date            type  \\\n",
       "7464  Союз спасения  111022019 2019-12-26 12:00:00+00:00  Художественный   \n",
       "\n",
       "              film_studio production_country   director             producer  \\\n",
       "7464  ЗАО \"Дирекция кино\"             Россия  А.Кравчук  А.Максимов, К.Эрнст   \n",
       "\n",
       "                      age_restriction  refundable_support  \\\n",
       "7464  «12+» - для детей старше 12 лет        100000000.00   \n",
       "\n",
       "      nonrefundable_support       budget financing_source  ratings  \\\n",
       "7464           400000000.00 980000000.00        Фонд кино     6.00   \n",
       "\n",
       "                       genres   box_office          sum  year main_director  \\\n",
       "7464  история,биография,драма 717703185.53 500000000.00  2019     А.Кравчук   \n",
       "\n",
       "     main_genre  percent_support      gos_sup  \n",
       "7464    история             0.51 500000000.00  "
      ]
     },
     "execution_count": 86,
     "metadata": {},
     "output_type": "execute_result"
    }
   ],
   "source": [
    "pd.set_option('display.max_columns', None)\n",
    "gos_films[gos_films['gos_sup'] == gos_films['gos_sup'].max()]"
   ]
  },
  {
   "cell_type": "markdown",
   "metadata": {},
   "source": [
    "Максимальные суммы получили фильмы 'Союз спасения' и 'Вторжение'."
   ]
  },
  {
   "cell_type": "markdown",
   "metadata": {},
   "source": [
    "Создадим сводную таблицу, чтобы понять окупаются ли такие фильмы."
   ]
  },
  {
   "cell_type": "code",
   "execution_count": 87,
   "metadata": {},
   "outputs": [],
   "source": [
    "gos_films_gain = gos_films.query('box_office != 0')"
   ]
  },
  {
   "cell_type": "code",
   "execution_count": 88,
   "metadata": {},
   "outputs": [
    {
     "data": {
      "text/html": [
       "<div>\n",
       "<style scoped>\n",
       "    .dataframe tbody tr th:only-of-type {\n",
       "        vertical-align: middle;\n",
       "    }\n",
       "\n",
       "    .dataframe tbody tr th {\n",
       "        vertical-align: top;\n",
       "    }\n",
       "\n",
       "    .dataframe thead th {\n",
       "        text-align: right;\n",
       "    }\n",
       "</style>\n",
       "<table border=\"1\" class=\"dataframe\">\n",
       "  <thead>\n",
       "    <tr style=\"text-align: right;\">\n",
       "      <th></th>\n",
       "      <th>box_office</th>\n",
       "      <th>budget</th>\n",
       "      <th>gos_sup</th>\n",
       "      <th>nonrefundable_support</th>\n",
       "      <th>refundable_support</th>\n",
       "      <th>gain</th>\n",
       "      <th>gain_vs_debt</th>\n",
       "    </tr>\n",
       "    <tr>\n",
       "      <th>title</th>\n",
       "      <th></th>\n",
       "      <th></th>\n",
       "      <th></th>\n",
       "      <th></th>\n",
       "      <th></th>\n",
       "      <th></th>\n",
       "      <th></th>\n",
       "    </tr>\n",
       "  </thead>\n",
       "  <tbody>\n",
       "    <tr>\n",
       "      <th>Я ПРЕПОД</th>\n",
       "      <td>145448.00</td>\n",
       "      <td>NaN</td>\n",
       "      <td>NaN</td>\n",
       "      <td>NaN</td>\n",
       "      <td>NaN</td>\n",
       "      <td>NaN</td>\n",
       "      <td>NaN</td>\n",
       "    </tr>\n",
       "    <tr>\n",
       "      <th>#ВСЁ_ИСПРАВИТЬ!?!</th>\n",
       "      <td>15206808.84</td>\n",
       "      <td>NaN</td>\n",
       "      <td>NaN</td>\n",
       "      <td>NaN</td>\n",
       "      <td>NaN</td>\n",
       "      <td>NaN</td>\n",
       "      <td>NaN</td>\n",
       "    </tr>\n",
       "    <tr>\n",
       "      <th>#Москва-Руаян</th>\n",
       "      <td>264015.00</td>\n",
       "      <td>NaN</td>\n",
       "      <td>NaN</td>\n",
       "      <td>NaN</td>\n",
       "      <td>NaN</td>\n",
       "      <td>NaN</td>\n",
       "      <td>NaN</td>\n",
       "    </tr>\n",
       "    <tr>\n",
       "      <th>(Не)идеальный мужчина</th>\n",
       "      <td>NaN</td>\n",
       "      <td>150147502.00</td>\n",
       "      <td>100000000.00</td>\n",
       "      <td>60000000.00</td>\n",
       "      <td>40000000.00</td>\n",
       "      <td>NaN</td>\n",
       "      <td>NaN</td>\n",
       "    </tr>\n",
       "    <tr>\n",
       "      <th>... и я там был</th>\n",
       "      <td>73180.00</td>\n",
       "      <td>NaN</td>\n",
       "      <td>NaN</td>\n",
       "      <td>NaN</td>\n",
       "      <td>NaN</td>\n",
       "      <td>NaN</td>\n",
       "      <td>NaN</td>\n",
       "    </tr>\n",
       "    <tr>\n",
       "      <th>007: Спектр</th>\n",
       "      <td>767274597.90</td>\n",
       "      <td>NaN</td>\n",
       "      <td>NaN</td>\n",
       "      <td>NaN</td>\n",
       "      <td>NaN</td>\n",
       "      <td>NaN</td>\n",
       "      <td>NaN</td>\n",
       "    </tr>\n",
       "    <tr>\n",
       "      <th>1+1. Нарушая правила</th>\n",
       "      <td>1123910.00</td>\n",
       "      <td>NaN</td>\n",
       "      <td>NaN</td>\n",
       "      <td>NaN</td>\n",
       "      <td>NaN</td>\n",
       "      <td>NaN</td>\n",
       "      <td>NaN</td>\n",
       "    </tr>\n",
       "    <tr>\n",
       "      <th>1+1: Голливудская история</th>\n",
       "      <td>21919521.32</td>\n",
       "      <td>NaN</td>\n",
       "      <td>NaN</td>\n",
       "      <td>NaN</td>\n",
       "      <td>NaN</td>\n",
       "      <td>NaN</td>\n",
       "      <td>NaN</td>\n",
       "    </tr>\n",
       "    <tr>\n",
       "      <th>10 000 км.: Любовь на расстоянии</th>\n",
       "      <td>56120.00</td>\n",
       "      <td>NaN</td>\n",
       "      <td>NaN</td>\n",
       "      <td>NaN</td>\n",
       "      <td>NaN</td>\n",
       "      <td>NaN</td>\n",
       "      <td>NaN</td>\n",
       "    </tr>\n",
       "    <tr>\n",
       "      <th>100 вещей и ничего лишнего</th>\n",
       "      <td>13469793.36</td>\n",
       "      <td>NaN</td>\n",
       "      <td>NaN</td>\n",
       "      <td>NaN</td>\n",
       "      <td>NaN</td>\n",
       "      <td>NaN</td>\n",
       "      <td>NaN</td>\n",
       "    </tr>\n",
       "  </tbody>\n",
       "</table>\n",
       "</div>"
      ],
      "text/plain": [
       "                                   box_office       budget      gos_sup  \\\n",
       "title                                                                     \n",
       " Я ПРЕПОД                           145448.00          NaN          NaN   \n",
       "#ВСЁ_ИСПРАВИТЬ!?!                 15206808.84          NaN          NaN   \n",
       "#Москва-Руаян                       264015.00          NaN          NaN   \n",
       "(Не)идеальный мужчина                     NaN 150147502.00 100000000.00   \n",
       "... и я там был                      73180.00          NaN          NaN   \n",
       "007: Спектр                      767274597.90          NaN          NaN   \n",
       "1+1. Нарушая правила               1123910.00          NaN          NaN   \n",
       "1+1: Голливудская история         21919521.32          NaN          NaN   \n",
       "10 000 км.: Любовь на расстоянии     56120.00          NaN          NaN   \n",
       "100 вещей и ничего лишнего        13469793.36          NaN          NaN   \n",
       "\n",
       "                                  nonrefundable_support  refundable_support  \\\n",
       "title                                                                         \n",
       " Я ПРЕПОД                                           NaN                 NaN   \n",
       "#ВСЁ_ИСПРАВИТЬ!?!                                   NaN                 NaN   \n",
       "#Москва-Руаян                                       NaN                 NaN   \n",
       "(Не)идеальный мужчина                       60000000.00         40000000.00   \n",
       "... и я там был                                     NaN                 NaN   \n",
       "007: Спектр                                         NaN                 NaN   \n",
       "1+1. Нарушая правила                                NaN                 NaN   \n",
       "1+1: Голливудская история                           NaN                 NaN   \n",
       "10 000 км.: Любовь на расстоянии                    NaN                 NaN   \n",
       "100 вещей и ничего лишнего                          NaN                 NaN   \n",
       "\n",
       "                                  gain  gain_vs_debt  \n",
       "title                                                 \n",
       " Я ПРЕПОД                          NaN           NaN  \n",
       "#ВСЁ_ИСПРАВИТЬ!?!                  NaN           NaN  \n",
       "#Москва-Руаян                      NaN           NaN  \n",
       "(Не)идеальный мужчина              NaN           NaN  \n",
       "... и я там был                    NaN           NaN  \n",
       "007: Спектр                        NaN           NaN  \n",
       "1+1. Нарушая правила               NaN           NaN  \n",
       "1+1: Голливудская история          NaN           NaN  \n",
       "10 000 км.: Любовь на расстоянии   NaN           NaN  \n",
       "100 вещей и ничего лишнего         NaN           NaN  "
      ]
     },
     "execution_count": 88,
     "metadata": {},
     "output_type": "execute_result"
    }
   ],
   "source": [
    "gos_films_gain_pivot = gos_films_gain.pivot_table(index = 'title', values = ['refundable_support', 'nonrefundable_support', 'gos_sup', 'budget', 'box_office'])\n",
    "gos_films_gain_pivot['gain'] = gos_films_gain_pivot['box_office'] - gos_films_gain_pivot['budget'] \n",
    "gos_films_gain_pivot['gain_vs_debt'] = gos_films_gain_pivot['box_office'] - gos_films_gain_pivot['budget'] + gos_films_gain_pivot['nonrefundable_support']\n",
    "gos_films_gain_pivot.head(10)"
   ]
  },
  {
   "cell_type": "code",
   "execution_count": 89,
   "metadata": {},
   "outputs": [
    {
     "data": {
      "text/plain": [
       "count           291.00\n",
       "mean       -2495961.02\n",
       "std       325756213.21\n",
       "min     -1971477243.41\n",
       "25%       -73421201.69\n",
       "50%       -43537288.19\n",
       "75%       -11829318.08\n",
       "max      2913568690.79\n",
       "Name: gain, dtype: float64"
      ]
     },
     "execution_count": 89,
     "metadata": {},
     "output_type": "execute_result"
    }
   ],
   "source": [
    "gos_films_gain_pivot['gain'].describe()"
   ]
  },
  {
   "cell_type": "markdown",
   "metadata": {},
   "source": [
    "- -42 959 950 - среднее, 10 653 040 - медиана\n",
    "- -725 698 800 - минимальное значение\n",
    "- 2 913 569 000 - максимальное"
   ]
  },
  {
   "cell_type": "code",
   "execution_count": 90,
   "metadata": {},
   "outputs": [
    {
     "data": {
      "text/plain": [
       "<AxesSubplot:ylabel='Frequency'>"
      ]
     },
     "execution_count": 90,
     "metadata": {},
     "output_type": "execute_result"
    },
    {
     "data": {
      "image/png": "[encoded data removed]",
      "text/plain": [
       "<Figure size 720x504 with 1 Axes>"
      ]
     },
     "metadata": {
      "needs_background": "light"
     },
     "output_type": "display_data"
    }
   ],
   "source": [
    "gos_films_gain_pivot['gain'].plot(kind = 'hist', grid=True, figsize = (10,7))"
   ]
  },
  {
   "cell_type": "markdown",
   "metadata": {},
   "source": [
    "Посмотрим на ту же информацию, с учетом невозвратных средств гос.поддержки."
   ]
  },
  {
   "cell_type": "code",
   "execution_count": 91,
   "metadata": {},
   "outputs": [
    {
     "data": {
      "text/plain": [
       "count           291.00\n",
       "mean       46111595.16\n",
       "std       337507568.36\n",
       "min     -1881477243.41\n",
       "25%       -38414588.00\n",
       "50%       -13759195.00\n",
       "75%        22247452.17\n",
       "max      2948568690.79\n",
       "Name: gain_vs_debt, dtype: float64"
      ]
     },
     "execution_count": 91,
     "metadata": {},
     "output_type": "execute_result"
    }
   ],
   "source": [
    "gos_films_gain_pivot['gain_vs_debt'].describe()"
   ]
  },
  {
   "cell_type": "markdown",
   "metadata": {},
   "source": [
    "- -13 543 370 среднее, 58 507 520 медиана\n",
    "- -665 698 800 минимальное значение\n",
    "- 2 948 569 000 максимальное"
   ]
  },
  {
   "cell_type": "code",
   "execution_count": 92,
   "metadata": {},
   "outputs": [
    {
     "data": {
      "text/plain": [
       "<AxesSubplot:ylabel='Frequency'>"
      ]
     },
     "execution_count": 92,
     "metadata": {},
     "output_type": "execute_result"
    },
    {
     "data": {
      "image/png": "[encoded data removed]",
      "text/plain": [
       "<Figure size 720x504 with 1 Axes>"
      ]
     },
     "metadata": {
      "needs_background": "light"
     },
     "output_type": "display_data"
    }
   ],
   "source": [
    "gos_films_gain_pivot['gain_vs_debt'].plot(kind = 'hist', grid=True, figsize = (10,7))"
   ]
  },
  {
   "cell_type": "markdown",
   "metadata": {},
   "source": [
    "В обоих случаях фильмы скорее не окупаются. Но потери при этом небольшие."
   ]
  },
  {
   "cell_type": "code",
   "execution_count": 93,
   "metadata": {},
   "outputs": [
    {
     "data": {
      "text/plain": [
       "count   5159.00\n",
       "mean       6.47\n",
       "std        1.09\n",
       "min        1.00\n",
       "25%        5.80\n",
       "50%        6.60\n",
       "75%        7.20\n",
       "max        9.10\n",
       "Name: ratings, dtype: float64"
      ]
     },
     "execution_count": 93,
     "metadata": {},
     "output_type": "execute_result"
    }
   ],
   "source": [
    "gos_films['ratings'].describe()"
   ]
  },
  {
   "cell_type": "markdown",
   "metadata": {},
   "source": [
    "Люди оценивают фильмы с гос.поддержкой в среднем на 6 баллов из 10."
   ]
  },
  {
   "cell_type": "markdown",
   "metadata": {},
   "source": [
    "Посмотрим, фильмы какого типа и жанра скорее получат гос.поддержку:"
   ]
  },
  {
   "cell_type": "code",
   "execution_count": 94,
   "metadata": {},
   "outputs": [
    {
     "data": {
      "text/plain": [
       "<AxesSubplot:ylabel='type'>"
      ]
     },
     "execution_count": 94,
     "metadata": {},
     "output_type": "execute_result"
    },
    {
     "data": {
      "image/png": "[encoded data removed]",
      "text/plain": [
       "<Figure size 504x504 with 1 Axes>"
      ]
     },
     "metadata": {},
     "output_type": "display_data"
    }
   ],
   "source": [
    "gos_films['type'].value_counts().plot(kind=\"pie\", figsize = (7,7))"
   ]
  },
  {
   "cell_type": "code",
   "execution_count": 95,
   "metadata": {},
   "outputs": [
    {
     "data": {
      "text/plain": [
       "<AxesSubplot:ylabel='main_genre'>"
      ]
     },
     "execution_count": 95,
     "metadata": {},
     "output_type": "execute_result"
    },
    {
     "data": {
      "image/png": "[encoded data removed]",
      "text/plain": [
       "<Figure size 504x504 with 1 Axes>"
      ]
     },
     "metadata": {},
     "output_type": "display_data"
    }
   ],
   "source": [
    "gos_films['main_genre'].value_counts().plot(kind=\"pie\", figsize = (7,7))"
   ]
  },
  {
   "cell_type": "markdown",
   "metadata": {},
   "source": [
    "Художественные фильмы в жанре 'комедия' или 'драма'."
   ]
  },
  {
   "cell_type": "code",
   "execution_count": 96,
   "metadata": {},
   "outputs": [
    {
     "data": {
      "text/plain": [
       "<AxesSubplot:ylabel='financing_source'>"
      ]
     },
     "execution_count": 96,
     "metadata": {},
     "output_type": "execute_result"
    },
    {
     "data": {
      "image/png": "[encoded data removed]",
      "text/plain": [
       "<Figure size 504x504 with 1 Axes>"
      ]
     },
     "metadata": {},
     "output_type": "display_data"
    }
   ],
   "source": [
    "gos_films['financing_source'].value_counts().plot(kind=\"pie\", figsize = (7,7))"
   ]
  },
  {
   "cell_type": "markdown",
   "metadata": {},
   "source": [
    "Основным спонсором является Министерство культуры."
   ]
  },
  {
   "cell_type": "markdown",
   "metadata": {},
   "source": [
    "Интересно посмотреть и каким режиссерам с большей охотой помогает государство чаще всего:"
   ]
  },
  {
   "cell_type": "code",
   "execution_count": 97,
   "metadata": {},
   "outputs": [
    {
     "data": {
      "text/html": [
       "<div>\n",
       "<style scoped>\n",
       "    .dataframe tbody tr th:only-of-type {\n",
       "        vertical-align: middle;\n",
       "    }\n",
       "\n",
       "    .dataframe tbody tr th {\n",
       "        vertical-align: top;\n",
       "    }\n",
       "\n",
       "    .dataframe thead th {\n",
       "        text-align: right;\n",
       "    }\n",
       "</style>\n",
       "<table border=\"1\" class=\"dataframe\">\n",
       "  <thead>\n",
       "    <tr style=\"text-align: right;\">\n",
       "      <th></th>\n",
       "      <th>count</th>\n",
       "      <th>mean</th>\n",
       "      <th>median</th>\n",
       "      <th>sum</th>\n",
       "    </tr>\n",
       "    <tr>\n",
       "      <th>main_director</th>\n",
       "      <th></th>\n",
       "      <th></th>\n",
       "      <th></th>\n",
       "      <th></th>\n",
       "    </tr>\n",
       "  </thead>\n",
       "  <tbody>\n",
       "    <tr>\n",
       "      <th>Р.Давлетьяров</th>\n",
       "      <td>5</td>\n",
       "      <td>78969589.00</td>\n",
       "      <td>97000000.00</td>\n",
       "      <td>394847945.00</td>\n",
       "    </tr>\n",
       "    <tr>\n",
       "      <th>С.Андреасян</th>\n",
       "      <td>4</td>\n",
       "      <td>65000000.00</td>\n",
       "      <td>40000000.00</td>\n",
       "      <td>260000000.00</td>\n",
       "    </tr>\n",
       "    <tr>\n",
       "      <th>Д.Дьяченко</th>\n",
       "      <td>4</td>\n",
       "      <td>45000000.00</td>\n",
       "      <td>37500000.00</td>\n",
       "      <td>180000000.00</td>\n",
       "    </tr>\n",
       "    <tr>\n",
       "      <th>А.Цицилин</th>\n",
       "      <td>3</td>\n",
       "      <td>66666666.67</td>\n",
       "      <td>60000000.00</td>\n",
       "      <td>200000000.00</td>\n",
       "    </tr>\n",
       "    <tr>\n",
       "      <th>Д.Шмидт</th>\n",
       "      <td>3</td>\n",
       "      <td>38333333.33</td>\n",
       "      <td>40000000.00</td>\n",
       "      <td>115000000.00</td>\n",
       "    </tr>\n",
       "    <tr>\n",
       "      <th>К.Шипенко</th>\n",
       "      <td>3</td>\n",
       "      <td>95666666.67</td>\n",
       "      <td>35000000.00</td>\n",
       "      <td>287000000.00</td>\n",
       "    </tr>\n",
       "    <tr>\n",
       "      <th>А.Аксененко</th>\n",
       "      <td>3</td>\n",
       "      <td>21666666.67</td>\n",
       "      <td>25000000.00</td>\n",
       "      <td>65000000.00</td>\n",
       "    </tr>\n",
       "    <tr>\n",
       "      <th>А.Богуславский</th>\n",
       "      <td>2</td>\n",
       "      <td>23000000.00</td>\n",
       "      <td>23000000.00</td>\n",
       "      <td>46000000.00</td>\n",
       "    </tr>\n",
       "    <tr>\n",
       "      <th>А.Прошкин</th>\n",
       "      <td>2</td>\n",
       "      <td>37500000.00</td>\n",
       "      <td>37500000.00</td>\n",
       "      <td>75000000.00</td>\n",
       "    </tr>\n",
       "    <tr>\n",
       "      <th>С.Мокрицкий</th>\n",
       "      <td>2</td>\n",
       "      <td>63755000.00</td>\n",
       "      <td>63755000.00</td>\n",
       "      <td>127510000.00</td>\n",
       "    </tr>\n",
       "  </tbody>\n",
       "</table>\n",
       "</div>"
      ],
      "text/plain": [
       "                count        mean      median          sum\n",
       "main_director                                             \n",
       "Р.Давлетьяров       5 78969589.00 97000000.00 394847945.00\n",
       "С.Андреасян         4 65000000.00 40000000.00 260000000.00\n",
       "Д.Дьяченко          4 45000000.00 37500000.00 180000000.00\n",
       "А.Цицилин           3 66666666.67 60000000.00 200000000.00\n",
       "Д.Шмидт             3 38333333.33 40000000.00 115000000.00\n",
       "К.Шипенко           3 95666666.67 35000000.00 287000000.00\n",
       "А.Аксененко         3 21666666.67 25000000.00  65000000.00\n",
       "А.Богуславский      2 23000000.00 23000000.00  46000000.00\n",
       "А.Прошкин           2 37500000.00 37500000.00  75000000.00\n",
       "С.Мокрицкий         2 63755000.00 63755000.00 127510000.00"
      ]
     },
     "execution_count": 97,
     "metadata": {},
     "output_type": "execute_result"
    }
   ],
   "source": [
    "gos_films_director = gos_films.pivot_table(index= 'main_director', values = 'nonrefundable_support', aggfunc=['count', 'mean','median','sum'])\n",
    "gos_films_director.columns = ['count', 'mean','median', 'sum']\n",
    "gos_films_director.sort_values(by='count', ascending=False).head(10)"
   ]
  },
  {
   "cell_type": "markdown",
   "metadata": {},
   "source": [
    "И кому выдает бОльшие суммы:"
   ]
  },
  {
   "cell_type": "code",
   "execution_count": 98,
   "metadata": {},
   "outputs": [
    {
     "data": {
      "text/html": [
       "<div>\n",
       "<style scoped>\n",
       "    .dataframe tbody tr th:only-of-type {\n",
       "        vertical-align: middle;\n",
       "    }\n",
       "\n",
       "    .dataframe tbody tr th {\n",
       "        vertical-align: top;\n",
       "    }\n",
       "\n",
       "    .dataframe thead th {\n",
       "        text-align: right;\n",
       "    }\n",
       "</style>\n",
       "<table border=\"1\" class=\"dataframe\">\n",
       "  <thead>\n",
       "    <tr style=\"text-align: right;\">\n",
       "      <th></th>\n",
       "      <th>count</th>\n",
       "      <th>mean</th>\n",
       "      <th>median</th>\n",
       "      <th>sum</th>\n",
       "    </tr>\n",
       "    <tr>\n",
       "      <th>main_director</th>\n",
       "      <th></th>\n",
       "      <th></th>\n",
       "      <th></th>\n",
       "      <th></th>\n",
       "    </tr>\n",
       "  </thead>\n",
       "  <tbody>\n",
       "    <tr>\n",
       "      <th>Н.Хомерики</th>\n",
       "      <td>2</td>\n",
       "      <td>250000000.00</td>\n",
       "      <td>250000000.00</td>\n",
       "      <td>500000000.00</td>\n",
       "    </tr>\n",
       "    <tr>\n",
       "      <th>А.Кравчук</th>\n",
       "      <td>1</td>\n",
       "      <td>400000000.00</td>\n",
       "      <td>400000000.00</td>\n",
       "      <td>400000000.00</td>\n",
       "    </tr>\n",
       "    <tr>\n",
       "      <th>А.Мегердичев</th>\n",
       "      <td>1</td>\n",
       "      <td>400000000.00</td>\n",
       "      <td>400000000.00</td>\n",
       "      <td>400000000.00</td>\n",
       "    </tr>\n",
       "    <tr>\n",
       "      <th>Р.Давлетьяров</th>\n",
       "      <td>5</td>\n",
       "      <td>78969589.00</td>\n",
       "      <td>97000000.00</td>\n",
       "      <td>394847945.00</td>\n",
       "    </tr>\n",
       "    <tr>\n",
       "      <th>Н.Лебедев</th>\n",
       "      <td>1</td>\n",
       "      <td>392104482.00</td>\n",
       "      <td>392104482.00</td>\n",
       "      <td>392104482.00</td>\n",
       "    </tr>\n",
       "    <tr>\n",
       "      <th>А.Мизгирев</th>\n",
       "      <td>1</td>\n",
       "      <td>300000000.00</td>\n",
       "      <td>300000000.00</td>\n",
       "      <td>300000000.00</td>\n",
       "    </tr>\n",
       "    <tr>\n",
       "      <th>К.Шипенко</th>\n",
       "      <td>3</td>\n",
       "      <td>95666666.67</td>\n",
       "      <td>35000000.00</td>\n",
       "      <td>287000000.00</td>\n",
       "    </tr>\n",
       "    <tr>\n",
       "      <th>В.Тодоровский</th>\n",
       "      <td>2</td>\n",
       "      <td>135000000.00</td>\n",
       "      <td>135000000.00</td>\n",
       "      <td>270000000.00</td>\n",
       "    </tr>\n",
       "    <tr>\n",
       "      <th>П.Лунгин</th>\n",
       "      <td>2</td>\n",
       "      <td>131500000.00</td>\n",
       "      <td>131500000.00</td>\n",
       "      <td>263000000.00</td>\n",
       "    </tr>\n",
       "    <tr>\n",
       "      <th>Д.Козловский</th>\n",
       "      <td>1</td>\n",
       "      <td>260000000.00</td>\n",
       "      <td>260000000.00</td>\n",
       "      <td>260000000.00</td>\n",
       "    </tr>\n",
       "  </tbody>\n",
       "</table>\n",
       "</div>"
      ],
      "text/plain": [
       "               count         mean       median          sum\n",
       "main_director                                              \n",
       "Н.Хомерики         2 250000000.00 250000000.00 500000000.00\n",
       "А.Кравчук          1 400000000.00 400000000.00 400000000.00\n",
       "А.Мегердичев       1 400000000.00 400000000.00 400000000.00\n",
       "Р.Давлетьяров      5  78969589.00  97000000.00 394847945.00\n",
       "Н.Лебедев          1 392104482.00 392104482.00 392104482.00\n",
       "А.Мизгирев         1 300000000.00 300000000.00 300000000.00\n",
       "К.Шипенко          3  95666666.67  35000000.00 287000000.00\n",
       "В.Тодоровский      2 135000000.00 135000000.00 270000000.00\n",
       "П.Лунгин           2 131500000.00 131500000.00 263000000.00\n",
       "Д.Козловский       1 260000000.00 260000000.00 260000000.00"
      ]
     },
     "execution_count": 98,
     "metadata": {},
     "output_type": "execute_result"
    }
   ],
   "source": [
    "gos_films_director.sort_values(by='sum', ascending=False).head(10)"
   ]
  },
  {
   "cell_type": "markdown",
   "metadata": {
    "id": "V2gYwMcPgFyd"
   },
   "source": [
    "## Общий вывод <a id=\"4\"></a>"
   ]
  },
  {
   "cell_type": "markdown",
   "metadata": {
    "id": "AYRg3dzXgFye"
   },
   "source": [
    "В ходе проведенного исследования мы установили следующее:\n",
    "\n",
    "- Сумма сбора проката меняется с 2013 по по 2019 год, она постоянно растет.\n",
    "- Наибольшие суммы сборов наблюдаются у фильмов категории '16+', немного меньше у категории '12+', при этом от года проката это не зависит.\n",
    "- Максимальная сумма государственной поддержки российских фильмов постоянно растет. Чаще всего ее получают художественные фильмы жанров 'драма' и 'комедия'. Главным спосором является Министерство культуры. Пока такие фильмы получают не самый высокий рейтинг (в среднем 6 баллов из 10), кроме того, больше, чем в половине случаев они не окупаются.\n"
   ]
  },
  {
   "cell_type": "code",
   "execution_count": null,
   "metadata": {},
   "outputs": [],
   "source": []
  }
 ],
 "metadata": {
  "ExecuteTimeLog": [
   {
    "duration": 537,
    "start_time": "2021-07-07T10:12:08.634Z"
   },
   {
    "duration": 206,
    "start_time": "2021-07-07T10:12:30.191Z"
   },
   {
    "duration": 227,
    "start_time": "2021-07-07T10:12:33.078Z"
   },
   {
    "duration": 153,
    "start_time": "2021-07-07T10:13:42.146Z"
   },
   {
    "duration": 233,
    "start_time": "2021-07-07T10:30:09.252Z"
   },
   {
    "duration": 19,
    "start_time": "2021-07-07T10:30:15.577Z"
   },
   {
    "duration": 18,
    "start_time": "2021-07-07T10:30:57.348Z"
   },
   {
    "duration": 19,
    "start_time": "2021-07-07T10:31:17.452Z"
   },
   {
    "duration": 21,
    "start_time": "2021-07-07T10:31:32.227Z"
   },
   {
    "duration": 27,
    "start_time": "2021-07-07T10:32:06.588Z"
   },
   {
    "duration": 23,
    "start_time": "2021-07-07T10:32:43.645Z"
   },
   {
    "duration": 24,
    "start_time": "2021-07-07T10:33:06.948Z"
   },
   {
    "duration": 7,
    "start_time": "2021-07-07T10:33:28.558Z"
   },
   {
    "duration": 23,
    "start_time": "2021-07-07T10:33:43.761Z"
   },
   {
    "duration": 28,
    "start_time": "2021-07-07T10:34:13.466Z"
   },
   {
    "duration": 23,
    "start_time": "2021-07-07T10:35:56.187Z"
   },
   {
    "duration": 6,
    "start_time": "2021-07-07T10:36:48.182Z"
   },
   {
    "duration": 14,
    "start_time": "2021-07-07T10:37:49.641Z"
   },
   {
    "duration": 6,
    "start_time": "2021-07-07T10:38:06.694Z"
   },
   {
    "duration": 6,
    "start_time": "2021-07-07T10:38:13.493Z"
   },
   {
    "duration": 19,
    "start_time": "2021-07-07T10:38:44.056Z"
   },
   {
    "duration": 186,
    "start_time": "2021-07-07T10:48:35.618Z"
   },
   {
    "duration": 24,
    "start_time": "2021-07-07T10:48:51.498Z"
   },
   {
    "duration": 20,
    "start_time": "2021-07-07T10:48:59.415Z"
   },
   {
    "duration": 20,
    "start_time": "2021-07-07T10:53:02.195Z"
   },
   {
    "duration": 188,
    "start_time": "2021-07-07T10:54:40.486Z"
   },
   {
    "duration": 115,
    "start_time": "2021-07-07T10:54:52.552Z"
   },
   {
    "duration": 214,
    "start_time": "2021-07-07T10:54:56.354Z"
   },
   {
    "duration": 47,
    "start_time": "2021-07-07T10:54:58.282Z"
   },
   {
    "duration": 217,
    "start_time": "2021-07-07T10:59:16.075Z"
   },
   {
    "duration": 51,
    "start_time": "2021-07-07T10:59:16.243Z"
   },
   {
    "duration": 578,
    "start_time": "2021-07-07T10:59:18.774Z"
   },
   {
    "duration": 161,
    "start_time": "2021-07-07T10:59:21.238Z"
   },
   {
    "duration": 59,
    "start_time": "2021-07-07T10:59:21.453Z"
   },
   {
    "duration": 3,
    "start_time": "2021-07-07T11:02:10.786Z"
   },
   {
    "duration": 13,
    "start_time": "2021-07-07T11:07:07.722Z"
   },
   {
    "duration": 26,
    "start_time": "2021-07-07T11:07:17.958Z"
   },
   {
    "duration": 22,
    "start_time": "2021-07-07T11:08:17.939Z"
   },
   {
    "duration": 212,
    "start_time": "2021-07-07T11:08:19.665Z"
   },
   {
    "duration": 21,
    "start_time": "2021-07-07T11:08:29.945Z"
   },
   {
    "duration": 31,
    "start_time": "2021-07-07T11:08:38.899Z"
   },
   {
    "duration": 23,
    "start_time": "2021-07-07T11:08:54.527Z"
   },
   {
    "duration": 8,
    "start_time": "2021-07-07T11:18:55.974Z"
   },
   {
    "duration": 7,
    "start_time": "2021-07-07T11:19:03.639Z"
   },
   {
    "duration": 7,
    "start_time": "2021-07-07T11:19:06.444Z"
   },
   {
    "duration": 578,
    "start_time": "2021-07-07T12:09:59.576Z"
   },
   {
    "duration": 195,
    "start_time": "2021-07-07T12:10:00.156Z"
   },
   {
    "duration": 115,
    "start_time": "2021-07-07T12:10:00.353Z"
   },
   {
    "duration": 3,
    "start_time": "2021-07-07T12:10:00.470Z"
   },
   {
    "duration": 32,
    "start_time": "2021-07-07T12:10:00.474Z"
   },
   {
    "duration": 23,
    "start_time": "2021-07-07T12:10:00.508Z"
   },
   {
    "duration": 19,
    "start_time": "2021-07-07T12:10:00.533Z"
   },
   {
    "duration": 44,
    "start_time": "2021-07-07T12:10:00.553Z"
   },
   {
    "duration": 7,
    "start_time": "2021-07-07T12:10:00.600Z"
   },
   {
    "duration": 7,
    "start_time": "2021-07-07T12:19:45.761Z"
   },
   {
    "duration": 21,
    "start_time": "2021-07-07T12:21:35.482Z"
   },
   {
    "duration": 21,
    "start_time": "2021-07-07T12:29:23.569Z"
   },
   {
    "duration": 525,
    "start_time": "2021-07-07T12:29:44.542Z"
   },
   {
    "duration": 214,
    "start_time": "2021-07-07T12:29:45.069Z"
   },
   {
    "duration": 92,
    "start_time": "2021-07-07T12:29:45.285Z"
   },
   {
    "duration": 3,
    "start_time": "2021-07-07T12:29:45.379Z"
   },
   {
    "duration": 28,
    "start_time": "2021-07-07T12:29:45.384Z"
   },
   {
    "duration": 23,
    "start_time": "2021-07-07T12:29:45.413Z"
   },
   {
    "duration": 21,
    "start_time": "2021-07-07T12:29:45.437Z"
   },
   {
    "duration": 41,
    "start_time": "2021-07-07T12:29:45.460Z"
   },
   {
    "duration": 7,
    "start_time": "2021-07-07T12:29:45.502Z"
   },
   {
    "duration": 20,
    "start_time": "2021-07-07T12:29:45.511Z"
   },
   {
    "duration": 12,
    "start_time": "2021-07-07T12:34:02.800Z"
   },
   {
    "duration": 7,
    "start_time": "2021-07-07T12:35:10.479Z"
   },
   {
    "duration": 8,
    "start_time": "2021-07-07T12:35:22.440Z"
   },
   {
    "duration": 6,
    "start_time": "2021-07-07T12:35:35.649Z"
   },
   {
    "duration": 6,
    "start_time": "2021-07-07T12:35:43.107Z"
   },
   {
    "duration": 22,
    "start_time": "2021-07-07T12:38:03.029Z"
   },
   {
    "duration": 10,
    "start_time": "2021-07-07T12:38:06.592Z"
   },
   {
    "duration": 563,
    "start_time": "2021-07-07T12:38:46.493Z"
   },
   {
    "duration": 265,
    "start_time": "2021-07-07T12:38:47.058Z"
   },
   {
    "duration": 94,
    "start_time": "2021-07-07T12:38:47.325Z"
   },
   {
    "duration": 3,
    "start_time": "2021-07-07T12:38:47.422Z"
   },
   {
    "duration": 30,
    "start_time": "2021-07-07T12:38:47.427Z"
   },
   {
    "duration": 16,
    "start_time": "2021-07-07T12:38:53.305Z"
   },
   {
    "duration": 10,
    "start_time": "2021-07-07T12:38:53.499Z"
   },
   {
    "duration": 8,
    "start_time": "2021-07-07T12:39:48.161Z"
   },
   {
    "duration": 27,
    "start_time": "2021-07-07T12:41:17.629Z"
   },
   {
    "duration": 17,
    "start_time": "2021-07-07T12:41:17.867Z"
   },
   {
    "duration": 21,
    "start_time": "2021-07-07T12:41:19.310Z"
   },
   {
    "duration": 7,
    "start_time": "2021-07-07T12:41:19.544Z"
   },
   {
    "duration": 20,
    "start_time": "2021-07-07T12:41:20.504Z"
   },
   {
    "duration": 554,
    "start_time": "2021-07-07T12:56:23.696Z"
   },
   {
    "duration": 200,
    "start_time": "2021-07-07T12:56:25.234Z"
   },
   {
    "duration": 119,
    "start_time": "2021-07-07T12:56:25.480Z"
   },
   {
    "duration": 4,
    "start_time": "2021-07-07T12:56:25.762Z"
   },
   {
    "duration": 26,
    "start_time": "2021-07-07T12:56:27.172Z"
   },
   {
    "duration": 12,
    "start_time": "2021-07-07T12:56:29.051Z"
   },
   {
    "duration": 10,
    "start_time": "2021-07-07T12:56:29.291Z"
   },
   {
    "duration": 8,
    "start_time": "2021-07-07T12:56:29.623Z"
   },
   {
    "duration": 28,
    "start_time": "2021-07-07T12:56:32.137Z"
   },
   {
    "duration": 19,
    "start_time": "2021-07-07T12:56:39.785Z"
   },
   {
    "duration": 20,
    "start_time": "2021-07-07T12:56:44.297Z"
   },
   {
    "duration": 7,
    "start_time": "2021-07-07T12:56:45.392Z"
   },
   {
    "duration": 23,
    "start_time": "2021-07-07T12:56:46.615Z"
   },
   {
    "duration": 4,
    "start_time": "2021-07-07T12:57:06.625Z"
   },
   {
    "duration": 32,
    "start_time": "2021-07-07T12:57:36.690Z"
   },
   {
    "duration": 18,
    "start_time": "2021-07-07T12:58:00.149Z"
   },
   {
    "duration": 15,
    "start_time": "2021-07-07T12:59:16.793Z"
   },
   {
    "duration": 7,
    "start_time": "2021-07-07T13:19:22.624Z"
   },
   {
    "duration": 6,
    "start_time": "2021-07-07T14:17:33.527Z"
   },
   {
    "duration": 9,
    "start_time": "2021-07-07T14:17:48.409Z"
   },
   {
    "duration": 8,
    "start_time": "2021-07-07T14:20:13.060Z"
   },
   {
    "duration": 8,
    "start_time": "2021-07-07T14:20:37.957Z"
   },
   {
    "duration": 8,
    "start_time": "2021-07-07T14:20:47.470Z"
   },
   {
    "duration": 9,
    "start_time": "2021-07-07T14:20:54.503Z"
   },
   {
    "duration": 10,
    "start_time": "2021-07-07T14:28:57.763Z"
   },
   {
    "duration": 3,
    "start_time": "2021-07-07T14:30:23.377Z"
   },
   {
    "duration": 3,
    "start_time": "2021-07-07T14:30:36.489Z"
   },
   {
    "duration": 103,
    "start_time": "2021-07-07T14:30:52.351Z"
   },
   {
    "duration": 8,
    "start_time": "2021-07-07T14:30:54.763Z"
   },
   {
    "duration": 8,
    "start_time": "2021-07-07T14:31:29.301Z"
   },
   {
    "duration": 13,
    "start_time": "2021-07-07T14:31:44.516Z"
   },
   {
    "duration": 7,
    "start_time": "2021-07-07T14:33:10.972Z"
   },
   {
    "duration": 11,
    "start_time": "2021-07-07T14:33:27.780Z"
   },
   {
    "duration": 8,
    "start_time": "2021-07-07T14:34:44.588Z"
   },
   {
    "duration": 57,
    "start_time": "2021-07-07T14:35:59.042Z"
   },
   {
    "duration": 3,
    "start_time": "2021-07-07T14:36:28.168Z"
   },
   {
    "duration": 5,
    "start_time": "2021-07-07T14:36:46.254Z"
   },
   {
    "duration": 4,
    "start_time": "2021-07-07T14:36:52.714Z"
   },
   {
    "duration": 3,
    "start_time": "2021-07-07T14:36:56.612Z"
   },
   {
    "duration": 4,
    "start_time": "2021-07-07T14:36:57.049Z"
   },
   {
    "duration": 3,
    "start_time": "2021-07-07T14:39:21.214Z"
   },
   {
    "duration": 7,
    "start_time": "2021-07-07T14:39:52.406Z"
   },
   {
    "duration": 11,
    "start_time": "2021-07-07T14:39:58.576Z"
   },
   {
    "duration": 9,
    "start_time": "2021-07-07T14:40:26.301Z"
   },
   {
    "duration": 10,
    "start_time": "2021-07-07T14:40:31.704Z"
   },
   {
    "duration": 11,
    "start_time": "2021-07-07T14:40:36.249Z"
   },
   {
    "duration": 10,
    "start_time": "2021-07-07T14:40:39.783Z"
   },
   {
    "duration": 9,
    "start_time": "2021-07-07T14:40:48.558Z"
   },
   {
    "duration": 10,
    "start_time": "2021-07-07T14:40:57.143Z"
   },
   {
    "duration": 9,
    "start_time": "2021-07-07T14:41:06.074Z"
   },
   {
    "duration": 4324,
    "start_time": "2021-07-07T14:41:22.004Z"
   },
   {
    "duration": 11,
    "start_time": "2021-07-07T14:41:33.392Z"
   },
   {
    "duration": 9,
    "start_time": "2021-07-07T14:41:39.288Z"
   },
   {
    "duration": 569,
    "start_time": "2021-07-07T14:42:14.387Z"
   },
   {
    "duration": 197,
    "start_time": "2021-07-07T14:42:14.959Z"
   },
   {
    "duration": 84,
    "start_time": "2021-07-07T14:42:16.052Z"
   },
   {
    "duration": 4,
    "start_time": "2021-07-07T14:42:16.900Z"
   },
   {
    "duration": 27,
    "start_time": "2021-07-07T14:42:19.898Z"
   },
   {
    "duration": 12,
    "start_time": "2021-07-07T14:42:21.577Z"
   },
   {
    "duration": 9,
    "start_time": "2021-07-07T14:42:21.813Z"
   },
   {
    "duration": 9,
    "start_time": "2021-07-07T14:42:22.569Z"
   },
   {
    "duration": 29,
    "start_time": "2021-07-07T14:42:25.837Z"
   },
   {
    "duration": 20,
    "start_time": "2021-07-07T14:42:27.003Z"
   },
   {
    "duration": 21,
    "start_time": "2021-07-07T14:42:28.767Z"
   },
   {
    "duration": 7,
    "start_time": "2021-07-07T14:42:29.838Z"
   },
   {
    "duration": 4,
    "start_time": "2021-07-07T14:43:25.493Z"
   },
   {
    "duration": 7,
    "start_time": "2021-07-07T14:43:26.573Z"
   },
   {
    "duration": 10,
    "start_time": "2021-07-07T14:43:31.639Z"
   },
   {
    "duration": 9,
    "start_time": "2021-07-07T14:43:32.046Z"
   },
   {
    "duration": 10,
    "start_time": "2021-07-07T14:43:33.301Z"
   },
   {
    "duration": 12,
    "start_time": "2021-07-07T14:43:33.658Z"
   },
   {
    "duration": 8,
    "start_time": "2021-07-07T14:43:34.552Z"
   },
   {
    "duration": 9,
    "start_time": "2021-07-07T14:43:35.058Z"
   },
   {
    "duration": 12,
    "start_time": "2021-07-07T14:43:35.914Z"
   },
   {
    "duration": 17,
    "start_time": "2021-07-07T14:45:34.368Z"
   },
   {
    "duration": 512,
    "start_time": "2021-07-07T14:51:58.236Z"
   },
   {
    "duration": 223,
    "start_time": "2021-07-07T14:51:58.750Z"
   },
   {
    "duration": 93,
    "start_time": "2021-07-07T14:51:58.977Z"
   },
   {
    "duration": 4,
    "start_time": "2021-07-07T14:51:59.071Z"
   },
   {
    "duration": 37,
    "start_time": "2021-07-07T14:51:59.077Z"
   },
   {
    "duration": 18,
    "start_time": "2021-07-07T14:51:59.116Z"
   },
   {
    "duration": 10,
    "start_time": "2021-07-07T14:51:59.137Z"
   },
   {
    "duration": 8,
    "start_time": "2021-07-07T14:51:59.149Z"
   },
   {
    "duration": 54,
    "start_time": "2021-07-07T14:51:59.158Z"
   },
   {
    "duration": 18,
    "start_time": "2021-07-07T14:51:59.213Z"
   },
   {
    "duration": 22,
    "start_time": "2021-07-07T14:51:59.232Z"
   },
   {
    "duration": 36,
    "start_time": "2021-07-07T14:51:59.255Z"
   },
   {
    "duration": 7,
    "start_time": "2021-07-07T14:51:59.293Z"
   },
   {
    "duration": 10,
    "start_time": "2021-07-07T14:51:59.302Z"
   },
   {
    "duration": 9,
    "start_time": "2021-07-07T14:51:59.313Z"
   },
   {
    "duration": 11,
    "start_time": "2021-07-07T14:51:59.324Z"
   },
   {
    "duration": 8,
    "start_time": "2021-07-07T14:51:59.337Z"
   },
   {
    "duration": 46,
    "start_time": "2021-07-07T14:51:59.347Z"
   },
   {
    "duration": 22,
    "start_time": "2021-07-07T14:51:59.395Z"
   },
   {
    "duration": 24,
    "start_time": "2021-07-07T14:57:32.911Z"
   },
   {
    "duration": 7,
    "start_time": "2021-07-07T14:58:22.070Z"
   },
   {
    "duration": 4,
    "start_time": "2021-07-07T14:59:11.239Z"
   },
   {
    "duration": 25,
    "start_time": "2021-07-07T15:07:22.208Z"
   },
   {
    "duration": 16,
    "start_time": "2021-07-07T15:08:25.560Z"
   },
   {
    "duration": 15,
    "start_time": "2021-07-07T15:08:40.647Z"
   },
   {
    "duration": 14,
    "start_time": "2021-07-07T15:08:46.669Z"
   },
   {
    "duration": 533,
    "start_time": "2021-07-07T15:18:07.440Z"
   },
   {
    "duration": 173,
    "start_time": "2021-07-07T15:18:07.974Z"
   },
   {
    "duration": 84,
    "start_time": "2021-07-07T15:18:08.149Z"
   },
   {
    "duration": 3,
    "start_time": "2021-07-07T15:18:08.235Z"
   },
   {
    "duration": 30,
    "start_time": "2021-07-07T15:18:08.240Z"
   },
   {
    "duration": 22,
    "start_time": "2021-07-07T15:18:08.272Z"
   },
   {
    "duration": 11,
    "start_time": "2021-07-07T15:18:08.295Z"
   },
   {
    "duration": 11,
    "start_time": "2021-07-07T15:18:08.309Z"
   },
   {
    "duration": 40,
    "start_time": "2021-07-07T15:18:08.322Z"
   },
   {
    "duration": 42,
    "start_time": "2021-07-07T15:18:08.364Z"
   },
   {
    "duration": 22,
    "start_time": "2021-07-07T15:18:08.408Z"
   },
   {
    "duration": 5,
    "start_time": "2021-07-07T15:18:08.432Z"
   },
   {
    "duration": 13,
    "start_time": "2021-07-07T15:18:08.439Z"
   },
   {
    "duration": 9,
    "start_time": "2021-07-07T15:18:08.454Z"
   },
   {
    "duration": 32,
    "start_time": "2021-07-07T15:18:08.465Z"
   },
   {
    "duration": 10,
    "start_time": "2021-07-07T15:18:08.501Z"
   },
   {
    "duration": 7,
    "start_time": "2021-07-07T15:18:08.513Z"
   },
   {
    "duration": 11,
    "start_time": "2021-07-07T15:18:08.521Z"
   },
   {
    "duration": 17,
    "start_time": "2021-07-07T15:18:08.534Z"
   },
   {
    "duration": 44,
    "start_time": "2021-07-07T15:18:08.553Z"
   },
   {
    "duration": 22,
    "start_time": "2021-07-07T15:18:08.599Z"
   },
   {
    "duration": 61,
    "start_time": "2021-07-07T15:18:08.622Z"
   },
   {
    "duration": 7,
    "start_time": "2021-07-07T15:18:39.457Z"
   },
   {
    "duration": 5,
    "start_time": "2021-07-07T16:05:17.020Z"
   },
   {
    "duration": 5,
    "start_time": "2021-07-07T16:51:28.794Z"
   },
   {
    "duration": 546,
    "start_time": "2021-07-07T16:52:26.306Z"
   },
   {
    "duration": 203,
    "start_time": "2021-07-07T16:52:27.523Z"
   },
   {
    "duration": 85,
    "start_time": "2021-07-07T16:52:27.736Z"
   },
   {
    "duration": 4,
    "start_time": "2021-07-07T16:52:27.899Z"
   },
   {
    "duration": 25,
    "start_time": "2021-07-07T16:52:28.674Z"
   },
   {
    "duration": 8,
    "start_time": "2021-07-07T16:52:32.956Z"
   },
   {
    "duration": 18,
    "start_time": "2021-07-07T16:52:35.616Z"
   },
   {
    "duration": 6,
    "start_time": "2021-07-07T16:52:36.913Z"
   },
   {
    "duration": 11,
    "start_time": "2021-07-07T16:52:40.258Z"
   },
   {
    "duration": 10,
    "start_time": "2021-07-07T16:52:46.251Z"
   },
   {
    "duration": 8,
    "start_time": "2021-07-07T16:52:47.182Z"
   },
   {
    "duration": 27,
    "start_time": "2021-07-07T16:53:20.391Z"
   },
   {
    "duration": 20,
    "start_time": "2021-07-07T16:53:22.022Z"
   },
   {
    "duration": 23,
    "start_time": "2021-07-07T16:53:23.690Z"
   },
   {
    "duration": 8,
    "start_time": "2021-07-07T16:53:24.261Z"
   },
   {
    "duration": 4,
    "start_time": "2021-07-07T16:53:38.733Z"
   },
   {
    "duration": 7,
    "start_time": "2021-07-07T16:53:40.445Z"
   },
   {
    "duration": 11,
    "start_time": "2021-07-07T16:53:41.348Z"
   },
   {
    "duration": 13,
    "start_time": "2021-07-07T16:53:45.250Z"
   },
   {
    "duration": 12,
    "start_time": "2021-07-07T16:53:45.467Z"
   },
   {
    "duration": 4,
    "start_time": "2021-07-07T16:55:32.704Z"
   },
   {
    "duration": 12,
    "start_time": "2021-07-07T16:55:49.012Z"
   },
   {
    "duration": 18,
    "start_time": "2021-07-07T16:55:49.547Z"
   },
   {
    "duration": 611,
    "start_time": "2021-07-07T16:58:35.156Z"
   },
   {
    "duration": 200,
    "start_time": "2021-07-07T16:58:35.770Z"
   },
   {
    "duration": 86,
    "start_time": "2021-07-07T16:58:35.972Z"
   },
   {
    "duration": 3,
    "start_time": "2021-07-07T16:58:36.060Z"
   },
   {
    "duration": 27,
    "start_time": "2021-07-07T16:58:36.065Z"
   },
   {
    "duration": 8,
    "start_time": "2021-07-07T16:58:36.094Z"
   },
   {
    "duration": 17,
    "start_time": "2021-07-07T16:58:36.103Z"
   },
   {
    "duration": 5,
    "start_time": "2021-07-07T16:58:36.123Z"
   },
   {
    "duration": 11,
    "start_time": "2021-07-07T16:58:36.130Z"
   },
   {
    "duration": 7,
    "start_time": "2021-07-07T16:58:36.143Z"
   },
   {
    "duration": 37,
    "start_time": "2021-07-07T16:58:36.152Z"
   },
   {
    "duration": 27,
    "start_time": "2021-07-07T16:58:36.191Z"
   },
   {
    "duration": 19,
    "start_time": "2021-07-07T16:58:36.219Z"
   },
   {
    "duration": 49,
    "start_time": "2021-07-07T16:58:36.240Z"
   },
   {
    "duration": 6,
    "start_time": "2021-07-07T16:58:36.291Z"
   },
   {
    "duration": 3,
    "start_time": "2021-07-07T16:58:36.299Z"
   },
   {
    "duration": 13,
    "start_time": "2021-07-07T16:58:36.304Z"
   },
   {
    "duration": 10,
    "start_time": "2021-07-07T16:58:36.319Z"
   },
   {
    "duration": 10,
    "start_time": "2021-07-07T16:58:36.331Z"
   },
   {
    "duration": 44,
    "start_time": "2021-07-07T16:58:36.343Z"
   },
   {
    "duration": 4,
    "start_time": "2021-07-07T16:58:36.388Z"
   },
   {
    "duration": 13,
    "start_time": "2021-07-07T16:58:36.394Z"
   },
   {
    "duration": 16,
    "start_time": "2021-07-07T16:58:36.410Z"
   },
   {
    "duration": 8,
    "start_time": "2021-07-07T17:02:31.629Z"
   },
   {
    "duration": 8,
    "start_time": "2021-07-07T17:02:34.308Z"
   },
   {
    "duration": 6,
    "start_time": "2021-07-07T17:05:13.483Z"
   },
   {
    "duration": 17,
    "start_time": "2021-07-07T17:05:20.606Z"
   },
   {
    "duration": 7,
    "start_time": "2021-07-07T17:05:34.638Z"
   },
   {
    "duration": 3,
    "start_time": "2021-07-07T17:06:31.883Z"
   },
   {
    "duration": 570,
    "start_time": "2021-07-07T17:06:37.165Z"
   },
   {
    "duration": 174,
    "start_time": "2021-07-07T17:06:37.737Z"
   },
   {
    "duration": 47,
    "start_time": "2021-07-07T17:06:37.913Z"
   },
   {
    "duration": 3,
    "start_time": "2021-07-07T17:06:37.962Z"
   },
   {
    "duration": 27,
    "start_time": "2021-07-07T17:06:37.967Z"
   },
   {
    "duration": 7,
    "start_time": "2021-07-07T17:06:37.996Z"
   },
   {
    "duration": 16,
    "start_time": "2021-07-07T17:06:38.005Z"
   },
   {
    "duration": 6,
    "start_time": "2021-07-07T17:06:38.024Z"
   },
   {
    "duration": 12,
    "start_time": "2021-07-07T17:06:38.031Z"
   },
   {
    "duration": 41,
    "start_time": "2021-07-07T17:06:38.045Z"
   },
   {
    "duration": 8,
    "start_time": "2021-07-07T17:06:38.088Z"
   },
   {
    "duration": 26,
    "start_time": "2021-07-07T17:06:38.098Z"
   },
   {
    "duration": 17,
    "start_time": "2021-07-07T17:06:38.126Z"
   },
   {
    "duration": 43,
    "start_time": "2021-07-07T17:06:38.144Z"
   },
   {
    "duration": 6,
    "start_time": "2021-07-07T17:06:38.188Z"
   },
   {
    "duration": 5,
    "start_time": "2021-07-07T17:06:38.195Z"
   },
   {
    "duration": 9,
    "start_time": "2021-07-07T17:06:38.201Z"
   },
   {
    "duration": 12,
    "start_time": "2021-07-07T17:06:38.212Z"
   },
   {
    "duration": 11,
    "start_time": "2021-07-07T17:06:38.226Z"
   },
   {
    "duration": 47,
    "start_time": "2021-07-07T17:06:38.239Z"
   },
   {
    "duration": 4,
    "start_time": "2021-07-07T17:06:38.288Z"
   },
   {
    "duration": 13,
    "start_time": "2021-07-07T17:06:38.293Z"
   },
   {
    "duration": 5,
    "start_time": "2021-07-07T17:06:38.309Z"
   },
   {
    "duration": 18,
    "start_time": "2021-07-07T17:06:38.325Z"
   },
   {
    "duration": 20,
    "start_time": "2021-07-07T17:07:02.805Z"
   },
   {
    "duration": 19,
    "start_time": "2021-07-07T17:07:08.527Z"
   },
   {
    "duration": 19,
    "start_time": "2021-07-07T17:07:12.758Z"
   },
   {
    "duration": 22,
    "start_time": "2021-07-07T17:07:17.497Z"
   },
   {
    "duration": 19,
    "start_time": "2021-07-07T17:07:19.645Z"
   },
   {
    "duration": 10,
    "start_time": "2021-07-07T17:07:34.239Z"
   },
   {
    "duration": 17,
    "start_time": "2021-07-07T17:07:54.144Z"
   },
   {
    "duration": 14,
    "start_time": "2021-07-07T17:08:14.357Z"
   },
   {
    "duration": 616,
    "start_time": "2021-07-07T17:08:45.254Z"
   },
   {
    "duration": 178,
    "start_time": "2021-07-07T17:08:45.872Z"
   },
   {
    "duration": 60,
    "start_time": "2021-07-07T17:08:46.054Z"
   },
   {
    "duration": 3,
    "start_time": "2021-07-07T17:08:46.116Z"
   },
   {
    "duration": 26,
    "start_time": "2021-07-07T17:08:46.121Z"
   },
   {
    "duration": 7,
    "start_time": "2021-07-07T17:08:46.149Z"
   },
   {
    "duration": 17,
    "start_time": "2021-07-07T17:08:46.158Z"
   },
   {
    "duration": 14,
    "start_time": "2021-07-07T17:08:46.176Z"
   },
   {
    "duration": 17,
    "start_time": "2021-07-07T17:08:46.193Z"
   },
   {
    "duration": 9,
    "start_time": "2021-07-07T17:08:46.211Z"
   },
   {
    "duration": 21,
    "start_time": "2021-07-07T17:08:46.221Z"
   },
   {
    "duration": 49,
    "start_time": "2021-07-07T17:08:46.244Z"
   },
   {
    "duration": 24,
    "start_time": "2021-07-07T17:08:46.295Z"
   },
   {
    "duration": 22,
    "start_time": "2021-07-07T17:08:46.321Z"
   },
   {
    "duration": 6,
    "start_time": "2021-07-07T17:08:46.345Z"
   },
   {
    "duration": 5,
    "start_time": "2021-07-07T17:08:46.353Z"
   },
   {
    "duration": 13,
    "start_time": "2021-07-07T17:08:46.386Z"
   },
   {
    "duration": 12,
    "start_time": "2021-07-07T17:08:46.402Z"
   },
   {
    "duration": 10,
    "start_time": "2021-07-07T17:08:46.415Z"
   },
   {
    "duration": 7,
    "start_time": "2021-07-07T17:08:46.427Z"
   },
   {
    "duration": 8,
    "start_time": "2021-07-07T17:08:46.435Z"
   },
   {
    "duration": 68,
    "start_time": "2021-07-07T17:08:46.446Z"
   },
   {
    "duration": 13,
    "start_time": "2021-07-07T17:08:46.516Z"
   },
   {
    "duration": 78,
    "start_time": "2021-07-07T17:08:46.530Z"
   },
   {
    "duration": 40,
    "start_time": "2021-07-07T17:09:08.185Z"
   },
   {
    "duration": 16,
    "start_time": "2021-07-07T17:09:19.324Z"
   },
   {
    "duration": 21,
    "start_time": "2021-07-07T17:09:23.290Z"
   },
   {
    "duration": 13,
    "start_time": "2021-07-07T17:09:54.812Z"
   },
   {
    "duration": 13,
    "start_time": "2021-07-07T17:10:02.039Z"
   },
   {
    "duration": 10,
    "start_time": "2021-07-07T17:10:29.632Z"
   },
   {
    "duration": 13,
    "start_time": "2021-07-07T17:10:52.372Z"
   },
   {
    "duration": 13,
    "start_time": "2021-07-07T17:11:17.270Z"
   },
   {
    "duration": 13,
    "start_time": "2021-07-07T17:14:59.284Z"
   },
   {
    "duration": 547,
    "start_time": "2021-07-07T17:18:52.403Z"
   },
   {
    "duration": 163,
    "start_time": "2021-07-07T17:18:52.952Z"
   },
   {
    "duration": 44,
    "start_time": "2021-07-07T17:18:53.117Z"
   },
   {
    "duration": 3,
    "start_time": "2021-07-07T17:18:53.162Z"
   },
   {
    "duration": 26,
    "start_time": "2021-07-07T17:18:53.167Z"
   },
   {
    "duration": 6,
    "start_time": "2021-07-07T17:18:53.195Z"
   },
   {
    "duration": 15,
    "start_time": "2021-07-07T17:18:53.203Z"
   },
   {
    "duration": 5,
    "start_time": "2021-07-07T17:18:53.220Z"
   },
   {
    "duration": 11,
    "start_time": "2021-07-07T17:18:53.228Z"
   },
   {
    "duration": 9,
    "start_time": "2021-07-07T17:18:53.241Z"
   },
   {
    "duration": 41,
    "start_time": "2021-07-07T17:18:53.252Z"
   },
   {
    "duration": 33,
    "start_time": "2021-07-07T17:18:53.295Z"
   },
   {
    "duration": 19,
    "start_time": "2021-07-07T17:18:53.330Z"
   },
   {
    "duration": 49,
    "start_time": "2021-07-07T17:18:53.350Z"
   },
   {
    "duration": 5,
    "start_time": "2021-07-07T17:18:53.401Z"
   },
   {
    "duration": 5,
    "start_time": "2021-07-07T17:18:53.408Z"
   },
   {
    "duration": 11,
    "start_time": "2021-07-07T17:18:53.414Z"
   },
   {
    "duration": 9,
    "start_time": "2021-07-07T17:18:53.427Z"
   },
   {
    "duration": 10,
    "start_time": "2021-07-07T17:18:53.437Z"
   },
   {
    "duration": 39,
    "start_time": "2021-07-07T17:18:53.448Z"
   },
   {
    "duration": 26,
    "start_time": "2021-07-07T17:18:55.799Z"
   },
   {
    "duration": 598,
    "start_time": "2021-07-07T17:20:17.862Z"
   },
   {
    "duration": 161,
    "start_time": "2021-07-07T17:20:18.462Z"
   },
   {
    "duration": 45,
    "start_time": "2021-07-07T17:20:18.626Z"
   },
   {
    "duration": 4,
    "start_time": "2021-07-07T17:20:18.673Z"
   },
   {
    "duration": 38,
    "start_time": "2021-07-07T17:20:26.877Z"
   },
   {
    "duration": 7,
    "start_time": "2021-07-07T17:20:37.405Z"
   },
   {
    "duration": 19,
    "start_time": "2021-07-07T17:20:51.534Z"
   },
   {
    "duration": 5,
    "start_time": "2021-07-07T17:20:57.228Z"
   },
   {
    "duration": 7,
    "start_time": "2021-07-07T17:21:08.235Z"
   },
   {
    "duration": 19,
    "start_time": "2021-07-07T17:21:42.158Z"
   },
   {
    "duration": 14,
    "start_time": "2021-07-07T17:21:50.225Z"
   },
   {
    "duration": 22,
    "start_time": "2021-07-07T17:22:54.104Z"
   },
   {
    "duration": 5,
    "start_time": "2021-07-07T17:22:56.371Z"
   },
   {
    "duration": 14,
    "start_time": "2021-07-07T17:22:58.316Z"
   },
   {
    "duration": 5,
    "start_time": "2021-07-07T17:22:58.493Z"
   },
   {
    "duration": 35,
    "start_time": "2021-07-07T17:22:59.666Z"
   },
   {
    "duration": 6,
    "start_time": "2021-07-07T17:23:02.410Z"
   },
   {
    "duration": 611,
    "start_time": "2021-07-07T17:24:59.664Z"
   },
   {
    "duration": 178,
    "start_time": "2021-07-07T17:25:01.945Z"
   },
   {
    "duration": 47,
    "start_time": "2021-07-07T17:25:02.125Z"
   },
   {
    "duration": 2,
    "start_time": "2021-07-07T17:25:07.903Z"
   },
   {
    "duration": 254,
    "start_time": "2021-07-07T17:25:08.232Z"
   },
   {
    "duration": 182,
    "start_time": "2021-07-07T17:25:08.671Z"
   },
   {
    "duration": 6,
    "start_time": "2021-07-07T17:25:13.104Z"
   },
   {
    "duration": 36,
    "start_time": "2021-07-07T17:25:13.662Z"
   },
   {
    "duration": 7,
    "start_time": "2021-07-07T17:25:14.528Z"
   },
   {
    "duration": 24,
    "start_time": "2021-07-07T17:25:27.982Z"
   },
   {
    "duration": 3,
    "start_time": "2021-07-07T17:25:48.982Z"
   },
   {
    "duration": 165,
    "start_time": "2021-07-07T17:25:48.987Z"
   },
   {
    "duration": 50,
    "start_time": "2021-07-07T17:25:49.154Z"
   },
   {
    "duration": 4,
    "start_time": "2021-07-07T17:25:49.206Z"
   },
   {
    "duration": 26,
    "start_time": "2021-07-07T17:25:49.212Z"
   },
   {
    "duration": 7,
    "start_time": "2021-07-07T17:25:49.240Z"
   },
   {
    "duration": 16,
    "start_time": "2021-07-07T17:25:49.249Z"
   },
   {
    "duration": 22,
    "start_time": "2021-07-07T17:25:49.266Z"
   },
   {
    "duration": 16,
    "start_time": "2021-07-07T17:25:49.291Z"
   },
   {
    "duration": 9,
    "start_time": "2021-07-07T17:25:49.309Z"
   },
   {
    "duration": 7,
    "start_time": "2021-07-07T17:25:49.319Z"
   },
   {
    "duration": 28,
    "start_time": "2021-07-07T17:25:49.328Z"
   },
   {
    "duration": 44,
    "start_time": "2021-07-07T17:25:49.357Z"
   },
   {
    "duration": 22,
    "start_time": "2021-07-07T17:25:49.403Z"
   },
   {
    "duration": 7,
    "start_time": "2021-07-07T17:25:49.427Z"
   },
   {
    "duration": 3,
    "start_time": "2021-07-07T17:25:49.436Z"
   },
   {
    "duration": 44,
    "start_time": "2021-07-07T17:25:49.441Z"
   },
   {
    "duration": 12,
    "start_time": "2021-07-07T17:25:49.488Z"
   },
   {
    "duration": 13,
    "start_time": "2021-07-07T17:25:49.502Z"
   },
   {
    "duration": 10,
    "start_time": "2021-07-07T17:25:49.516Z"
   },
   {
    "duration": 62,
    "start_time": "2021-07-07T17:25:49.527Z"
   },
   {
    "duration": 26,
    "start_time": "2021-07-07T17:26:51.809Z"
   },
   {
    "duration": 26,
    "start_time": "2021-07-07T17:26:55.759Z"
   },
   {
    "duration": 26,
    "start_time": "2021-07-07T17:27:04.501Z"
   },
   {
    "duration": 25,
    "start_time": "2021-07-07T17:28:24.859Z"
   },
   {
    "duration": 21,
    "start_time": "2021-07-07T17:28:55.250Z"
   },
   {
    "duration": 21,
    "start_time": "2021-07-07T17:28:58.885Z"
   },
   {
    "duration": 7,
    "start_time": "2021-07-07T17:45:40.972Z"
   },
   {
    "duration": 13,
    "start_time": "2021-07-07T17:45:42.529Z"
   },
   {
    "duration": 27,
    "start_time": "2021-07-07T17:45:51.026Z"
   },
   {
    "duration": 518,
    "start_time": "2021-07-07T17:46:15.532Z"
   },
   {
    "duration": 235,
    "start_time": "2021-07-07T17:46:16.053Z"
   },
   {
    "duration": 80,
    "start_time": "2021-07-07T17:46:16.292Z"
   },
   {
    "duration": 5,
    "start_time": "2021-07-07T17:46:16.373Z"
   },
   {
    "duration": 26,
    "start_time": "2021-07-07T17:46:16.380Z"
   },
   {
    "duration": 7,
    "start_time": "2021-07-07T17:46:16.408Z"
   },
   {
    "duration": 16,
    "start_time": "2021-07-07T17:46:16.418Z"
   },
   {
    "duration": 5,
    "start_time": "2021-07-07T17:46:16.436Z"
   },
   {
    "duration": 13,
    "start_time": "2021-07-07T17:46:16.442Z"
   },
   {
    "duration": 35,
    "start_time": "2021-07-07T17:46:16.456Z"
   },
   {
    "duration": 8,
    "start_time": "2021-07-07T17:46:16.493Z"
   },
   {
    "duration": 28,
    "start_time": "2021-07-07T17:46:16.502Z"
   },
   {
    "duration": 17,
    "start_time": "2021-07-07T17:46:16.532Z"
   },
   {
    "duration": 44,
    "start_time": "2021-07-07T17:46:16.551Z"
   },
   {
    "duration": 6,
    "start_time": "2021-07-07T17:46:16.597Z"
   },
   {
    "duration": 4,
    "start_time": "2021-07-07T17:46:16.605Z"
   },
   {
    "duration": 9,
    "start_time": "2021-07-07T17:46:16.610Z"
   },
   {
    "duration": 9,
    "start_time": "2021-07-07T17:46:16.621Z"
   },
   {
    "duration": 10,
    "start_time": "2021-07-07T17:46:16.632Z"
   },
   {
    "duration": 43,
    "start_time": "2021-07-07T17:46:16.644Z"
   },
   {
    "duration": 26,
    "start_time": "2021-07-07T17:46:16.689Z"
   },
   {
    "duration": 19,
    "start_time": "2021-07-07T17:46:16.718Z"
   },
   {
    "duration": 8,
    "start_time": "2021-07-07T17:46:16.738Z"
   },
   {
    "duration": 43,
    "start_time": "2021-07-07T17:46:16.747Z"
   },
   {
    "duration": 19,
    "start_time": "2021-07-07T17:46:16.791Z"
   },
   {
    "duration": 9,
    "start_time": "2021-07-07T17:46:16.812Z"
   },
   {
    "duration": 60,
    "start_time": "2021-07-07T17:46:16.822Z"
   },
   {
    "duration": -8,
    "start_time": "2021-07-07T17:46:16.892Z"
   },
   {
    "duration": 12,
    "start_time": "2021-07-07T17:48:47.707Z"
   },
   {
    "duration": 553,
    "start_time": "2021-07-07T18:10:09.350Z"
   },
   {
    "duration": 230,
    "start_time": "2021-07-07T18:10:09.905Z"
   },
   {
    "duration": 97,
    "start_time": "2021-07-07T18:10:10.137Z"
   },
   {
    "duration": 5,
    "start_time": "2021-07-07T18:10:10.236Z"
   },
   {
    "duration": 29,
    "start_time": "2021-07-07T18:10:10.242Z"
   },
   {
    "duration": 7,
    "start_time": "2021-07-07T18:10:10.272Z"
   },
   {
    "duration": 15,
    "start_time": "2021-07-07T18:10:10.281Z"
   },
   {
    "duration": 4,
    "start_time": "2021-07-07T18:10:10.299Z"
   },
   {
    "duration": 14,
    "start_time": "2021-07-07T18:10:10.305Z"
   },
   {
    "duration": 8,
    "start_time": "2021-07-07T18:10:10.321Z"
   },
   {
    "duration": 8,
    "start_time": "2021-07-07T18:10:10.331Z"
   },
   {
    "duration": 56,
    "start_time": "2021-07-07T18:10:10.341Z"
   },
   {
    "duration": 19,
    "start_time": "2021-07-07T18:10:10.399Z"
   },
   {
    "duration": 23,
    "start_time": "2021-07-07T18:10:10.419Z"
   },
   {
    "duration": 6,
    "start_time": "2021-07-07T18:10:10.444Z"
   },
   {
    "duration": 9,
    "start_time": "2021-07-07T18:10:10.451Z"
   },
   {
    "duration": 30,
    "start_time": "2021-07-07T18:10:10.462Z"
   },
   {
    "duration": 9,
    "start_time": "2021-07-07T18:10:10.494Z"
   },
   {
    "duration": 14,
    "start_time": "2021-07-07T18:10:10.505Z"
   },
   {
    "duration": 7,
    "start_time": "2021-07-07T18:10:10.521Z"
   },
   {
    "duration": 26,
    "start_time": "2021-07-07T18:10:10.530Z"
   },
   {
    "duration": 44,
    "start_time": "2021-07-07T18:10:10.558Z"
   },
   {
    "duration": 7,
    "start_time": "2021-07-07T18:10:10.605Z"
   },
   {
    "duration": 11,
    "start_time": "2021-07-07T18:10:10.614Z"
   },
   {
    "duration": 19,
    "start_time": "2021-07-07T18:10:10.626Z"
   },
   {
    "duration": 44,
    "start_time": "2021-07-07T18:10:10.646Z"
   },
   {
    "duration": 516,
    "start_time": "2021-07-07T18:14:00.826Z"
   },
   {
    "duration": 230,
    "start_time": "2021-07-07T18:14:01.344Z"
   },
   {
    "duration": 105,
    "start_time": "2021-07-07T18:14:01.576Z"
   },
   {
    "duration": 5,
    "start_time": "2021-07-07T18:14:01.683Z"
   },
   {
    "duration": 46,
    "start_time": "2021-07-07T18:14:01.690Z"
   },
   {
    "duration": 7,
    "start_time": "2021-07-07T18:14:01.738Z"
   },
   {
    "duration": 20,
    "start_time": "2021-07-07T18:14:01.747Z"
   },
   {
    "duration": 16,
    "start_time": "2021-07-07T18:14:01.769Z"
   },
   {
    "duration": 14,
    "start_time": "2021-07-07T18:14:01.787Z"
   },
   {
    "duration": 15,
    "start_time": "2021-07-07T18:14:01.803Z"
   },
   {
    "duration": 12,
    "start_time": "2021-07-07T18:14:01.820Z"
   },
   {
    "duration": 35,
    "start_time": "2021-07-07T18:14:01.833Z"
   },
   {
    "duration": 31,
    "start_time": "2021-07-07T18:14:01.869Z"
   },
   {
    "duration": 37,
    "start_time": "2021-07-07T18:14:01.902Z"
   },
   {
    "duration": 8,
    "start_time": "2021-07-07T18:14:01.942Z"
   },
   {
    "duration": 16,
    "start_time": "2021-07-07T18:14:01.952Z"
   },
   {
    "duration": 13,
    "start_time": "2021-07-07T18:14:01.970Z"
   },
   {
    "duration": 32,
    "start_time": "2021-07-07T18:14:01.985Z"
   },
   {
    "duration": 11,
    "start_time": "2021-07-07T18:14:02.019Z"
   },
   {
    "duration": 22,
    "start_time": "2021-07-07T18:14:02.031Z"
   },
   {
    "duration": 27,
    "start_time": "2021-07-07T18:14:02.055Z"
   },
   {
    "duration": 18,
    "start_time": "2021-07-07T18:14:02.084Z"
   },
   {
    "duration": 18,
    "start_time": "2021-07-07T18:14:02.106Z"
   },
   {
    "duration": 11,
    "start_time": "2021-07-07T18:14:02.126Z"
   },
   {
    "duration": 21,
    "start_time": "2021-07-07T18:14:02.138Z"
   },
   {
    "duration": 32,
    "start_time": "2021-07-07T18:14:02.161Z"
   },
   {
    "duration": 28,
    "start_time": "2021-07-07T18:14:44.295Z"
   },
   {
    "duration": 6,
    "start_time": "2021-07-07T18:15:05.834Z"
   },
   {
    "duration": 511,
    "start_time": "2021-07-07T18:15:41.541Z"
   },
   {
    "duration": 183,
    "start_time": "2021-07-07T18:15:42.054Z"
   },
   {
    "duration": 50,
    "start_time": "2021-07-07T18:15:42.239Z"
   },
   {
    "duration": 5,
    "start_time": "2021-07-07T18:15:42.291Z"
   },
   {
    "duration": 48,
    "start_time": "2021-07-07T18:15:42.297Z"
   },
   {
    "duration": 8,
    "start_time": "2021-07-07T18:15:42.346Z"
   },
   {
    "duration": 17,
    "start_time": "2021-07-07T18:15:42.356Z"
   },
   {
    "duration": 15,
    "start_time": "2021-07-07T18:15:42.375Z"
   },
   {
    "duration": 12,
    "start_time": "2021-07-07T18:15:42.392Z"
   },
   {
    "duration": 7,
    "start_time": "2021-07-07T18:15:42.406Z"
   },
   {
    "duration": 7,
    "start_time": "2021-07-07T18:15:42.415Z"
   },
   {
    "duration": 29,
    "start_time": "2021-07-07T18:15:42.423Z"
   },
   {
    "duration": 43,
    "start_time": "2021-07-07T18:15:42.453Z"
   },
   {
    "duration": 18,
    "start_time": "2021-07-07T18:15:42.497Z"
   },
   {
    "duration": 6,
    "start_time": "2021-07-07T18:15:42.516Z"
   },
   {
    "duration": 3,
    "start_time": "2021-07-07T18:15:42.523Z"
   },
   {
    "duration": 18,
    "start_time": "2021-07-07T18:15:42.528Z"
   },
   {
    "duration": 10,
    "start_time": "2021-07-07T18:15:42.547Z"
   },
   {
    "duration": 36,
    "start_time": "2021-07-07T18:15:42.559Z"
   },
   {
    "duration": 8,
    "start_time": "2021-07-07T18:15:42.597Z"
   },
   {
    "duration": 28,
    "start_time": "2021-07-07T18:15:42.606Z"
   },
   {
    "duration": 52,
    "start_time": "2021-07-07T18:15:42.635Z"
   },
   {
    "duration": 7,
    "start_time": "2021-07-07T18:15:42.690Z"
   },
   {
    "duration": 10,
    "start_time": "2021-07-07T18:15:42.699Z"
   },
   {
    "duration": 19,
    "start_time": "2021-07-07T18:15:42.711Z"
   },
   {
    "duration": 9,
    "start_time": "2021-07-07T18:15:42.732Z"
   },
   {
    "duration": 5,
    "start_time": "2021-07-07T18:15:42.743Z"
   },
   {
    "duration": 1450,
    "start_time": "2021-07-07T18:15:51.984Z"
   },
   {
    "duration": 161,
    "start_time": "2021-07-07T18:15:53.435Z"
   },
   {
    "duration": 124,
    "start_time": "2021-07-07T18:15:53.598Z"
   },
   {
    "duration": 5,
    "start_time": "2021-07-07T18:15:53.724Z"
   },
   {
    "duration": 34,
    "start_time": "2021-07-07T18:15:53.730Z"
   },
   {
    "duration": 7,
    "start_time": "2021-07-07T18:15:53.765Z"
   },
   {
    "duration": 15,
    "start_time": "2021-07-07T18:15:53.773Z"
   },
   {
    "duration": 5,
    "start_time": "2021-07-07T18:15:53.791Z"
   },
   {
    "duration": 19,
    "start_time": "2021-07-07T18:15:53.798Z"
   },
   {
    "duration": 9,
    "start_time": "2021-07-07T18:15:53.818Z"
   },
   {
    "duration": 19,
    "start_time": "2021-07-07T18:15:53.828Z"
   },
   {
    "duration": 27,
    "start_time": "2021-07-07T18:15:53.848Z"
   },
   {
    "duration": 16,
    "start_time": "2021-07-07T18:15:53.884Z"
   },
   {
    "duration": 29,
    "start_time": "2021-07-07T18:15:53.901Z"
   },
   {
    "duration": 5,
    "start_time": "2021-07-07T18:15:53.932Z"
   },
   {
    "duration": 15,
    "start_time": "2021-07-07T18:15:53.939Z"
   },
   {
    "duration": 13,
    "start_time": "2021-07-07T18:15:53.956Z"
   },
   {
    "duration": 20,
    "start_time": "2021-07-07T18:15:53.971Z"
   },
   {
    "duration": 14,
    "start_time": "2021-07-07T18:15:53.992Z"
   },
   {
    "duration": 9,
    "start_time": "2021-07-07T18:15:54.009Z"
   },
   {
    "duration": 28,
    "start_time": "2021-07-07T18:15:54.020Z"
   },
   {
    "duration": 50,
    "start_time": "2021-07-07T18:15:54.051Z"
   },
   {
    "duration": 8,
    "start_time": "2021-07-07T18:15:54.105Z"
   },
   {
    "duration": 11,
    "start_time": "2021-07-07T18:15:54.115Z"
   },
   {
    "duration": 20,
    "start_time": "2021-07-07T18:15:54.128Z"
   },
   {
    "duration": 13,
    "start_time": "2021-07-07T18:15:54.184Z"
   },
   {
    "duration": 7,
    "start_time": "2021-07-07T18:15:54.199Z"
   },
   {
    "duration": 7,
    "start_time": "2021-07-07T18:17:08.042Z"
   },
   {
    "duration": 8,
    "start_time": "2021-07-07T18:17:21.008Z"
   },
   {
    "duration": 7,
    "start_time": "2021-07-07T18:17:29.003Z"
   },
   {
    "duration": 8,
    "start_time": "2021-07-07T18:17:32.492Z"
   },
   {
    "duration": 9,
    "start_time": "2021-07-07T18:17:41.758Z"
   },
   {
    "duration": 255,
    "start_time": "2021-07-07T18:20:20.897Z"
   },
   {
    "duration": 173,
    "start_time": "2021-07-07T18:20:26.636Z"
   },
   {
    "duration": 7,
    "start_time": "2021-07-07T18:21:47.164Z"
   },
   {
    "duration": 254,
    "start_time": "2021-07-07T18:23:08.703Z"
   },
   {
    "duration": 21,
    "start_time": "2021-07-07T18:23:22.506Z"
   },
   {
    "duration": 315,
    "start_time": "2021-07-07T18:25:54.801Z"
   },
   {
    "duration": 34,
    "start_time": "2021-07-07T18:26:51.817Z"
   },
   {
    "duration": 327,
    "start_time": "2021-07-07T18:26:56.147Z"
   },
   {
    "duration": 342,
    "start_time": "2021-07-07T18:27:15.887Z"
   },
   {
    "duration": 302,
    "start_time": "2021-07-07T18:28:18.569Z"
   },
   {
    "duration": 226,
    "start_time": "2021-07-07T18:29:20.879Z"
   },
   {
    "duration": 207,
    "start_time": "2021-07-07T18:29:58.114Z"
   },
   {
    "duration": 140,
    "start_time": "2021-07-07T18:32:04.372Z"
   },
   {
    "duration": 158,
    "start_time": "2021-07-07T18:32:32.508Z"
   },
   {
    "duration": 145,
    "start_time": "2021-07-07T18:32:41.365Z"
   },
   {
    "duration": 132,
    "start_time": "2021-07-07T18:32:45.199Z"
   },
   {
    "duration": 11,
    "start_time": "2021-07-07T18:35:24.679Z"
   },
   {
    "duration": 268,
    "start_time": "2021-07-07T18:36:16.145Z"
   },
   {
    "duration": 227,
    "start_time": "2021-07-07T18:37:04.918Z"
   },
   {
    "duration": 3,
    "start_time": "2021-07-07T18:37:33.012Z"
   },
   {
    "duration": 671,
    "start_time": "2021-07-07T18:37:38.295Z"
   },
   {
    "duration": 54,
    "start_time": "2021-07-07T18:37:53.406Z"
   },
   {
    "duration": 631,
    "start_time": "2021-07-07T18:37:56.463Z"
   },
   {
    "duration": 19,
    "start_time": "2021-07-07T18:39:40.535Z"
   },
   {
    "duration": 20,
    "start_time": "2021-07-07T18:40:12.236Z"
   },
   {
    "duration": 633,
    "start_time": "2021-07-07T18:42:00.398Z"
   },
   {
    "duration": 218,
    "start_time": "2021-07-07T18:42:01.033Z"
   },
   {
    "duration": 49,
    "start_time": "2021-07-07T18:42:01.253Z"
   },
   {
    "duration": 5,
    "start_time": "2021-07-07T18:42:01.303Z"
   },
   {
    "duration": 27,
    "start_time": "2021-07-07T18:42:01.310Z"
   },
   {
    "duration": 8,
    "start_time": "2021-07-07T18:42:01.339Z"
   },
   {
    "duration": 20,
    "start_time": "2021-07-07T18:42:01.348Z"
   },
   {
    "duration": 6,
    "start_time": "2021-07-07T18:42:01.386Z"
   },
   {
    "duration": 16,
    "start_time": "2021-07-07T18:42:01.394Z"
   },
   {
    "duration": 9,
    "start_time": "2021-07-07T18:42:01.411Z"
   },
   {
    "duration": 11,
    "start_time": "2021-07-07T18:42:01.421Z"
   },
   {
    "duration": 31,
    "start_time": "2021-07-07T18:42:01.434Z"
   },
   {
    "duration": 18,
    "start_time": "2021-07-07T18:42:01.485Z"
   },
   {
    "duration": 23,
    "start_time": "2021-07-07T18:42:01.505Z"
   },
   {
    "duration": 6,
    "start_time": "2021-07-07T18:42:01.530Z"
   },
   {
    "duration": 10,
    "start_time": "2021-07-07T18:42:01.538Z"
   },
   {
    "duration": 13,
    "start_time": "2021-07-07T18:42:01.550Z"
   },
   {
    "duration": 24,
    "start_time": "2021-07-07T18:42:01.564Z"
   },
   {
    "duration": 20,
    "start_time": "2021-07-07T18:42:01.590Z"
   },
   {
    "duration": 8,
    "start_time": "2021-07-07T18:42:01.611Z"
   },
   {
    "duration": 31,
    "start_time": "2021-07-07T18:42:01.620Z"
   },
   {
    "duration": 39,
    "start_time": "2021-07-07T18:42:01.653Z"
   },
   {
    "duration": 8,
    "start_time": "2021-07-07T18:42:01.696Z"
   },
   {
    "duration": 13,
    "start_time": "2021-07-07T18:42:01.705Z"
   },
   {
    "duration": 20,
    "start_time": "2021-07-07T18:42:01.720Z"
   },
   {
    "duration": 12,
    "start_time": "2021-07-07T18:42:01.741Z"
   },
   {
    "duration": 35,
    "start_time": "2021-07-07T18:42:01.755Z"
   },
   {
    "duration": 14,
    "start_time": "2021-07-07T18:42:01.792Z"
   },
   {
    "duration": 188,
    "start_time": "2021-07-07T18:42:01.808Z"
   },
   {
    "duration": 19,
    "start_time": "2021-07-07T18:42:01.998Z"
   },
   {
    "duration": 175,
    "start_time": "2021-07-07T18:42:02.019Z"
   },
   {
    "duration": 134,
    "start_time": "2021-07-07T18:42:02.196Z"
   },
   {
    "duration": 10,
    "start_time": "2021-07-07T18:42:02.331Z"
   },
   {
    "duration": 19,
    "start_time": "2021-07-07T18:42:02.343Z"
   },
   {
    "duration": 628,
    "start_time": "2021-07-07T18:46:30.701Z"
   },
   {
    "duration": 183,
    "start_time": "2021-07-07T18:46:31.331Z"
   },
   {
    "duration": 48,
    "start_time": "2021-07-07T18:46:31.516Z"
   },
   {
    "duration": 5,
    "start_time": "2021-07-07T18:46:31.566Z"
   },
   {
    "duration": 28,
    "start_time": "2021-07-07T18:46:31.572Z"
   },
   {
    "duration": 8,
    "start_time": "2021-07-07T18:46:31.602Z"
   },
   {
    "duration": 19,
    "start_time": "2021-07-07T18:46:31.611Z"
   },
   {
    "duration": 6,
    "start_time": "2021-07-07T18:46:31.633Z"
   },
   {
    "duration": 17,
    "start_time": "2021-07-07T18:46:31.642Z"
   },
   {
    "duration": 10,
    "start_time": "2021-07-07T18:46:31.684Z"
   },
   {
    "duration": 9,
    "start_time": "2021-07-07T18:46:31.695Z"
   },
   {
    "duration": 28,
    "start_time": "2021-07-07T18:46:31.705Z"
   },
   {
    "duration": 18,
    "start_time": "2021-07-07T18:46:31.735Z"
   },
   {
    "duration": 48,
    "start_time": "2021-07-07T18:46:31.755Z"
   },
   {
    "duration": 6,
    "start_time": "2021-07-07T18:46:31.804Z"
   },
   {
    "duration": 4,
    "start_time": "2021-07-07T18:46:31.812Z"
   },
   {
    "duration": 9,
    "start_time": "2021-07-07T18:46:31.817Z"
   },
   {
    "duration": 10,
    "start_time": "2021-07-07T18:46:31.827Z"
   },
   {
    "duration": 12,
    "start_time": "2021-07-07T18:46:31.838Z"
   },
   {
    "duration": 39,
    "start_time": "2021-07-07T18:46:31.851Z"
   },
   {
    "duration": 24,
    "start_time": "2021-07-07T18:46:31.892Z"
   },
   {
    "duration": 15,
    "start_time": "2021-07-07T18:46:31.918Z"
   },
   {
    "duration": 7,
    "start_time": "2021-07-07T18:46:31.936Z"
   },
   {
    "duration": 8,
    "start_time": "2021-07-07T18:46:31.944Z"
   },
   {
    "duration": 19,
    "start_time": "2021-07-07T18:46:31.984Z"
   },
   {
    "duration": 10,
    "start_time": "2021-07-07T18:46:32.004Z"
   },
   {
    "duration": 5,
    "start_time": "2021-07-07T18:46:32.016Z"
   },
   {
    "duration": 9,
    "start_time": "2021-07-07T18:46:32.023Z"
   },
   {
    "duration": 199,
    "start_time": "2021-07-07T18:46:32.033Z"
   },
   {
    "duration": 19,
    "start_time": "2021-07-07T18:46:32.234Z"
   },
   {
    "duration": 159,
    "start_time": "2021-07-07T18:46:32.255Z"
   },
   {
    "duration": 134,
    "start_time": "2021-07-07T18:46:32.416Z"
   },
   {
    "duration": 10,
    "start_time": "2021-07-07T18:46:32.552Z"
   },
   {
    "duration": 34,
    "start_time": "2021-07-07T18:46:32.563Z"
   },
   {
    "duration": 1039,
    "start_time": "2021-07-08T08:41:09.419Z"
   },
   {
    "duration": 333,
    "start_time": "2021-07-08T08:41:10.459Z"
   },
   {
    "duration": 173,
    "start_time": "2021-07-08T08:41:10.794Z"
   },
   {
    "duration": 5,
    "start_time": "2021-07-08T08:41:10.968Z"
   },
   {
    "duration": 25,
    "start_time": "2021-07-08T08:41:10.975Z"
   },
   {
    "duration": 9,
    "start_time": "2021-07-08T08:41:11.002Z"
   },
   {
    "duration": 18,
    "start_time": "2021-07-08T08:41:11.013Z"
   },
   {
    "duration": 6,
    "start_time": "2021-07-08T08:41:11.033Z"
   },
   {
    "duration": 44,
    "start_time": "2021-07-08T08:41:11.042Z"
   },
   {
    "duration": 10,
    "start_time": "2021-07-08T08:41:11.088Z"
   },
   {
    "duration": 9,
    "start_time": "2021-07-08T08:41:11.100Z"
   },
   {
    "duration": 27,
    "start_time": "2021-07-08T08:41:11.111Z"
   },
   {
    "duration": 46,
    "start_time": "2021-07-08T08:41:11.140Z"
   },
   {
    "duration": 17,
    "start_time": "2021-07-08T08:41:11.187Z"
   },
   {
    "duration": 6,
    "start_time": "2021-07-08T08:41:11.206Z"
   },
   {
    "duration": 5,
    "start_time": "2021-07-08T08:41:11.213Z"
   },
   {
    "duration": 10,
    "start_time": "2021-07-08T08:41:11.219Z"
   },
   {
    "duration": 9,
    "start_time": "2021-07-08T08:41:11.230Z"
   },
   {
    "duration": 45,
    "start_time": "2021-07-08T08:41:11.241Z"
   },
   {
    "duration": 7,
    "start_time": "2021-07-08T08:41:11.287Z"
   },
   {
    "duration": 24,
    "start_time": "2021-07-08T08:41:11.296Z"
   },
   {
    "duration": 16,
    "start_time": "2021-07-08T08:41:11.322Z"
   },
   {
    "duration": 7,
    "start_time": "2021-07-08T08:41:11.341Z"
   },
   {
    "duration": 41,
    "start_time": "2021-07-08T08:41:11.349Z"
   },
   {
    "duration": 17,
    "start_time": "2021-07-08T08:41:11.391Z"
   },
   {
    "duration": 9,
    "start_time": "2021-07-08T08:41:11.410Z"
   },
   {
    "duration": 5,
    "start_time": "2021-07-08T08:41:11.421Z"
   },
   {
    "duration": 6,
    "start_time": "2021-07-08T08:41:11.428Z"
   },
   {
    "duration": 198,
    "start_time": "2021-07-08T08:41:11.435Z"
   },
   {
    "duration": 18,
    "start_time": "2021-07-08T08:41:11.635Z"
   },
   {
    "duration": 155,
    "start_time": "2021-07-08T08:41:11.655Z"
   },
   {
    "duration": 138,
    "start_time": "2021-07-08T08:41:11.811Z"
   },
   {
    "duration": 10,
    "start_time": "2021-07-08T08:41:11.950Z"
   },
   {
    "duration": 29,
    "start_time": "2021-07-08T08:41:11.961Z"
   },
   {
    "duration": 171,
    "start_time": "2021-07-08T08:47:44.522Z"
   },
   {
    "duration": 124,
    "start_time": "2021-07-08T08:47:46.872Z"
   },
   {
    "duration": 191,
    "start_time": "2021-07-08T08:47:58.148Z"
   },
   {
    "duration": 191,
    "start_time": "2021-07-08T08:48:07.412Z"
   },
   {
    "duration": 261,
    "start_time": "2021-07-08T08:48:10.385Z"
   },
   {
    "duration": 255,
    "start_time": "2021-07-08T08:48:14.494Z"
   },
   {
    "duration": 219,
    "start_time": "2021-07-08T08:48:22.752Z"
   },
   {
    "duration": 173,
    "start_time": "2021-07-08T08:49:06.395Z"
   },
   {
    "duration": 180,
    "start_time": "2021-07-08T08:49:21.011Z"
   },
   {
    "duration": 6,
    "start_time": "2021-07-08T08:50:31.697Z"
   },
   {
    "duration": 10,
    "start_time": "2021-07-08T08:50:47.394Z"
   },
   {
    "duration": 11,
    "start_time": "2021-07-08T08:53:49.332Z"
   },
   {
    "duration": 171,
    "start_time": "2021-07-08T08:54:28.408Z"
   },
   {
    "duration": 636,
    "start_time": "2021-07-08T09:02:48.385Z"
   },
   {
    "duration": 227,
    "start_time": "2021-07-08T09:02:49.023Z"
   },
   {
    "duration": 104,
    "start_time": "2021-07-08T09:02:49.252Z"
   },
   {
    "duration": 5,
    "start_time": "2021-07-08T09:02:49.358Z"
   },
   {
    "duration": 27,
    "start_time": "2021-07-08T09:02:49.365Z"
   },
   {
    "duration": 8,
    "start_time": "2021-07-08T09:02:49.394Z"
   },
   {
    "duration": 18,
    "start_time": "2021-07-08T09:02:49.404Z"
   },
   {
    "duration": 6,
    "start_time": "2021-07-08T09:02:49.424Z"
   },
   {
    "duration": 11,
    "start_time": "2021-07-08T09:02:49.433Z"
   },
   {
    "duration": 13,
    "start_time": "2021-07-08T09:02:49.485Z"
   },
   {
    "duration": 9,
    "start_time": "2021-07-08T09:02:49.500Z"
   },
   {
    "duration": 38,
    "start_time": "2021-07-08T09:02:49.511Z"
   },
   {
    "duration": 42,
    "start_time": "2021-07-08T09:02:49.551Z"
   },
   {
    "duration": 21,
    "start_time": "2021-07-08T09:02:49.594Z"
   },
   {
    "duration": 6,
    "start_time": "2021-07-08T09:02:49.616Z"
   },
   {
    "duration": 3,
    "start_time": "2021-07-08T09:02:49.623Z"
   },
   {
    "duration": 9,
    "start_time": "2021-07-08T09:02:49.628Z"
   },
   {
    "duration": 52,
    "start_time": "2021-07-08T09:02:49.638Z"
   },
   {
    "duration": 11,
    "start_time": "2021-07-08T09:02:49.692Z"
   },
   {
    "duration": 8,
    "start_time": "2021-07-08T09:02:49.704Z"
   },
   {
    "duration": 27,
    "start_time": "2021-07-08T09:02:49.713Z"
   },
   {
    "duration": 59,
    "start_time": "2021-07-08T09:02:49.741Z"
   },
   {
    "duration": 8,
    "start_time": "2021-07-08T09:02:49.803Z"
   },
   {
    "duration": 14,
    "start_time": "2021-07-08T09:02:49.813Z"
   },
   {
    "duration": 20,
    "start_time": "2021-07-08T09:02:49.829Z"
   },
   {
    "duration": 44,
    "start_time": "2021-07-08T09:02:49.851Z"
   },
   {
    "duration": 14,
    "start_time": "2021-07-08T09:02:49.896Z"
   },
   {
    "duration": 221,
    "start_time": "2021-07-08T09:02:49.912Z"
   },
   {
    "duration": 6,
    "start_time": "2021-07-08T09:02:50.134Z"
   },
   {
    "duration": 206,
    "start_time": "2021-07-08T09:02:50.142Z"
   },
   {
    "duration": 19,
    "start_time": "2021-07-08T09:02:50.350Z"
   },
   {
    "duration": 21,
    "start_time": "2021-07-08T09:02:50.370Z"
   },
   {
    "duration": 20,
    "start_time": "2021-07-08T09:02:50.393Z"
   },
   {
    "duration": 5,
    "start_time": "2021-07-08T09:02:50.414Z"
   },
   {
    "duration": 5,
    "start_time": "2021-07-08T09:03:34.173Z"
   },
   {
    "duration": 6,
    "start_time": "2021-07-08T09:04:49.062Z"
   },
   {
    "duration": 9,
    "start_time": "2021-07-08T09:04:50.118Z"
   },
   {
    "duration": 14,
    "start_time": "2021-07-08T09:04:58.512Z"
   },
   {
    "duration": 9,
    "start_time": "2021-07-08T09:05:10.988Z"
   },
   {
    "duration": 11,
    "start_time": "2021-07-08T09:05:11.743Z"
   },
   {
    "duration": 7,
    "start_time": "2021-07-08T09:05:25.677Z"
   },
   {
    "duration": 13,
    "start_time": "2021-07-08T09:05:47.189Z"
   },
   {
    "duration": 13,
    "start_time": "2021-07-08T09:05:54.755Z"
   },
   {
    "duration": 4,
    "start_time": "2021-07-08T09:06:29.189Z"
   },
   {
    "duration": 244,
    "start_time": "2021-07-08T09:06:29.195Z"
   },
   {
    "duration": 91,
    "start_time": "2021-07-08T09:06:29.441Z"
   },
   {
    "duration": 4,
    "start_time": "2021-07-08T09:06:29.534Z"
   },
   {
    "duration": 28,
    "start_time": "2021-07-08T09:06:29.540Z"
   },
   {
    "duration": 6,
    "start_time": "2021-07-08T09:06:29.570Z"
   },
   {
    "duration": 18,
    "start_time": "2021-07-08T09:06:29.578Z"
   },
   {
    "duration": 5,
    "start_time": "2021-07-08T09:06:29.597Z"
   },
   {
    "duration": 13,
    "start_time": "2021-07-08T09:06:29.605Z"
   },
   {
    "duration": 8,
    "start_time": "2021-07-08T09:06:29.620Z"
   },
   {
    "duration": 7,
    "start_time": "2021-07-08T09:06:29.630Z"
   },
   {
    "duration": 63,
    "start_time": "2021-07-08T09:06:29.639Z"
   },
   {
    "duration": 17,
    "start_time": "2021-07-08T09:06:29.704Z"
   },
   {
    "duration": 20,
    "start_time": "2021-07-08T09:06:29.723Z"
   },
   {
    "duration": 6,
    "start_time": "2021-07-08T09:06:29.745Z"
   },
   {
    "duration": 3,
    "start_time": "2021-07-08T09:06:29.752Z"
   },
   {
    "duration": 7,
    "start_time": "2021-07-08T09:06:29.785Z"
   },
   {
    "duration": 11,
    "start_time": "2021-07-08T09:06:29.794Z"
   },
   {
    "duration": 15,
    "start_time": "2021-07-08T09:06:29.807Z"
   },
   {
    "duration": 8,
    "start_time": "2021-07-08T09:06:29.823Z"
   },
   {
    "duration": 70,
    "start_time": "2021-07-08T09:06:29.832Z"
   },
   {
    "duration": 17,
    "start_time": "2021-07-08T09:06:29.903Z"
   },
   {
    "duration": 9,
    "start_time": "2021-07-08T09:06:29.921Z"
   },
   {
    "duration": 9,
    "start_time": "2021-07-08T09:06:29.932Z"
   },
   {
    "duration": 57,
    "start_time": "2021-07-08T09:06:29.942Z"
   },
   {
    "duration": 11,
    "start_time": "2021-07-08T09:06:30.001Z"
   },
   {
    "duration": 19,
    "start_time": "2021-07-08T09:06:30.016Z"
   },
   {
    "duration": 217,
    "start_time": "2021-07-08T09:06:30.037Z"
   },
   {
    "duration": 6,
    "start_time": "2021-07-08T09:06:30.255Z"
   },
   {
    "duration": 205,
    "start_time": "2021-07-08T09:06:30.263Z"
   },
   {
    "duration": 27,
    "start_time": "2021-07-08T09:06:30.470Z"
   },
   {
    "duration": 11,
    "start_time": "2021-07-08T09:06:30.500Z"
   },
   {
    "duration": 31,
    "start_time": "2021-07-08T09:06:30.513Z"
   },
   {
    "duration": 18,
    "start_time": "2021-07-08T09:06:30.546Z"
   },
   {
    "duration": 11,
    "start_time": "2021-07-08T09:06:30.566Z"
   },
   {
    "duration": 19,
    "start_time": "2021-07-08T09:06:30.579Z"
   },
   {
    "duration": 20,
    "start_time": "2021-07-08T09:06:49.466Z"
   },
   {
    "duration": 9,
    "start_time": "2021-07-08T09:06:51.994Z"
   },
   {
    "duration": 20,
    "start_time": "2021-07-08T09:06:52.273Z"
   },
   {
    "duration": 246,
    "start_time": "2021-07-08T09:10:21.272Z"
   },
   {
    "duration": 84,
    "start_time": "2021-07-08T09:10:21.436Z"
   },
   {
    "duration": 7,
    "start_time": "2021-07-08T09:10:37.608Z"
   },
   {
    "duration": 189,
    "start_time": "2021-07-08T09:10:38.573Z"
   },
   {
    "duration": 185,
    "start_time": "2021-07-08T09:10:53.181Z"
   },
   {
    "duration": 11,
    "start_time": "2021-07-08T09:10:59.549Z"
   },
   {
    "duration": 42,
    "start_time": "2021-07-08T09:10:59.709Z"
   },
   {
    "duration": 12,
    "start_time": "2021-07-08T09:11:02.857Z"
   },
   {
    "duration": 28,
    "start_time": "2021-07-08T09:11:10.062Z"
   },
   {
    "duration": 249,
    "start_time": "2021-07-08T09:11:37.388Z"
   },
   {
    "duration": 232,
    "start_time": "2021-07-08T09:11:49.485Z"
   },
   {
    "duration": 453,
    "start_time": "2021-07-08T09:12:01.546Z"
   },
   {
    "duration": 440,
    "start_time": "2021-07-08T09:12:12.347Z"
   },
   {
    "duration": 213,
    "start_time": "2021-07-08T09:13:32.196Z"
   },
   {
    "duration": 172,
    "start_time": "2021-07-08T09:14:07.400Z"
   },
   {
    "duration": 185,
    "start_time": "2021-07-08T09:14:14.905Z"
   },
   {
    "duration": 209,
    "start_time": "2021-07-08T09:14:40.109Z"
   },
   {
    "duration": 201,
    "start_time": "2021-07-08T09:14:54.506Z"
   },
   {
    "duration": 622,
    "start_time": "2021-07-08T09:18:14.497Z"
   },
   {
    "duration": 220,
    "start_time": "2021-07-08T09:18:15.121Z"
   },
   {
    "duration": 79,
    "start_time": "2021-07-08T09:18:15.343Z"
   },
   {
    "duration": 4,
    "start_time": "2021-07-08T09:18:15.425Z"
   },
   {
    "duration": 24,
    "start_time": "2021-07-08T09:18:15.431Z"
   },
   {
    "duration": 8,
    "start_time": "2021-07-08T09:18:15.457Z"
   },
   {
    "duration": 16,
    "start_time": "2021-07-08T09:18:15.466Z"
   },
   {
    "duration": 5,
    "start_time": "2021-07-08T09:18:15.484Z"
   },
   {
    "duration": 10,
    "start_time": "2021-07-08T09:18:15.493Z"
   },
   {
    "duration": 8,
    "start_time": "2021-07-08T09:18:15.504Z"
   },
   {
    "duration": 7,
    "start_time": "2021-07-08T09:18:15.513Z"
   },
   {
    "duration": 26,
    "start_time": "2021-07-08T09:18:15.522Z"
   },
   {
    "duration": 49,
    "start_time": "2021-07-08T09:18:15.550Z"
   },
   {
    "duration": 21,
    "start_time": "2021-07-08T09:18:15.601Z"
   },
   {
    "duration": 8,
    "start_time": "2021-07-08T09:18:15.624Z"
   },
   {
    "duration": 3,
    "start_time": "2021-07-08T09:18:15.634Z"
   },
   {
    "duration": 8,
    "start_time": "2021-07-08T09:18:15.639Z"
   },
   {
    "duration": 45,
    "start_time": "2021-07-08T09:18:15.649Z"
   },
   {
    "duration": 13,
    "start_time": "2021-07-08T09:18:15.696Z"
   },
   {
    "duration": 10,
    "start_time": "2021-07-08T09:18:15.711Z"
   },
   {
    "duration": 64,
    "start_time": "2021-07-08T09:18:15.722Z"
   },
   {
    "duration": 19,
    "start_time": "2021-07-08T09:18:15.788Z"
   },
   {
    "duration": 9,
    "start_time": "2021-07-08T09:18:15.809Z"
   },
   {
    "duration": 9,
    "start_time": "2021-07-08T09:18:15.820Z"
   },
   {
    "duration": 18,
    "start_time": "2021-07-08T09:18:15.831Z"
   },
   {
    "duration": 43,
    "start_time": "2021-07-08T09:18:15.851Z"
   },
   {
    "duration": 12,
    "start_time": "2021-07-08T09:18:15.897Z"
   },
   {
    "duration": 219,
    "start_time": "2021-07-08T09:18:15.911Z"
   },
   {
    "duration": 8,
    "start_time": "2021-07-08T09:18:16.132Z"
   },
   {
    "duration": 199,
    "start_time": "2021-07-08T09:18:16.141Z"
   },
   {
    "duration": 18,
    "start_time": "2021-07-08T09:18:16.341Z"
   },
   {
    "duration": 24,
    "start_time": "2021-07-08T09:18:16.361Z"
   },
   {
    "duration": 24,
    "start_time": "2021-07-08T09:18:16.387Z"
   },
   {
    "duration": 211,
    "start_time": "2021-07-08T09:18:16.413Z"
   },
   {
    "duration": 18,
    "start_time": "2021-07-08T09:18:16.626Z"
   },
   {
    "duration": 596,
    "start_time": "2021-07-08T10:06:33.623Z"
   },
   {
    "duration": 181,
    "start_time": "2021-07-08T10:06:34.221Z"
   },
   {
    "duration": 176,
    "start_time": "2021-07-08T10:06:34.635Z"
   },
   {
    "duration": 239,
    "start_time": "2021-07-08T10:06:55.572Z"
   },
   {
    "duration": 6,
    "start_time": "2021-07-08T10:06:57.687Z"
   },
   {
    "duration": 4,
    "start_time": "2021-07-08T10:07:03.956Z"
   },
   {
    "duration": 4,
    "start_time": "2021-07-08T10:07:10.376Z"
   },
   {
    "duration": 4,
    "start_time": "2021-07-08T10:17:19.889Z"
   },
   {
    "duration": 3,
    "start_time": "2021-07-08T10:19:19.407Z"
   },
   {
    "duration": 197,
    "start_time": "2021-07-08T10:19:19.412Z"
   },
   {
    "duration": 127,
    "start_time": "2021-07-08T10:19:19.611Z"
   },
   {
    "duration": 4,
    "start_time": "2021-07-08T10:19:19.740Z"
   },
   {
    "duration": 27,
    "start_time": "2021-07-08T10:19:19.746Z"
   },
   {
    "duration": 7,
    "start_time": "2021-07-08T10:19:19.775Z"
   },
   {
    "duration": 30,
    "start_time": "2021-07-08T10:19:19.784Z"
   },
   {
    "duration": 7,
    "start_time": "2021-07-08T10:19:19.817Z"
   },
   {
    "duration": 26,
    "start_time": "2021-07-08T10:19:19.826Z"
   },
   {
    "duration": 18,
    "start_time": "2021-07-08T10:19:19.854Z"
   },
   {
    "duration": 14,
    "start_time": "2021-07-08T10:19:19.874Z"
   },
   {
    "duration": 48,
    "start_time": "2021-07-08T10:19:19.890Z"
   },
   {
    "duration": 17,
    "start_time": "2021-07-08T10:19:19.940Z"
   },
   {
    "duration": 38,
    "start_time": "2021-07-08T10:19:19.959Z"
   },
   {
    "duration": 8,
    "start_time": "2021-07-08T10:19:19.999Z"
   },
   {
    "duration": 15,
    "start_time": "2021-07-08T10:19:20.009Z"
   },
   {
    "duration": 22,
    "start_time": "2021-07-08T10:19:20.026Z"
   },
   {
    "duration": 10,
    "start_time": "2021-07-08T10:19:20.050Z"
   },
   {
    "duration": 10,
    "start_time": "2021-07-08T10:19:20.062Z"
   },
   {
    "duration": 20,
    "start_time": "2021-07-08T10:19:20.073Z"
   },
   {
    "duration": 29,
    "start_time": "2021-07-08T10:19:20.095Z"
   },
   {
    "duration": 17,
    "start_time": "2021-07-08T10:19:20.126Z"
   },
   {
    "duration": 40,
    "start_time": "2021-07-08T10:19:20.146Z"
   },
   {
    "duration": 15,
    "start_time": "2021-07-08T10:19:20.189Z"
   },
   {
    "duration": 19,
    "start_time": "2021-07-08T10:19:20.206Z"
   },
   {
    "duration": 10,
    "start_time": "2021-07-08T10:19:20.226Z"
   },
   {
    "duration": 11,
    "start_time": "2021-07-08T10:19:20.238Z"
   },
   {
    "duration": 297,
    "start_time": "2021-07-08T10:19:20.250Z"
   },
   {
    "duration": 6,
    "start_time": "2021-07-08T10:19:20.549Z"
   },
   {
    "duration": 191,
    "start_time": "2021-07-08T10:19:20.557Z"
   },
   {
    "duration": 19,
    "start_time": "2021-07-08T10:19:20.750Z"
   },
   {
    "duration": 20,
    "start_time": "2021-07-08T10:19:20.771Z"
   },
   {
    "duration": 15,
    "start_time": "2021-07-08T10:19:20.793Z"
   },
   {
    "duration": 222,
    "start_time": "2021-07-08T10:19:20.809Z"
   },
   {
    "duration": 20,
    "start_time": "2021-07-08T10:19:21.033Z"
   },
   {
    "duration": 27,
    "start_time": "2021-07-08T10:45:04.055Z"
   },
   {
    "duration": 8,
    "start_time": "2021-07-08T10:45:08.478Z"
   },
   {
    "duration": 8,
    "start_time": "2021-07-08T10:45:31.982Z"
   },
   {
    "duration": 10,
    "start_time": "2021-07-08T10:46:01.221Z"
   },
   {
    "duration": 17,
    "start_time": "2021-07-08T10:46:40.011Z"
   },
   {
    "duration": 193,
    "start_time": "2021-07-08T10:48:19.471Z"
   },
   {
    "duration": 225,
    "start_time": "2021-07-08T10:49:26.480Z"
   },
   {
    "duration": 204,
    "start_time": "2021-07-08T10:49:59.992Z"
   },
   {
    "duration": 435,
    "start_time": "2021-07-08T10:50:06.779Z"
   },
   {
    "duration": 199,
    "start_time": "2021-07-08T10:50:14.891Z"
   },
   {
    "duration": 204,
    "start_time": "2021-07-08T10:50:18.501Z"
   },
   {
    "duration": 244,
    "start_time": "2021-07-08T10:50:23.359Z"
   },
   {
    "duration": 192,
    "start_time": "2021-07-08T10:50:29.135Z"
   },
   {
    "duration": 218,
    "start_time": "2021-07-08T10:50:33.092Z"
   },
   {
    "duration": 207,
    "start_time": "2021-07-08T10:52:45.381Z"
   },
   {
    "duration": 5,
    "start_time": "2021-07-08T10:53:34.641Z"
   },
   {
    "duration": 196,
    "start_time": "2021-07-08T10:53:41.478Z"
   },
   {
    "duration": 43,
    "start_time": "2021-07-08T10:53:50.335Z"
   },
   {
    "duration": 32,
    "start_time": "2021-07-08T10:53:55.294Z"
   },
   {
    "duration": 55,
    "start_time": "2021-07-08T10:54:09.675Z"
   },
   {
    "duration": 16,
    "start_time": "2021-07-08T10:54:12.260Z"
   },
   {
    "duration": 15,
    "start_time": "2021-07-08T10:54:49.150Z"
   },
   {
    "duration": 20,
    "start_time": "2021-07-08T10:56:07.596Z"
   },
   {
    "duration": 16,
    "start_time": "2021-07-08T10:58:26.276Z"
   },
   {
    "duration": 22,
    "start_time": "2021-07-08T10:59:00.486Z"
   },
   {
    "duration": 18,
    "start_time": "2021-07-08T11:02:09.653Z"
   },
   {
    "duration": 10,
    "start_time": "2021-07-08T11:03:44.331Z"
   },
   {
    "duration": 10,
    "start_time": "2021-07-08T11:03:54.055Z"
   },
   {
    "duration": 12,
    "start_time": "2021-07-08T11:04:41.967Z"
   },
   {
    "duration": 24,
    "start_time": "2021-07-08T11:07:30.732Z"
   },
   {
    "duration": 6,
    "start_time": "2021-07-08T11:07:37.364Z"
   },
   {
    "duration": 16,
    "start_time": "2021-07-08T11:08:01.819Z"
   },
   {
    "duration": 17,
    "start_time": "2021-07-08T11:09:47.488Z"
   },
   {
    "duration": 246,
    "start_time": "2021-07-08T11:10:00.830Z"
   },
   {
    "duration": 18,
    "start_time": "2021-07-08T11:13:55.195Z"
   },
   {
    "duration": 204,
    "start_time": "2021-07-08T11:14:04.951Z"
   },
   {
    "duration": 19,
    "start_time": "2021-07-08T11:15:10.613Z"
   },
   {
    "duration": 680,
    "start_time": "2021-07-08T11:16:25.793Z"
   },
   {
    "duration": 451,
    "start_time": "2021-07-08T11:16:40.313Z"
   },
   {
    "duration": 469,
    "start_time": "2021-07-08T11:17:21.286Z"
   },
   {
    "duration": 20,
    "start_time": "2021-07-08T11:19:12.554Z"
   },
   {
    "duration": 35,
    "start_time": "2021-07-08T11:20:05.484Z"
   },
   {
    "duration": 53,
    "start_time": "2021-07-08T11:21:40.050Z"
   },
   {
    "duration": 13,
    "start_time": "2021-07-08T11:22:26.059Z"
   },
   {
    "duration": 19,
    "start_time": "2021-07-08T11:22:47.419Z"
   },
   {
    "duration": 25,
    "start_time": "2021-07-08T11:23:19.958Z"
   },
   {
    "duration": 29,
    "start_time": "2021-07-08T11:23:25.415Z"
   },
   {
    "duration": 10,
    "start_time": "2021-07-08T11:24:45.138Z"
   },
   {
    "duration": 19,
    "start_time": "2021-07-08T11:24:54.498Z"
   },
   {
    "duration": 12,
    "start_time": "2021-07-08T11:25:32.225Z"
   },
   {
    "duration": 19,
    "start_time": "2021-07-08T11:25:37.092Z"
   },
   {
    "duration": 17,
    "start_time": "2021-07-08T11:25:58.116Z"
   },
   {
    "duration": 15,
    "start_time": "2021-07-08T11:26:02.258Z"
   },
   {
    "duration": 8,
    "start_time": "2021-07-08T11:26:59.682Z"
   },
   {
    "duration": 184,
    "start_time": "2021-07-08T11:27:21.894Z"
   },
   {
    "duration": 8,
    "start_time": "2021-07-08T11:27:23.824Z"
   },
   {
    "duration": 202,
    "start_time": "2021-07-08T11:27:23.962Z"
   },
   {
    "duration": 360,
    "start_time": "2021-07-08T11:28:33.215Z"
   },
   {
    "duration": 231,
    "start_time": "2021-07-08T11:32:05.542Z"
   },
   {
    "duration": 607,
    "start_time": "2021-07-08T11:36:27.854Z"
   },
   {
    "duration": 241,
    "start_time": "2021-07-08T11:36:28.463Z"
   },
   {
    "duration": 67,
    "start_time": "2021-07-08T11:36:28.709Z"
   },
   {
    "duration": 5,
    "start_time": "2021-07-08T11:36:28.778Z"
   },
   {
    "duration": 32,
    "start_time": "2021-07-08T11:36:28.784Z"
   },
   {
    "duration": 11,
    "start_time": "2021-07-08T11:36:28.819Z"
   },
   {
    "duration": 20,
    "start_time": "2021-07-08T11:36:28.834Z"
   },
   {
    "duration": 36,
    "start_time": "2021-07-08T11:36:28.857Z"
   },
   {
    "duration": 16,
    "start_time": "2021-07-08T11:36:28.895Z"
   },
   {
    "duration": 14,
    "start_time": "2021-07-08T11:36:28.913Z"
   },
   {
    "duration": 9,
    "start_time": "2021-07-08T11:36:28.930Z"
   },
   {
    "duration": 55,
    "start_time": "2021-07-08T11:36:28.941Z"
   },
   {
    "duration": 27,
    "start_time": "2021-07-08T11:36:28.999Z"
   },
   {
    "duration": 30,
    "start_time": "2021-07-08T11:36:29.028Z"
   },
   {
    "duration": 31,
    "start_time": "2021-07-08T11:36:29.060Z"
   },
   {
    "duration": 3,
    "start_time": "2021-07-08T11:36:29.093Z"
   },
   {
    "duration": 12,
    "start_time": "2021-07-08T11:36:29.099Z"
   },
   {
    "duration": 11,
    "start_time": "2021-07-08T11:36:29.112Z"
   },
   {
    "duration": 12,
    "start_time": "2021-07-08T11:36:29.125Z"
   },
   {
    "duration": 9,
    "start_time": "2021-07-08T11:36:29.139Z"
   },
   {
    "duration": 31,
    "start_time": "2021-07-08T11:36:29.191Z"
   },
   {
    "duration": 17,
    "start_time": "2021-07-08T11:36:29.226Z"
   },
   {
    "duration": 7,
    "start_time": "2021-07-08T11:36:29.245Z"
   },
   {
    "duration": 10,
    "start_time": "2021-07-08T11:36:29.254Z"
   },
   {
    "duration": 30,
    "start_time": "2021-07-08T11:36:29.292Z"
   },
   {
    "duration": 11,
    "start_time": "2021-07-08T11:36:29.324Z"
   },
   {
    "duration": 11,
    "start_time": "2021-07-08T11:36:29.337Z"
   },
   {
    "duration": 230,
    "start_time": "2021-07-08T11:36:29.349Z"
   },
   {
    "duration": 13,
    "start_time": "2021-07-08T11:36:29.588Z"
   },
   {
    "duration": 205,
    "start_time": "2021-07-08T11:36:29.603Z"
   },
   {
    "duration": 20,
    "start_time": "2021-07-08T11:36:29.810Z"
   },
   {
    "duration": 9,
    "start_time": "2021-07-08T11:36:29.832Z"
   },
   {
    "duration": 16,
    "start_time": "2021-07-08T11:36:29.843Z"
   },
   {
    "duration": 283,
    "start_time": "2021-07-08T11:36:29.861Z"
   },
   {
    "duration": 50,
    "start_time": "2021-07-08T11:36:30.146Z"
   },
   {
    "duration": 14,
    "start_time": "2021-07-08T11:36:30.198Z"
   },
   {
    "duration": 11,
    "start_time": "2021-07-08T11:36:30.214Z"
   },
   {
    "duration": 245,
    "start_time": "2021-07-08T11:36:30.227Z"
   },
   {
    "duration": 439,
    "start_time": "2021-07-08T11:36:30.474Z"
   },
   {
    "duration": 210,
    "start_time": "2021-07-08T11:36:30.915Z"
   },
   {
    "duration": 15,
    "start_time": "2021-07-08T11:36:31.127Z"
   },
   {
    "duration": 17,
    "start_time": "2021-07-08T11:38:20.451Z"
   },
   {
    "duration": 642,
    "start_time": "2021-07-08T11:46:17.881Z"
   },
   {
    "duration": 210,
    "start_time": "2021-07-08T11:46:18.525Z"
   },
   {
    "duration": 104,
    "start_time": "2021-07-08T11:46:18.741Z"
   },
   {
    "duration": 8,
    "start_time": "2021-07-08T11:46:18.847Z"
   },
   {
    "duration": 25,
    "start_time": "2021-07-08T11:46:18.857Z"
   },
   {
    "duration": 14,
    "start_time": "2021-07-08T11:46:18.884Z"
   },
   {
    "duration": 22,
    "start_time": "2021-07-08T11:46:18.900Z"
   },
   {
    "duration": 5,
    "start_time": "2021-07-08T11:46:18.924Z"
   },
   {
    "duration": 13,
    "start_time": "2021-07-08T11:46:18.931Z"
   },
   {
    "duration": 45,
    "start_time": "2021-07-08T11:46:18.946Z"
   },
   {
    "duration": 12,
    "start_time": "2021-07-08T11:46:18.993Z"
   },
   {
    "duration": 38,
    "start_time": "2021-07-08T11:46:19.006Z"
   },
   {
    "duration": 50,
    "start_time": "2021-07-08T11:46:19.046Z"
   },
   {
    "duration": 29,
    "start_time": "2021-07-08T11:46:19.099Z"
   },
   {
    "duration": 7,
    "start_time": "2021-07-08T11:46:19.130Z"
   },
   {
    "duration": 3,
    "start_time": "2021-07-08T11:46:19.139Z"
   },
   {
    "duration": 11,
    "start_time": "2021-07-08T11:46:19.144Z"
   },
   {
    "duration": 40,
    "start_time": "2021-07-08T11:46:19.157Z"
   },
   {
    "duration": 15,
    "start_time": "2021-07-08T11:46:19.199Z"
   },
   {
    "duration": 10,
    "start_time": "2021-07-08T11:46:19.217Z"
   },
   {
    "duration": 68,
    "start_time": "2021-07-08T11:46:19.230Z"
   },
   {
    "duration": 17,
    "start_time": "2021-07-08T11:46:19.301Z"
   },
   {
    "duration": 7,
    "start_time": "2021-07-08T11:46:19.321Z"
   },
   {
    "duration": 11,
    "start_time": "2021-07-08T11:46:19.330Z"
   },
   {
    "duration": 59,
    "start_time": "2021-07-08T11:46:19.343Z"
   },
   {
    "duration": 17,
    "start_time": "2021-07-08T11:46:19.405Z"
   },
   {
    "duration": 16,
    "start_time": "2021-07-08T11:46:19.424Z"
   },
   {
    "duration": 252,
    "start_time": "2021-07-08T11:46:19.443Z"
   },
   {
    "duration": 9,
    "start_time": "2021-07-08T11:46:19.697Z"
   },
   {
    "duration": 224,
    "start_time": "2021-07-08T11:46:19.708Z"
   },
   {
    "duration": 21,
    "start_time": "2021-07-08T11:46:19.934Z"
   },
   {
    "duration": 9,
    "start_time": "2021-07-08T11:46:19.956Z"
   },
   {
    "duration": 32,
    "start_time": "2021-07-08T11:46:19.967Z"
   },
   {
    "duration": 288,
    "start_time": "2021-07-08T11:46:20.004Z"
   },
   {
    "duration": 23,
    "start_time": "2021-07-08T11:46:20.300Z"
   },
   {
    "duration": 11,
    "start_time": "2021-07-08T11:46:20.325Z"
   },
   {
    "duration": 11,
    "start_time": "2021-07-08T11:46:20.339Z"
   },
   {
    "duration": 259,
    "start_time": "2021-07-08T11:46:20.352Z"
   },
   {
    "duration": 438,
    "start_time": "2021-07-08T11:46:20.613Z"
   },
   {
    "duration": 207,
    "start_time": "2021-07-08T11:46:21.054Z"
   },
   {
    "duration": 27,
    "start_time": "2021-07-08T11:46:21.262Z"
   },
   {
    "duration": 19,
    "start_time": "2021-07-08T11:46:21.291Z"
   },
   {
    "duration": 820,
    "start_time": "2021-07-08T11:49:01.655Z"
   },
   {
    "duration": 372,
    "start_time": "2021-07-08T11:49:02.478Z"
   },
   {
    "duration": 98,
    "start_time": "2021-07-08T11:49:02.853Z"
   },
   {
    "duration": 6,
    "start_time": "2021-07-08T11:49:02.953Z"
   },
   {
    "duration": 39,
    "start_time": "2021-07-08T11:49:02.960Z"
   },
   {
    "duration": 9,
    "start_time": "2021-07-08T11:49:03.003Z"
   },
   {
    "duration": 23,
    "start_time": "2021-07-08T11:49:03.014Z"
   },
   {
    "duration": 6,
    "start_time": "2021-07-08T11:49:03.041Z"
   },
   {
    "duration": 20,
    "start_time": "2021-07-08T11:49:03.049Z"
   },
   {
    "duration": 18,
    "start_time": "2021-07-08T11:49:03.084Z"
   },
   {
    "duration": 14,
    "start_time": "2021-07-08T11:49:03.104Z"
   },
   {
    "duration": 39,
    "start_time": "2021-07-08T11:49:03.119Z"
   },
   {
    "duration": 38,
    "start_time": "2021-07-08T11:49:03.160Z"
   },
   {
    "duration": 26,
    "start_time": "2021-07-08T11:49:03.200Z"
   },
   {
    "duration": 7,
    "start_time": "2021-07-08T11:49:03.227Z"
   },
   {
    "duration": 4,
    "start_time": "2021-07-08T11:49:03.236Z"
   },
   {
    "duration": 15,
    "start_time": "2021-07-08T11:49:03.243Z"
   },
   {
    "duration": 21,
    "start_time": "2021-07-08T11:49:03.285Z"
   },
   {
    "duration": 17,
    "start_time": "2021-07-08T11:49:03.309Z"
   },
   {
    "duration": 10,
    "start_time": "2021-07-08T11:49:03.328Z"
   },
   {
    "duration": 65,
    "start_time": "2021-07-08T11:49:03.340Z"
   },
   {
    "duration": 18,
    "start_time": "2021-07-08T11:49:03.407Z"
   },
   {
    "duration": 8,
    "start_time": "2021-07-08T11:49:03.428Z"
   },
   {
    "duration": 15,
    "start_time": "2021-07-08T11:49:03.438Z"
   },
   {
    "duration": 40,
    "start_time": "2021-07-08T11:49:03.455Z"
   },
   {
    "duration": 12,
    "start_time": "2021-07-08T11:49:03.497Z"
   },
   {
    "duration": 29,
    "start_time": "2021-07-08T11:49:03.511Z"
   },
   {
    "duration": 285,
    "start_time": "2021-07-08T11:49:03.542Z"
   },
   {
    "duration": 8,
    "start_time": "2021-07-08T11:49:03.829Z"
   },
   {
    "duration": 227,
    "start_time": "2021-07-08T11:49:03.838Z"
   },
   {
    "duration": 40,
    "start_time": "2021-07-08T11:49:04.066Z"
   },
   {
    "duration": 10,
    "start_time": "2021-07-08T11:49:04.108Z"
   },
   {
    "duration": 26,
    "start_time": "2021-07-08T11:49:04.121Z"
   },
   {
    "duration": 290,
    "start_time": "2021-07-08T11:49:04.149Z"
   },
   {
    "duration": 26,
    "start_time": "2021-07-08T11:49:04.441Z"
   },
   {
    "duration": 31,
    "start_time": "2021-07-08T11:49:04.470Z"
   },
   {
    "duration": 14,
    "start_time": "2021-07-08T11:49:04.503Z"
   },
   {
    "duration": 259,
    "start_time": "2021-07-08T11:49:04.521Z"
   },
   {
    "duration": 480,
    "start_time": "2021-07-08T11:49:04.782Z"
   },
   {
    "duration": 225,
    "start_time": "2021-07-08T11:49:05.264Z"
   },
   {
    "duration": 22,
    "start_time": "2021-07-08T11:49:05.491Z"
   },
   {
    "duration": 24,
    "start_time": "2021-07-08T11:49:05.515Z"
   },
   {
    "duration": 634,
    "start_time": "2021-07-08T11:52:24.960Z"
   },
   {
    "duration": 199,
    "start_time": "2021-07-08T11:52:25.599Z"
   },
   {
    "duration": 106,
    "start_time": "2021-07-08T11:52:25.803Z"
   },
   {
    "duration": 7,
    "start_time": "2021-07-08T11:52:25.911Z"
   },
   {
    "duration": 29,
    "start_time": "2021-07-08T11:52:25.920Z"
   },
   {
    "duration": 7,
    "start_time": "2021-07-08T11:52:25.951Z"
   },
   {
    "duration": 26,
    "start_time": "2021-07-08T11:52:25.961Z"
   },
   {
    "duration": 11,
    "start_time": "2021-07-08T11:52:25.990Z"
   },
   {
    "duration": 29,
    "start_time": "2021-07-08T11:52:26.005Z"
   },
   {
    "duration": 9,
    "start_time": "2021-07-08T11:52:26.036Z"
   },
   {
    "duration": 8,
    "start_time": "2021-07-08T11:52:26.047Z"
   },
   {
    "duration": 63,
    "start_time": "2021-07-08T11:52:26.057Z"
   },
   {
    "duration": 17,
    "start_time": "2021-07-08T11:52:26.122Z"
   },
   {
    "duration": 43,
    "start_time": "2021-07-08T11:52:26.142Z"
   },
   {
    "duration": 17,
    "start_time": "2021-07-08T11:52:26.187Z"
   },
   {
    "duration": 5,
    "start_time": "2021-07-08T11:52:26.206Z"
   },
   {
    "duration": 12,
    "start_time": "2021-07-08T11:52:26.212Z"
   },
   {
    "duration": 11,
    "start_time": "2021-07-08T11:52:26.226Z"
   },
   {
    "duration": 12,
    "start_time": "2021-07-08T11:52:26.238Z"
   },
   {
    "duration": 38,
    "start_time": "2021-07-08T11:52:26.252Z"
   },
   {
    "duration": 40,
    "start_time": "2021-07-08T11:52:26.292Z"
   },
   {
    "duration": 17,
    "start_time": "2021-07-08T11:52:26.336Z"
   },
   {
    "duration": 39,
    "start_time": "2021-07-08T11:52:26.355Z"
   },
   {
    "duration": 11,
    "start_time": "2021-07-08T11:52:26.395Z"
   },
   {
    "duration": 23,
    "start_time": "2021-07-08T11:52:26.408Z"
   },
   {
    "duration": 12,
    "start_time": "2021-07-08T11:52:26.432Z"
   },
   {
    "duration": 41,
    "start_time": "2021-07-08T11:52:26.446Z"
   },
   {
    "duration": 215,
    "start_time": "2021-07-08T11:52:26.493Z"
   },
   {
    "duration": 8,
    "start_time": "2021-07-08T11:52:26.710Z"
   },
   {
    "duration": 228,
    "start_time": "2021-07-08T11:52:26.720Z"
   },
   {
    "duration": 18,
    "start_time": "2021-07-08T11:52:26.950Z"
   },
   {
    "duration": 35,
    "start_time": "2021-07-08T11:52:26.969Z"
   },
   {
    "duration": 23,
    "start_time": "2021-07-08T11:52:27.006Z"
   },
   {
    "duration": 258,
    "start_time": "2021-07-08T11:52:27.030Z"
   },
   {
    "duration": 24,
    "start_time": "2021-07-08T11:52:27.290Z"
   },
   {
    "duration": 12,
    "start_time": "2021-07-08T11:52:27.316Z"
   },
   {
    "duration": 10,
    "start_time": "2021-07-08T11:52:27.329Z"
   },
   {
    "duration": 298,
    "start_time": "2021-07-08T11:52:27.341Z"
   },
   {
    "duration": 436,
    "start_time": "2021-07-08T11:52:27.641Z"
   },
   {
    "duration": 216,
    "start_time": "2021-07-08T11:52:28.079Z"
   },
   {
    "duration": 20,
    "start_time": "2021-07-08T11:52:28.297Z"
   },
   {
    "duration": 17,
    "start_time": "2021-07-08T11:52:28.319Z"
   },
   {
    "duration": 365,
    "start_time": "2022-04-18T07:36:19.052Z"
   },
   {
    "duration": 67,
    "start_time": "2022-04-18T07:36:19.419Z"
   },
   {
    "duration": 0,
    "start_time": "2022-04-18T07:36:19.489Z"
   },
   {
    "duration": 0,
    "start_time": "2022-04-18T07:36:19.491Z"
   },
   {
    "duration": 0,
    "start_time": "2022-04-18T07:36:19.492Z"
   },
   {
    "duration": 0,
    "start_time": "2022-04-18T07:36:19.493Z"
   },
   {
    "duration": 0,
    "start_time": "2022-04-18T07:36:19.494Z"
   },
   {
    "duration": 0,
    "start_time": "2022-04-18T07:36:19.507Z"
   },
   {
    "duration": 0,
    "start_time": "2022-04-18T07:36:19.508Z"
   },
   {
    "duration": 0,
    "start_time": "2022-04-18T07:36:19.509Z"
   },
   {
    "duration": 0,
    "start_time": "2022-04-18T07:36:19.511Z"
   },
   {
    "duration": 0,
    "start_time": "2022-04-18T07:36:19.511Z"
   },
   {
    "duration": 1,
    "start_time": "2022-04-18T07:36:19.512Z"
   },
   {
    "duration": 0,
    "start_time": "2022-04-18T07:36:19.514Z"
   },
   {
    "duration": 0,
    "start_time": "2022-04-18T07:36:19.514Z"
   },
   {
    "duration": 0,
    "start_time": "2022-04-18T07:36:19.516Z"
   },
   {
    "duration": 0,
    "start_time": "2022-04-18T07:36:19.517Z"
   },
   {
    "duration": 0,
    "start_time": "2022-04-18T07:36:19.518Z"
   },
   {
    "duration": 0,
    "start_time": "2022-04-18T07:36:19.519Z"
   },
   {
    "duration": 0,
    "start_time": "2022-04-18T07:36:19.520Z"
   },
   {
    "duration": 0,
    "start_time": "2022-04-18T07:36:19.521Z"
   },
   {
    "duration": 0,
    "start_time": "2022-04-18T07:36:19.522Z"
   },
   {
    "duration": 0,
    "start_time": "2022-04-18T07:36:19.523Z"
   },
   {
    "duration": 0,
    "start_time": "2022-04-18T07:36:19.524Z"
   },
   {
    "duration": 0,
    "start_time": "2022-04-18T07:36:19.525Z"
   },
   {
    "duration": 0,
    "start_time": "2022-04-18T07:36:19.526Z"
   },
   {
    "duration": 0,
    "start_time": "2022-04-18T07:36:19.527Z"
   },
   {
    "duration": 0,
    "start_time": "2022-04-18T07:36:19.528Z"
   },
   {
    "duration": 0,
    "start_time": "2022-04-18T07:36:19.529Z"
   },
   {
    "duration": 0,
    "start_time": "2022-04-18T07:36:19.530Z"
   },
   {
    "duration": 0,
    "start_time": "2022-04-18T07:36:19.531Z"
   },
   {
    "duration": 0,
    "start_time": "2022-04-18T07:36:19.532Z"
   },
   {
    "duration": 0,
    "start_time": "2022-04-18T07:36:19.533Z"
   },
   {
    "duration": 0,
    "start_time": "2022-04-18T07:36:19.535Z"
   },
   {
    "duration": 0,
    "start_time": "2022-04-18T07:36:19.536Z"
   },
   {
    "duration": 0,
    "start_time": "2022-04-18T07:36:19.537Z"
   },
   {
    "duration": 0,
    "start_time": "2022-04-18T07:36:19.538Z"
   },
   {
    "duration": 0,
    "start_time": "2022-04-18T07:36:19.539Z"
   },
   {
    "duration": 0,
    "start_time": "2022-04-18T07:36:19.540Z"
   },
   {
    "duration": 0,
    "start_time": "2022-04-18T07:36:19.541Z"
   },
   {
    "duration": 0,
    "start_time": "2022-04-18T07:36:19.542Z"
   },
   {
    "duration": 0,
    "start_time": "2022-04-18T07:36:19.543Z"
   },
   {
    "duration": 0,
    "start_time": "2022-04-18T07:36:19.544Z"
   },
   {
    "duration": 0,
    "start_time": "2022-04-18T07:36:19.607Z"
   },
   {
    "duration": 0,
    "start_time": "2022-04-18T07:36:19.608Z"
   },
   {
    "duration": 0,
    "start_time": "2022-04-18T07:36:19.609Z"
   },
   {
    "duration": 0,
    "start_time": "2022-04-18T07:36:19.610Z"
   },
   {
    "duration": 0,
    "start_time": "2022-04-18T07:36:19.611Z"
   },
   {
    "duration": 0,
    "start_time": "2022-04-18T07:36:19.612Z"
   },
   {
    "duration": 0,
    "start_time": "2022-04-18T07:36:19.613Z"
   },
   {
    "duration": 0,
    "start_time": "2022-04-18T07:36:19.614Z"
   },
   {
    "duration": 0,
    "start_time": "2022-04-18T07:36:19.615Z"
   },
   {
    "duration": 0,
    "start_time": "2022-04-18T07:36:19.616Z"
   },
   {
    "duration": 0,
    "start_time": "2022-04-18T07:36:19.617Z"
   },
   {
    "duration": 0,
    "start_time": "2022-04-18T07:36:19.618Z"
   },
   {
    "duration": 0,
    "start_time": "2022-04-18T07:36:19.620Z"
   },
   {
    "duration": 0,
    "start_time": "2022-04-18T07:36:19.621Z"
   },
   {
    "duration": 0,
    "start_time": "2022-04-18T07:36:19.622Z"
   },
   {
    "duration": 0,
    "start_time": "2022-04-18T07:36:19.623Z"
   },
   {
    "duration": 0,
    "start_time": "2022-04-18T07:36:19.626Z"
   },
   {
    "duration": 148,
    "start_time": "2022-04-18T07:39:02.503Z"
   },
   {
    "duration": 87,
    "start_time": "2022-04-18T07:39:08.128Z"
   },
   {
    "duration": 15,
    "start_time": "2022-04-18T07:39:08.216Z"
   },
   {
    "duration": 10,
    "start_time": "2022-04-18T07:39:08.233Z"
   },
   {
    "duration": 8,
    "start_time": "2022-04-18T07:39:08.245Z"
   },
   {
    "duration": 12,
    "start_time": "2022-04-18T07:39:08.255Z"
   },
   {
    "duration": 45,
    "start_time": "2022-04-18T07:39:08.269Z"
   },
   {
    "duration": 20,
    "start_time": "2022-04-18T07:39:08.315Z"
   },
   {
    "duration": 4,
    "start_time": "2022-04-18T07:39:08.337Z"
   },
   {
    "duration": 11,
    "start_time": "2022-04-18T07:39:08.343Z"
   },
   {
    "duration": 22,
    "start_time": "2022-04-18T07:39:08.356Z"
   },
   {
    "duration": 31,
    "start_time": "2022-04-18T07:39:08.379Z"
   },
   {
    "duration": 9,
    "start_time": "2022-04-18T07:39:08.412Z"
   },
   {
    "duration": 26,
    "start_time": "2022-04-18T07:39:08.423Z"
   },
   {
    "duration": 17,
    "start_time": "2022-04-18T07:39:08.452Z"
   },
   {
    "duration": 31,
    "start_time": "2022-04-18T07:39:08.471Z"
   },
   {
    "duration": 88,
    "start_time": "2022-04-18T07:39:08.503Z"
   },
   {
    "duration": 6,
    "start_time": "2022-04-18T07:39:08.593Z"
   },
   {
    "duration": 11,
    "start_time": "2022-04-18T07:39:08.600Z"
   },
   {
    "duration": 28,
    "start_time": "2022-04-18T07:39:08.613Z"
   },
   {
    "duration": 4,
    "start_time": "2022-04-18T07:39:08.643Z"
   },
   {
    "duration": 8,
    "start_time": "2022-04-18T07:39:08.648Z"
   },
   {
    "duration": 17,
    "start_time": "2022-04-18T07:39:08.658Z"
   },
   {
    "duration": 8,
    "start_time": "2022-04-18T07:39:08.677Z"
   },
   {
    "duration": 45,
    "start_time": "2022-04-18T07:39:08.686Z"
   },
   {
    "duration": 5,
    "start_time": "2022-04-18T07:39:08.733Z"
   },
   {
    "duration": 10,
    "start_time": "2022-04-18T07:39:08.740Z"
   },
   {
    "duration": 5,
    "start_time": "2022-04-18T07:39:08.752Z"
   },
   {
    "duration": 5,
    "start_time": "2022-04-18T07:39:08.759Z"
   },
   {
    "duration": 15,
    "start_time": "2022-04-18T07:39:08.765Z"
   },
   {
    "duration": 42,
    "start_time": "2022-04-18T07:39:08.782Z"
   },
   {
    "duration": 10,
    "start_time": "2022-04-18T07:39:08.825Z"
   },
   {
    "duration": 376,
    "start_time": "2022-04-18T07:39:08.836Z"
   },
   {
    "duration": 7,
    "start_time": "2022-04-18T07:39:09.213Z"
   },
   {
    "duration": 9,
    "start_time": "2022-04-18T07:39:09.221Z"
   },
   {
    "duration": 10,
    "start_time": "2022-04-18T07:39:09.232Z"
   },
   {
    "duration": 26,
    "start_time": "2022-04-18T07:39:09.243Z"
   },
   {
    "duration": 238,
    "start_time": "2022-04-18T07:39:09.271Z"
   },
   {
    "duration": 9,
    "start_time": "2022-04-18T07:39:09.511Z"
   },
   {
    "duration": 10,
    "start_time": "2022-04-18T07:39:09.522Z"
   },
   {
    "duration": 4,
    "start_time": "2022-04-18T07:39:09.533Z"
   },
   {
    "duration": 992,
    "start_time": "2022-04-18T07:39:09.540Z"
   },
   {
    "duration": 5,
    "start_time": "2022-04-18T07:39:10.534Z"
   },
   {
    "duration": 6,
    "start_time": "2022-04-18T07:39:10.541Z"
   },
   {
    "duration": 25,
    "start_time": "2022-04-18T07:39:10.549Z"
   },
   {
    "duration": 49,
    "start_time": "2022-04-18T07:39:10.576Z"
   },
   {
    "duration": 184,
    "start_time": "2022-04-18T07:39:10.627Z"
   },
   {
    "duration": 18,
    "start_time": "2022-04-18T07:39:10.813Z"
   },
   {
    "duration": 10,
    "start_time": "2022-04-18T07:39:10.832Z"
   },
   {
    "duration": 25,
    "start_time": "2022-04-18T07:39:10.843Z"
   },
   {
    "duration": 10,
    "start_time": "2022-04-18T07:39:10.870Z"
   },
   {
    "duration": 160,
    "start_time": "2022-04-18T07:39:10.881Z"
   },
   {
    "duration": 8,
    "start_time": "2022-04-18T07:39:11.042Z"
   },
   {
    "duration": 156,
    "start_time": "2022-04-18T07:39:11.051Z"
   },
   {
    "duration": 8,
    "start_time": "2022-04-18T07:39:11.208Z"
   },
   {
    "duration": 109,
    "start_time": "2022-04-18T07:39:11.217Z"
   },
   {
    "duration": 213,
    "start_time": "2022-04-18T07:39:11.327Z"
   },
   {
    "duration": 104,
    "start_time": "2022-04-18T07:39:11.542Z"
   },
   {
    "duration": 33,
    "start_time": "2022-04-18T07:39:11.648Z"
   },
   {
    "duration": 28,
    "start_time": "2022-04-18T07:39:11.682Z"
   },
   {
    "duration": 9,
    "start_time": "2022-04-18T08:22:18.790Z"
   },
   {
    "duration": 206,
    "start_time": "2022-04-18T08:54:38.788Z"
   },
   {
    "duration": 4,
    "start_time": "2022-04-18T08:59:56.171Z"
   },
   {
    "duration": 109,
    "start_time": "2022-04-18T09:09:35.307Z"
   },
   {
    "duration": 382,
    "start_time": "2022-04-18T09:19:19.845Z"
   },
   {
    "duration": 80,
    "start_time": "2022-04-18T09:19:20.229Z"
   },
   {
    "duration": 0,
    "start_time": "2022-04-18T09:19:20.313Z"
   },
   {
    "duration": 0,
    "start_time": "2022-04-18T09:19:20.314Z"
   },
   {
    "duration": 0,
    "start_time": "2022-04-18T09:19:20.315Z"
   },
   {
    "duration": 0,
    "start_time": "2022-04-18T09:19:20.316Z"
   },
   {
    "duration": 0,
    "start_time": "2022-04-18T09:19:20.317Z"
   },
   {
    "duration": 0,
    "start_time": "2022-04-18T09:19:20.318Z"
   },
   {
    "duration": 0,
    "start_time": "2022-04-18T09:19:20.319Z"
   },
   {
    "duration": 0,
    "start_time": "2022-04-18T09:19:20.320Z"
   },
   {
    "duration": 0,
    "start_time": "2022-04-18T09:19:20.321Z"
   },
   {
    "duration": 0,
    "start_time": "2022-04-18T09:19:20.323Z"
   },
   {
    "duration": 0,
    "start_time": "2022-04-18T09:19:20.323Z"
   },
   {
    "duration": 0,
    "start_time": "2022-04-18T09:19:20.324Z"
   },
   {
    "duration": 0,
    "start_time": "2022-04-18T09:19:20.326Z"
   },
   {
    "duration": 0,
    "start_time": "2022-04-18T09:19:20.327Z"
   },
   {
    "duration": 0,
    "start_time": "2022-04-18T09:19:20.328Z"
   },
   {
    "duration": 0,
    "start_time": "2022-04-18T09:19:20.328Z"
   },
   {
    "duration": 0,
    "start_time": "2022-04-18T09:19:20.330Z"
   },
   {
    "duration": 0,
    "start_time": "2022-04-18T09:19:20.331Z"
   },
   {
    "duration": 0,
    "start_time": "2022-04-18T09:19:20.332Z"
   },
   {
    "duration": 1,
    "start_time": "2022-04-18T09:19:20.332Z"
   },
   {
    "duration": 0,
    "start_time": "2022-04-18T09:19:20.333Z"
   },
   {
    "duration": 0,
    "start_time": "2022-04-18T09:19:20.335Z"
   },
   {
    "duration": 0,
    "start_time": "2022-04-18T09:19:20.336Z"
   },
   {
    "duration": 0,
    "start_time": "2022-04-18T09:19:20.337Z"
   },
   {
    "duration": 0,
    "start_time": "2022-04-18T09:19:20.338Z"
   },
   {
    "duration": 0,
    "start_time": "2022-04-18T09:19:20.339Z"
   },
   {
    "duration": 0,
    "start_time": "2022-04-18T09:19:20.340Z"
   },
   {
    "duration": 0,
    "start_time": "2022-04-18T09:19:20.341Z"
   },
   {
    "duration": 0,
    "start_time": "2022-04-18T09:19:20.342Z"
   },
   {
    "duration": 0,
    "start_time": "2022-04-18T09:19:20.343Z"
   },
   {
    "duration": 0,
    "start_time": "2022-04-18T09:19:20.344Z"
   },
   {
    "duration": 0,
    "start_time": "2022-04-18T09:19:20.345Z"
   },
   {
    "duration": 0,
    "start_time": "2022-04-18T09:19:20.346Z"
   },
   {
    "duration": 0,
    "start_time": "2022-04-18T09:19:20.347Z"
   },
   {
    "duration": 0,
    "start_time": "2022-04-18T09:19:20.348Z"
   },
   {
    "duration": 0,
    "start_time": "2022-04-18T09:19:20.349Z"
   },
   {
    "duration": 0,
    "start_time": "2022-04-18T09:19:20.350Z"
   },
   {
    "duration": 0,
    "start_time": "2022-04-18T09:19:20.408Z"
   },
   {
    "duration": 0,
    "start_time": "2022-04-18T09:19:20.409Z"
   },
   {
    "duration": 0,
    "start_time": "2022-04-18T09:19:20.410Z"
   },
   {
    "duration": 0,
    "start_time": "2022-04-18T09:19:20.411Z"
   },
   {
    "duration": 0,
    "start_time": "2022-04-18T09:19:20.412Z"
   },
   {
    "duration": 0,
    "start_time": "2022-04-18T09:19:20.413Z"
   },
   {
    "duration": 0,
    "start_time": "2022-04-18T09:19:20.415Z"
   },
   {
    "duration": 0,
    "start_time": "2022-04-18T09:19:20.416Z"
   },
   {
    "duration": 0,
    "start_time": "2022-04-18T09:19:20.417Z"
   },
   {
    "duration": 0,
    "start_time": "2022-04-18T09:19:20.418Z"
   },
   {
    "duration": 0,
    "start_time": "2022-04-18T09:19:20.419Z"
   },
   {
    "duration": 0,
    "start_time": "2022-04-18T09:19:20.420Z"
   },
   {
    "duration": 0,
    "start_time": "2022-04-18T09:19:20.421Z"
   },
   {
    "duration": 0,
    "start_time": "2022-04-18T09:19:20.422Z"
   },
   {
    "duration": 0,
    "start_time": "2022-04-18T09:19:20.423Z"
   },
   {
    "duration": 0,
    "start_time": "2022-04-18T09:19:20.424Z"
   },
   {
    "duration": 0,
    "start_time": "2022-04-18T09:19:20.425Z"
   },
   {
    "duration": 0,
    "start_time": "2022-04-18T09:19:20.426Z"
   },
   {
    "duration": 0,
    "start_time": "2022-04-18T09:19:20.427Z"
   },
   {
    "duration": 0,
    "start_time": "2022-04-18T09:19:20.428Z"
   },
   {
    "duration": 0,
    "start_time": "2022-04-18T09:19:20.428Z"
   },
   {
    "duration": 0,
    "start_time": "2022-04-18T09:19:20.429Z"
   },
   {
    "duration": 89,
    "start_time": "2022-04-18T09:19:29.355Z"
   },
   {
    "duration": 86,
    "start_time": "2022-04-18T09:19:34.156Z"
   },
   {
    "duration": 15,
    "start_time": "2022-04-18T09:19:34.244Z"
   },
   {
    "duration": 22,
    "start_time": "2022-04-18T09:19:34.261Z"
   },
   {
    "duration": 10,
    "start_time": "2022-04-18T09:19:34.285Z"
   },
   {
    "duration": 11,
    "start_time": "2022-04-18T09:19:34.297Z"
   },
   {
    "duration": 21,
    "start_time": "2022-04-18T09:19:34.310Z"
   },
   {
    "duration": 15,
    "start_time": "2022-04-18T09:19:34.332Z"
   },
   {
    "duration": 3,
    "start_time": "2022-04-18T09:19:34.348Z"
   },
   {
    "duration": 8,
    "start_time": "2022-04-18T09:19:34.353Z"
   },
   {
    "duration": 45,
    "start_time": "2022-04-18T09:19:34.363Z"
   },
   {
    "duration": 4,
    "start_time": "2022-04-18T09:19:34.410Z"
   },
   {
    "duration": 4,
    "start_time": "2022-04-18T09:19:34.416Z"
   },
   {
    "duration": 5,
    "start_time": "2022-04-18T09:19:34.422Z"
   },
   {
    "duration": 10,
    "start_time": "2022-04-18T09:19:34.429Z"
   },
   {
    "duration": 15,
    "start_time": "2022-04-18T09:19:34.441Z"
   },
   {
    "duration": 56,
    "start_time": "2022-04-18T09:19:34.457Z"
   },
   {
    "duration": 7,
    "start_time": "2022-04-18T09:19:34.515Z"
   },
   {
    "duration": 6,
    "start_time": "2022-04-18T09:19:34.523Z"
   },
   {
    "duration": 18,
    "start_time": "2022-04-18T09:19:34.531Z"
   },
   {
    "duration": 3,
    "start_time": "2022-04-18T09:19:34.551Z"
   },
   {
    "duration": 6,
    "start_time": "2022-04-18T09:19:34.555Z"
   },
   {
    "duration": 48,
    "start_time": "2022-04-18T09:19:34.562Z"
   },
   {
    "duration": 8,
    "start_time": "2022-04-18T09:19:34.611Z"
   },
   {
    "duration": 19,
    "start_time": "2022-04-18T09:19:34.621Z"
   },
   {
    "duration": 5,
    "start_time": "2022-04-18T09:19:34.642Z"
   },
   {
    "duration": 11,
    "start_time": "2022-04-18T09:19:34.648Z"
   },
   {
    "duration": 5,
    "start_time": "2022-04-18T09:19:34.660Z"
   },
   {
    "duration": 4,
    "start_time": "2022-04-18T09:19:34.666Z"
   },
   {
    "duration": 38,
    "start_time": "2022-04-18T09:19:34.671Z"
   },
   {
    "duration": 22,
    "start_time": "2022-04-18T09:19:34.710Z"
   },
   {
    "duration": 9,
    "start_time": "2022-04-18T09:19:34.733Z"
   },
   {
    "duration": 383,
    "start_time": "2022-04-18T09:19:34.744Z"
   },
   {
    "duration": 7,
    "start_time": "2022-04-18T09:19:35.129Z"
   },
   {
    "duration": 8,
    "start_time": "2022-04-18T09:19:35.138Z"
   },
   {
    "duration": 8,
    "start_time": "2022-04-18T09:19:35.147Z"
   },
   {
    "duration": 51,
    "start_time": "2022-04-18T09:19:35.157Z"
   },
   {
    "duration": 213,
    "start_time": "2022-04-18T09:19:35.210Z"
   },
   {
    "duration": 10,
    "start_time": "2022-04-18T09:19:35.425Z"
   },
   {
    "duration": 9,
    "start_time": "2022-04-18T09:19:35.436Z"
   },
   {
    "duration": 4,
    "start_time": "2022-04-18T09:19:35.446Z"
   },
   {
    "duration": 922,
    "start_time": "2022-04-18T09:19:35.454Z"
   },
   {
    "duration": 6,
    "start_time": "2022-04-18T09:19:36.377Z"
   },
   {
    "duration": 6,
    "start_time": "2022-04-18T09:19:36.384Z"
   },
   {
    "duration": 39,
    "start_time": "2022-04-18T09:19:36.391Z"
   },
   {
    "duration": 32,
    "start_time": "2022-04-18T09:19:36.432Z"
   },
   {
    "duration": 194,
    "start_time": "2022-04-18T09:19:36.465Z"
   },
   {
    "duration": 18,
    "start_time": "2022-04-18T09:19:36.661Z"
   },
   {
    "duration": 7,
    "start_time": "2022-04-18T09:19:36.680Z"
   },
   {
    "duration": 38,
    "start_time": "2022-04-18T09:19:36.688Z"
   },
   {
    "duration": 7,
    "start_time": "2022-04-18T09:19:36.728Z"
   },
   {
    "duration": 158,
    "start_time": "2022-04-18T09:19:36.737Z"
   },
   {
    "duration": 13,
    "start_time": "2022-04-18T09:19:36.896Z"
   },
   {
    "duration": 153,
    "start_time": "2022-04-18T09:19:36.910Z"
   },
   {
    "duration": 9,
    "start_time": "2022-04-18T09:19:37.065Z"
   },
   {
    "duration": 107,
    "start_time": "2022-04-18T09:19:37.075Z"
   },
   {
    "duration": 209,
    "start_time": "2022-04-18T09:19:37.184Z"
   },
   {
    "duration": 102,
    "start_time": "2022-04-18T09:19:37.394Z"
   },
   {
    "duration": 30,
    "start_time": "2022-04-18T09:19:37.507Z"
   },
   {
    "duration": 9,
    "start_time": "2022-04-18T09:19:37.539Z"
   },
   {
    "duration": 842,
    "start_time": "2022-07-12T13:19:12.848Z"
   },
   {
    "duration": 256,
    "start_time": "2022-07-12T13:19:13.692Z"
   },
   {
    "duration": 21,
    "start_time": "2022-07-12T13:19:13.950Z"
   },
   {
    "duration": 23,
    "start_time": "2022-07-12T13:19:13.973Z"
   },
   {
    "duration": 11,
    "start_time": "2022-07-12T13:19:13.997Z"
   },
   {
    "duration": 12,
    "start_time": "2022-07-12T13:19:14.009Z"
   },
   {
    "duration": 20,
    "start_time": "2022-07-12T13:19:14.023Z"
   },
   {
    "duration": 5,
    "start_time": "2022-07-12T13:19:14.045Z"
   },
   {
    "duration": 22,
    "start_time": "2022-07-12T13:19:14.052Z"
   },
   {
    "duration": 3,
    "start_time": "2022-07-12T13:19:14.077Z"
   },
   {
    "duration": 9,
    "start_time": "2022-07-12T13:19:14.081Z"
   },
   {
    "duration": 5,
    "start_time": "2022-07-12T13:19:14.092Z"
   },
   {
    "duration": 16,
    "start_time": "2022-07-12T13:19:14.098Z"
   },
   {
    "duration": 3,
    "start_time": "2022-07-12T13:19:14.116Z"
   },
   {
    "duration": 8,
    "start_time": "2022-07-12T13:19:14.120Z"
   },
   {
    "duration": 36,
    "start_time": "2022-07-12T13:19:14.130Z"
   },
   {
    "duration": 6,
    "start_time": "2022-07-12T13:19:14.168Z"
   },
   {
    "duration": 6,
    "start_time": "2022-07-12T13:19:14.176Z"
   },
   {
    "duration": 22,
    "start_time": "2022-07-12T13:19:14.184Z"
   },
   {
    "duration": 4,
    "start_time": "2022-07-12T13:19:14.207Z"
   },
   {
    "duration": 6,
    "start_time": "2022-07-12T13:19:14.212Z"
   },
   {
    "duration": 27,
    "start_time": "2022-07-12T13:19:14.220Z"
   },
   {
    "duration": 38,
    "start_time": "2022-07-12T13:19:14.249Z"
   },
   {
    "duration": 6,
    "start_time": "2022-07-12T13:19:14.288Z"
   },
   {
    "duration": 9,
    "start_time": "2022-07-12T13:19:14.296Z"
   },
   {
    "duration": 25,
    "start_time": "2022-07-12T13:19:14.306Z"
   },
   {
    "duration": 36,
    "start_time": "2022-07-12T13:19:14.333Z"
   },
   {
    "duration": 5,
    "start_time": "2022-07-12T13:19:14.374Z"
   },
   {
    "duration": 8,
    "start_time": "2022-07-12T13:19:14.381Z"
   },
   {
    "duration": 13,
    "start_time": "2022-07-12T13:19:14.390Z"
   },
   {
    "duration": 4,
    "start_time": "2022-07-12T13:19:14.405Z"
   },
   {
    "duration": 25,
    "start_time": "2022-07-12T13:19:14.411Z"
   },
   {
    "duration": 30,
    "start_time": "2022-07-12T13:19:14.437Z"
   },
   {
    "duration": 11,
    "start_time": "2022-07-12T13:19:14.469Z"
   },
   {
    "duration": 344,
    "start_time": "2022-07-12T13:19:14.481Z"
   },
   {
    "duration": 115,
    "start_time": "2022-07-12T13:19:14.827Z"
   },
   {
    "duration": 9,
    "start_time": "2022-07-12T13:19:14.944Z"
   },
   {
    "duration": 3,
    "start_time": "2022-07-12T13:19:14.965Z"
   },
   {
    "duration": 13,
    "start_time": "2022-07-12T13:19:14.970Z"
   },
   {
    "duration": 5,
    "start_time": "2022-07-12T13:19:14.984Z"
   },
   {
    "duration": 8,
    "start_time": "2022-07-12T13:19:14.990Z"
   },
   {
    "duration": 22,
    "start_time": "2022-07-12T13:19:15.000Z"
   },
   {
    "duration": 14,
    "start_time": "2022-07-12T13:19:15.023Z"
   },
   {
    "duration": 36,
    "start_time": "2022-07-12T13:19:15.039Z"
   },
   {
    "duration": 18,
    "start_time": "2022-07-12T13:19:15.077Z"
   },
   {
    "duration": 32,
    "start_time": "2022-07-12T13:19:15.097Z"
   },
   {
    "duration": 15,
    "start_time": "2022-07-12T13:19:15.130Z"
   },
   {
    "duration": 6,
    "start_time": "2022-07-12T13:19:15.147Z"
   },
   {
    "duration": 16,
    "start_time": "2022-07-12T13:19:15.154Z"
   },
   {
    "duration": 4,
    "start_time": "2022-07-12T13:19:15.172Z"
   },
   {
    "duration": 10,
    "start_time": "2022-07-12T13:19:15.178Z"
   },
   {
    "duration": 19,
    "start_time": "2022-07-12T13:19:15.190Z"
   },
   {
    "duration": 131,
    "start_time": "2022-07-12T13:19:15.210Z"
   },
   {
    "duration": 7,
    "start_time": "2022-07-12T13:19:15.343Z"
   },
   {
    "duration": 6,
    "start_time": "2022-07-12T13:19:15.364Z"
   },
   {
    "duration": 8,
    "start_time": "2022-07-12T13:19:15.372Z"
   },
   {
    "duration": 43,
    "start_time": "2022-07-12T13:19:15.382Z"
   },
   {
    "duration": 7,
    "start_time": "2022-07-12T13:19:15.427Z"
   },
   {
    "duration": 212,
    "start_time": "2022-07-12T13:19:15.436Z"
   },
   {
    "duration": 6,
    "start_time": "2022-07-12T13:19:15.650Z"
   },
   {
    "duration": 6,
    "start_time": "2022-07-12T13:19:15.664Z"
   },
   {
    "duration": 10,
    "start_time": "2022-07-12T13:19:15.672Z"
   },
   {
    "duration": 46,
    "start_time": "2022-07-12T13:19:15.683Z"
   },
   {
    "duration": 195,
    "start_time": "2022-07-12T13:19:15.731Z"
   },
   {
    "duration": 10,
    "start_time": "2022-07-12T13:19:15.928Z"
   },
   {
    "duration": 15,
    "start_time": "2022-07-12T13:19:15.940Z"
   },
   {
    "duration": 4,
    "start_time": "2022-07-12T13:19:15.964Z"
   },
   {
    "duration": 894,
    "start_time": "2022-07-12T13:19:15.970Z"
   },
   {
    "duration": 8,
    "start_time": "2022-07-12T13:19:16.865Z"
   },
   {
    "duration": 15,
    "start_time": "2022-07-12T13:19:16.874Z"
   },
   {
    "duration": 24,
    "start_time": "2022-07-12T13:19:16.891Z"
   },
   {
    "duration": 29,
    "start_time": "2022-07-12T13:19:16.917Z"
   },
   {
    "duration": 181,
    "start_time": "2022-07-12T13:19:16.948Z"
   },
   {
    "duration": 17,
    "start_time": "2022-07-12T13:19:17.130Z"
   },
   {
    "duration": 16,
    "start_time": "2022-07-12T13:19:17.149Z"
   },
   {
    "duration": 23,
    "start_time": "2022-07-12T13:19:17.167Z"
   },
   {
    "duration": 8,
    "start_time": "2022-07-12T13:19:17.192Z"
   },
   {
    "duration": 171,
    "start_time": "2022-07-12T13:19:17.201Z"
   },
   {
    "duration": 8,
    "start_time": "2022-07-12T13:19:17.374Z"
   },
   {
    "duration": 163,
    "start_time": "2022-07-12T13:19:17.384Z"
   },
   {
    "duration": 15,
    "start_time": "2022-07-12T13:19:17.549Z"
   },
   {
    "duration": 132,
    "start_time": "2022-07-12T13:19:17.569Z"
   },
   {
    "duration": 269,
    "start_time": "2022-07-12T13:19:17.703Z"
   },
   {
    "duration": 123,
    "start_time": "2022-07-12T13:19:17.974Z"
   },
   {
    "duration": 47,
    "start_time": "2022-07-12T13:19:18.098Z"
   },
   {
    "duration": 21,
    "start_time": "2022-07-12T13:19:18.146Z"
   },
   {
    "duration": 806,
    "start_time": "2022-07-12T15:52:46.848Z"
   },
   {
    "duration": 435,
    "start_time": "2022-07-12T15:52:47.656Z"
   },
   {
    "duration": 16,
    "start_time": "2022-07-12T15:52:48.093Z"
   },
   {
    "duration": 10,
    "start_time": "2022-07-12T15:52:48.111Z"
   },
   {
    "duration": 10,
    "start_time": "2022-07-12T15:52:48.123Z"
   },
   {
    "duration": 13,
    "start_time": "2022-07-12T15:52:48.135Z"
   },
   {
    "duration": 23,
    "start_time": "2022-07-12T15:52:48.150Z"
   },
   {
    "duration": 7,
    "start_time": "2022-07-12T15:52:48.185Z"
   },
   {
    "duration": 17,
    "start_time": "2022-07-12T15:52:48.194Z"
   },
   {
    "duration": 3,
    "start_time": "2022-07-12T15:52:48.214Z"
   },
   {
    "duration": 10,
    "start_time": "2022-07-12T15:52:48.219Z"
   },
   {
    "duration": 24,
    "start_time": "2022-07-12T15:52:48.230Z"
   },
   {
    "duration": 21,
    "start_time": "2022-07-12T15:52:48.256Z"
   },
   {
    "duration": 4,
    "start_time": "2022-07-12T15:52:48.279Z"
   },
   {
    "duration": 7,
    "start_time": "2022-07-12T15:52:48.284Z"
   },
   {
    "duration": 12,
    "start_time": "2022-07-12T15:52:48.292Z"
   },
   {
    "duration": 7,
    "start_time": "2022-07-12T15:52:48.306Z"
   },
   {
    "duration": 7,
    "start_time": "2022-07-12T15:52:48.314Z"
   },
   {
    "duration": 37,
    "start_time": "2022-07-12T15:52:48.323Z"
   },
   {
    "duration": 8,
    "start_time": "2022-07-12T15:52:48.361Z"
   },
   {
    "duration": 6,
    "start_time": "2022-07-12T15:52:48.371Z"
   },
   {
    "duration": 25,
    "start_time": "2022-07-12T15:52:48.378Z"
   },
   {
    "duration": 85,
    "start_time": "2022-07-12T15:52:48.405Z"
   },
   {
    "duration": 8,
    "start_time": "2022-07-12T15:52:48.492Z"
   },
   {
    "duration": 10,
    "start_time": "2022-07-12T15:52:48.501Z"
   },
   {
    "duration": 27,
    "start_time": "2022-07-12T15:52:48.513Z"
   },
   {
    "duration": 13,
    "start_time": "2022-07-12T15:52:48.541Z"
   },
   {
    "duration": 7,
    "start_time": "2022-07-12T15:52:48.559Z"
   },
   {
    "duration": 8,
    "start_time": "2022-07-12T15:52:48.568Z"
   },
   {
    "duration": 10,
    "start_time": "2022-07-12T15:52:48.578Z"
   },
   {
    "duration": 5,
    "start_time": "2022-07-12T15:52:48.590Z"
   },
   {
    "duration": 27,
    "start_time": "2022-07-12T15:52:48.596Z"
   },
   {
    "duration": 35,
    "start_time": "2022-07-12T15:52:48.625Z"
   },
   {
    "duration": 10,
    "start_time": "2022-07-12T15:52:48.661Z"
   },
   {
    "duration": 362,
    "start_time": "2022-07-12T15:52:48.673Z"
   },
   {
    "duration": 116,
    "start_time": "2022-07-12T15:52:49.036Z"
   },
   {
    "duration": 9,
    "start_time": "2022-07-12T15:52:49.154Z"
   },
   {
    "duration": 7,
    "start_time": "2022-07-12T15:52:49.164Z"
   },
   {
    "duration": 10,
    "start_time": "2022-07-12T15:52:49.173Z"
   },
   {
    "duration": 5,
    "start_time": "2022-07-12T15:52:49.184Z"
   },
   {
    "duration": 7,
    "start_time": "2022-07-12T15:52:49.190Z"
   },
   {
    "duration": 13,
    "start_time": "2022-07-12T15:52:49.198Z"
   },
   {
    "duration": 86,
    "start_time": "2022-07-12T15:52:49.213Z"
   },
   {
    "duration": 12,
    "start_time": "2022-07-12T15:52:49.301Z"
   },
   {
    "duration": 10,
    "start_time": "2022-07-12T15:52:49.315Z"
   },
   {
    "duration": 40,
    "start_time": "2022-07-12T15:52:49.327Z"
   },
   {
    "duration": 8,
    "start_time": "2022-07-12T15:52:49.369Z"
   },
   {
    "duration": 6,
    "start_time": "2022-07-12T15:52:49.378Z"
   },
   {
    "duration": 13,
    "start_time": "2022-07-12T15:52:49.385Z"
   },
   {
    "duration": 5,
    "start_time": "2022-07-12T15:52:49.399Z"
   },
   {
    "duration": 11,
    "start_time": "2022-07-12T15:52:49.406Z"
   },
   {
    "duration": 38,
    "start_time": "2022-07-12T15:52:49.419Z"
   },
   {
    "duration": 145,
    "start_time": "2022-07-12T15:52:49.459Z"
   },
   {
    "duration": 8,
    "start_time": "2022-07-12T15:52:49.606Z"
   },
   {
    "duration": 13,
    "start_time": "2022-07-12T15:52:49.616Z"
   },
   {
    "duration": 5,
    "start_time": "2022-07-12T15:52:49.631Z"
   },
   {
    "duration": 22,
    "start_time": "2022-07-12T15:52:49.652Z"
   },
   {
    "duration": 7,
    "start_time": "2022-07-12T15:52:49.676Z"
   },
   {
    "duration": 175,
    "start_time": "2022-07-12T15:52:49.685Z"
   },
   {
    "duration": 7,
    "start_time": "2022-07-12T15:52:49.862Z"
   },
   {
    "duration": 8,
    "start_time": "2022-07-12T15:52:49.870Z"
   },
   {
    "duration": 10,
    "start_time": "2022-07-12T15:52:49.880Z"
   },
   {
    "duration": 28,
    "start_time": "2022-07-12T15:52:49.892Z"
   },
   {
    "duration": 238,
    "start_time": "2022-07-12T15:52:49.923Z"
   },
   {
    "duration": 9,
    "start_time": "2022-07-12T15:52:50.163Z"
   },
   {
    "duration": 13,
    "start_time": "2022-07-12T15:52:50.174Z"
   },
   {
    "duration": 10,
    "start_time": "2022-07-12T15:52:50.189Z"
   },
   {
    "duration": 929,
    "start_time": "2022-07-12T15:52:50.200Z"
   },
   {
    "duration": 7,
    "start_time": "2022-07-12T15:52:51.131Z"
   },
   {
    "duration": 15,
    "start_time": "2022-07-12T15:52:51.139Z"
   },
   {
    "duration": 48,
    "start_time": "2022-07-12T15:52:51.155Z"
   },
   {
    "duration": 45,
    "start_time": "2022-07-12T15:52:51.205Z"
   },
   {
    "duration": 169,
    "start_time": "2022-07-12T15:52:51.251Z"
   },
   {
    "duration": 17,
    "start_time": "2022-07-12T15:52:51.422Z"
   },
   {
    "duration": 17,
    "start_time": "2022-07-12T15:52:51.441Z"
   },
   {
    "duration": 25,
    "start_time": "2022-07-12T15:52:51.460Z"
   },
   {
    "duration": 8,
    "start_time": "2022-07-12T15:52:51.487Z"
   },
   {
    "duration": 198,
    "start_time": "2022-07-12T15:52:51.497Z"
   },
   {
    "duration": 9,
    "start_time": "2022-07-12T15:52:51.696Z"
   },
   {
    "duration": 161,
    "start_time": "2022-07-12T15:52:51.707Z"
   },
   {
    "duration": 10,
    "start_time": "2022-07-12T15:52:51.869Z"
   },
   {
    "duration": 144,
    "start_time": "2022-07-12T15:52:51.884Z"
   },
   {
    "duration": 275,
    "start_time": "2022-07-12T15:52:52.029Z"
   },
   {
    "duration": 187,
    "start_time": "2022-07-12T15:52:52.305Z"
   },
   {
    "duration": 43,
    "start_time": "2022-07-12T15:52:52.494Z"
   },
   {
    "duration": 20,
    "start_time": "2022-07-12T15:52:52.539Z"
   },
   {
    "duration": 139,
    "start_time": "2022-07-12T16:32:36.573Z"
   },
   {
    "duration": 130,
    "start_time": "2022-07-12T16:32:39.977Z"
   },
   {
    "duration": 576,
    "start_time": "2022-07-12T16:37:53.478Z"
   },
   {
    "duration": 116,
    "start_time": "2022-07-12T16:37:54.056Z"
   },
   {
    "duration": 13,
    "start_time": "2022-07-12T16:37:54.173Z"
   },
   {
    "duration": 14,
    "start_time": "2022-07-12T16:37:54.188Z"
   },
   {
    "duration": 18,
    "start_time": "2022-07-12T16:37:54.203Z"
   },
   {
    "duration": 14,
    "start_time": "2022-07-12T16:37:54.222Z"
   },
   {
    "duration": 21,
    "start_time": "2022-07-12T16:37:54.238Z"
   },
   {
    "duration": 4,
    "start_time": "2022-07-12T16:37:54.260Z"
   },
   {
    "duration": 12,
    "start_time": "2022-07-12T16:37:54.266Z"
   },
   {
    "duration": 3,
    "start_time": "2022-07-12T16:37:54.280Z"
   },
   {
    "duration": 9,
    "start_time": "2022-07-12T16:37:54.284Z"
   },
   {
    "duration": 5,
    "start_time": "2022-07-12T16:37:54.294Z"
   },
   {
    "duration": 14,
    "start_time": "2022-07-12T16:37:54.300Z"
   },
   {
    "duration": 4,
    "start_time": "2022-07-12T16:37:54.315Z"
   },
   {
    "duration": 33,
    "start_time": "2022-07-12T16:37:54.320Z"
   },
   {
    "duration": 9,
    "start_time": "2022-07-12T16:37:54.354Z"
   },
   {
    "duration": 6,
    "start_time": "2022-07-12T16:37:54.365Z"
   },
   {
    "duration": 7,
    "start_time": "2022-07-12T16:37:54.372Z"
   },
   {
    "duration": 15,
    "start_time": "2022-07-12T16:37:54.381Z"
   },
   {
    "duration": 4,
    "start_time": "2022-07-12T16:37:54.397Z"
   },
   {
    "duration": 5,
    "start_time": "2022-07-12T16:37:54.402Z"
   },
   {
    "duration": 17,
    "start_time": "2022-07-12T16:37:54.408Z"
   },
   {
    "duration": 47,
    "start_time": "2022-07-12T16:37:54.426Z"
   },
   {
    "duration": 5,
    "start_time": "2022-07-12T16:37:54.495Z"
   },
   {
    "duration": 7,
    "start_time": "2022-07-12T16:37:54.501Z"
   },
   {
    "duration": 19,
    "start_time": "2022-07-12T16:37:54.509Z"
   },
   {
    "duration": 8,
    "start_time": "2022-07-12T16:37:54.529Z"
   },
   {
    "duration": 14,
    "start_time": "2022-07-12T16:37:54.541Z"
   },
   {
    "duration": 8,
    "start_time": "2022-07-12T16:37:54.556Z"
   },
   {
    "duration": 9,
    "start_time": "2022-07-12T16:37:54.565Z"
   },
   {
    "duration": 4,
    "start_time": "2022-07-12T16:37:54.576Z"
   },
   {
    "duration": 22,
    "start_time": "2022-07-12T16:37:54.582Z"
   },
   {
    "duration": 10,
    "start_time": "2022-07-12T16:37:54.606Z"
   },
   {
    "duration": 13,
    "start_time": "2022-07-12T16:37:54.618Z"
   },
   {
    "duration": 317,
    "start_time": "2022-07-12T16:37:54.632Z"
   },
   {
    "duration": 111,
    "start_time": "2022-07-12T16:37:54.951Z"
   },
   {
    "duration": 8,
    "start_time": "2022-07-12T16:37:55.064Z"
   },
   {
    "duration": 5,
    "start_time": "2022-07-12T16:37:55.073Z"
   },
   {
    "duration": 9,
    "start_time": "2022-07-12T16:37:55.079Z"
   },
   {
    "duration": 5,
    "start_time": "2022-07-12T16:37:55.089Z"
   },
   {
    "duration": 5,
    "start_time": "2022-07-12T16:37:55.096Z"
   },
   {
    "duration": 8,
    "start_time": "2022-07-12T16:37:55.103Z"
   },
   {
    "duration": 10,
    "start_time": "2022-07-12T16:37:55.112Z"
   },
   {
    "duration": 33,
    "start_time": "2022-07-12T16:37:55.123Z"
   },
   {
    "duration": 7,
    "start_time": "2022-07-12T16:37:55.158Z"
   },
   {
    "duration": 26,
    "start_time": "2022-07-12T16:37:55.167Z"
   },
   {
    "duration": 6,
    "start_time": "2022-07-12T16:37:55.195Z"
   },
   {
    "duration": 5,
    "start_time": "2022-07-12T16:37:55.202Z"
   },
   {
    "duration": 10,
    "start_time": "2022-07-12T16:37:55.209Z"
   },
   {
    "duration": 3,
    "start_time": "2022-07-12T16:37:55.220Z"
   },
   {
    "duration": 32,
    "start_time": "2022-07-12T16:37:55.224Z"
   },
   {
    "duration": 10,
    "start_time": "2022-07-12T16:37:55.257Z"
   },
   {
    "duration": 114,
    "start_time": "2022-07-12T16:37:55.268Z"
   },
   {
    "duration": 7,
    "start_time": "2022-07-12T16:37:55.383Z"
   },
   {
    "duration": 8,
    "start_time": "2022-07-12T16:37:55.391Z"
   },
   {
    "duration": 4,
    "start_time": "2022-07-12T16:37:55.400Z"
   },
   {
    "duration": 20,
    "start_time": "2022-07-12T16:37:55.405Z"
   },
   {
    "duration": 26,
    "start_time": "2022-07-12T16:37:55.427Z"
   },
   {
    "duration": 183,
    "start_time": "2022-07-12T16:37:55.454Z"
   },
   {
    "duration": 14,
    "start_time": "2022-07-12T16:37:55.638Z"
   },
   {
    "duration": 7,
    "start_time": "2022-07-12T16:37:55.653Z"
   },
   {
    "duration": 8,
    "start_time": "2022-07-12T16:37:55.661Z"
   },
   {
    "duration": 25,
    "start_time": "2022-07-12T16:37:55.671Z"
   },
   {
    "duration": 189,
    "start_time": "2022-07-12T16:37:55.698Z"
   },
   {
    "duration": 8,
    "start_time": "2022-07-12T16:37:55.889Z"
   },
   {
    "duration": 8,
    "start_time": "2022-07-12T16:37:55.898Z"
   },
   {
    "duration": 5,
    "start_time": "2022-07-12T16:37:55.908Z"
   },
   {
    "duration": 859,
    "start_time": "2022-07-12T16:37:55.914Z"
   },
   {
    "duration": 7,
    "start_time": "2022-07-12T16:37:56.775Z"
   },
   {
    "duration": 13,
    "start_time": "2022-07-12T16:37:56.784Z"
   },
   {
    "duration": 38,
    "start_time": "2022-07-12T16:37:56.798Z"
   },
   {
    "duration": 28,
    "start_time": "2022-07-12T16:37:56.838Z"
   },
   {
    "duration": 155,
    "start_time": "2022-07-12T16:37:56.868Z"
   },
   {
    "duration": 17,
    "start_time": "2022-07-12T16:37:57.025Z"
   },
   {
    "duration": 7,
    "start_time": "2022-07-12T16:37:57.052Z"
   },
   {
    "duration": 24,
    "start_time": "2022-07-12T16:37:57.060Z"
   },
   {
    "duration": 7,
    "start_time": "2022-07-12T16:37:57.085Z"
   },
   {
    "duration": 158,
    "start_time": "2022-07-12T16:37:57.094Z"
   },
   {
    "duration": 7,
    "start_time": "2022-07-12T16:37:57.253Z"
   },
   {
    "duration": 146,
    "start_time": "2022-07-12T16:37:57.262Z"
   },
   {
    "duration": 7,
    "start_time": "2022-07-12T16:37:57.409Z"
   },
   {
    "duration": 120,
    "start_time": "2022-07-12T16:37:57.421Z"
   },
   {
    "duration": 239,
    "start_time": "2022-07-12T16:37:57.543Z"
   },
   {
    "duration": 105,
    "start_time": "2022-07-12T16:37:57.784Z"
   },
   {
    "duration": 40,
    "start_time": "2022-07-12T16:37:57.891Z"
   },
   {
    "duration": 21,
    "start_time": "2022-07-12T16:37:57.932Z"
   }
  ],
  "colab": {
   "name": "DA+. Сборный проект 1. Шаблон (1).ipynb",
   "provenance": []
  },
  "kernelspec": {
   "display_name": "Python 3",
   "language": "python",
   "name": "python3"
  },
  "language_info": {
   "codemirror_mode": {
    "name": "ipython",
    "version": 3
   },
   "file_extension": ".py",
   "mimetype": "text/x-python",
   "name": "python",
   "nbconvert_exporter": "python",
   "pygments_lexer": "ipython3",
   "version": "3.8.8"
  },
  "toc": {
   "base_numbering": 1,
   "nav_menu": {},
   "number_sections": true,
   "sideBar": true,
   "skip_h1_title": true,
   "title_cell": "Table of Contents",
   "title_sidebar": "Contents",
   "toc_cell": false,
   "toc_position": {
    "height": "calc(100% - 180px)",
    "left": "10px",
    "top": "150px",
    "width": "375.391px"
   },
   "toc_section_display": true,
   "toc_window_display": false
  }
 },
 "nbformat": 4,
 "nbformat_minor": 1
}
